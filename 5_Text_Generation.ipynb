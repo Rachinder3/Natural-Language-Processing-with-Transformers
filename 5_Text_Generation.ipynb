{
  "nbformat": 4,
  "nbformat_minor": 0,
  "metadata": {
    "colab": {
      "provenance": []
    },
    "kernelspec": {
      "name": "python3",
      "display_name": "Python 3"
    },
    "language_info": {
      "name": "python"
    },
    "accelerator": "GPU",
    "gpuClass": "standard",
    "widgets": {
      "application/vnd.jupyter.widget-state+json": {
        "ad18ef7889b543ceabfa6e85cc9f6571": {
          "model_module": "@jupyter-widgets/controls",
          "model_name": "HBoxModel",
          "model_module_version": "1.5.0",
          "state": {
            "_dom_classes": [],
            "_model_module": "@jupyter-widgets/controls",
            "_model_module_version": "1.5.0",
            "_model_name": "HBoxModel",
            "_view_count": null,
            "_view_module": "@jupyter-widgets/controls",
            "_view_module_version": "1.5.0",
            "_view_name": "HBoxView",
            "box_style": "",
            "children": [
              "IPY_MODEL_6d99e4c37803494ab395c0564506ddc1",
              "IPY_MODEL_d73ba68f84774ecb9f43b8c53de04404",
              "IPY_MODEL_f713bd1ec8924d91a14cca188a675f67"
            ],
            "layout": "IPY_MODEL_bc6e924247c44bf3942f1b7c55395bd0"
          }
        },
        "6d99e4c37803494ab395c0564506ddc1": {
          "model_module": "@jupyter-widgets/controls",
          "model_name": "HTMLModel",
          "model_module_version": "1.5.0",
          "state": {
            "_dom_classes": [],
            "_model_module": "@jupyter-widgets/controls",
            "_model_module_version": "1.5.0",
            "_model_name": "HTMLModel",
            "_view_count": null,
            "_view_module": "@jupyter-widgets/controls",
            "_view_module_version": "1.5.0",
            "_view_name": "HTMLView",
            "description": "",
            "description_tooltip": null,
            "layout": "IPY_MODEL_195a1d96fed145b4981483281924554a",
            "placeholder": "​",
            "style": "IPY_MODEL_978bdf3ba586468ea5f789462fc642c5",
            "value": "Downloading: 100%"
          }
        },
        "d73ba68f84774ecb9f43b8c53de04404": {
          "model_module": "@jupyter-widgets/controls",
          "model_name": "FloatProgressModel",
          "model_module_version": "1.5.0",
          "state": {
            "_dom_classes": [],
            "_model_module": "@jupyter-widgets/controls",
            "_model_module_version": "1.5.0",
            "_model_name": "FloatProgressModel",
            "_view_count": null,
            "_view_module": "@jupyter-widgets/controls",
            "_view_module_version": "1.5.0",
            "_view_name": "ProgressView",
            "bar_style": "success",
            "description": "",
            "description_tooltip": null,
            "layout": "IPY_MODEL_97bbde2ec2074847b1cb248c91062865",
            "max": 666,
            "min": 0,
            "orientation": "horizontal",
            "style": "IPY_MODEL_7979fa35d342413d88815cdc8bbbc76c",
            "value": 666
          }
        },
        "f713bd1ec8924d91a14cca188a675f67": {
          "model_module": "@jupyter-widgets/controls",
          "model_name": "HTMLModel",
          "model_module_version": "1.5.0",
          "state": {
            "_dom_classes": [],
            "_model_module": "@jupyter-widgets/controls",
            "_model_module_version": "1.5.0",
            "_model_name": "HTMLModel",
            "_view_count": null,
            "_view_module": "@jupyter-widgets/controls",
            "_view_module_version": "1.5.0",
            "_view_name": "HTMLView",
            "description": "",
            "description_tooltip": null,
            "layout": "IPY_MODEL_c1b52c3f7d394b169e70770264e57ca5",
            "placeholder": "​",
            "style": "IPY_MODEL_b8752519fb6f41ba974feaf170fb8e6a",
            "value": " 666/666 [00:00&lt;00:00, 32.9kB/s]"
          }
        },
        "bc6e924247c44bf3942f1b7c55395bd0": {
          "model_module": "@jupyter-widgets/base",
          "model_name": "LayoutModel",
          "model_module_version": "1.2.0",
          "state": {
            "_model_module": "@jupyter-widgets/base",
            "_model_module_version": "1.2.0",
            "_model_name": "LayoutModel",
            "_view_count": null,
            "_view_module": "@jupyter-widgets/base",
            "_view_module_version": "1.2.0",
            "_view_name": "LayoutView",
            "align_content": null,
            "align_items": null,
            "align_self": null,
            "border": null,
            "bottom": null,
            "display": null,
            "flex": null,
            "flex_flow": null,
            "grid_area": null,
            "grid_auto_columns": null,
            "grid_auto_flow": null,
            "grid_auto_rows": null,
            "grid_column": null,
            "grid_gap": null,
            "grid_row": null,
            "grid_template_areas": null,
            "grid_template_columns": null,
            "grid_template_rows": null,
            "height": null,
            "justify_content": null,
            "justify_items": null,
            "left": null,
            "margin": null,
            "max_height": null,
            "max_width": null,
            "min_height": null,
            "min_width": null,
            "object_fit": null,
            "object_position": null,
            "order": null,
            "overflow": null,
            "overflow_x": null,
            "overflow_y": null,
            "padding": null,
            "right": null,
            "top": null,
            "visibility": null,
            "width": null
          }
        },
        "195a1d96fed145b4981483281924554a": {
          "model_module": "@jupyter-widgets/base",
          "model_name": "LayoutModel",
          "model_module_version": "1.2.0",
          "state": {
            "_model_module": "@jupyter-widgets/base",
            "_model_module_version": "1.2.0",
            "_model_name": "LayoutModel",
            "_view_count": null,
            "_view_module": "@jupyter-widgets/base",
            "_view_module_version": "1.2.0",
            "_view_name": "LayoutView",
            "align_content": null,
            "align_items": null,
            "align_self": null,
            "border": null,
            "bottom": null,
            "display": null,
            "flex": null,
            "flex_flow": null,
            "grid_area": null,
            "grid_auto_columns": null,
            "grid_auto_flow": null,
            "grid_auto_rows": null,
            "grid_column": null,
            "grid_gap": null,
            "grid_row": null,
            "grid_template_areas": null,
            "grid_template_columns": null,
            "grid_template_rows": null,
            "height": null,
            "justify_content": null,
            "justify_items": null,
            "left": null,
            "margin": null,
            "max_height": null,
            "max_width": null,
            "min_height": null,
            "min_width": null,
            "object_fit": null,
            "object_position": null,
            "order": null,
            "overflow": null,
            "overflow_x": null,
            "overflow_y": null,
            "padding": null,
            "right": null,
            "top": null,
            "visibility": null,
            "width": null
          }
        },
        "978bdf3ba586468ea5f789462fc642c5": {
          "model_module": "@jupyter-widgets/controls",
          "model_name": "DescriptionStyleModel",
          "model_module_version": "1.5.0",
          "state": {
            "_model_module": "@jupyter-widgets/controls",
            "_model_module_version": "1.5.0",
            "_model_name": "DescriptionStyleModel",
            "_view_count": null,
            "_view_module": "@jupyter-widgets/base",
            "_view_module_version": "1.2.0",
            "_view_name": "StyleView",
            "description_width": ""
          }
        },
        "97bbde2ec2074847b1cb248c91062865": {
          "model_module": "@jupyter-widgets/base",
          "model_name": "LayoutModel",
          "model_module_version": "1.2.0",
          "state": {
            "_model_module": "@jupyter-widgets/base",
            "_model_module_version": "1.2.0",
            "_model_name": "LayoutModel",
            "_view_count": null,
            "_view_module": "@jupyter-widgets/base",
            "_view_module_version": "1.2.0",
            "_view_name": "LayoutView",
            "align_content": null,
            "align_items": null,
            "align_self": null,
            "border": null,
            "bottom": null,
            "display": null,
            "flex": null,
            "flex_flow": null,
            "grid_area": null,
            "grid_auto_columns": null,
            "grid_auto_flow": null,
            "grid_auto_rows": null,
            "grid_column": null,
            "grid_gap": null,
            "grid_row": null,
            "grid_template_areas": null,
            "grid_template_columns": null,
            "grid_template_rows": null,
            "height": null,
            "justify_content": null,
            "justify_items": null,
            "left": null,
            "margin": null,
            "max_height": null,
            "max_width": null,
            "min_height": null,
            "min_width": null,
            "object_fit": null,
            "object_position": null,
            "order": null,
            "overflow": null,
            "overflow_x": null,
            "overflow_y": null,
            "padding": null,
            "right": null,
            "top": null,
            "visibility": null,
            "width": null
          }
        },
        "7979fa35d342413d88815cdc8bbbc76c": {
          "model_module": "@jupyter-widgets/controls",
          "model_name": "ProgressStyleModel",
          "model_module_version": "1.5.0",
          "state": {
            "_model_module": "@jupyter-widgets/controls",
            "_model_module_version": "1.5.0",
            "_model_name": "ProgressStyleModel",
            "_view_count": null,
            "_view_module": "@jupyter-widgets/base",
            "_view_module_version": "1.2.0",
            "_view_name": "StyleView",
            "bar_color": null,
            "description_width": ""
          }
        },
        "c1b52c3f7d394b169e70770264e57ca5": {
          "model_module": "@jupyter-widgets/base",
          "model_name": "LayoutModel",
          "model_module_version": "1.2.0",
          "state": {
            "_model_module": "@jupyter-widgets/base",
            "_model_module_version": "1.2.0",
            "_model_name": "LayoutModel",
            "_view_count": null,
            "_view_module": "@jupyter-widgets/base",
            "_view_module_version": "1.2.0",
            "_view_name": "LayoutView",
            "align_content": null,
            "align_items": null,
            "align_self": null,
            "border": null,
            "bottom": null,
            "display": null,
            "flex": null,
            "flex_flow": null,
            "grid_area": null,
            "grid_auto_columns": null,
            "grid_auto_flow": null,
            "grid_auto_rows": null,
            "grid_column": null,
            "grid_gap": null,
            "grid_row": null,
            "grid_template_areas": null,
            "grid_template_columns": null,
            "grid_template_rows": null,
            "height": null,
            "justify_content": null,
            "justify_items": null,
            "left": null,
            "margin": null,
            "max_height": null,
            "max_width": null,
            "min_height": null,
            "min_width": null,
            "object_fit": null,
            "object_position": null,
            "order": null,
            "overflow": null,
            "overflow_x": null,
            "overflow_y": null,
            "padding": null,
            "right": null,
            "top": null,
            "visibility": null,
            "width": null
          }
        },
        "b8752519fb6f41ba974feaf170fb8e6a": {
          "model_module": "@jupyter-widgets/controls",
          "model_name": "DescriptionStyleModel",
          "model_module_version": "1.5.0",
          "state": {
            "_model_module": "@jupyter-widgets/controls",
            "_model_module_version": "1.5.0",
            "_model_name": "DescriptionStyleModel",
            "_view_count": null,
            "_view_module": "@jupyter-widgets/base",
            "_view_module_version": "1.2.0",
            "_view_name": "StyleView",
            "description_width": ""
          }
        },
        "aa2bc3bd23714d4a9232e089a4cc8c93": {
          "model_module": "@jupyter-widgets/controls",
          "model_name": "HBoxModel",
          "model_module_version": "1.5.0",
          "state": {
            "_dom_classes": [],
            "_model_module": "@jupyter-widgets/controls",
            "_model_module_version": "1.5.0",
            "_model_name": "HBoxModel",
            "_view_count": null,
            "_view_module": "@jupyter-widgets/controls",
            "_view_module_version": "1.5.0",
            "_view_name": "HBoxView",
            "box_style": "",
            "children": [
              "IPY_MODEL_8254f489ba8140fdab9ddd231f4a8eec",
              "IPY_MODEL_ef0f9c77fa9f4b70bec1474e09efcd2e",
              "IPY_MODEL_6dbe8bf22e7b4a9d93de29de3376d419"
            ],
            "layout": "IPY_MODEL_0264eef5018343d9b9d26de610063978"
          }
        },
        "8254f489ba8140fdab9ddd231f4a8eec": {
          "model_module": "@jupyter-widgets/controls",
          "model_name": "HTMLModel",
          "model_module_version": "1.5.0",
          "state": {
            "_dom_classes": [],
            "_model_module": "@jupyter-widgets/controls",
            "_model_module_version": "1.5.0",
            "_model_name": "HTMLModel",
            "_view_count": null,
            "_view_module": "@jupyter-widgets/controls",
            "_view_module_version": "1.5.0",
            "_view_name": "HTMLView",
            "description": "",
            "description_tooltip": null,
            "layout": "IPY_MODEL_ec5dc9e5677f465b8a91bf03dd674cc2",
            "placeholder": "​",
            "style": "IPY_MODEL_363fac8dbdfb4324a397ab1c523a2102",
            "value": "Downloading: 100%"
          }
        },
        "ef0f9c77fa9f4b70bec1474e09efcd2e": {
          "model_module": "@jupyter-widgets/controls",
          "model_name": "FloatProgressModel",
          "model_module_version": "1.5.0",
          "state": {
            "_dom_classes": [],
            "_model_module": "@jupyter-widgets/controls",
            "_model_module_version": "1.5.0",
            "_model_name": "FloatProgressModel",
            "_view_count": null,
            "_view_module": "@jupyter-widgets/controls",
            "_view_module_version": "1.5.0",
            "_view_name": "ProgressView",
            "bar_style": "success",
            "description": "",
            "description_tooltip": null,
            "layout": "IPY_MODEL_6a31945770e848bda207508535b8f12b",
            "max": 1042301,
            "min": 0,
            "orientation": "horizontal",
            "style": "IPY_MODEL_df8ad326ce5b4badbfc1e7bc9a3fb35f",
            "value": 1042301
          }
        },
        "6dbe8bf22e7b4a9d93de29de3376d419": {
          "model_module": "@jupyter-widgets/controls",
          "model_name": "HTMLModel",
          "model_module_version": "1.5.0",
          "state": {
            "_dom_classes": [],
            "_model_module": "@jupyter-widgets/controls",
            "_model_module_version": "1.5.0",
            "_model_name": "HTMLModel",
            "_view_count": null,
            "_view_module": "@jupyter-widgets/controls",
            "_view_module_version": "1.5.0",
            "_view_name": "HTMLView",
            "description": "",
            "description_tooltip": null,
            "layout": "IPY_MODEL_82f220a588ab4537afad8e6176ac8cb8",
            "placeholder": "​",
            "style": "IPY_MODEL_2156d0f4daf6405caffde8e22b981c69",
            "value": " 0.99M/0.99M [00:00&lt;00:00, 2.42MB/s]"
          }
        },
        "0264eef5018343d9b9d26de610063978": {
          "model_module": "@jupyter-widgets/base",
          "model_name": "LayoutModel",
          "model_module_version": "1.2.0",
          "state": {
            "_model_module": "@jupyter-widgets/base",
            "_model_module_version": "1.2.0",
            "_model_name": "LayoutModel",
            "_view_count": null,
            "_view_module": "@jupyter-widgets/base",
            "_view_module_version": "1.2.0",
            "_view_name": "LayoutView",
            "align_content": null,
            "align_items": null,
            "align_self": null,
            "border": null,
            "bottom": null,
            "display": null,
            "flex": null,
            "flex_flow": null,
            "grid_area": null,
            "grid_auto_columns": null,
            "grid_auto_flow": null,
            "grid_auto_rows": null,
            "grid_column": null,
            "grid_gap": null,
            "grid_row": null,
            "grid_template_areas": null,
            "grid_template_columns": null,
            "grid_template_rows": null,
            "height": null,
            "justify_content": null,
            "justify_items": null,
            "left": null,
            "margin": null,
            "max_height": null,
            "max_width": null,
            "min_height": null,
            "min_width": null,
            "object_fit": null,
            "object_position": null,
            "order": null,
            "overflow": null,
            "overflow_x": null,
            "overflow_y": null,
            "padding": null,
            "right": null,
            "top": null,
            "visibility": null,
            "width": null
          }
        },
        "ec5dc9e5677f465b8a91bf03dd674cc2": {
          "model_module": "@jupyter-widgets/base",
          "model_name": "LayoutModel",
          "model_module_version": "1.2.0",
          "state": {
            "_model_module": "@jupyter-widgets/base",
            "_model_module_version": "1.2.0",
            "_model_name": "LayoutModel",
            "_view_count": null,
            "_view_module": "@jupyter-widgets/base",
            "_view_module_version": "1.2.0",
            "_view_name": "LayoutView",
            "align_content": null,
            "align_items": null,
            "align_self": null,
            "border": null,
            "bottom": null,
            "display": null,
            "flex": null,
            "flex_flow": null,
            "grid_area": null,
            "grid_auto_columns": null,
            "grid_auto_flow": null,
            "grid_auto_rows": null,
            "grid_column": null,
            "grid_gap": null,
            "grid_row": null,
            "grid_template_areas": null,
            "grid_template_columns": null,
            "grid_template_rows": null,
            "height": null,
            "justify_content": null,
            "justify_items": null,
            "left": null,
            "margin": null,
            "max_height": null,
            "max_width": null,
            "min_height": null,
            "min_width": null,
            "object_fit": null,
            "object_position": null,
            "order": null,
            "overflow": null,
            "overflow_x": null,
            "overflow_y": null,
            "padding": null,
            "right": null,
            "top": null,
            "visibility": null,
            "width": null
          }
        },
        "363fac8dbdfb4324a397ab1c523a2102": {
          "model_module": "@jupyter-widgets/controls",
          "model_name": "DescriptionStyleModel",
          "model_module_version": "1.5.0",
          "state": {
            "_model_module": "@jupyter-widgets/controls",
            "_model_module_version": "1.5.0",
            "_model_name": "DescriptionStyleModel",
            "_view_count": null,
            "_view_module": "@jupyter-widgets/base",
            "_view_module_version": "1.2.0",
            "_view_name": "StyleView",
            "description_width": ""
          }
        },
        "6a31945770e848bda207508535b8f12b": {
          "model_module": "@jupyter-widgets/base",
          "model_name": "LayoutModel",
          "model_module_version": "1.2.0",
          "state": {
            "_model_module": "@jupyter-widgets/base",
            "_model_module_version": "1.2.0",
            "_model_name": "LayoutModel",
            "_view_count": null,
            "_view_module": "@jupyter-widgets/base",
            "_view_module_version": "1.2.0",
            "_view_name": "LayoutView",
            "align_content": null,
            "align_items": null,
            "align_self": null,
            "border": null,
            "bottom": null,
            "display": null,
            "flex": null,
            "flex_flow": null,
            "grid_area": null,
            "grid_auto_columns": null,
            "grid_auto_flow": null,
            "grid_auto_rows": null,
            "grid_column": null,
            "grid_gap": null,
            "grid_row": null,
            "grid_template_areas": null,
            "grid_template_columns": null,
            "grid_template_rows": null,
            "height": null,
            "justify_content": null,
            "justify_items": null,
            "left": null,
            "margin": null,
            "max_height": null,
            "max_width": null,
            "min_height": null,
            "min_width": null,
            "object_fit": null,
            "object_position": null,
            "order": null,
            "overflow": null,
            "overflow_x": null,
            "overflow_y": null,
            "padding": null,
            "right": null,
            "top": null,
            "visibility": null,
            "width": null
          }
        },
        "df8ad326ce5b4badbfc1e7bc9a3fb35f": {
          "model_module": "@jupyter-widgets/controls",
          "model_name": "ProgressStyleModel",
          "model_module_version": "1.5.0",
          "state": {
            "_model_module": "@jupyter-widgets/controls",
            "_model_module_version": "1.5.0",
            "_model_name": "ProgressStyleModel",
            "_view_count": null,
            "_view_module": "@jupyter-widgets/base",
            "_view_module_version": "1.2.0",
            "_view_name": "StyleView",
            "bar_color": null,
            "description_width": ""
          }
        },
        "82f220a588ab4537afad8e6176ac8cb8": {
          "model_module": "@jupyter-widgets/base",
          "model_name": "LayoutModel",
          "model_module_version": "1.2.0",
          "state": {
            "_model_module": "@jupyter-widgets/base",
            "_model_module_version": "1.2.0",
            "_model_name": "LayoutModel",
            "_view_count": null,
            "_view_module": "@jupyter-widgets/base",
            "_view_module_version": "1.2.0",
            "_view_name": "LayoutView",
            "align_content": null,
            "align_items": null,
            "align_self": null,
            "border": null,
            "bottom": null,
            "display": null,
            "flex": null,
            "flex_flow": null,
            "grid_area": null,
            "grid_auto_columns": null,
            "grid_auto_flow": null,
            "grid_auto_rows": null,
            "grid_column": null,
            "grid_gap": null,
            "grid_row": null,
            "grid_template_areas": null,
            "grid_template_columns": null,
            "grid_template_rows": null,
            "height": null,
            "justify_content": null,
            "justify_items": null,
            "left": null,
            "margin": null,
            "max_height": null,
            "max_width": null,
            "min_height": null,
            "min_width": null,
            "object_fit": null,
            "object_position": null,
            "order": null,
            "overflow": null,
            "overflow_x": null,
            "overflow_y": null,
            "padding": null,
            "right": null,
            "top": null,
            "visibility": null,
            "width": null
          }
        },
        "2156d0f4daf6405caffde8e22b981c69": {
          "model_module": "@jupyter-widgets/controls",
          "model_name": "DescriptionStyleModel",
          "model_module_version": "1.5.0",
          "state": {
            "_model_module": "@jupyter-widgets/controls",
            "_model_module_version": "1.5.0",
            "_model_name": "DescriptionStyleModel",
            "_view_count": null,
            "_view_module": "@jupyter-widgets/base",
            "_view_module_version": "1.2.0",
            "_view_name": "StyleView",
            "description_width": ""
          }
        },
        "b752ad3524a74cbfb93ed8cd3af240d8": {
          "model_module": "@jupyter-widgets/controls",
          "model_name": "HBoxModel",
          "model_module_version": "1.5.0",
          "state": {
            "_dom_classes": [],
            "_model_module": "@jupyter-widgets/controls",
            "_model_module_version": "1.5.0",
            "_model_name": "HBoxModel",
            "_view_count": null,
            "_view_module": "@jupyter-widgets/controls",
            "_view_module_version": "1.5.0",
            "_view_name": "HBoxView",
            "box_style": "",
            "children": [
              "IPY_MODEL_c5c64fb2e13b4232815bd74647e20aad",
              "IPY_MODEL_8378a8f51cd944679e54f39fef604745",
              "IPY_MODEL_4aaad0fd8814429e8acaf365eb0511eb"
            ],
            "layout": "IPY_MODEL_9c2d678ea7e84acaa59b832c70188f29"
          }
        },
        "c5c64fb2e13b4232815bd74647e20aad": {
          "model_module": "@jupyter-widgets/controls",
          "model_name": "HTMLModel",
          "model_module_version": "1.5.0",
          "state": {
            "_dom_classes": [],
            "_model_module": "@jupyter-widgets/controls",
            "_model_module_version": "1.5.0",
            "_model_name": "HTMLModel",
            "_view_count": null,
            "_view_module": "@jupyter-widgets/controls",
            "_view_module_version": "1.5.0",
            "_view_name": "HTMLView",
            "description": "",
            "description_tooltip": null,
            "layout": "IPY_MODEL_a6b3af025903405cb27d6e48730ed3fc",
            "placeholder": "​",
            "style": "IPY_MODEL_1badcd3ec11649f39a1b7c386587e14d",
            "value": "Downloading: 100%"
          }
        },
        "8378a8f51cd944679e54f39fef604745": {
          "model_module": "@jupyter-widgets/controls",
          "model_name": "FloatProgressModel",
          "model_module_version": "1.5.0",
          "state": {
            "_dom_classes": [],
            "_model_module": "@jupyter-widgets/controls",
            "_model_module_version": "1.5.0",
            "_model_name": "FloatProgressModel",
            "_view_count": null,
            "_view_module": "@jupyter-widgets/controls",
            "_view_module_version": "1.5.0",
            "_view_name": "ProgressView",
            "bar_style": "success",
            "description": "",
            "description_tooltip": null,
            "layout": "IPY_MODEL_6c57256257c04e1aa710c672c855f054",
            "max": 456318,
            "min": 0,
            "orientation": "horizontal",
            "style": "IPY_MODEL_0ddb46d4fb5e4344a55f3c0b1c971a91",
            "value": 456318
          }
        },
        "4aaad0fd8814429e8acaf365eb0511eb": {
          "model_module": "@jupyter-widgets/controls",
          "model_name": "HTMLModel",
          "model_module_version": "1.5.0",
          "state": {
            "_dom_classes": [],
            "_model_module": "@jupyter-widgets/controls",
            "_model_module_version": "1.5.0",
            "_model_name": "HTMLModel",
            "_view_count": null,
            "_view_module": "@jupyter-widgets/controls",
            "_view_module_version": "1.5.0",
            "_view_name": "HTMLView",
            "description": "",
            "description_tooltip": null,
            "layout": "IPY_MODEL_c464851016704187a1e24fa69567ddbc",
            "placeholder": "​",
            "style": "IPY_MODEL_6aa0e8b9b69a49a19ccb4ea6ab85dada",
            "value": " 446k/446k [00:00&lt;00:00, 445kB/s]"
          }
        },
        "9c2d678ea7e84acaa59b832c70188f29": {
          "model_module": "@jupyter-widgets/base",
          "model_name": "LayoutModel",
          "model_module_version": "1.2.0",
          "state": {
            "_model_module": "@jupyter-widgets/base",
            "_model_module_version": "1.2.0",
            "_model_name": "LayoutModel",
            "_view_count": null,
            "_view_module": "@jupyter-widgets/base",
            "_view_module_version": "1.2.0",
            "_view_name": "LayoutView",
            "align_content": null,
            "align_items": null,
            "align_self": null,
            "border": null,
            "bottom": null,
            "display": null,
            "flex": null,
            "flex_flow": null,
            "grid_area": null,
            "grid_auto_columns": null,
            "grid_auto_flow": null,
            "grid_auto_rows": null,
            "grid_column": null,
            "grid_gap": null,
            "grid_row": null,
            "grid_template_areas": null,
            "grid_template_columns": null,
            "grid_template_rows": null,
            "height": null,
            "justify_content": null,
            "justify_items": null,
            "left": null,
            "margin": null,
            "max_height": null,
            "max_width": null,
            "min_height": null,
            "min_width": null,
            "object_fit": null,
            "object_position": null,
            "order": null,
            "overflow": null,
            "overflow_x": null,
            "overflow_y": null,
            "padding": null,
            "right": null,
            "top": null,
            "visibility": null,
            "width": null
          }
        },
        "a6b3af025903405cb27d6e48730ed3fc": {
          "model_module": "@jupyter-widgets/base",
          "model_name": "LayoutModel",
          "model_module_version": "1.2.0",
          "state": {
            "_model_module": "@jupyter-widgets/base",
            "_model_module_version": "1.2.0",
            "_model_name": "LayoutModel",
            "_view_count": null,
            "_view_module": "@jupyter-widgets/base",
            "_view_module_version": "1.2.0",
            "_view_name": "LayoutView",
            "align_content": null,
            "align_items": null,
            "align_self": null,
            "border": null,
            "bottom": null,
            "display": null,
            "flex": null,
            "flex_flow": null,
            "grid_area": null,
            "grid_auto_columns": null,
            "grid_auto_flow": null,
            "grid_auto_rows": null,
            "grid_column": null,
            "grid_gap": null,
            "grid_row": null,
            "grid_template_areas": null,
            "grid_template_columns": null,
            "grid_template_rows": null,
            "height": null,
            "justify_content": null,
            "justify_items": null,
            "left": null,
            "margin": null,
            "max_height": null,
            "max_width": null,
            "min_height": null,
            "min_width": null,
            "object_fit": null,
            "object_position": null,
            "order": null,
            "overflow": null,
            "overflow_x": null,
            "overflow_y": null,
            "padding": null,
            "right": null,
            "top": null,
            "visibility": null,
            "width": null
          }
        },
        "1badcd3ec11649f39a1b7c386587e14d": {
          "model_module": "@jupyter-widgets/controls",
          "model_name": "DescriptionStyleModel",
          "model_module_version": "1.5.0",
          "state": {
            "_model_module": "@jupyter-widgets/controls",
            "_model_module_version": "1.5.0",
            "_model_name": "DescriptionStyleModel",
            "_view_count": null,
            "_view_module": "@jupyter-widgets/base",
            "_view_module_version": "1.2.0",
            "_view_name": "StyleView",
            "description_width": ""
          }
        },
        "6c57256257c04e1aa710c672c855f054": {
          "model_module": "@jupyter-widgets/base",
          "model_name": "LayoutModel",
          "model_module_version": "1.2.0",
          "state": {
            "_model_module": "@jupyter-widgets/base",
            "_model_module_version": "1.2.0",
            "_model_name": "LayoutModel",
            "_view_count": null,
            "_view_module": "@jupyter-widgets/base",
            "_view_module_version": "1.2.0",
            "_view_name": "LayoutView",
            "align_content": null,
            "align_items": null,
            "align_self": null,
            "border": null,
            "bottom": null,
            "display": null,
            "flex": null,
            "flex_flow": null,
            "grid_area": null,
            "grid_auto_columns": null,
            "grid_auto_flow": null,
            "grid_auto_rows": null,
            "grid_column": null,
            "grid_gap": null,
            "grid_row": null,
            "grid_template_areas": null,
            "grid_template_columns": null,
            "grid_template_rows": null,
            "height": null,
            "justify_content": null,
            "justify_items": null,
            "left": null,
            "margin": null,
            "max_height": null,
            "max_width": null,
            "min_height": null,
            "min_width": null,
            "object_fit": null,
            "object_position": null,
            "order": null,
            "overflow": null,
            "overflow_x": null,
            "overflow_y": null,
            "padding": null,
            "right": null,
            "top": null,
            "visibility": null,
            "width": null
          }
        },
        "0ddb46d4fb5e4344a55f3c0b1c971a91": {
          "model_module": "@jupyter-widgets/controls",
          "model_name": "ProgressStyleModel",
          "model_module_version": "1.5.0",
          "state": {
            "_model_module": "@jupyter-widgets/controls",
            "_model_module_version": "1.5.0",
            "_model_name": "ProgressStyleModel",
            "_view_count": null,
            "_view_module": "@jupyter-widgets/base",
            "_view_module_version": "1.2.0",
            "_view_name": "StyleView",
            "bar_color": null,
            "description_width": ""
          }
        },
        "c464851016704187a1e24fa69567ddbc": {
          "model_module": "@jupyter-widgets/base",
          "model_name": "LayoutModel",
          "model_module_version": "1.2.0",
          "state": {
            "_model_module": "@jupyter-widgets/base",
            "_model_module_version": "1.2.0",
            "_model_name": "LayoutModel",
            "_view_count": null,
            "_view_module": "@jupyter-widgets/base",
            "_view_module_version": "1.2.0",
            "_view_name": "LayoutView",
            "align_content": null,
            "align_items": null,
            "align_self": null,
            "border": null,
            "bottom": null,
            "display": null,
            "flex": null,
            "flex_flow": null,
            "grid_area": null,
            "grid_auto_columns": null,
            "grid_auto_flow": null,
            "grid_auto_rows": null,
            "grid_column": null,
            "grid_gap": null,
            "grid_row": null,
            "grid_template_areas": null,
            "grid_template_columns": null,
            "grid_template_rows": null,
            "height": null,
            "justify_content": null,
            "justify_items": null,
            "left": null,
            "margin": null,
            "max_height": null,
            "max_width": null,
            "min_height": null,
            "min_width": null,
            "object_fit": null,
            "object_position": null,
            "order": null,
            "overflow": null,
            "overflow_x": null,
            "overflow_y": null,
            "padding": null,
            "right": null,
            "top": null,
            "visibility": null,
            "width": null
          }
        },
        "6aa0e8b9b69a49a19ccb4ea6ab85dada": {
          "model_module": "@jupyter-widgets/controls",
          "model_name": "DescriptionStyleModel",
          "model_module_version": "1.5.0",
          "state": {
            "_model_module": "@jupyter-widgets/controls",
            "_model_module_version": "1.5.0",
            "_model_name": "DescriptionStyleModel",
            "_view_count": null,
            "_view_module": "@jupyter-widgets/base",
            "_view_module_version": "1.2.0",
            "_view_name": "StyleView",
            "description_width": ""
          }
        },
        "843dc3679aa742ae99739f816216e770": {
          "model_module": "@jupyter-widgets/controls",
          "model_name": "HBoxModel",
          "model_module_version": "1.5.0",
          "state": {
            "_dom_classes": [],
            "_model_module": "@jupyter-widgets/controls",
            "_model_module_version": "1.5.0",
            "_model_name": "HBoxModel",
            "_view_count": null,
            "_view_module": "@jupyter-widgets/controls",
            "_view_module_version": "1.5.0",
            "_view_name": "HBoxView",
            "box_style": "",
            "children": [
              "IPY_MODEL_614b21c7d0d344c399f97ea9ccc5f41c",
              "IPY_MODEL_6d35bd1c59094ca08e4fb9fd58e56133",
              "IPY_MODEL_da32250a0a094e66b8ee315c9fb4ed41"
            ],
            "layout": "IPY_MODEL_73105119c91e402b843a6545b9c82a17"
          }
        },
        "614b21c7d0d344c399f97ea9ccc5f41c": {
          "model_module": "@jupyter-widgets/controls",
          "model_name": "HTMLModel",
          "model_module_version": "1.5.0",
          "state": {
            "_dom_classes": [],
            "_model_module": "@jupyter-widgets/controls",
            "_model_module_version": "1.5.0",
            "_model_name": "HTMLModel",
            "_view_count": null,
            "_view_module": "@jupyter-widgets/controls",
            "_view_module_version": "1.5.0",
            "_view_name": "HTMLView",
            "description": "",
            "description_tooltip": null,
            "layout": "IPY_MODEL_44987ee0ad5142cb931382eb5a16f403",
            "placeholder": "​",
            "style": "IPY_MODEL_cc2a992020664127acadb718035892e3",
            "value": "Downloading: 100%"
          }
        },
        "6d35bd1c59094ca08e4fb9fd58e56133": {
          "model_module": "@jupyter-widgets/controls",
          "model_name": "FloatProgressModel",
          "model_module_version": "1.5.0",
          "state": {
            "_dom_classes": [],
            "_model_module": "@jupyter-widgets/controls",
            "_model_module_version": "1.5.0",
            "_model_name": "FloatProgressModel",
            "_view_count": null,
            "_view_module": "@jupyter-widgets/controls",
            "_view_module_version": "1.5.0",
            "_view_name": "ProgressView",
            "bar_style": "success",
            "description": "",
            "description_tooltip": null,
            "layout": "IPY_MODEL_b9d8fe82c84547be8c49ea0ad8c89626",
            "max": 1355256,
            "min": 0,
            "orientation": "horizontal",
            "style": "IPY_MODEL_f3f8715a14504960b5ac2f0096beb932",
            "value": 1355256
          }
        },
        "da32250a0a094e66b8ee315c9fb4ed41": {
          "model_module": "@jupyter-widgets/controls",
          "model_name": "HTMLModel",
          "model_module_version": "1.5.0",
          "state": {
            "_dom_classes": [],
            "_model_module": "@jupyter-widgets/controls",
            "_model_module_version": "1.5.0",
            "_model_name": "HTMLModel",
            "_view_count": null,
            "_view_module": "@jupyter-widgets/controls",
            "_view_module_version": "1.5.0",
            "_view_name": "HTMLView",
            "description": "",
            "description_tooltip": null,
            "layout": "IPY_MODEL_a011244c0acd492d9dacb5a8db3ad9f2",
            "placeholder": "​",
            "style": "IPY_MODEL_af3f19e832914660a5549126a7dca307",
            "value": " 1.29M/1.29M [00:00&lt;00:00, 5.11MB/s]"
          }
        },
        "73105119c91e402b843a6545b9c82a17": {
          "model_module": "@jupyter-widgets/base",
          "model_name": "LayoutModel",
          "model_module_version": "1.2.0",
          "state": {
            "_model_module": "@jupyter-widgets/base",
            "_model_module_version": "1.2.0",
            "_model_name": "LayoutModel",
            "_view_count": null,
            "_view_module": "@jupyter-widgets/base",
            "_view_module_version": "1.2.0",
            "_view_name": "LayoutView",
            "align_content": null,
            "align_items": null,
            "align_self": null,
            "border": null,
            "bottom": null,
            "display": null,
            "flex": null,
            "flex_flow": null,
            "grid_area": null,
            "grid_auto_columns": null,
            "grid_auto_flow": null,
            "grid_auto_rows": null,
            "grid_column": null,
            "grid_gap": null,
            "grid_row": null,
            "grid_template_areas": null,
            "grid_template_columns": null,
            "grid_template_rows": null,
            "height": null,
            "justify_content": null,
            "justify_items": null,
            "left": null,
            "margin": null,
            "max_height": null,
            "max_width": null,
            "min_height": null,
            "min_width": null,
            "object_fit": null,
            "object_position": null,
            "order": null,
            "overflow": null,
            "overflow_x": null,
            "overflow_y": null,
            "padding": null,
            "right": null,
            "top": null,
            "visibility": null,
            "width": null
          }
        },
        "44987ee0ad5142cb931382eb5a16f403": {
          "model_module": "@jupyter-widgets/base",
          "model_name": "LayoutModel",
          "model_module_version": "1.2.0",
          "state": {
            "_model_module": "@jupyter-widgets/base",
            "_model_module_version": "1.2.0",
            "_model_name": "LayoutModel",
            "_view_count": null,
            "_view_module": "@jupyter-widgets/base",
            "_view_module_version": "1.2.0",
            "_view_name": "LayoutView",
            "align_content": null,
            "align_items": null,
            "align_self": null,
            "border": null,
            "bottom": null,
            "display": null,
            "flex": null,
            "flex_flow": null,
            "grid_area": null,
            "grid_auto_columns": null,
            "grid_auto_flow": null,
            "grid_auto_rows": null,
            "grid_column": null,
            "grid_gap": null,
            "grid_row": null,
            "grid_template_areas": null,
            "grid_template_columns": null,
            "grid_template_rows": null,
            "height": null,
            "justify_content": null,
            "justify_items": null,
            "left": null,
            "margin": null,
            "max_height": null,
            "max_width": null,
            "min_height": null,
            "min_width": null,
            "object_fit": null,
            "object_position": null,
            "order": null,
            "overflow": null,
            "overflow_x": null,
            "overflow_y": null,
            "padding": null,
            "right": null,
            "top": null,
            "visibility": null,
            "width": null
          }
        },
        "cc2a992020664127acadb718035892e3": {
          "model_module": "@jupyter-widgets/controls",
          "model_name": "DescriptionStyleModel",
          "model_module_version": "1.5.0",
          "state": {
            "_model_module": "@jupyter-widgets/controls",
            "_model_module_version": "1.5.0",
            "_model_name": "DescriptionStyleModel",
            "_view_count": null,
            "_view_module": "@jupyter-widgets/base",
            "_view_module_version": "1.2.0",
            "_view_name": "StyleView",
            "description_width": ""
          }
        },
        "b9d8fe82c84547be8c49ea0ad8c89626": {
          "model_module": "@jupyter-widgets/base",
          "model_name": "LayoutModel",
          "model_module_version": "1.2.0",
          "state": {
            "_model_module": "@jupyter-widgets/base",
            "_model_module_version": "1.2.0",
            "_model_name": "LayoutModel",
            "_view_count": null,
            "_view_module": "@jupyter-widgets/base",
            "_view_module_version": "1.2.0",
            "_view_name": "LayoutView",
            "align_content": null,
            "align_items": null,
            "align_self": null,
            "border": null,
            "bottom": null,
            "display": null,
            "flex": null,
            "flex_flow": null,
            "grid_area": null,
            "grid_auto_columns": null,
            "grid_auto_flow": null,
            "grid_auto_rows": null,
            "grid_column": null,
            "grid_gap": null,
            "grid_row": null,
            "grid_template_areas": null,
            "grid_template_columns": null,
            "grid_template_rows": null,
            "height": null,
            "justify_content": null,
            "justify_items": null,
            "left": null,
            "margin": null,
            "max_height": null,
            "max_width": null,
            "min_height": null,
            "min_width": null,
            "object_fit": null,
            "object_position": null,
            "order": null,
            "overflow": null,
            "overflow_x": null,
            "overflow_y": null,
            "padding": null,
            "right": null,
            "top": null,
            "visibility": null,
            "width": null
          }
        },
        "f3f8715a14504960b5ac2f0096beb932": {
          "model_module": "@jupyter-widgets/controls",
          "model_name": "ProgressStyleModel",
          "model_module_version": "1.5.0",
          "state": {
            "_model_module": "@jupyter-widgets/controls",
            "_model_module_version": "1.5.0",
            "_model_name": "ProgressStyleModel",
            "_view_count": null,
            "_view_module": "@jupyter-widgets/base",
            "_view_module_version": "1.2.0",
            "_view_name": "StyleView",
            "bar_color": null,
            "description_width": ""
          }
        },
        "a011244c0acd492d9dacb5a8db3ad9f2": {
          "model_module": "@jupyter-widgets/base",
          "model_name": "LayoutModel",
          "model_module_version": "1.2.0",
          "state": {
            "_model_module": "@jupyter-widgets/base",
            "_model_module_version": "1.2.0",
            "_model_name": "LayoutModel",
            "_view_count": null,
            "_view_module": "@jupyter-widgets/base",
            "_view_module_version": "1.2.0",
            "_view_name": "LayoutView",
            "align_content": null,
            "align_items": null,
            "align_self": null,
            "border": null,
            "bottom": null,
            "display": null,
            "flex": null,
            "flex_flow": null,
            "grid_area": null,
            "grid_auto_columns": null,
            "grid_auto_flow": null,
            "grid_auto_rows": null,
            "grid_column": null,
            "grid_gap": null,
            "grid_row": null,
            "grid_template_areas": null,
            "grid_template_columns": null,
            "grid_template_rows": null,
            "height": null,
            "justify_content": null,
            "justify_items": null,
            "left": null,
            "margin": null,
            "max_height": null,
            "max_width": null,
            "min_height": null,
            "min_width": null,
            "object_fit": null,
            "object_position": null,
            "order": null,
            "overflow": null,
            "overflow_x": null,
            "overflow_y": null,
            "padding": null,
            "right": null,
            "top": null,
            "visibility": null,
            "width": null
          }
        },
        "af3f19e832914660a5549126a7dca307": {
          "model_module": "@jupyter-widgets/controls",
          "model_name": "DescriptionStyleModel",
          "model_module_version": "1.5.0",
          "state": {
            "_model_module": "@jupyter-widgets/controls",
            "_model_module_version": "1.5.0",
            "_model_name": "DescriptionStyleModel",
            "_view_count": null,
            "_view_module": "@jupyter-widgets/base",
            "_view_module_version": "1.2.0",
            "_view_name": "StyleView",
            "description_width": ""
          }
        },
        "f84e7da69bb54c479a941e421440c00a": {
          "model_module": "@jupyter-widgets/controls",
          "model_name": "HBoxModel",
          "model_module_version": "1.5.0",
          "state": {
            "_dom_classes": [],
            "_model_module": "@jupyter-widgets/controls",
            "_model_module_version": "1.5.0",
            "_model_name": "HBoxModel",
            "_view_count": null,
            "_view_module": "@jupyter-widgets/controls",
            "_view_module_version": "1.5.0",
            "_view_name": "HBoxView",
            "box_style": "",
            "children": [
              "IPY_MODEL_3e470c47ff5f4629b7b87bf4364382ba",
              "IPY_MODEL_ad2f02427bfc4fab8c73d472bf45dbb9",
              "IPY_MODEL_6ad82fb05f9a402587257ea5454820bb"
            ],
            "layout": "IPY_MODEL_92f2bbcc925b489db18fe81b0c3f6b33"
          }
        },
        "3e470c47ff5f4629b7b87bf4364382ba": {
          "model_module": "@jupyter-widgets/controls",
          "model_name": "HTMLModel",
          "model_module_version": "1.5.0",
          "state": {
            "_dom_classes": [],
            "_model_module": "@jupyter-widgets/controls",
            "_model_module_version": "1.5.0",
            "_model_name": "HTMLModel",
            "_view_count": null,
            "_view_module": "@jupyter-widgets/controls",
            "_view_module_version": "1.5.0",
            "_view_name": "HTMLView",
            "description": "",
            "description_tooltip": null,
            "layout": "IPY_MODEL_bec37f424c694d6c9caf9c407787e362",
            "placeholder": "​",
            "style": "IPY_MODEL_59d6495665994710953c94158f1bdc45",
            "value": "Downloading: 100%"
          }
        },
        "ad2f02427bfc4fab8c73d472bf45dbb9": {
          "model_module": "@jupyter-widgets/controls",
          "model_name": "FloatProgressModel",
          "model_module_version": "1.5.0",
          "state": {
            "_dom_classes": [],
            "_model_module": "@jupyter-widgets/controls",
            "_model_module_version": "1.5.0",
            "_model_name": "FloatProgressModel",
            "_view_count": null,
            "_view_module": "@jupyter-widgets/controls",
            "_view_module_version": "1.5.0",
            "_view_name": "ProgressView",
            "bar_style": "success",
            "description": "",
            "description_tooltip": null,
            "layout": "IPY_MODEL_9c5be533837e47abb119bc6115e37050",
            "max": 3247202234,
            "min": 0,
            "orientation": "horizontal",
            "style": "IPY_MODEL_dcea66061d174d7aa69fb785c2b6eecc",
            "value": 3247202234
          }
        },
        "6ad82fb05f9a402587257ea5454820bb": {
          "model_module": "@jupyter-widgets/controls",
          "model_name": "HTMLModel",
          "model_module_version": "1.5.0",
          "state": {
            "_dom_classes": [],
            "_model_module": "@jupyter-widgets/controls",
            "_model_module_version": "1.5.0",
            "_model_name": "HTMLModel",
            "_view_count": null,
            "_view_module": "@jupyter-widgets/controls",
            "_view_module_version": "1.5.0",
            "_view_name": "HTMLView",
            "description": "",
            "description_tooltip": null,
            "layout": "IPY_MODEL_136dd3669b4b46ceb80deef04c97bf9d",
            "placeholder": "​",
            "style": "IPY_MODEL_c0ded9566cf4472f82d9e9602f3d0a9f",
            "value": " 3.02G/3.02G [01:01&lt;00:00, 75.1MB/s]"
          }
        },
        "92f2bbcc925b489db18fe81b0c3f6b33": {
          "model_module": "@jupyter-widgets/base",
          "model_name": "LayoutModel",
          "model_module_version": "1.2.0",
          "state": {
            "_model_module": "@jupyter-widgets/base",
            "_model_module_version": "1.2.0",
            "_model_name": "LayoutModel",
            "_view_count": null,
            "_view_module": "@jupyter-widgets/base",
            "_view_module_version": "1.2.0",
            "_view_name": "LayoutView",
            "align_content": null,
            "align_items": null,
            "align_self": null,
            "border": null,
            "bottom": null,
            "display": null,
            "flex": null,
            "flex_flow": null,
            "grid_area": null,
            "grid_auto_columns": null,
            "grid_auto_flow": null,
            "grid_auto_rows": null,
            "grid_column": null,
            "grid_gap": null,
            "grid_row": null,
            "grid_template_areas": null,
            "grid_template_columns": null,
            "grid_template_rows": null,
            "height": null,
            "justify_content": null,
            "justify_items": null,
            "left": null,
            "margin": null,
            "max_height": null,
            "max_width": null,
            "min_height": null,
            "min_width": null,
            "object_fit": null,
            "object_position": null,
            "order": null,
            "overflow": null,
            "overflow_x": null,
            "overflow_y": null,
            "padding": null,
            "right": null,
            "top": null,
            "visibility": null,
            "width": null
          }
        },
        "bec37f424c694d6c9caf9c407787e362": {
          "model_module": "@jupyter-widgets/base",
          "model_name": "LayoutModel",
          "model_module_version": "1.2.0",
          "state": {
            "_model_module": "@jupyter-widgets/base",
            "_model_module_version": "1.2.0",
            "_model_name": "LayoutModel",
            "_view_count": null,
            "_view_module": "@jupyter-widgets/base",
            "_view_module_version": "1.2.0",
            "_view_name": "LayoutView",
            "align_content": null,
            "align_items": null,
            "align_self": null,
            "border": null,
            "bottom": null,
            "display": null,
            "flex": null,
            "flex_flow": null,
            "grid_area": null,
            "grid_auto_columns": null,
            "grid_auto_flow": null,
            "grid_auto_rows": null,
            "grid_column": null,
            "grid_gap": null,
            "grid_row": null,
            "grid_template_areas": null,
            "grid_template_columns": null,
            "grid_template_rows": null,
            "height": null,
            "justify_content": null,
            "justify_items": null,
            "left": null,
            "margin": null,
            "max_height": null,
            "max_width": null,
            "min_height": null,
            "min_width": null,
            "object_fit": null,
            "object_position": null,
            "order": null,
            "overflow": null,
            "overflow_x": null,
            "overflow_y": null,
            "padding": null,
            "right": null,
            "top": null,
            "visibility": null,
            "width": null
          }
        },
        "59d6495665994710953c94158f1bdc45": {
          "model_module": "@jupyter-widgets/controls",
          "model_name": "DescriptionStyleModel",
          "model_module_version": "1.5.0",
          "state": {
            "_model_module": "@jupyter-widgets/controls",
            "_model_module_version": "1.5.0",
            "_model_name": "DescriptionStyleModel",
            "_view_count": null,
            "_view_module": "@jupyter-widgets/base",
            "_view_module_version": "1.2.0",
            "_view_name": "StyleView",
            "description_width": ""
          }
        },
        "9c5be533837e47abb119bc6115e37050": {
          "model_module": "@jupyter-widgets/base",
          "model_name": "LayoutModel",
          "model_module_version": "1.2.0",
          "state": {
            "_model_module": "@jupyter-widgets/base",
            "_model_module_version": "1.2.0",
            "_model_name": "LayoutModel",
            "_view_count": null,
            "_view_module": "@jupyter-widgets/base",
            "_view_module_version": "1.2.0",
            "_view_name": "LayoutView",
            "align_content": null,
            "align_items": null,
            "align_self": null,
            "border": null,
            "bottom": null,
            "display": null,
            "flex": null,
            "flex_flow": null,
            "grid_area": null,
            "grid_auto_columns": null,
            "grid_auto_flow": null,
            "grid_auto_rows": null,
            "grid_column": null,
            "grid_gap": null,
            "grid_row": null,
            "grid_template_areas": null,
            "grid_template_columns": null,
            "grid_template_rows": null,
            "height": null,
            "justify_content": null,
            "justify_items": null,
            "left": null,
            "margin": null,
            "max_height": null,
            "max_width": null,
            "min_height": null,
            "min_width": null,
            "object_fit": null,
            "object_position": null,
            "order": null,
            "overflow": null,
            "overflow_x": null,
            "overflow_y": null,
            "padding": null,
            "right": null,
            "top": null,
            "visibility": null,
            "width": null
          }
        },
        "dcea66061d174d7aa69fb785c2b6eecc": {
          "model_module": "@jupyter-widgets/controls",
          "model_name": "ProgressStyleModel",
          "model_module_version": "1.5.0",
          "state": {
            "_model_module": "@jupyter-widgets/controls",
            "_model_module_version": "1.5.0",
            "_model_name": "ProgressStyleModel",
            "_view_count": null,
            "_view_module": "@jupyter-widgets/base",
            "_view_module_version": "1.2.0",
            "_view_name": "StyleView",
            "bar_color": null,
            "description_width": ""
          }
        },
        "136dd3669b4b46ceb80deef04c97bf9d": {
          "model_module": "@jupyter-widgets/base",
          "model_name": "LayoutModel",
          "model_module_version": "1.2.0",
          "state": {
            "_model_module": "@jupyter-widgets/base",
            "_model_module_version": "1.2.0",
            "_model_name": "LayoutModel",
            "_view_count": null,
            "_view_module": "@jupyter-widgets/base",
            "_view_module_version": "1.2.0",
            "_view_name": "LayoutView",
            "align_content": null,
            "align_items": null,
            "align_self": null,
            "border": null,
            "bottom": null,
            "display": null,
            "flex": null,
            "flex_flow": null,
            "grid_area": null,
            "grid_auto_columns": null,
            "grid_auto_flow": null,
            "grid_auto_rows": null,
            "grid_column": null,
            "grid_gap": null,
            "grid_row": null,
            "grid_template_areas": null,
            "grid_template_columns": null,
            "grid_template_rows": null,
            "height": null,
            "justify_content": null,
            "justify_items": null,
            "left": null,
            "margin": null,
            "max_height": null,
            "max_width": null,
            "min_height": null,
            "min_width": null,
            "object_fit": null,
            "object_position": null,
            "order": null,
            "overflow": null,
            "overflow_x": null,
            "overflow_y": null,
            "padding": null,
            "right": null,
            "top": null,
            "visibility": null,
            "width": null
          }
        },
        "c0ded9566cf4472f82d9e9602f3d0a9f": {
          "model_module": "@jupyter-widgets/controls",
          "model_name": "DescriptionStyleModel",
          "model_module_version": "1.5.0",
          "state": {
            "_model_module": "@jupyter-widgets/controls",
            "_model_module_version": "1.5.0",
            "_model_name": "DescriptionStyleModel",
            "_view_count": null,
            "_view_module": "@jupyter-widgets/base",
            "_view_module_version": "1.2.0",
            "_view_name": "StyleView",
            "description_width": ""
          }
        }
      }
    }
  },
  "cells": [
    {
      "cell_type": "markdown",
      "source": [
        "### In NLU, we simply get the logits or probabilities and use them. Unlike NLU, in NLG we need a decoder to generate data from logits or probabilities.\n",
        "\n",
        "\n",
        "### In NLG, we have auto regressive approach. In pre training, we have single direction attention, unlike MLM which is bidirectional"
      ],
      "metadata": {
        "id": "b_jqDUVJhBBP"
      }
    },
    {
      "cell_type": "code",
      "execution_count": 1,
      "metadata": {
        "colab": {
          "base_uri": "https://localhost:8080/"
        },
        "id": "ziYjbIQeg50q",
        "outputId": "300f1393-58f7-4dbb-eda5-11cd75a053b0"
      },
      "outputs": [
        {
          "output_type": "stream",
          "name": "stdout",
          "text": [
            "Cloning into 'notebooks'...\n",
            "remote: Enumerating objects: 515, done.\u001b[K\n",
            "remote: Counting objects: 100% (162/162), done.\u001b[K\n",
            "remote: Compressing objects: 100% (39/39), done.\u001b[K\n",
            "remote: Total 515 (delta 139), reused 127 (delta 123), pack-reused 353\u001b[K\n",
            "Receiving objects: 100% (515/515), 28.61 MiB | 11.85 MiB/s, done.\n",
            "Resolving deltas: 100% (246/246), done.\n",
            "/content/notebooks\n",
            "⏳ Installing base requirements ...\n",
            "✅ Base requirements installed!\n",
            "⏳ Installing Git LFS ...\n",
            "✅ Git LFS installed!\n"
          ]
        }
      ],
      "source": [
        "!git clone https://github.com/nlp-with-transformers/notebooks.git\n",
        "%cd notebooks\n",
        "from install import *\n",
        "install_requirements()\n",
        "     "
      ]
    },
    {
      "cell_type": "code",
      "source": [
        "from utils import *\n",
        "setup_chapter()"
      ],
      "metadata": {
        "colab": {
          "base_uri": "https://localhost:8080/"
        },
        "id": "EBkegEw9hVp0",
        "outputId": "1ad19b6d-e35c-43b4-c297-8d00b0595f47"
      },
      "execution_count": 2,
      "outputs": [
        {
          "output_type": "stream",
          "name": "stdout",
          "text": [
            "Using transformers v4.11.3\n",
            "Using datasets v1.16.1\n"
          ]
        }
      ]
    },
    {
      "cell_type": "markdown",
      "source": [
        "# Greedy Search Decoding"
      ],
      "metadata": {
        "id": "8bErzd1QjdY3"
      }
    },
    {
      "cell_type": "markdown",
      "source": [
        "#### Greedily Search the next token, like we have in greedy approach "
      ],
      "metadata": {
        "id": "7OAmBw6mjqoU"
      }
    },
    {
      "cell_type": "code",
      "source": [
        "import torch\n",
        "from transformers import AutoTokenizer, AutoModelForCausalLM"
      ],
      "metadata": {
        "id": "cV2sJHoBhWxp"
      },
      "execution_count": 3,
      "outputs": []
    },
    {
      "cell_type": "code",
      "source": [
        "device = \"cuda\" if torch.cuda.is_available() else \"cpu\""
      ],
      "metadata": {
        "id": "jyhgZW6sk27K"
      },
      "execution_count": 4,
      "outputs": []
    },
    {
      "cell_type": "code",
      "source": [
        "model_name = \"gpt2-large\""
      ],
      "metadata": {
        "id": "jlvmwajek8MJ"
      },
      "execution_count": 5,
      "outputs": []
    },
    {
      "cell_type": "code",
      "source": [
        "tokenizer = AutoTokenizer.from_pretrained(model_name)"
      ],
      "metadata": {
        "colab": {
          "base_uri": "https://localhost:8080/",
          "height": 145,
          "referenced_widgets": [
            "ad18ef7889b543ceabfa6e85cc9f6571",
            "6d99e4c37803494ab395c0564506ddc1",
            "d73ba68f84774ecb9f43b8c53de04404",
            "f713bd1ec8924d91a14cca188a675f67",
            "bc6e924247c44bf3942f1b7c55395bd0",
            "195a1d96fed145b4981483281924554a",
            "978bdf3ba586468ea5f789462fc642c5",
            "97bbde2ec2074847b1cb248c91062865",
            "7979fa35d342413d88815cdc8bbbc76c",
            "c1b52c3f7d394b169e70770264e57ca5",
            "b8752519fb6f41ba974feaf170fb8e6a",
            "aa2bc3bd23714d4a9232e089a4cc8c93",
            "8254f489ba8140fdab9ddd231f4a8eec",
            "ef0f9c77fa9f4b70bec1474e09efcd2e",
            "6dbe8bf22e7b4a9d93de29de3376d419",
            "0264eef5018343d9b9d26de610063978",
            "ec5dc9e5677f465b8a91bf03dd674cc2",
            "363fac8dbdfb4324a397ab1c523a2102",
            "6a31945770e848bda207508535b8f12b",
            "df8ad326ce5b4badbfc1e7bc9a3fb35f",
            "82f220a588ab4537afad8e6176ac8cb8",
            "2156d0f4daf6405caffde8e22b981c69",
            "b752ad3524a74cbfb93ed8cd3af240d8",
            "c5c64fb2e13b4232815bd74647e20aad",
            "8378a8f51cd944679e54f39fef604745",
            "4aaad0fd8814429e8acaf365eb0511eb",
            "9c2d678ea7e84acaa59b832c70188f29",
            "a6b3af025903405cb27d6e48730ed3fc",
            "1badcd3ec11649f39a1b7c386587e14d",
            "6c57256257c04e1aa710c672c855f054",
            "0ddb46d4fb5e4344a55f3c0b1c971a91",
            "c464851016704187a1e24fa69567ddbc",
            "6aa0e8b9b69a49a19ccb4ea6ab85dada",
            "843dc3679aa742ae99739f816216e770",
            "614b21c7d0d344c399f97ea9ccc5f41c",
            "6d35bd1c59094ca08e4fb9fd58e56133",
            "da32250a0a094e66b8ee315c9fb4ed41",
            "73105119c91e402b843a6545b9c82a17",
            "44987ee0ad5142cb931382eb5a16f403",
            "cc2a992020664127acadb718035892e3",
            "b9d8fe82c84547be8c49ea0ad8c89626",
            "f3f8715a14504960b5ac2f0096beb932",
            "a011244c0acd492d9dacb5a8db3ad9f2",
            "af3f19e832914660a5549126a7dca307"
          ]
        },
        "id": "LGv-KYlmlBJ5",
        "outputId": "d9eee44c-7941-422d-e335-71180b3d1cd5"
      },
      "execution_count": 6,
      "outputs": [
        {
          "output_type": "display_data",
          "data": {
            "text/plain": [
              "Downloading:   0%|          | 0.00/666 [00:00<?, ?B/s]"
            ],
            "application/vnd.jupyter.widget-view+json": {
              "version_major": 2,
              "version_minor": 0,
              "model_id": "ad18ef7889b543ceabfa6e85cc9f6571"
            }
          },
          "metadata": {}
        },
        {
          "output_type": "display_data",
          "data": {
            "text/plain": [
              "Downloading:   0%|          | 0.00/0.99M [00:00<?, ?B/s]"
            ],
            "application/vnd.jupyter.widget-view+json": {
              "version_major": 2,
              "version_minor": 0,
              "model_id": "aa2bc3bd23714d4a9232e089a4cc8c93"
            }
          },
          "metadata": {}
        },
        {
          "output_type": "display_data",
          "data": {
            "text/plain": [
              "Downloading:   0%|          | 0.00/446k [00:00<?, ?B/s]"
            ],
            "application/vnd.jupyter.widget-view+json": {
              "version_major": 2,
              "version_minor": 0,
              "model_id": "b752ad3524a74cbfb93ed8cd3af240d8"
            }
          },
          "metadata": {}
        },
        {
          "output_type": "display_data",
          "data": {
            "text/plain": [
              "Downloading:   0%|          | 0.00/1.29M [00:00<?, ?B/s]"
            ],
            "application/vnd.jupyter.widget-view+json": {
              "version_major": 2,
              "version_minor": 0,
              "model_id": "843dc3679aa742ae99739f816216e770"
            }
          },
          "metadata": {}
        }
      ]
    },
    {
      "cell_type": "code",
      "source": [
        "model = AutoModelForCausalLM.from_pretrained(model_name).to(device)"
      ],
      "metadata": {
        "colab": {
          "base_uri": "https://localhost:8080/",
          "height": 49,
          "referenced_widgets": [
            "f84e7da69bb54c479a941e421440c00a",
            "3e470c47ff5f4629b7b87bf4364382ba",
            "ad2f02427bfc4fab8c73d472bf45dbb9",
            "6ad82fb05f9a402587257ea5454820bb",
            "92f2bbcc925b489db18fe81b0c3f6b33",
            "bec37f424c694d6c9caf9c407787e362",
            "59d6495665994710953c94158f1bdc45",
            "9c5be533837e47abb119bc6115e37050",
            "dcea66061d174d7aa69fb785c2b6eecc",
            "136dd3669b4b46ceb80deef04c97bf9d",
            "c0ded9566cf4472f82d9e9602f3d0a9f"
          ]
        },
        "id": "PcbmQR9ulG4F",
        "outputId": "1540b92c-ba3f-456b-f68b-173fa97a5951"
      },
      "execution_count": 7,
      "outputs": [
        {
          "output_type": "display_data",
          "data": {
            "text/plain": [
              "Downloading:   0%|          | 0.00/3.02G [00:00<?, ?B/s]"
            ],
            "application/vnd.jupyter.widget-view+json": {
              "version_major": 2,
              "version_minor": 0,
              "model_id": "f84e7da69bb54c479a941e421440c00a"
            }
          },
          "metadata": {}
        }
      ]
    },
    {
      "cell_type": "code",
      "source": [
        "model"
      ],
      "metadata": {
        "colab": {
          "base_uri": "https://localhost:8080/"
        },
        "id": "NDmWmRC9lSh-",
        "outputId": "b5049147-0e27-4ac0-ba30-a8a7f542fcae"
      },
      "execution_count": 8,
      "outputs": [
        {
          "output_type": "execute_result",
          "data": {
            "text/plain": [
              "GPT2LMHeadModel(\n",
              "  (transformer): GPT2Model(\n",
              "    (wte): Embedding(50257, 1280)\n",
              "    (wpe): Embedding(1024, 1280)\n",
              "    (drop): Dropout(p=0.1, inplace=False)\n",
              "    (h): ModuleList(\n",
              "      (0-35): 36 x GPT2Block(\n",
              "        (ln_1): LayerNorm((1280,), eps=1e-05, elementwise_affine=True)\n",
              "        (attn): GPT2Attention(\n",
              "          (c_attn): Conv1D()\n",
              "          (c_proj): Conv1D()\n",
              "          (attn_dropout): Dropout(p=0.1, inplace=False)\n",
              "          (resid_dropout): Dropout(p=0.1, inplace=False)\n",
              "        )\n",
              "        (ln_2): LayerNorm((1280,), eps=1e-05, elementwise_affine=True)\n",
              "        (mlp): GPT2MLP(\n",
              "          (c_fc): Conv1D()\n",
              "          (c_proj): Conv1D()\n",
              "          (dropout): Dropout(p=0.1, inplace=False)\n",
              "        )\n",
              "      )\n",
              "    )\n",
              "    (ln_f): LayerNorm((1280,), eps=1e-05, elementwise_affine=True)\n",
              "  )\n",
              "  (lm_head): Linear(in_features=1280, out_features=50257, bias=False)\n",
              ")"
            ]
          },
          "metadata": {},
          "execution_count": 8
        }
      ]
    },
    {
      "cell_type": "code",
      "source": [
        "import pandas as pd"
      ],
      "metadata": {
        "id": "FPkyEhyxlhI4"
      },
      "execution_count": 9,
      "outputs": []
    },
    {
      "cell_type": "code",
      "source": [
        "\n"
      ],
      "metadata": {
        "id": "F6yjE2mhmf5n"
      },
      "execution_count": 9,
      "outputs": []
    },
    {
      "cell_type": "code",
      "source": [],
      "metadata": {
        "id": "vB2KXfj5nHwj"
      },
      "execution_count": 9,
      "outputs": []
    },
    {
      "cell_type": "code",
      "source": [
        "import pandas as pd\n",
        "\n",
        "input_txt = \"Transformers are the\"\n",
        "input_ids = tokenizer(input_txt, return_tensors=\"pt\")[\"input_ids\"].to(device)\n",
        "iterations = []\n",
        "n_steps = 8\n",
        "choices_per_step = 5\n",
        "\n",
        "with torch.no_grad():\n",
        "    for _ in range(n_steps):\n",
        "        iteration = dict()\n",
        "        iteration[\"Input\"] = tokenizer.decode(input_ids[0])\n",
        "        output = model(input_ids=input_ids)\n",
        "        # Select logits of the first batch and the last token and apply softmax\n",
        "        next_token_logits = output.logits[0, -1, :]\n",
        "        next_token_probs = torch.softmax(next_token_logits, dim=-1)\n",
        "        sorted_ids = torch.argsort(next_token_probs, dim=-1, descending=True)\n",
        "        # Store tokens with highest probabilities\n",
        "        for choice_idx in range(choices_per_step):\n",
        "            token_id = sorted_ids[choice_idx]\n",
        "            token_prob = next_token_probs[token_id].cpu().numpy()\n",
        "            token_choice = (\n",
        "                f\"{tokenizer.decode(token_id)} ({100 * token_prob:.2f}%)\"\n",
        "            )\n",
        "            iteration[f\"Choice {choice_idx+1}\"] = token_choice\n",
        "        # Append predicted next token to input\n",
        "        input_ids = torch.cat([input_ids, sorted_ids[None, 0, None]], dim=-1)\n",
        "        iterations.append(iteration)\n",
        "        \n",
        "pd.DataFrame(iterations)"
      ],
      "metadata": {
        "colab": {
          "base_uri": "https://localhost:8080/",
          "height": 483
        },
        "id": "pLUYDpcNoqzx",
        "outputId": "3675c024-4f31-4e8c-fe48-91bdea9d1136"
      },
      "execution_count": 10,
      "outputs": [
        {
          "output_type": "execute_result",
          "data": {
            "text/plain": [
              "                                               Input           Choice 1  \\\n",
              "0                               Transformers are the      most (11.78%)   \n",
              "1                          Transformers are the most   popular (22.63%)   \n",
              "2                  Transformers are the most popular       toys (8.87%)   \n",
              "3             Transformers are the most popular toys        of (31.69%)   \n",
              "4          Transformers are the most popular toys of       all (57.47%)   \n",
              "5      Transformers are the most popular toys of all      time (94.71%)   \n",
              "6  Transformers are the most popular toys of all ...         . (34.98%)   \n",
              "7  Transformers are the most popular toys of all ...      They (10.93%)   \n",
              "\n",
              "              Choice 2         Choice 3               Choice 4  \\\n",
              "0         best (6.66%)     only (5.62%)          first (2.91%)   \n",
              "1   successful (5.55%)   famous (3.38%)       powerful (3.14%)   \n",
              "2          toy (7.88%)       of (5.03%)   Transformers (4.69%)   \n",
              "3          in (23.73%)     ever (4.85%)              , (4.50%)   \n",
              "4         the (21.30%)     2015 (2.34%)          their (1.66%)   \n",
              "5            - (1.86%)        . (0.66%)              , (0.56%)   \n",
              "6           , (33.86%)      and (7.03%)              ! (2.16%)   \n",
              "7           \\n (9.23%)      The (6.63%)             In (2.91%)   \n",
              "\n",
              "             Choice 5  \n",
              "0    ultimate (2.23%)  \n",
              "1   important (2.54%)  \n",
              "2   franchise (3.88%)  \n",
              "3         for (3.58%)  \n",
              "4        2014 (1.54%)  \n",
              "5       times (0.52%)  \n",
              "6          in (1.73%)  \n",
              "7         And (2.68%)  "
            ],
            "text/html": [
              "\n",
              "  <div id=\"df-fd6f8420-4e85-4233-a534-8e46c2cb6945\">\n",
              "    <div class=\"colab-df-container\">\n",
              "      <div>\n",
              "<style scoped>\n",
              "    .dataframe tbody tr th:only-of-type {\n",
              "        vertical-align: middle;\n",
              "    }\n",
              "\n",
              "    .dataframe tbody tr th {\n",
              "        vertical-align: top;\n",
              "    }\n",
              "\n",
              "    .dataframe thead th {\n",
              "        text-align: right;\n",
              "    }\n",
              "</style>\n",
              "<table border=\"1\" class=\"dataframe\">\n",
              "  <thead>\n",
              "    <tr style=\"text-align: right;\">\n",
              "      <th></th>\n",
              "      <th>Input</th>\n",
              "      <th>Choice 1</th>\n",
              "      <th>Choice 2</th>\n",
              "      <th>Choice 3</th>\n",
              "      <th>Choice 4</th>\n",
              "      <th>Choice 5</th>\n",
              "    </tr>\n",
              "  </thead>\n",
              "  <tbody>\n",
              "    <tr>\n",
              "      <th>0</th>\n",
              "      <td>Transformers are the</td>\n",
              "      <td>most (11.78%)</td>\n",
              "      <td>best (6.66%)</td>\n",
              "      <td>only (5.62%)</td>\n",
              "      <td>first (2.91%)</td>\n",
              "      <td>ultimate (2.23%)</td>\n",
              "    </tr>\n",
              "    <tr>\n",
              "      <th>1</th>\n",
              "      <td>Transformers are the most</td>\n",
              "      <td>popular (22.63%)</td>\n",
              "      <td>successful (5.55%)</td>\n",
              "      <td>famous (3.38%)</td>\n",
              "      <td>powerful (3.14%)</td>\n",
              "      <td>important (2.54%)</td>\n",
              "    </tr>\n",
              "    <tr>\n",
              "      <th>2</th>\n",
              "      <td>Transformers are the most popular</td>\n",
              "      <td>toys (8.87%)</td>\n",
              "      <td>toy (7.88%)</td>\n",
              "      <td>of (5.03%)</td>\n",
              "      <td>Transformers (4.69%)</td>\n",
              "      <td>franchise (3.88%)</td>\n",
              "    </tr>\n",
              "    <tr>\n",
              "      <th>3</th>\n",
              "      <td>Transformers are the most popular toys</td>\n",
              "      <td>of (31.69%)</td>\n",
              "      <td>in (23.73%)</td>\n",
              "      <td>ever (4.85%)</td>\n",
              "      <td>, (4.50%)</td>\n",
              "      <td>for (3.58%)</td>\n",
              "    </tr>\n",
              "    <tr>\n",
              "      <th>4</th>\n",
              "      <td>Transformers are the most popular toys of</td>\n",
              "      <td>all (57.47%)</td>\n",
              "      <td>the (21.30%)</td>\n",
              "      <td>2015 (2.34%)</td>\n",
              "      <td>their (1.66%)</td>\n",
              "      <td>2014 (1.54%)</td>\n",
              "    </tr>\n",
              "    <tr>\n",
              "      <th>5</th>\n",
              "      <td>Transformers are the most popular toys of all</td>\n",
              "      <td>time (94.71%)</td>\n",
              "      <td>- (1.86%)</td>\n",
              "      <td>. (0.66%)</td>\n",
              "      <td>, (0.56%)</td>\n",
              "      <td>times (0.52%)</td>\n",
              "    </tr>\n",
              "    <tr>\n",
              "      <th>6</th>\n",
              "      <td>Transformers are the most popular toys of all ...</td>\n",
              "      <td>. (34.98%)</td>\n",
              "      <td>, (33.86%)</td>\n",
              "      <td>and (7.03%)</td>\n",
              "      <td>! (2.16%)</td>\n",
              "      <td>in (1.73%)</td>\n",
              "    </tr>\n",
              "    <tr>\n",
              "      <th>7</th>\n",
              "      <td>Transformers are the most popular toys of all ...</td>\n",
              "      <td>They (10.93%)</td>\n",
              "      <td>\\n (9.23%)</td>\n",
              "      <td>The (6.63%)</td>\n",
              "      <td>In (2.91%)</td>\n",
              "      <td>And (2.68%)</td>\n",
              "    </tr>\n",
              "  </tbody>\n",
              "</table>\n",
              "</div>\n",
              "      <button class=\"colab-df-convert\" onclick=\"convertToInteractive('df-fd6f8420-4e85-4233-a534-8e46c2cb6945')\"\n",
              "              title=\"Convert this dataframe to an interactive table.\"\n",
              "              style=\"display:none;\">\n",
              "        \n",
              "  <svg xmlns=\"http://www.w3.org/2000/svg\" height=\"24px\"viewBox=\"0 0 24 24\"\n",
              "       width=\"24px\">\n",
              "    <path d=\"M0 0h24v24H0V0z\" fill=\"none\"/>\n",
              "    <path d=\"M18.56 5.44l.94 2.06.94-2.06 2.06-.94-2.06-.94-.94-2.06-.94 2.06-2.06.94zm-11 1L8.5 8.5l.94-2.06 2.06-.94-2.06-.94L8.5 2.5l-.94 2.06-2.06.94zm10 10l.94 2.06.94-2.06 2.06-.94-2.06-.94-.94-2.06-.94 2.06-2.06.94z\"/><path d=\"M17.41 7.96l-1.37-1.37c-.4-.4-.92-.59-1.43-.59-.52 0-1.04.2-1.43.59L10.3 9.45l-7.72 7.72c-.78.78-.78 2.05 0 2.83L4 21.41c.39.39.9.59 1.41.59.51 0 1.02-.2 1.41-.59l7.78-7.78 2.81-2.81c.8-.78.8-2.07 0-2.86zM5.41 20L4 18.59l7.72-7.72 1.47 1.35L5.41 20z\"/>\n",
              "  </svg>\n",
              "      </button>\n",
              "      \n",
              "  <style>\n",
              "    .colab-df-container {\n",
              "      display:flex;\n",
              "      flex-wrap:wrap;\n",
              "      gap: 12px;\n",
              "    }\n",
              "\n",
              "    .colab-df-convert {\n",
              "      background-color: #E8F0FE;\n",
              "      border: none;\n",
              "      border-radius: 50%;\n",
              "      cursor: pointer;\n",
              "      display: none;\n",
              "      fill: #1967D2;\n",
              "      height: 32px;\n",
              "      padding: 0 0 0 0;\n",
              "      width: 32px;\n",
              "    }\n",
              "\n",
              "    .colab-df-convert:hover {\n",
              "      background-color: #E2EBFA;\n",
              "      box-shadow: 0px 1px 2px rgba(60, 64, 67, 0.3), 0px 1px 3px 1px rgba(60, 64, 67, 0.15);\n",
              "      fill: #174EA6;\n",
              "    }\n",
              "\n",
              "    [theme=dark] .colab-df-convert {\n",
              "      background-color: #3B4455;\n",
              "      fill: #D2E3FC;\n",
              "    }\n",
              "\n",
              "    [theme=dark] .colab-df-convert:hover {\n",
              "      background-color: #434B5C;\n",
              "      box-shadow: 0px 1px 3px 1px rgba(0, 0, 0, 0.15);\n",
              "      filter: drop-shadow(0px 1px 2px rgba(0, 0, 0, 0.3));\n",
              "      fill: #FFFFFF;\n",
              "    }\n",
              "  </style>\n",
              "\n",
              "      <script>\n",
              "        const buttonEl =\n",
              "          document.querySelector('#df-fd6f8420-4e85-4233-a534-8e46c2cb6945 button.colab-df-convert');\n",
              "        buttonEl.style.display =\n",
              "          google.colab.kernel.accessAllowed ? 'block' : 'none';\n",
              "\n",
              "        async function convertToInteractive(key) {\n",
              "          const element = document.querySelector('#df-fd6f8420-4e85-4233-a534-8e46c2cb6945');\n",
              "          const dataTable =\n",
              "            await google.colab.kernel.invokeFunction('convertToInteractive',\n",
              "                                                     [key], {});\n",
              "          if (!dataTable) return;\n",
              "\n",
              "          const docLinkHtml = 'Like what you see? Visit the ' +\n",
              "            '<a target=\"_blank\" href=https://colab.research.google.com/notebooks/data_table.ipynb>data table notebook</a>'\n",
              "            + ' to learn more about interactive tables.';\n",
              "          element.innerHTML = '';\n",
              "          dataTable['output_type'] = 'display_data';\n",
              "          await google.colab.output.renderOutput(dataTable, element);\n",
              "          const docLink = document.createElement('div');\n",
              "          docLink.innerHTML = docLinkHtml;\n",
              "          element.appendChild(docLink);\n",
              "        }\n",
              "      </script>\n",
              "    </div>\n",
              "  </div>\n",
              "  "
            ]
          },
          "metadata": {},
          "execution_count": 10
        }
      ]
    },
    {
      "cell_type": "markdown",
      "source": [
        "##### Generate Method"
      ],
      "metadata": {
        "id": "zoXvxuoDqQey"
      }
    },
    {
      "cell_type": "code",
      "source": [
        "input_ids = tokenizer(input_txt, return_tensors = \"pt\")[\"input_ids\"].to(device)"
      ],
      "metadata": {
        "id": "W9UhCAB1pBfp"
      },
      "execution_count": 11,
      "outputs": []
    },
    {
      "cell_type": "code",
      "source": [
        "model.generate(input_ids, max_new_tokens=n_steps, do_sample = False)"
      ],
      "metadata": {
        "colab": {
          "base_uri": "https://localhost:8080/"
        },
        "id": "y1RdMQghrXh8",
        "outputId": "05b5d536-df9e-4de6-a44b-cff259b5ce2e"
      },
      "execution_count": 12,
      "outputs": [
        {
          "output_type": "execute_result",
          "data": {
            "text/plain": [
              "tensor([[41762,   364,   389,   262,   749,  2968, 14958,   286,   477,   640,\n",
              "            13,  1119]], device='cuda:0')"
            ]
          },
          "metadata": {},
          "execution_count": 12
        }
      ]
    },
    {
      "cell_type": "code",
      "source": [
        "output = model.generate(input_ids, max_new_tokens=n_steps, do_sample = False)"
      ],
      "metadata": {
        "id": "DD_bw7KTrbPa"
      },
      "execution_count": 13,
      "outputs": []
    },
    {
      "cell_type": "code",
      "source": [
        "tokenizer.decode(output[0])"
      ],
      "metadata": {
        "colab": {
          "base_uri": "https://localhost:8080/",
          "height": 35
        },
        "id": "SII9mNNFrrFG",
        "outputId": "43155af1-d617-4d56-a825-bb0fc2fe7f19"
      },
      "execution_count": 14,
      "outputs": [
        {
          "output_type": "execute_result",
          "data": {
            "text/plain": [
              "'Transformers are the most popular toys of all time. They'"
            ],
            "application/vnd.google.colaboratory.intrinsic+json": {
              "type": "string"
            }
          },
          "metadata": {},
          "execution_count": 14
        }
      ]
    },
    {
      "cell_type": "code",
      "source": [
        "max_length = 128\n",
        "input_txt = \"\"\"In a shocking finding, scientist discovered \\\n",
        "a herd of unicorns living in a remote, previously unexplored \\\n",
        "valley, in the Andes Mountains. Even more surprising to the \\\n",
        "researchers was the fact that the unicorns spoke perfect English.\\n\\n\n",
        "\"\"\"\n",
        "\n",
        "input_ids = tokenizer(input_txt, return_tensors = \"pt\")[\"input_ids\"].to(device)"
      ],
      "metadata": {
        "id": "5Yj3FXJOrs5E"
      },
      "execution_count": 15,
      "outputs": []
    },
    {
      "cell_type": "code",
      "source": [
        "input_ids"
      ],
      "metadata": {
        "colab": {
          "base_uri": "https://localhost:8080/"
        },
        "id": "s1aXEyFKUBek",
        "outputId": "503a5478-3231-481f-a9de-c8925f60d815"
      },
      "execution_count": 16,
      "outputs": [
        {
          "output_type": "execute_result",
          "data": {
            "text/plain": [
              "tensor([[  818,   257, 14702,  4917,    11, 11444,  5071,   257, 27638,   286,\n",
              "         28000, 19942,  2877,   287,   257,  6569,    11,  4271, 31286,  1850,\n",
              "         19272,    11,   287,   262,   843,   274, 21124,    13,  3412,   517,\n",
              "          6452,   284,   262,  4837,   373,   262,  1109,   326,   262, 28000,\n",
              "         19942,  5158,  2818,  3594,    13,   628,   198]], device='cuda:0')"
            ]
          },
          "metadata": {},
          "execution_count": 16
        }
      ]
    },
    {
      "cell_type": "code",
      "source": [
        "output_greedy = model.generate(input_ids, max_length = max_length, do_sample = False)"
      ],
      "metadata": {
        "id": "4lNoNcq1UC9A"
      },
      "execution_count": 17,
      "outputs": []
    },
    {
      "cell_type": "code",
      "source": [
        "output_greedy"
      ],
      "metadata": {
        "colab": {
          "base_uri": "https://localhost:8080/"
        },
        "id": "_SvgccRyUN8W",
        "outputId": "67d3aa54-7187-4b32-a809-2e8abf1faf42"
      },
      "execution_count": 18,
      "outputs": [
        {
          "output_type": "execute_result",
          "data": {
            "text/plain": [
              "tensor([[  818,   257, 14702,  4917,    11, 11444,  5071,   257, 27638,   286,\n",
              "         28000, 19942,  2877,   287,   257,  6569,    11,  4271, 31286,  1850,\n",
              "         19272,    11,   287,   262,   843,   274, 21124,    13,  3412,   517,\n",
              "          6452,   284,   262,  4837,   373,   262,  1109,   326,   262, 28000,\n",
              "         19942,  5158,  2818,  3594,    13,   628,   198,   464,  4837,    11,\n",
              "          2957,   416,  1583,    13,  3271,   371,    13,  6484,   286,   262,\n",
              "          2059,   286,  3442,    11,  8909,  8742,    11,  5071,   262, 28000,\n",
              "         19942,   287,   262,   843,   274, 21124,   286, 25768,    13,   383,\n",
              "          1989,   318,  1900,   329,   663,  3748,  4903,  1435,   290,   318,\n",
              "          1363,   284,   257,  1271,   286,  4071,  4693,   286,  4695,    13,\n",
              "           628,   198,   464,  4837,  1043,   262, 28000, 19942,   287,   262,\n",
              "           843,   274, 21124,   286, 25768,    13,   383,  1989,   318,  1900,\n",
              "           329,   663,  3748,  4903,  1435,   290,   318,  1363]],\n",
              "       device='cuda:0')"
            ]
          },
          "metadata": {},
          "execution_count": 18
        }
      ]
    },
    {
      "cell_type": "code",
      "source": [
        "tokenizer.decode(output_greedy[0])"
      ],
      "metadata": {
        "colab": {
          "base_uri": "https://localhost:8080/",
          "height": 122
        },
        "id": "cXm7RjpaURKA",
        "outputId": "d89787a7-b42b-4ca7-a8d1-19f353b8235b"
      },
      "execution_count": 19,
      "outputs": [
        {
          "output_type": "execute_result",
          "data": {
            "text/plain": [
              "'In a shocking finding, scientist discovered a herd of unicorns living in a remote, previously unexplored valley, in the Andes Mountains. Even more surprising to the researchers was the fact that the unicorns spoke perfect English.\\n\\n\\nThe researchers, led by Dr. David R. Williams of the University of California, Santa Cruz, discovered the unicorns in the Andes Mountains of Peru. The area is known for its unique geology and is home to a number of rare species of animals.\\n\\n\\nThe researchers found the unicorns in the Andes Mountains of Peru. The area is known for its unique geology and is home'"
            ],
            "application/vnd.google.colaboratory.intrinsic+json": {
              "type": "string"
            }
          },
          "metadata": {},
          "execution_count": 19
        }
      ]
    },
    {
      "cell_type": "code",
      "source": [
        "#### This is producing repetitive results, greedy approach leads to this.\n",
        "#### Greedy can be used where we want to produce short sequences like arithmetic where a determenistic and factually correct output \n",
        "#### is desired"
      ],
      "metadata": {
        "id": "FEtg_XLDUW9E"
      },
      "execution_count": 20,
      "outputs": []
    },
    {
      "cell_type": "markdown",
      "source": [
        "# Beam Search Decoding\n",
        "\n",
        "![image.png](data:image/png;base64,iVBORw0KGgoAAAANSUhEUgAAAvkAAAF5CAYAAAAF5DU9AAAgAElEQVR4nOzdd3hTZf/H8XeSpnsPKLTQQtlIy5aNMsWBg+VPwfH4uPd43CgiLhwIAiqo4AAERBBxK4KACAjI3tDS0gKF7p0m+f1RjdaCDBOStp/XdXFd9Iz7fE/Gyffc5x4Gu91uR0REREREagyjuwMQERERERHnUpIvIiIiIlLDKMkXEREREalhlOSLiIiIiNQwSvJFRERERGoYJfkiIiIiIjWMknwRERERkRpGSb6IiIiISA2jJF9EREREpIZRki8iIiIiUsMoyRcRERERqWGU5IuIiIiI1DBK8kVEREREahgvdwcgIiKeyWKxcPToEXJysrFare4Op9YymUyEh0dQt240RuO5q5vLzs4iM/MoJSUl5+yYUpnBYCAgIIC6desREBDg7nCkmjHY7Xa7u4MQERHPUl5uYc+ePVgsZe4ORX5nNBpp3rwlZrPZ5cdKSUkhNzfb5ceR0xcXF09ISKi7w5BqRM11RESkiuTkA0rwPYzNZiMjI93lxykoKFCC74FSUpIpK9N3Uk6fknwREalCTTQ8U05OtstvvtLT01xavpy9vLw8d4cg1YiSfBERqaS4uBibzebuMOQkysvLXVq+1ar33lMVFxe5OwSpRpTki4hIJUrwRTyTulHKmVCSLyIiIiJSwyjJFxERERGpYZTki4iIiIjUMEryRURERE5Dx46dufbaUe4OQ+S0aMZbERGRE8jJyeHo0aP4+/sTGxvr7nDEA1gsFpePbiTiLKrJFxEROYEVK1YybNgInnpqjLtDERE5Y0ryRURERERqGCX5IiLisXJzc5k4cRIDBw4iKaldpX+//PIL+/fvJympHdOmTeejj2Zx4YV9mT//EwAOHTrEmDHP0LlzF7p27ca4cc9x5MgRR9lpaWk89NDD9OnTj6Skdlx11VDee28GVquV996bwZNPjgZg/fr1JCW1Y9as2W55DWqSvXv38sgjj9KuXQe6d+/Jyy+/QlZWNgBpaYdo27Y9SUntyM6uWJaRkUFSUjv69u2PxWIhPT2DRx55jP79B5KU1I7Bg69g2rRpWCwWAN55512SktrxyScLeOedd+jffyDduvVgxoyZpKam8eyzz5GU1I5evXqzYMGnjjkhVq36maSkdrzzzru8/vpEevToRc+evZk2bTpWq/Wk55OWlsZTT42hU6fz6dq1G8899zxHjx518asocnrUJl9ERDyS3W5n9OinWbVqFcOGDSMuriFvvPEGhYVFPPLIwzRs2JCSkhIAZs+eTVFRMSEhwfj4eJOXl8fFF1+Kl5cXDRo0wGq1Mn/+J/z22yY++WQeAPv372fv3r2EhYURHBzMoUOHmDhxEq1atSQsLJS6dety5MgR/Pz8iImJISQkxJ0vR7WXkZHBkCHD8Pb2plGjRpSWlvLRR7NITk5mypTJxMTUp3XrVmzduo3Fiz/n+uuv48svv8JgMPDcc89iNps5ePAgu3btJDg4mMDAQDIyMpgy5U3i4+MZMGCA41jPPfc8derUwdvbm+zsbF5/fSJTpkwlMjKCmJgY0tPTGTv2WRITE2natIljvzfemEx0dDQhISEcP36cKVOmkpmZyRNPPF7lfHJycrjkksvw8vKiYcMGlJeXM2/efDZv3sLcuXPOyWsq8k9Uky8iIh7pwIEDLF++nDZtzuPRRx/m//7vam6++WYAjEYj9evXd2wbHh7BsmVL+e67bxk8eDArV64C4N5772HRok/5/PPP6N27N3v27OHgwYMA9OrVi0WLPmXBgvksWvQpzz//HACzZ8/hyiuv5O677wKgVatWLFgwn0svveRcnv5J2Wx2bDaby/65yuLFiwF4+umn+PTTT/jii88577zzWLlyFYcPH8ZgMDBt2tv4+Pjw3nvvUVBQwKRJbxATE0OXLl0A6NLlfBYtWsiCBfNZuHABU6a8AcCnny6sdKyRI6/lm2++4osvPnfs+8gjD/P11xXLwsLCADh+/Hil/QYM6O/Yb8aM9wBYvvynE57PihUrAXjggftZuPBTPv98MT179mTnzp2kpqY64yUT+VeU5IuIiEfKy8sHwNvb27EsLi4OgMzMzErb1q9fD39/f8ffX331FUajkUsuudixrH37dgD8+uv6Ex4vNjbGOYG7WN++fQkMDHTZv/T0Qy6J++eff8HX15dBgy5yLEtIaAzA9u3bAQgICKBLly7k5ORyxx13AnD//feetMyGDRue8rgmk6nS3waDAYPBcMr9mjdvRt26dcnNzT3h+m+++QaTycQll/x589e2bRIA69dvOGX5Iq6m5joiIuKRQkKCgT+TfYA9e/YAfyaHJ/PLL2swGAwsWPApPj4+AGzcuBGA3bt3O7ZLTk7m559X8/PPP3Ps2DGnxu8qY8c+Q3FxicvKDw8Pd0m5W7duxWw289FHsxzL9u/fD+B4ugIwZsxTXHzxpWzatJmEhAT69etXqZy0tDRWrlzFqlWryM7OcUmsUPG0qF696Er9OP5qzZo1AHzyySeYzWYANm3aBPz5ORVxJyX5IiLikRo1akS3bl1Zs2YtTz31NMHBwSxY8CmNGzeiR48e/7hvWVkZAFOmTD3pNu+//z5TprxJaGgoiYmJNGjQgB07djr1HFyhZ8+e+Pn5n3rDs7Rjx3YsljKnl1teXk55eTmvvTbhH7fz9fUlKCiQ4uJivL3NldbNnTuP116bQEBAAO3bt6NRo3i2bNni9FhPR1lZRWffN96Y7Jbji5yKknwREfFYF198MZs3byE5ORmAiy4awO23305wcPA/7hcaGkpBQQHLli0lKCjohNu8++4MfHx8+Pjj2YSHh7Nr1y6+/fY7p5+DVAgKCsJgMLBixfJ/3G7ChIkcPZpJ3bp12bFjJ8uWLeOCCy4AYPr0d/Dy8mLu3DlERUWRmZnJ4sWfuyzmgoICfH19TrguNDSUwsJCli9fRkCA6266RM6W2uSLiIhHKisr44UXXqRZs2a89dabvPXWm/zvf/8jMjLylPsOGNCf8vJyNm/efNJtcnNzadAg1mXNU6Syzp07kZeX949PSywWC19//RUtW7bk2WfHAvDKK6861mdmZlK/fj2ioqJcHu+xY8fYu3cfwcEnHlWpX7++WCwWtz1JEDkVJfkiIuKxSktL2bBhA127dnf8u/jiSx3t609mxIjhANxxx10sW7acwsJCjh07xsyZ77NzZ0WSGRAQwLZt29m2bTulpaVs3bq1Uhl+fn5AxQgshYWFjrHb5ewMHjwYgOuvv4ENGzZSWFjI4cOHmTr1TceTmilTppKXl88DD9zH+ed3pl27dqSmprFx429ARe357t172LjxN0pLS0/5OThTyckpZGZmkpWVzdNPPwNA586dT7jt8OHDALj11tv46aefKCwsJDMzkxkzZrJr1y6nxiVyNpTki4iIR/L29ubll1+qsjwjI4NbbrmNvLy8k+6bkJDASy+9gNFo5N5776Nbtx707duft9+e5qi5v/zyiqRz1Kjr6NmzNzNmzKxURteuXQgKCiQ5OZlu3Xrw7LPjnHh2tU+vXj156KEHKC0t5cYb/0O3bj0YOHAQ8+bNJzg4mKysLGbOfJ/w8DDatm0LwO233wbAvffeh8ViYdiwoQDcdNN/6dmzNxMmvI6Xl+mkxzxTu3fvpl+/AVx4YR9WrlxJq1YtGTPmqRNu26xZM55//jmMRgN3330v3br1oF+/AUyf/o5jiE4RdzLY7Xa7u4MQERHPUVhYyL597h8dZN68ebz00su8+urLjjbZFouFBx54kJ9+WsH06W/Tpk0bNm3aRGhoKC1atKhSRmbmMVJSUigvtxAaGkr9+vUrtefft28/mZlHCQsLJz4+jo0bNxIaGkaLFs2BigmP9u3bR3m5lWbNmnpE8ta0abNq2fEWKiY4O3LkKCkpKdjtNsLDw4mJiSUgwJ/jx4+zZ88eYmNjiY2NBSqabG3YsAEw0LFjB7y8vDhw4ABHjhwhNDSUhIQENm7cSFBQEC1btuTQoUOkpqZSr149x3Cru3btIjs7m0aNGlG3bl2gYhZji8VCy5YtCQkJYdWqn7njjjvp0+dCbr/9drKyjhMREUFcXFylIVx/+eUX/P0DSExs41iWmZlJSsrB3z9jYcTE1D9pP5B/KzQ0jIYN41xSttQ86ngrIiIe6YcfllJeXl6puYTZbHYMVxgYGIifn59jsqMTiYqKJCrq5G34ExIaVxqO8+9lhYaG0qFDh7M9Bfkbg8FAdHRdoqPrVlkXERFBREREpWXe3t5V3pNGjRrRqFEjx99//XzExMQQE1N5voPmzZtXOdbJ3lMvLy+aNWsKND3h+hN91qKios5JHwGRM6UkX0REPNIfta6jRz/laKaxffsO1qxZS8uWLWnVqpU7wxMR8WhK8kVExCM9+OADZGfnsHHjb3z//Q9AxURNrVq1ZNy4Z90cnYiIZ1ObfBERqcRT2uTLiVXnNvny76hNvpwJja4jIiIiIlLDKMkXEZFK/hgfXjyTwWBwcfkuLV7+BR+fE8++K3IiSvJFRKQSo9GoZMJDmc3e+Pj4uvQYISGhLi1fzt5fh38VORUl+SIiUsX8+QsoLy93dxjyNw0aNHR5TX50dD3d5HmgkJBQl/bFkJpHSb6IiDhYrVaGDBnC6NGjWb9+A15eZneHJFTU4MfHNyIwMNDlxzIYDCQkNCUgINDlNxRyakajkZCQEHW4lTOm0XVERASA8vJyhgwZwuLFi3nuued4/PHHASgoyKekpMTN0dVe/v7++PsHuOXY5eXl5ORku+XYAiaTiZCQUIxG1cnKmVOSLyIiAFx55ZUsWrSI8ePH89BDD6kWV0SkGtOtoYiIMGLECBYtWsTzzz/Pgw8+qARfRKSa04y3IiK13DXXXMO8efMYM2YMjz32mLvDERERJ1BNvohILXbNNdcwZ84cRo8ezdNPP+3ucERExEnUJl9EpJYaMWIE8+bNY9SoUXzwwQfuDkdERJxIzXVERGoZm83GSy+9xLx587j66quV4IuI1ECqyRcRqWVeeOEFHn/8ca644goWLlzo7nBERMQF1CZfRKQWeeaZZxwJ/vz5890djoiIuIia64iI1BJPPfUUzz77LMOHD2fu3LnuDkdERFxINfkiIrXAHwn+NddcowRfRKQWUJIvIlLDjRkzxpHgz5o1y93hiIjIOaCOtyIiNdQfo+g8/vjjaqIjIlLLKMkXEamB7HY7r7zyCg8//LBG0RERqYXUXEdEpAZ6/vnnefjhh7n88ss1io6ISC2kJF9EpIZ55plnePLJJ7nqqqtYsGABXl4aSE1EpLZRki8iUoOMGTOGMWPGMHz4cBYsWIDJZHJ3SCIi4gZK8kVEaoixY8fyzDPPcPXVV6uTrYhILaeOtyIi1Zzdbuell17iscceY9iwYcybN8/dIYmIiJspyReRM2a327HZbBQUFLg7lFrLZDLh5+eHwWBg4sSJPPDAA1x++eUsWrTIqcex2WyUlZVSWlrm1HLl9Pn4+ODt7Y3RqIfv8u9ZbXZySspJyyl1dyi1VoivF/WCvfHxcu13Wkm+iJwRm83G3r27KS0tRZcP9zIYDBw8eJBLLx1Ms2bN2LRpE76+vk4rPzs7m0OHUrHZbE4rU86OyWQiPr4xAQEB7g5FqrH0vFJeXnqQYosVXb3dy2wycEnLSAa1jHDZMZTki8gZ2bFjOxaLanU9hd1uZ8eOHVx22eVOTQBzc3M4eDBFN3IexGAwkJDQFH9/f3eHItVQak4J45emUGbVd9pTGAxwaatILm0V6ZLy9exPRE7bsWOZSvA9jMFgoFWrVk4fRScjI10Jvoex2+2kpCTrfZGz8sX240rwPYzdDt/tzsJic837oiRfRE7b4cMZ7g5BTiI3N8dpZVW0w9fNnCeyWMooLVVbajkzZVYbGw/luzsMOYESi41tGa7p36YkX0ROi81mU9tsD1ZY6LwfieLiYqeVJc5nt+t7KGcmv8Tq7hDkH+SXuub9UZIvIlID2Fz0uFdERKonJfkiIiIiIjWMknwRERERkRpGSb6IiIiISA2jJF9ERKq1pKR2JCW1Y/v27e4ORUTEY3i5OwAREZFzbdmyZRw4kMwFF/SmUaNG7g5HRICDG5aTlbqHBm17EhHX3N3hVHtK8kVEpNb57rvvWbLkC+rVq6ckX8RDJP/6Azu/n49vUKiSfCdQcx0RERERkRpGSb6I1CqTJr1Bz569He24e/bszYQJr7s7LHGiwsJCbr/9Drp370FSUju6dOnGjTfeRE5OxazA99xzL0uWfAHAI488SlJSO9auXevOkEVqvW9fuZud388H4Ke3RjNteEtSf1vpWL/q3Wd5/6auTBvekneuSWTuvYPIO5oGwNx7BzFteEsy9211bG8pLWb61a359uW7zu2JeBAl+SJSqzRt2pSnnnqSV14Zz/3334vVamXmzPfZvXuPu0MTJ3nmmbH8/PNqLrnkUl5+eTwXXngBGzZs4KmnngbgxhtvpEOH9gCMHHktr7wyniZNmrgzZJFaL2nwf4hp0xWAlv1H0O+B14mIbwHAps/eYfu3c4hs1Io+975C0uCbyM1I5tNHrqK8tJiohPMASFn/o6O8PcsWYrfZaNjhwnN/Mh5CbfJF/uLgwYP88MMP7g7DI5lMJtq2TXR3GP/aoEEXVfp71arVrF27lq1bt9KsWVM3RfXvFRcXMWPGDKeUFRYWRuPG8U4p61zbt28f33zzLfHx8Tz++KMADBjQn3379rN8+U8cPJhKu3ZtqVevHgBt2rShf//+7gxZRIC6zdoRVDcWtkBUwnk07jIQAEtJEWvnvI7dbueCO14gILwOAEVZR9i1bCHp29fR+qJr2btyCUd2bgDAbrez5YsPAIhu3s49J+QBlOSL/MXGjRv5z3/+4+4wPFJgYCCrVq1wdxhOVVRU5O4QnCYvL89pn91evXryxhuTnFLWubZp0yYAEhPbVFrepEkCu3btYtu2rTRs2MAdoYnIWSgrKgC7jdCYxo4EH6Bx10EVSf7WNXQZ9T/8w+pwdN8WrJYy7DYrBVmH8Q0KJaRenBujdy8l+SJ/4+/vT0FBAQaDwd2heBSbzcbWrZvdHca/lpuby8cfz2XFipVs2bLF3eE4Td260djtdqeUVVhYyL591bP50sGDqQBER0dXWu7n5wdARkbGOY9JRM6etawEu91OUJ2YSsv9QsIByM1IBqBeq47sW/UlBzcsJ6pJG2wWC+ddcSsGo+mcx+wp1CZfRGqN/Px8Lrvsct588y0SE9swfvxLJCZW/yZIciZ08y5So/z+lW50/gAAtn0zi70rv8But9Ho/NrdFE81+SJSa/zww1Jyc3MZPHgwDz/8PwA+++wzN0clzvTHmPfJycmVlhcUFADQuHHjcx6TiJw9Lx8/DAYD2al7Ky0vOH4YgKjGFZ1uY5O6A1CUfYyd388FwP8vzXtqI9Xki0it8UdTDaNRtbk1VYsWFRPobN++o9LyrVu34ePjQ8eOHdwRloicJbOfPxiMFBzLIO9IqmP5tq9ngcFAfKe+AHj7BZLQ/WLyMpLJO5JKbFJ3fPyD3BW2R1BNvojUGh06VCR433//A4mJiRgMBg2dWcM0b96cvn378MMPS7njjrtISGjM1q3bSEtLY9SokQQGBgKQkJAAwMyZ77N9+3Z69epJx44d3Rm6SK0XWr/iSdu2rz4i59B+YpN6EJvYjY4j7mbdnNf59pW7iTmvCwXHMji0ZTXhDZs59gGITezOvlVfAtDmkhuglvetU5IvIrVG586duOmm/7Bw4SLGjn2WFi1aMHDgAD76aJa7QxMnGj16NMHBwaxcuYpVq1YRExPDDTdcz913/zkpzrXXXsPy5cvZsmUrhw4d4rzzWrsxYhEBaD3w/0he+z1H92wiPzOdiPiWALS78las5Rb2rvicLV+8j19wOI3OH8CF94zH6PVnKvvHOPsmbx/qtdJNu8HurOEYRGqAzz77jGuuuUaj65xATRldp6by9w+gSRPnjPNfnUfXqQ2aNm2Gn5+/u8OQauR4oYXHv9zn7jBcruBYBrPv6IN/WB2ufXNptRlZZ2SHaHo2DnV6uWqTLyIiIiLVXsr6pQAkXnp9tUnwXUnNdURERESk2vph4oNkbFtLaWEevsFhtB40yt0heQTV5IuIiIhItRVarxFFOccIi21C/wcnYfIyuzskj6CafBERERGptjoMv4sOw+869Ya1jGryReS0qCOyZ/P2dl7NldGonwaRmkRTg9ROupKLyGkxGAx4e/u4Oww5icBA50364ufnp0Tfg3l56SG8nBmbuwOQfxQX5uuScnUVF5HTFhvbwN0hyAkYDAZCQpw7/Jqfn59TyxPnCAkJxWz2dncYUo1Y7Xbe+SXd3WHISdQL9qahknwRcbfAwECCgoLdHYb8TXx8Y0wm5w4X54oy5d8xmUy60ZYz9sG6DPYfL3Z3GHICXkYDt3eLdV35LitZRGqk+PhG5ObmkpFxCIvF4u5wajU/P39iY2NdMjGSyWSiefOWHD16hGPHMp1evpw+g8FAeHgE0dH1dOMlZ2RNSi5rD+ZXWW4ANBOqe7WpF8iItnWICnTdkzkl+SJyRgwGA6GhoYSEhFBeXu7ucGotg8Hg8rbZXl5e1K8fQ3R0PaxWq0uPJSdnMpnUR0LOWFaRhdkbjmCzV07nu8YHc22HehSX6TvtLt4mI75m13+nleSLyFkxGAyYzRqLuDYwGo1KMkWqkdJyG+N/TKGkvHKX2wahPtzQqT4AZl+lgDWdrtoiIiIiNYTVbufjjUfILqr8pDXQx8RdPVzX/ls8j5J8ERERkRpi3cE8fk7OrbTMaIBRHaIJ9dPT19pESb6IiIhIDZCaU8LMtRlVlvdvFk7bGOfNpSHVg5J8ERERkWrOYrMzeWValVFzWtYNYPB5UW6JSdxLSb6IiIhINffuL+nkFFduh282GbihUz28jAY3RSXupCRfREREpBr7YvsxNh6qOh7+fb0aEuqnUXRqK73zIiIiItVUem4pX+08XmmZAbisdSRNIv3cE5R4BNXki4iIiFRDRRYrLy5NwWKt3BI/LtyXi1tFuikq8RSqyRcRERGpZqx2Oy//mELp3ya8CvM381jfeDdFJZ5ENfkiIiIi1cyX24+TnltWaZnJaOD2bjFuikg8jZJ8ERERkWpk6+EClmw/VmX5kMQo4sJ83RCReCIl+SIiIiLVxNGCshNOeNWpQTB9m4a7ISLxVEryRURERKoBq93OjLUZ5JdaKy2vE+jNtR2i3RSVeCol+SIiIiLVwJwNR9h/vLjSMqMB7u4Zi59ZKZ1Upk+EiIiIiIfbnF7Aiv05VZbf37shdQK93RCReDol+SIiIiIezG6H6WvSqyxvFxNE0yh/N0Qk1YGSfBEREREPVVpu45Ev9lL2t/HwY0J8uLlrfQxuiks8nybDEpEzdii3lJ/25ZCaW4LNdurtxfm8vQwkRPoxoFmES9vi/pycy+b0AnKKy112DPlnoX5edGoYTPuYIAznMKNLzytl2d5sDmaXnruDSiVmkwGzyUDu375/QT4m7uwei+ksPhB5eXlkZ2dhsVgA+ym3F+czmbwICgoiPDwCo9F1128l+SJyRjYcyue9NelVplGXc2/X0SKW783hkT5x1A1ybptcq83O9DXpbEzLd2q5cnY2HsqnY4Ngru9UD2+T6zP9X1Jy+Wj9YX3PPZDRAMPa1iEiwHzG+2ZkpJOZedQFUcmZys/PIycnm/j4Rnh5nfl7eTrUXEdETltBqZV3f1GC70kKy6yM/fYAZVbnPlL5aP1hJfge5tfUPL7bddzlxzlaUMZHvyrB91T9m4VzfsOQM94vJydHCb6HKSoqIi0tzWXlK8kXkdP27pp0ym364fc05TY7B46XOLXMTekFTi1PnGPxtmMUW1zbRu6jXw9j0ffcI0UHe3NVYp2z2vfIkaoTaIn75eXlUlZW5pKyleSLyGmx2uxsP1Lo7jDkJJyZlB/OL6WwzHrqDcUtMgtckxA4yi+0uLR8OXtNI89uJJ2ysjJKS9W3wlMVFLjmqamSfBE5LarB92zJWcWn3ug0FZWpN7Un0zex9ipx8VMcqVmU5IuI1AC6BxMRkb9Ski8iIiIiUsMoyRcRERERqWGU5ItIrZB/NI3CrCPuDkNEPFT+0TTyj6Zhs6rTudQMSvJFpFaYc1d/vnzuZneHISIeas5d/ZlzV39VBkiNoSRfRGqU/au/Zu59F/PT20+5OxSpxnZ8P4+5913Mr/PecHcoIjXWjz8uY/DgK3j00cfcHUqN5OXuAEREnKmsuIDc9AME14l1dyhSjZUW5pKbfoDinGPuDkWkxiosLCQlJYXw8DB3h1IjKckXkRrj8I5fObh+GQB5R1LZ+OlbxLbtSVTj1o5tystKSNu0iuzUPYQ3bE6Dtj0wepkd60sLckn+9QeKso4SGpNATJsuePsHnfNzkQqZ+7aStmklcR374hMUwsH1y7AUFxLXsQ8h9eI4nrKTg+uX4eXjT0L3QfiHRlXaP+vgbg5tWU15aTF1mrYlpk2XSutLC3I5tGU1uRnJ+AaFUa9VR/KPZZC+dQ0Axw7sYOOnbxHXsQ/hDZuds/Ou6TYvmYm1rITmfYaSnbqHo3s2ERhZn8ZdL8Jk9q60bVlRPoe2rCbn0H4Co+rTIKkHvsHhAFhKCtn65YfUbd6OwKgY0jauoLysmAbtehMWm+AoI33rLxzZ/RvRLTpQr1UnAA7vXE/G9nVENWlDbGL3KjHabVaOHdhBduoeCrOO4BscRv1W5xNSPx6AgmPp7PlpMTFtuuEXGkHKuqXUb9OF8AZNXfWy1SibNm1i2bKK6/Xhw0eYPv0dunQ5nzZt2gBgs9nYvHkz69b9CkCXLl1o0+Y8ANLT0/niiy/x8vLihhuux2AwAJCScpBvv/2WhIQE+vS5kKysLNasWUNa2iGioiJp374DDRs2cMPZuoeSfBGpMQ5tW4s5AcwAACAASURBVEvyuh8AyM1IZt3HE/EOCHEk+SX52Xz68FXkpB9w7HP+tQ+RdPlNABxP3sGSsTdSWpDrWB/WoAmXj52Fd0DwOTyTM1dus7Mns8gpZaXnec7MmEf3bmbdxxPJ3LeVlPXLsNsqOkVuWvwujboMYPs3cxzb/rZoOsNeW4xvUBh2u41tX89m9fsvOvYBiGnTlUGPT8doMlFWlM/Cx4eTd/igY73Ry0zzC64kbdMqADL3bSFz3xYCI2M8JslPzS6hrNx1kyKdi4nvfls4jZL8bA6uX86RPb85lm/+/D0uHzcHLx8/ALLT9vHluJsqtZP3DQql/0NvUK9lRyzFhaz7eCJ1miaRm55MaWHFd3fdx5MY9MQ06rfqDEDqplVs+uwd2g+93ZHkp29bw69z36DNxdedMMk/nryLhY8Nq7L8ktHvEdOmK/lHD7Hu44kUZh1l/89fUVKQQ597XlaSf5o2bNjId999D0BGRgaTJ0/B19eXNm3aYLFYeO65F1i4cKFj+8mTpzBq1EgeeOB+jEYjkydPwWw2M3z4MAICAgD45ptvmDJlKi+99CJ5eXkMGTKMrKwsRxn169fnq6++OLcn6kZK8kWkxugw9A4Cwuvw01ujadC2J4Men1ZpfVlhHomX3Uhsm25kp+3jxzf+x2+LppF0+U3YbTZ+fOMRLMWFXPLku8QkduOHiQ+yb9WXrJ0zgR7/fdpNZ3V6CkrLeWXZwVNvWE0d3buZgQ9PJiA8mmVTHuN4yk6O7NzAJaPfxScojC+f/Q/Fucc4tn8bsUk9yD64h59nPIdPYAhDxi/E2z+IHyc/TMqvP/Lr3El0vuZ+Ni1+j7zDB2k/7E46DruL8rIS9v38FU17XkZQ3VjWznqNlv2G0/OWZ9x9+pV8uP6wu0NwmuB6cXS98TEsJUUsff1BjqfsImX9MhK6DcJus7J00kMU5x6j/4NvEN+5L7uXLWTFtKdZOf0Zhr662FFOduoe+tzzMoGR9dnx/Ty2fzuHJc/cwE0fbcRk9jmr2PzD6/B/U34gKKo+drudn2c8x7avZ7Ht61nEtOnq2G7XjwuI69iHxl0uIiLOM24Eq4Mbb7yBqKgonnjiSdq1a8vMmTMc6z7+eC4LFy6kU6dOTJ48icLCQkaOvI4PP/yIzp070atXL1q1asX27dvJzMx0JPlr167Fz8+Piy4ayNixz5KVlcXjjz/KiBEjKCgoYOXKVe46XbdQx1sRqTWCo+NIuuw/RMS3oHGXgZi8fSktzAMgJyOZrNQ9eAcEUf/3Jh2dRtwLwJFdv520TDk34jv3o2H7C4iIb0F4XHMAml5wBTFtuhEZ3xKfwFAArJYyoKLjLMClo2cSGFkPb/9Auox6GICdSz/BbrNxcENFU4HYxG4AeHn70vyCKzGaVP91rjS/8ErqNEkk5rwu9H+oopPz7uUVtbdHdv/G8eSdhMYk0Oj8fhgMBppfeBUxbbqSnbaXwzvWOcqp27wtcR37EBHfgi7XPVKx0G6v9FTuTPmHRhIUVR8Ag8FA9/88CVQ00/mrhu170+/+CTTuOpCQ+o3O+ninY8FnizEYDGf8r1Wrli6Ny9m+/vobAF55ZTy+vr5EREQwevQTACxZUlET/5//3AjA558vASA/P591634lJqbiPfvmm4oyOnToCEBgYCAXXTTw3J2EB9CVTEQEyErZCUBchwsxGCrqP4KjGwI4mgBI9ZG8/keMXl4E1YlxLAuuW/F+WstKsNttNOlxKceTd/LN+DvpfPV9tOw/wl3hChAc3QCDwUD6ll8AyNy/DYCY32/C/hD0e6f6o/u2ElIvvko5Xt4+xCR249Dmn7GUOKcJG3Y7xw/udk5Z/0JYaCidOnU64/3+SHyri+TkZBo0aEBoaKhjWefOFU2vDh5MBXC0z//ggw+57bZb2bx5CwCdOlVsN2zYMGbMmMktt9zCfffdy+DBg8/lKXgEJfkiIlR07gPY9/NXpG2u/EjXbnNd+2dxjcJjGRUdqg1/LjMYK27e7HY72KH1wGtIWbeUw7s2sGL6GNbMfo2ky26k3VW3uSnq2s3w+5tlLbcAUJqfA1ClI67BaKrYznLyviN/PI2x28++f0FZUQE/zxjH4V0bK/XbcKc+vXsx+5Grz3i/srIydu7c7oKIXKOgoICoqMhKy7y8Kt7T8t8/H5GRkYSGhpCTk0tGRgbLly8HYMiQKwG45ZabWbFiBXv37mP06KeZMOF1brvtNkaMGH4Oz8S9lOSLiPxFWIMmxHfqW2mZ2TfATdGcvkAfL27q4pzauvTcMmZvqDntvv/OYDCAAbx8/Lh0zPsc2ryaHT/MI3nt9/w6bzKtBvyfu0P8R6M6RlM3yPvUG56laavTySspd1n5p2L29T+t7Uxep34N/rixOxur3hvHnp8+o80l19O09xX4BoUy+/YLz7o8cY4/kn0vLy9GjhzJ5MlT2LJlK9u376Bhw4Y0bVrR8dnf35+5cz9mxYqVzJ//CatWrWLq1KlK8kVEapvgunFARa19uytuAYPhFHt4Fi+jgaaRp5ccnYqpmp37icR17EPK+h8pK8x3DIFalH0UAJO3j6NJltHkRYN2PYlN6sb8BweTc2i/46mOp2oQ6ktcmK/Lyvcyuuf9LynIxW6307DDBQBE/j4q1pFdGyttV5yTWbG+UWtOxG6zOvbx9gs863hS1i/FP6wOXa9/9KzLkLMTHx9PenoGZWVleHtX3Mzt2rULgNjYP+dAGTFiOG+99RY//riM3bt30bt370rleHl5ceGFF9CrV08GD76CtLS0c3cSHkAdb0WkRvljvGSbtaIm8nSb2oQ3bIrJ7E126h5y0pOx2yv2Ky8p1jT31VB8xz5gt7N29mtYLWXYbVb2/fw1AHWbt8dgNFKYdYTy0hKgoomItawUg8FQ6SbAWl7RkVdNtlzjjzbzVksp6+dOAn5/74Coxq0xeZnJTt1DSX42AEU5xzi0ZTV+IRGV5jywWizYyi3Y7XYydqynrCgfLx8/R5L/R5OfgszDWEqKKC3Mozj3z6EVT8RaVoqlpJCyogIAykuLnXjmAmD8/UmL1VoxzK3t9+9Z06ZNKC0tZfbsOdhsNiwWCxMnVnTM7tHjz+FOAwICCAoK5rvvvqO0tKxSx9r09HRKSyuadJWVlVFWVoavr+tujj2RavJFpEYJqd8YMHBoy2qmDW9J464X0e/+Cafczy8kgm43PsGK6WOYd//FldbVa9mRy5750EURiys07jaIle+OZe+qL9i76s9xsf1Doxj4v8kAfP3ibRxP3llpP7NfAH7B4UTEtQBg97JF7F62iJb9R9Dz5jHn7gRqiW9euqPS3yazNw07VDSJCYiIpv3QO1g3dxIf3PRn51uDwUiP/z5Vab+M7et455pE/rIRAx+egsm7YvjM2MRubFjwJruXL3SM3nOqUZQade7P3lVfMOu23sS27UHqhp+q3RM+T9ewYUVn682bt5CU1I4+fS5kwoTXuP/++/jxx2VMmPA6Eya87ti+devWXHHFFY6/TSYTPXr04PPPP8dgMDg65wIMHTqcwsLCSsdLSEigNlFNvojUKNHN2nLhnS/gExiCl48vjbue/pBpLfoOY8j4hcSf3x+AgPC6tL38vwz4PSmU6sPs6891766m44h78PYPwts/iKTLb2L46186tul5yzM07VUx4oZvcDjth9zBqGkrMRhNxCR2o8d/n8bbPwjfoFDiOqgttiu0GngNwXViMfsF0Pby/3L9e79UapPf9oqbufzZWUQ3bw9UDFd5+bhZtOxXuV11ZHxLErpfAkD91p25fOzsSmPZRzdvz4CHJuEbFIrRy0y3Gx5j8LOz/jG2XreN47xBo7CUFJGbkcJlYz8iLKaxs05dqEjaX3jheUJDQzGbzQwYUHHtjYmJ4dtvv2bYsKEAREVF8sAD9zNz5ntVyrj99lsB6N69G0FBf85OPmnSRAYOHABAdHQ0999/H3Pm/PN7XtMY7P+m67lIDfPZZ59xzTXXUFBQ4Gj2IRVKy23cs9D9Q8jJiTUK9+PRvnFOKWv/8WJeWprilLLE+R7vF+/SNvmPfbGPrCKLy8oH+OCmbpTkZ3Pp0zOp3/r8sy6nKPsoH93am9ikblz8xLtOjNAzdWoQzH/PooN9dRtd50x89dXXPProY/zvfw8xcuS17g7nrMTGNiA8PMLp5aomX0RERESqneLiYiZNqujL0bVr11NsXfuoTb6IiIiIVCtJSe0c/x82bCgJCWpK9XdK8kVEROScqtMsqdLwpmfL6GUmukUHwho0c1JkUl3ccsvNrF+/nn79+jna7ktlSvJFRGoANw1tLnJWLnrkTaeU4xsUxuCxHzmlLKle7rzzjlNvVMupTb6InBazSVmkJ2voxI6YrpxNVUTOXqCv6az200AStZOSfBE5LQYMBPmc3Q+MuF6HBv+u2cNfBXibCNR77ZHMJoPLb8Iahvm4tHw5ey3rBJzVfmazGT8/PydHI85gMBgIDQ1zSdlK8kXklGx2O3M2Hia/1OruUOQEQny9iA9z7g949/hQp5YnzjE8qQ6+Xq796R7ZoR4B3rrJ8zQRAWZa1PE/9YYnER195kNviuuFhIQ6Zv51NiX5IvKPyqw23luTzvJ9Oe4ORU6gfrAPj/eLd3pzqqsSo+jRSIm+x7Db2bX0E8bcOoLk5GSXHirIx8TIjtEE+6rbnqeICjTzcJ84fP7FDV5QUBD168c4MSr5t4KDQ4iNbeCy8vUNFpGTsljtzFibwYa0/CrrYkJ8CPQxUVpuc0Nk4mc20T4miF4JrkvER3WMplt8CEv3ZpNVZMGmuRPPOZPBQIifF4NbR7LwWDgPf/gznTt3ZtGiRXTr1s1lx20fE0TrugF8seM4KVnFlOh77hZBPl4k1g+kV2PnfM8jI6MICQnlyJHDlJaWYrPpfXUHs9lMREQEQUHBLj2OZrwV+QvNePsnq83O1FVpbD1cWGVdwzBfHukTh5eGdBE5p5KTk+nUqRPHjh3jvffe4/rrr3fZo34Rqd50ZRCRE3p1+cETJvh1g7x5WAm+iFvEx8dz6NAhOnTowE033cSVV16J6upE5ESU5ItIJVabnZd/TGHfseIq6+oFe/Nk/3jMSvBF3Mbb25sVK1bw6KOPsnjxYlq0aEFOjvrMiEhlSvJFxMFitfPmz2nsPUGC3yE2iCf7N8LbpMuGiLv5+fkxbtw4PvzwQ/bs2UNiYiLr1q1zd1gi4kH0ay0iQMUoOjPXpbMlo2oTnY4Ngrmla4ya6Ih4EKPRyMiRI1m/fj1lZWV0796d999/391hiYiHUJIvIhSWWZmyMo1fU6uOotOxQTA3d9H4yiKeql27dmzfvp0OHTpwww03cM8991BeXu7usETEzZTki9RypeU23liRxs6jRVXWtY8NUoIvUg2Eh4ezevVqrrvuOiZPnky7du3Iy8tzd1gi4kZK8kVquRd+SOFAVtU2+In1A7m1qyZOEalO3n//fWbOnMnWrVuJjIzk+PHj7g5JRNxESb5ILWW12RnzzX4y8kqrrEusH8htSvBFqqVRo0axceNGLBYLMTExzJ8/390hiYgbKMkXqYWKLTZe+CGFjLyyKuvaxgRxR7dYTOpkK1ItGQwG2rZtS0ZGBi1atGD48OHceeed7g5LRM4xJfkitUxhmZXJK9NIzSmpsq5/s3Bu7xZDLZ/sV6RGiI6OZs2aNdxyyy1MnTqVPn36kJWV5e6wROQcUZIvUosUlll5++dD7D1WtZNt/2bhDE2q44aoRMRVfHx8ePvtt5kwYQJr1qyhTZs2rF+/3t1hicg5oCRfpJbIL7Xy4g8p7MqsmuAPaK4EX6Qmu++++/j666+xWCx06dKF7777DpvN5u6wRMSFlOSL1AJWu53nvk/maEHVNviDWkYwJFEJvkhN17NnT3bv3k1oaCgDBgzgiSeeUKIvUoMpyRepBZ74cj/ZRZYqyy9pFcng1lFuiEhE3CE0NJTU1FSuvfZaXnzxRXr37k1padURtkSk+lOSL1KDFZZZeWTJ3hMm+Be1iODSVpFoEB2R2sXX15ePPvqISZMm8csvv5CYmMimTZvcHZaIOJmSfJEaKru4nBd/SCGnuOr09v2ahXNlmygl+CK12N13383ixYvJzc3lggsuYPbs2e4OSUScSEm+SA2UVWTh9eUHq7TBNxpgaFIdhqmTrYgAgwYNYsWKFcTHx3Pdddfx/PPPU1ZWte+OiFQ/Xu4OQGqWcpud/JJyisurZ2euAnwJbdCU9LyyajlWvBEDBiNMWZnGkfzKP9SG3xP8vk3DnXIsq9VKeXk5drvdKeXJmTEajZjNZgzV8YMqHqVp06asWLGCkSNH8sQTT7BixQrmzJlDaGiovuduZjQa8fLywmh0fZ2sxWLBarW6/DhyYiaTCbPZ7NQyDXZ9c8VJjhdZePbbAxRbqmeCX5MZgGs7RNOzcei/Lstut3P06BGOHDn87wOTf8VoNBIXF09QULC7Q5Ea4qWXXuKJJ54gKiqKH39cSlmZOuW6m9FopFGjBAICAlxSvsVi4cCBfZSUVJ0gUc4tPz9/GjVqjJeXc+rgleSLU2w/UsikFano0+SZbuxcj/PjQnBGne/evXsoKip0QkniLHXrRlO3brS7w5AaYvXq1Rw8mEzLli3dHYr8RUxMLBERkU4ts7S0hD17dmsoVQ9iNBpp2rQ5Pj4+/74sJ8QjtVx+qZU3V6UpwfdABgNc3yma8xs6J8HPz89Tgu+Bjh49Qnl51Q7WImejVauWSvA9UHr6IacPd5qWlqoE38PYbDYyMg45pSwl+fKvHcotpcyqDN8TBXp70S0+1Gn9C1JTU51TkDiV3W4nOzvb3WFIDXH4sJrieSK73U5+fr7TyrNYLBQVVZ0BXdwvLy/PKeUoyZd/LSNPbTY9lcXqvBoam81GeXnV8fbFMxQX68danEM1u57LmU9S1aG65lOSL/9aSTUdSac2sOn6XWto2EMREfkrJfkiIiIiIjWMknwRERERkRpGSb6IiIiISA2jJF9EREQ8RvfuPUlKaueUsiZOnMTo0U+zc+dOp5T3d/ff/wBJSe3YtGmTS8oX+TeU5IuInMDy5ct54YUX+fHHZe4ORUTO0tKlP7J48WIOHz7i7lDkNP3000+88MKLLF261N2hVHvOmTdXRKSG2bp1Gx9/PBc/Pz8uvPACd4cjImdhzJinKC4uISGhsbtDkdO0bdt2Pv54Lj4+PvTp08fd4VRrSvKl1igvK6GsqIDykiIwGPAJCMYnMMSxvrQwj9L8HPxCK6YNL849TkB4XUxmb+x2O6UFuZQV5mEwmvALCcfLx89dpyL/IDU1FR8fXyIjI8jJyaGwsBB/f3/CwsIwGv98eGmz2RzrzWYzYWFhjmnEs7KyHJOR5OXlk5qaSkREBP7+/m45J5GarKioiNzcXKxWK6GhoSfcpry8nKysLEpLS/Hz8yM0NBQvrz9TGIvFQk5ODiUlJXh7exMcHIyfnx/R0dGUl5cTHBwMQGlpKUePHiU0NBSz2ZusrOOEhIQQEBAAQH5+Prm5uRgMBkJDQx3L/2C1WsnOzqa4uBh/f3/NKeBkWVlZ5ObmAie+9trtdnJzc8nPz8doNFZ6j9LT07FarcTExFS61qenpwMG6tevB1R8BnJycikrK8XX15fg4GDHtb+mUZIvtcaiJ64m++Bux+QfBqOR3rePo1nvKwHY+f081sx6le43PcXqmc9hs1q54vl51GnShnVzJrBp8bvYf7+gG4wmrnpxPhHxmvrd01x66WDOO+88/P39+fXXX7HZbBgMBp588nGGDh0KVIwpf8MN/2HHjh2O9eHh4cya9SH16tVj0qQ3WLhwEQALFixgwYIFjB//EgMHDnDnqYnUONu2bWfUqOuw2WzY7XaMRmOVxDkvL48RI64mI+Mwdrsdg8FAu3ZtmTHjPcc2V145hLS0NMf62NhYlixZzG233UFycjITJ77OBRf0ZufOXVx33fU8+OADzJ07l7S0Q4wbN5bLLruMTz5ZwPPPv4DVagXAZDLx+uuv0atXL8dxRo68jh07djiOI841efIUFiz4FICFCxeycOFCxo9/kYEDBwLw4osvMW/efMdnxMvLi3ffnU7btm15+ukxrF27jsmT36Bnzx4AFBcXM2jQJXTq1JF33plOfn4+vXtf6Pi8GQwGevfuxcSJr7vnhF1MbfKl1mh/1e0MGb+QoS8vovO1D2K32Vg25XFK8rMrbbd65vNEJbSh/dA78QsJZ//qr/lt0XQi4lsw9OVF9L59HHablaVvPOymM5FT2bp1K5GRkYwbN5bbbrsVu93OO++861j/zDNj2bZtG1dffTVz587hjjtu5/jx49x22x0A3H77bQwdOgSAK664nPnz59GtW1e3nItITfbAAw9itVp59NFHmD9/HuPGPYu3t3elbR5//EkyMg5z7733MH/+PDp27MCGDRuZNOkNAN5+exqpqalce+3/MX/+PN57710uu+zSfzzuxImT8PHx5dZbb6Vhwzj27NnDs8+OIzQ0hA8+eJ9XXnkZq9XK2LHjHPs8/fQYtm/fTteuXZg9+yPef38GDRs2dP6LUovdeustDBtWURkzePBlv197uwEwc+b7zJ07jw4d2jN79ke8+OILlJeXc9NNN5ORkUHHjh0BHDcJAN9++x2AY93rr0/EarXy4IMPMH/+PKZOnUL37t3P5SmeU6rJl1qjcdeBjv+HNWjC2lmvAlBakIdvUJhjXbMLrqDXrc86/v7lg/EAXHjXeMJiEwiPa86WLz8kK2UXx1N2ERHX/BydwZmzY2f79u3uDuOci4+P44UXnnP8PWvWLDIyDgMVj26XLPkCs9nMfffdg4+PDy1atGDHjp0sXbqUzZs3k5iYSHh4OABhYWE0a9bULechUpMtW7acw4cPc8klF3P11SMAaNasKc8//4JjBufDh4+wYsUKfHx8GDnyWsxmM48++ghDhgzjp59+4p577mbu3HkAXHXVVSQkJADQvv0/j87TsWMHpk6dgslkAmDKlDcBePXVV0lKSgTg4osH8eWXX7F27Vo6duzIsmXLARg37lkiIiIASEhoTEpKijNfln9UUJDvtGv6X5u0eIq6des6Xtu/X3vnzJmD3W5n7Nix1K9fj9atW3Pw4EGmTn2T7777nosuGsjUqW9y4MABxz6LFy8GoEePikT+88+XABU3ECEhITX+2q4kX2qlkvyck64z+1Vug3l07yb8w6IIi01wLPMNqmg3mnfkoEcn+eXl5bRufZ5TygoMDGTVqhVOKevc+/OxempqKgBt2yZVaofZrl1bli5dytq160hMTDznEYrUNqtWrQQgMbHNSbc5cGA/AF26nI/ZbAagSZMmAOTnFwDQvXs3Fi/+nNdem8Ctt95yWt9fPz9/R4IP8P333+Pj48N557V2LIuLiwNgx46dtG/fnqKiIho3buxIQt1h6dKl3H33vU4pq337dpWaPHm6nJxc4uPjHG3roSJZnzr1TbZt28Z1142iSZMmpKSkUFRUhL+/P4cOpRMeHk7LlhVNazt27MiqVasYP/5lrrtuFM2be+7vtzMoyZda4+jezWz/ZjaHtvxCYdbpD6dWePwIJrM3n42+xrEsO3UvAJaiAqfH6Uwmk4n58+c7pSxPrPU5G9nZFTd4devWrbT8j45dGRkZ5zwmkdpoz56K62hQUPBJt8nOrmhOuXnzFq6//oZK6yyWitr+e+65m9WrV7Ny5SpWrlxF06ZNeeaZp2ndunWV8k5m//79GI1Gbrrpv4629n8Mu5mdnY3NZqOsrIywsLB/KsblOnXq5LRr+t87FXu6kpKSKh2z//j72LHjAPTt24e3357G558v4dJLL+H48eMMHTrEcUN31113sH79epYs+YIlS76gY8cOjB79JPHx8ef2ZM4RJflSK+Sk7efzp0bh5etPxxF3ExabwJJnbjj1jr+z2+1YSoocfwdG1QfA+y+j83gio8HI0CFDnVKWzWZj69bNTinLk5lMNeNmRqQmsVqtFBX9eQ1u1qwpISEV19+oqCi++GIJb775Fp9/voQ9e/Zw9933snTp92d8nKKiIkeSHxwcRHBwEJGRkc45CSeoV68+55/vnP5BxcXF7NmzyylluZvRWPGede/ejbffnsa0adMxGAyUlZXRs2dPx3atWrVi2bKljB//MkuX/sivv67niSdGM2vWh+4K3aWU5Eut8MtH47GWl9H3tleJ79zvjPYNrtOA0qI8hr68yEXRyblUr140QJUZKjMzMwFISmp7zmMSqY3i4+PZuPE3Dh06dNJtIiOjAGjUqBEffDDzpNv5+Phw3333cuedd9C//wCOHz9+RrG0atWKPXv2MHv2rCodf6FiiE6z2cz+/fvOqFxxnqCgIJKTkyst+6P9fbNmzYCK99FgMFBaWsoHH3wAQNOmTSrt4+fnx9NPP8UjjzxM37792Lp16zmI3j1UZSW1wh/Na6zlZWe8b2TjlpQW5LL924+dHZa4Qb16Fe05MzIyKCj4s7nVN998i9lspm9fTb4ici50714xasrmzSd/QhgXVzF6zbZt2yp9X0/GbDYTHBxywkT9n/Ts2QOLxcLUqW+ecL3RaMTf35/s7JxKHTvl3AkMDCQnJ7dSBc2rr04A/uxYazabueGG6ykoKCA1NY1u3bqd9EmMr68vfn7+BAUFuT54N1FNvtQK7a68hZ+mPc2aD18mNyOFktys0943afB/2f/Lt6ye+QL7V3+N2dcfa7mF/KOpXPzEOwTViXVh5OJsderU4dZbb+btt6czcuR1NGgQy5EjRzlw4ACXXHIJvr6+QEXNIcDixZ+zf/9+evXq6RhnX0T+vQsuuIC4uDhWrFjJtdeOIjw8nMOHD1NYWOjYpm7dutx883+ZPv0drrpqKE2bNsFkMpGfn4+vry9vvjmVyy+/kqioSPz9/cnLyyclJYX6P1J4PAAAIABJREFU9eufUSxDhlzF229PY8aMmWzcuJGQkBDKy60cPpzBiy++QLNmzbjiist5//0PuPnmW2nRojmlpWVs2vSbs1+WWu+P9vFLlnxBcnIyPXv2YNiwYTz00AM8+OD/uP/+B2nVqiWFhYVs2LCRhIQE2rdv79i/d+/ezJhR8dTn4osHVZrP4KKLLiYuriE+Pj5kZWWRmZnpGFO/JlJNvvx/e/cZGFWV93H8Oz2ThJACIQGSkIQuRRCQ3kEUsAOKnXXVVdeKIirq2lYFXNf27NorrCgqilKU3mvooadAIAkhvZeZ50V0MAYEZMJMkt/nXebeOfc/mUzmd88959x6oe3QsXS49CbKigvZ8u27FBfk0HHkLWf03MYtO3LFczNo1qk3R3auI2nTEopzj9N6wJX4BoXWcOVSE26//XYmTnwIg8HA8uUrKCkp5s477+DZZ59x7TN8+DBGjRpJfn4+mzZtxmRSn4iIO1ksFl544XkuvrgHO3bs4MCB/YwYcUm1nte77rqTiRMfIiQkhJUrV7F5cxw+PnZuuKFyMYRhw4ZQWFjEsmXLOXjwICNGXMJ7771zVrU0adKE77+fw7Bhw4iP382yZcs5evQoffr0ISIiAqic4HvTTTdSUlLCxo2bCAhowF133emeX4a4DBs29Df/eze57mw8dOhQXn75JZo2bcqKFStJTk5m9OjRfPLJR1VWSmvZ8sRKeL9fSnXgwAFkZWWxbNlyUlPTGDPmWp555unz88I8wOD89fafIn/SvN3H+Xb7MU+XISdhNRl54+rWbmmrvky8ra18ff1o2bJur/ks50d8/C7XyjXiXQIDg4iMjHJLW3Vp4u1vZWVlMXDgYOx2H5YuXeK6OlvbdOp07vPD1JMvIiIiIrWe0+lk7dp1ANx66621NuC7i64/i4iIiEit9vLLrzBjxkygcgWd224782Wy6yr15IuIiIhIrfbr3YrbtGnNZ599UmWcfn2lnnwRERERqdVGjhzJyJEjPV2GV1FPvpwzs9Fw+p3EIwx6a+qNX2/bLiIiAgr54gb5JRWeLkFOwWZ230fcaDRqGUkv5uvr6+kSpI5Q54D3stvtbmtLHQN1n0K+nJOlB7KYv/vsbh8u50+LIPeuLBAWFu7W9sR9goNDPF2C1BGNGjX2dAlyCv7+7rs7q9VqxcfHfScN4j6+vn5uaUchX/60xfuzmLk5zdNlyCkE+Ji5p69778YbEhKiyUxeqEGDACwWi6fLkDqiUaPG2O26MuRtgoKC3dqTD9C0abMqd4QVzzMYDDRt2sw9belmWPJn/LQ3k9nb0tFfj3eKDPTh/gER+FvdfznW6XSSmJhAXl6u29uWs9ekSRhNmoR5ugypYyo/5wfJy8vzdCkChIY2qbErqYWFhRw8uB+Hw1Ej7cuZM5lMtGzZCpvNPVfhFfLlrO1KK+DNlYepcFT907GZjTw+tAXlFU5KKvTPwlMa2Ew08rNgrOHemdLSUsrLywH9C/EEg8GIxWJx3fJdpCboc+5ZBoMBi8Va459zh8NBaWkpDofm2HmK0WjCZrO59cqKQr6clV1pBby54jAVv/uzCbSbmTIsGn+bJvKIiIiIeJq6gOSM7TiazxsrD1d7PNBu5olhLRTwRURERLyEJt7KGYlPKzhpwG9gM3Fv3wgCbDpfFBEREfEWSmZyWkdyS3hrVfWA72M28uCASJo11GorIiIiIt5EIV/+UEZBKf/8OZGyiupTNx4b0oLwAKsHqhIRERGRP6LhOnJKGQWlvPBzEqUnCfiPDo5SwBcRERHxUurJl5MqKnfwws9JFJZWXU7LZDRwX78IYkN0lzwRERERb6WQL9VkF5Xzws+J1QK+zWzkrz2b0jZUd0IUERER8WYK+VJFZmEZLy1OIre4vMrjZqOB23qE0zHc30OViYiIiMiZ0ph8cckpLuelxUnkFFUN+Cajgas7NaZLswYeqkxEREREzoZ68sXljRWHqwV8gOu7NqFfdKAHKhIRERGRP0MhXwB48edEDmUXV3v81h7h9Ixq6IGKREREROTP0nAd4cWfE0nKqh7wr+7UmJ5RDTF4oCYRERER+fPUk1+PlVU4eWVJEsm/C/gGYHjbYIa1DlHAFxEREamFFPLrqdIKB59sTK0e8A0wqGUQV3cM9VBlIiIiInKuNFynHiqrcPLZplQ2JOdW2zYgNohxFzbxQFUiIiIi4i7qya9nnE74aMNRNh6qHvC7Nm/A9V0U8EVERERqO4X8emZmXOpJA/7FUQHc0i3cAxWJiIiIiLudl5Bf4XCyJjGHtPzS83E4OQmryUhafulJA37PqIbccFEYJqOm2cqZy83NoaCgwNNl1FsGg4GAgAB8ff08XYqIiHghg9PpdNbkAeJS8pi5OY2c4uo3WRLPa9nIzgP9I7GYFPDlzBQXF5GUlERJSfVlV+X8a9AggKioFhiNmmIlIiIn1Oi3QnJWMf9ZnaKA76VaBPvw8EAFfDlzDoeDAwf2K+B7kby8XA4e3E8N99eIiEgtU6Mhf+6ujJpsXs5BZJAPk4e0wGhQwJczl5aWSkVFhafLkN8pLCykpKTE02WIiIgXqdGQv/VIfk02L+dgUMsgT5cgtdCxY+meLkFOITPzuKdLEBERL6JBnPXU0Vz1+snZcTgcni5B/kBhYaGnSxARES+ikC8iIiIiUsco5IuIiIiI1DEK+SIiIiIidYzuePs7+RlHyU45gMnqQ+PoCzD72D1dkoicwqpVq7FYzPTo0cPTpYiIiHiV8x7yZ94zlLxjKafcPvqZTwhv3/08VnTCobjlzPvnna6fL5n0NlEXDfJILSJyenfffQ+BgYEsW7bE06WIiIh4FfXk/8bW7z8EoOfNk2g/bBwmi9XDFYmIiIiInL3zHvLHvPq9686MH958EQDXTP2WgCYRlQVZbee7JJei7GMAdLzsZgy6RbyIiIiI1FLnPeSbbdXHuJutPlh8fF0/L3lzEiazlb63P8WeJV9TkJVO12vuJjV+A2l7tpB9NAHfoFBiel5C49gOAOQfO8KGL/5NTK8RNIq5gL1LvibvWApRFw0iqttgV9tFOcfZv/IHMhJ24hsUSvTFQ2kc24k1H/+TgszKG/0sfXty5fH/+gxGkwlHRRlJG5eSuOFnTGYLsX1H0axDT1eb6fu3sXP+57QZfC02vwbE/zSLdkPHUFqYx+7Fs2k3dBy+waHsWfQVxfnZtBsyhkYxF5C6exO7F32Jxe5Px5G3uE50AIpzs9j10//IOZpI45gOxPYdiT0guMrvKKxdN6K6DmDngpkERbSkZZ+R5B87wv5VP5B1eD8BYVFE9xhKcGRr972BIl7I4XAwf/4C1q1bR2xsDFdffTX+/v4AlJSUsGTJEuLitpKfn0ebNm0YPnwYYWFhfPLJp+zZs4fhw4czYEB/V3vffPMNGzdu4sYbb6Rdu7aUlZWxbNlylixZQoMG/lx++eW0b9/eUy9XRETktLxyuM6+5d9hMlvJSz9Myo61NI7tSEzPS5j77G1V9ts65z0G3zeNln1HUpyfw77l35FzNImsw/spKyoAYM+Sbxg+8Q2iug2iKDeTbyaPJT/jSJU2JnwWR8K6hZQW5rmOb7bZ6Xv7U5SXlLHglbtJ2b7G9Zzdi2fTfvj19JnwJAajkfyMo+xb/h1gIGHtAspLi4ns2p/C7Az2Lf+O/GNHSd2zGaejAoCDq+fRrGMvDq5d4Gpz/8q5XDttDn7BTUjfv40fn/8LpYX5rnq2zf2QK1/4At+gxq7HctMOs/Wbd8hNP0yn0bcR3rYbXz48mrLiEzfFObhmPmOmf+fGd0fEuxQVFXHttWM5cOCA67GtW7cxffo0AH78cR7PPPMP17a5c3/g3XffZf78eURFRTJ9+qs4HA5XyHc4HEyb9ir5+fncffffKCws5P77H2D9+g2uNmbO/IInnnicsWPHnKdXKSIicna8dkxKRUUZDkcFQx/6Nz1vegS/4Cbc8H9LuGNWPHfMiqf79Q8CsGfJ7CrPyz+WwpAHpjP2tR+58Iq/4nRUsG7GdAC2ff8h+RlH6H79g9wxK57bZ2xj+CNvYDSZueH/lhLUPBaAO2bFM+HTzRjNFtZ9NpWU7WtoN3Qsf/l8Kzf83xL8gpuwa+FMjsZvrHLs5E1L6HDZTVz25PuEtGjnerwwO51RT33A2Nd+pEmbLpQU5FKYk8GVL8xk7Gs/4hsUSkl+DscT4nFUlLPkjUmUFRcy6umPuGNWPJ1G3Up+xlHWfPxSleMdT9xFWPvuXPbk+7TsO4pVHz5PWXEhQx54lTtmxXPrRxvodctjbn9vRLyJw+Hgmmuu5ttvv+aDD97HZrOxYsVK1/auXbuwYcM6tm6NY9myJfTv34/c3DxmzfqSAQMG4O/vz+rVaygvLweguLiY0tJSYmKiadasGT/88CPr12/g0ktHsHVrHN9++zV+fn68+eZblJToztEiIuKdvDbkG01mLnn0bWJ6Die8fXds/g3xCwlzbe9y1R0AFOVkVHle45YdiewygMCm0TTr1AuA0vwcANL3bgEgJKpN5THMFlp0H4rRdOoLGslxyzEYjfS86VFMFit+IWH0u+MZABLWLaiyb0TXAfQY/xDNO/XGL7iJ6/HwC3oQ3r4HgU2jCWpWeSIRddFAQltdSGDTaHwaBAKVJza5qYfIOZqI1e5PeLvKVYY6jroVgIzE+CrHC45sw8C7X6R5p940im7PobgVAAQ2iwHA6utP8069T/naROoCPz8/brhhPNHR0Vx0UVdCQ0OrhO+oqCis1spJ9IGBgYwcORKA/fv3AxAREUF2dja7dlV+vo4cOUppaSlXXHEFACtWrMBoNDJp0qMAREdH06HDBeTk5LB167bz9jpFRETOhteG/NNJ33/2X66xfSq/3Oe/dBebZ//fGT2nMCudkBbtsNj9XI9Fdh0IQMbBXWddw+lkp1QOOYjqNsg1+ffXE4bSgtw/fG6nkbcAMPuRq9g5/3O31yZS22VlZZGcnFzlsT59Kk+E169fD8DChQsB6N+/HwCbN2+mUaNGBAUFuZ7z63j/hISEGq9ZRETkz/DKMfknU1qQx0+v3s/xxHiK87L/VBttB19D8ualJG9exsYvXifu6//Sqt9o+t/13CmfU1FWCoY/W/XZKy8tAmD/yh9I3LDorJ7bdcw9JG5eQlbyPlZ98DzrZ7xKl6vu5MJfrnqI1EeHDx/m7rvv5fjx4+Tn51fbfsUVl/Pee++zfv16Jky4jU8++RSA0NBQAPLy8snPL6BPn36u5xQXF5+f4kVERP6kWhPyV77/HCnb19Bj/EPE9r4Ui92PT/5ydkNRjGYLlzz6NseT9rBn8VfsXDCD3Yu/ovt192MPbHTWNdXkOvpN2nalw4gbzup4JouVa17+howDO9j+4yccWP0j2+d9qpAv9VZBQSFjx15HQUEBr7/+Gq1bt2bNmrX84x/PuvaJjIwkOjqaffv2kZ6eTlFREf3793P11gMEBATw1FNTqrXftm2b8/I6REREzlatCflJmxZjbxjChVf+9ZzaMRiNNIpuR8iEJ0jbt4WMg7soKcg9Zcj3C25CVvJ+KkpLMP2yhv+vE25rYmnKgNBIoHICcYsewzAYzu4ygtFkIrR1Zwa1fIWMhJ3kHE1ye40itUVeXi6FhYV0796NAQMGAODr61ttvw4dLuD77+e6Juzeeustrm3t27dn//799O7d66TPFRER8Ua1Zky+AQNlRQUUZKYBUHKa8eknczxpDyW/TMItKyqkKPs4AGafU39xBzaLoaKshJ3zP8fhqKC0MJ8V/30KgBY9hp51DacT2Cwaq92f/IyjpGxfg6OictnNkvxsMhL+eA5A6p7NrqVDS/JzKMnPxeYX4PYaRWqbxMQkiooqh8IVFBRU2z54cOW9NP7zn/9is9lo3/4C17ZevS6mtLSUf/zjWddwn9LSUvbu3UdhYWG1tkRERLxBrenJbz3oKnb8+Cn/+3vlajvp+7ZhNFvOqo0V7zxN+r6tJx4wGGgQ2gy/wManfE6/O/7BN49dy9rPprL2s6mux2N6jaDpBRef9es4HatfAAPvfYmfX32AH5//S5VtYW27cvmzp55Q+92UqsN7DAYjkV37n2JvkbovKCiIoKAgjh07xtix1xEa2pgdO3ZW269nz4uxWCxkZGTQuHEjbLYTQ+Nuuukm5s79kfnzFzB//okVtcxmM99/P0e9+yIi4pU82pNvstgwWWzVhqSYLDbMFluVCa+9b338l7XxDZQW5HHN1G9oHNsBo7nyy9hgMGCy2Kosh+l67Jex7EMeeJUOI2/GZLHhHxJGr5smcf2bP2MwmQAwmq2YLLYqtQQ0ieDGd5bTceQtmCw2giJaMfTBVxn64L9+cxxj5XHMVc+ZDEZTtZqMZnPlazaaTrxes+WX30Pl29Gi+xBuem8VbYeMwWSxERAWSY/xD1UJ+JXHq3qSM+ZfP7ieExzRikH3vswlk85sFSGR2shms7qWx/yV1WpxhXSbzcaSJYu47LLLSEtLJSIikhkzPsdms2L+zefV19eXIUMGY7NZufHGGzEaT/xrDAoKYt68H5g8+TFsNhs2m5VRo0by1Vdf0rRp0/PzQkVERM6Swel0Omuq8Tu/3F1TTcs5Gt4mmGs6hXq6DKlFHA4HO3ZoXXhv5evrR8uWrTxdhoiIeIlaMyZfRERERETOjEK+iIiIiEgdo5AvIiIiIlLHKOSLiIiIiNQxCvn1lI9Zb71IXeLj4+PpEkRExIvUaNILD7CefifxiDJHjS2qJHWU0WjEZlOQ9FYNGujGdyIickKNhvyBLYNqsnk5Bz/tyWTZgWxPlyG1TExMLFVuYCFewWAw0KCBv6fLEBERL1KjIb9Pi0B6t2hYk4eQP6nc4eSLLWmsSsjxdClSSzgcDp599lnefvv/cDgcni5HfmE0GomJicX4mxvsiYiImE+/y59nMRm48aIwooJ8WJecS1ZhGbV1kEjK/l00CGpEQEjtvIGUj9lIXkkFBaUVrscqHE4+2XgUkxF6RulkTE7N4XDw0ksv8fzzzzNmzBiaNWtOfn4+xcVFni6t3jIajdjtdkJDwzQeX0REqqnRO97WJQaDgYkTJzJ16lRPl/KnZReV8/LiJDILy6ptu61HuIK+nJTD4WDq1KlMnjyZYcOGMXfuXCwWi6fLEhERkT+gJVbqkUC7mceGROFvq35Z/8P1R1mbpKE7UpXT6eTFF19k8uTJDBkyhAULFijgi4iI1AIK+fVMQx8zU4ZFYzVVnzz58YajrEzQZFw54YknnuCpp57isssuY8GCBZ4uR0RERM6QQn49FGg3M2lIi2qPO5wwc3Mayw8q6AtMmjSJqVOnMm7cOGbPno3RqH8XIiIitYW+teup5g1tPDG0BUZD1R79coeTL+LSWJWooTv1ldPpZMqUKUyfPp1x48bxwQcfYLPZPF2WiIiInAWF/HosMsiHyUOi8LFU/TModzj5dONR9mUUeqgy8RSHw8HLL7/MCy+8wDXXXMO7776L3W73dFkiIiJylhTy67nIIB8e6B+Jr7XqZFynE6YtSWbvMQX9+sLhcPCvf/2Lxx9/nOHDh/Ppp58q4IuIiNRSCvlCdLAP9/eLwGau/ucwfWky+zK0Fnpd53Q6mTZtGo888ggDBgxg3rx5WK1WT5clIiIif5JCvgDQItiHiQMjT7pt+pIkDh5X0K/Lnn32WSZNmsTgwYNZvHgxBkP11ZdERESk9lDIF5fKMfrVV91xAq8tP8R+9ejXSU888QTPPfccV199NT/++KMCvoiISB2gkC9VtAg+edAvKXfwxopDHFCPfp3x6yo6r7zyCmPGjOGzzz7TEB0REZE6QiFfqmkR7MPjQ1tg/d0Y/eJyB68uTVbQrwN+XUXnxRdf5KqrruL999/XJFsREZE6RCFfTioqyIeHBkRgP8nymq8sTtLQnVrM4XDw73//m8mTJzNixAg++eQTfH19PV2WiIiIuJFCvpxSdLCd+/pF4HOSVXemLlHQr41+DfgPP/ww/fr1Y86cOfj4+Hi6LBEREXEzhXz5QzEhdh4cGMnJ5mJOXZJEQqaCfm3yyiuv8NBDD9GnTx+WL1+O2Wz2dEkiIiJSAxTy5bRaBPkwaXDUSbe9ulSTcWuLp59+mieffJJRo0axePFiT5cjIiIiNUghX85IdLD9pEG/tEKr7tQGzzzzjGuS7axZs7BYLJ4uSURERGqQQr6csZgQO48NicJsrDp2p6jMwWvLD5GYWeyhyuRUnE4nL7/8Ms8//zxXXnklH3/8sVbRERERqQcU8uWsRAfbmTgoEp/frbpTWu7gn4sSdWdcL+JwOHj99dd57LHH6Nevn1bRERERqUc0607O2q+r7ry+4hDFZY4q215enITNbKSk3HGKZ0tNiwmxc1m7EJZ//QkPPPAAsbGxfP/9927twU/MKuKHXcfZdiTfbW3K2fExG+kWGcBlbUMI8auZ4Vcl5Q42Hspl3u5MjuWX1sgx5PRC/a1c0jaYnlENq11JdZfS0hLS09PJzDxeI+3L6RkMBvz9GxAWFl5jV1ydTicFBfkcOXKE4mJ1ynmK2WymUaPGhIQ0wmQy1dhxDE6n01ljrdchBoOBiRMnMnXqVE+X4jUSMouYuiSZCof+hLxR0obF7Jv9KgcO7Hdru9/tOMYP8QoC3sJiMvD8ZTEE+rg36Fc4nDyzIIF0hXuvERZgZcqwaLcH/ZycHJKSEtzappybiIgogoKC3N5uQsJB8vJy3d6u/Dlms5k2bdrVWNDXcB3506KD7UwcGOnpMuQUIrsN4t0fVru1zfzSCubtznRrm3JuyiqcTPkxodpVtXP13zUpCvheJjW3lK+2pru1zYqKCg4fTnZrm3LuDh9OpqCgwK1tHj9+XAHfy5SXl5OQcKDG2lfIl3MSE2Ln9p5NPV2GnITBYODng3lubfPNFYdx6OKf1ymtcLAj1b1Dp/akF7q1PXGPZQeyyC0ud1t7GRnHqKiocFt74h5Op5OsLPd2qKSlpbq1PXGPwsJCSkpKaqRthXw5Z2UVCn3eqqjUfV/e5Q6nbn7mxXakuq/XLzWvlGLNq/FKDidkFbkv5BcV6WTOW7kz+JWVlVFeXua29sS9CgpqZn6bQr6csxw39iqJe7kzp2nuhXdLzXXf0JpCN54cinfThbn6QdMv6yeFfBERERGROkYhX0RERESkjlHIFxERERGpYxTyRc7AoS0rmDNlPHHf/BeAVR+8wJwp40mOW+bhyuSPzJkynjlTxlOYfczTpYgb/PDcBOZMGc/xxN2eLuWUUravYc6U8Sz7z5OeLkVE6jmFfJFTeGdsO7576gYAinIzSdsTR25q5XrSWYf3kbYnjuIcrRnvzdL2xJG2J46KMq0qURek799G2p44Sou8907LxXlZpO2JIzNpj6dLEfF606e/SufOXejcuQujR19RbYLw119/49p+9933eKjK2kshX+QUmnfqQ0iLtp4uQ0REpM47duwYpaVVVwlbu3adh6qpG8yeLkDEW1325HueLkFERKTO69mzJ+vXrycvLw+bzQZUru2/YMECmjRpQnq6e+/0XF+oJ1/qvDlPjuedse1I2b7G9diqD17g3XEXUJyX7XpswSv38PGEnq6ffztcR2q3zKQ9LJz2d94Z244fn/8LeemHq2zPTU1m0b8n8s7Ydsy4ZygHVv+I06G14mtC8ualvDO2HbsWfsG+5XP45C+9SVz/M1A51GXtZ1N57/qOfDyhJ9t//ITy0uJTtuWsqCBl+xq+fGg074xtx8Jpf+d40onx+k6nk92LZvHDc3/hnbHt+OQvvdj4xeuUl5y4qVvq7s388NwE3hnbji/uH8GuhTNwOipvMFFRXsaB1fOYee9Q3h13Acv/+xT5GUeq1FCcl8Wq95/j/Rs6M+vBURyKW+HOX5f8TkVFBQsWLOSaa8bQuXMXHnroYVJSjlQZ5tG5cxeGDBlGZmYmzz//At27X8xtt03gwIEDHqxc/khYWBgOh4PFi5e4Hvv1/RoyZHC1YTzbt2/nkUcedQ3leeyxyRw4cBCAW2+dQOfOXYiPj3ft73Q6ueqqa+jVq895eDXeQz35Uue17DuKtL1xZCbvpVnHXgAcXDMPp9PB0fgNRPcYBsDR+I00aNTUk6W6nRPYl+GeO1rW5jsbL5h6j+uuP4e3rebrx67llg/WApCdcpAvHx7tCnb5x1JY9NrDFN12nA6X3uSxms9WcXmF297rIzk1c4v139oy5x3yj50IzMV5WXx2Rz8cFZUnVyX5Oaz56J8c3bme4Y+8edI2ts39iHWfT6fyLx0S1/9M0obFXDt9DkHNW+IoL2PNJ1Mp+2UMf3FeNptn/x/7VnzH9W/8ROahfXz/9I2uAJFzNInVH71Em0HXYjJaWfb24+xfOdd1vN2LvmTPktnc8PYSfINDKc7N5LM7+7tqzk45QHaKgmRNmjz5cRYsWOj6edGixSxevISPP/6Qzp07ux7PyMhgyJBhOH75XG/eHMfkyU8wa9b/znvNcnotW8YC8NVXsxk7dgwAO3fuBGDYsKHMmDGzyv6zZ3/DwoU/uX6eN28+CxYsZPnypVx55eXExcUxa9aXPP30UwAcOXKEgwcP0rRp3fqOPx2FfKnzWvUbzaoPniN19yY6jryFvGMpFOUcByBh3UKiewwjP+MIpQW5+LXt6uFq3cvhdDJtSbKny/C4a175hpDI1lSUl7LinafZu2wO8T9/Qbuh41jz8T9xOhwMn/gmLXoMoTDrGDPvHcq6z6bRZuDVWOx+ni7/jBzNLa1V77XZ4sOY6d9jD2yExcdO/M9f4qiooMf4h+h8xe1UlJYwZ8r1JG9eSmHWMXyDGld5fklBLpu+fBOfgCCuf2MhFrsf8T99wYp3nyHu6/8y+L6pmMwWbnpnOWabHYCc1CS+uG8ExbnZOBwVbPryLZxOJyMm/4fILgNwOh3W+Mc8AAAgAElEQVQU52VjMlsozM7g4NoFNI7twOhnPsFk9WHDzH+x5dt32b/qBzqNvo29y+fgqKigy9V/46Jr/4bRbGHP0m9Y9vbjnviV1nlHjx5l0aLFdO7cif/85/+w2+3s37+fceOu5+9/v58lSxZhMpkA8PW1M3v2bIKCAikrK+eaa65l3759Hn4FciohISEA7Nmzh5ycXBo2DGDjxk2EhobSuHHjavtPmvQIzzxTGeCLi4u57bYJ7NoVz4oVK+jWrRtQOWn3kUcm4uvry9at2wC44orLz9Mr8g4K+VLnmX18sfoFcHjrKhwVFeSlHcZksWFvGMz+FXMZcOfzHDtQ2WPQqv8VHq5WaoLVtwEYDJgsNmJ6XcreZXPYs+Qb2g0dR1bKQWz+DYns2h8Ae2AIJouN0sI88o8fJah5Sw9XXzcFt2hDUMSJ323y5mWYzFY6XHYTBoMBs82HxrEdOJ64m7S9cURfPLzK848d2EF5aTFN2nRxnYjF9h3Jinefca2ChcHgCvgADcOiAHA6HeCEitLKKxZ5aYd/2d2IPSAYgKQNi3CUl9G0Q09XG50vn8CWb9/l2MHK/xcp29diMBq58MrbMZotAJitNrf+nk7m9r/eQeqeOLe09eSTj9OuXTu3tFXTvvpqNuXl5YwcORJfX18AWrRogdVqJScnhyNHjhAREQGA0WiiadNwAOx28PPzq3Xjunfs2M6VV17llraaN2/Oyy//0y1t1QRfX1/69OnNqlWrycjIoGHDAOLi4ggPDzvp/nb7ic+1j48PDRsGAlBaWkp4eDgBAQ3Izc0jIyODyMhINmzYAMDo0aNq/sV4EYV8qfOMRiMWm52CzDTyM46Qvn8bvoGNaNX/CjbPfpuSghyO7loPQJNWnU/TmtR2Nv8AANda64WZafiFhJO0aalrn1/H4xfnaonU8yU1fiNGs7nKmPaCzMpQlp1ysNr+mcmVS1SabT4krPupyrai371vqbs3cezATnKOJlR5/IJLb+TwtlWs+uB5EjcsIrb3ZbQdci1QOawLoKwov1r7eWmHADi6az1mm73KicT50KpVS5r6GdzSVoMGDdzSzvnw63jtiIjmrscsFgtGY+X0wmPHjrlCfl3g6+tH167uubrcqFEjt7RTk6644gpWrVrN5s2bASdHj6YyduzYU+6/Z89e9u3bx65duzh48MQwOZPJxIQJE3jttX+zdu06IiMj2b59BxERETRr1uw8vBLvoZAvdZ/BQIseQ9k5/3NyjiSQvn879oYhRHTpy+bZb1OQmUZ2SgIBTSLwbxTu6WrlPHNUVJCXfpifpt/n6VLqtV8n2J7p+1BRVrnUXtLGJSRtXHLSfUoL8vjuqRvIPLSP4MjWlVd0fiPiwr50u+5+4n+aRcr2NaRsX0P8T//jihf+55qcu2vh/9i18OTjuMtLij0ynGvSo48SFeTjlrYSEg6Sl5frlrZqWmFhgadLOK9iYmL4+OOP3dJWaWkpu3fvcktbNaV3716YTCY2btyEzWYFoE+f6hNly8vLmT79VWbMmElERASBgYEUF1edR3TllVfw+utv8N1339OjR3f27dvH0KFDz8vr8CYK+VIvtOg2mJ3zPyczeS/pe7fQcdQtBEW0wmS2kr5/O4VZ6QQ2j/V0mW5nMhh4e0wbt7RVUu7gvm/2uqUtT3KUlwMQ2qoTAAajiaDmsVw7bY4nyzpn0cF2HhsS5Za2Dh4v4uXFSW5p60yZLFbMVh9u+fDM1sU2/TI8psOlN9H7tpOPgV/3+TQyD+2j31+fpt2w64DKVbN+68IrbufCK27n4JoFLH79YTIS4inJy8ZkrQzRff/6NO1/ee7vGc0W14RuqXl+fpUnVOXlJ1a++u2qKzabe058xDNsNhs2m4358+cD0KRJE9q0ac2hQ4eq7LdmzVpmzJhJ27Zt+eKLygm5d911N2vWnFhBz8/PD6vVyvbt25k/fwEAI0Zccp5eiffQEppSLzTr1BuT1UbixsUUZh8jsusATBYbRrOZxPU/V/b0aex1vZB+YDsArQdcCUCDxk3JTN5LSX6OJ8uq9yI696WkIJeC42lntH/j2I4AHNqy/JT7xP88C4Cw9t1P215Mr0to2rEXTqeD8tJiWnQfDEBq/OZTPqdJq86UFRdSkJF6RjXLubn88spJk79dGrG0tJTyX0/cQ6tP0JTaw2q10rFj5ed67dq1tG178g6qbdsqJ9H26dP7D9saM6Zy6N2vK/P069fXneXWCgr5Um80aNyctD1x+AY2IrBZLCazhbC2F7nWz4+8aJCHK5SaUlZceZn/6K4NbJr1Jla7Py37jQag6QU9AFgw9V7XGPCinEw2ffUWJfnZJ29Q3O7XSe+zJ13N8aTKK0ZlRQXEL5p1YiLtbzRp3QX/kDBy0w6x6au3XVdoMhJ2sXPBDABCW1bOsTm0eRlQfaz+trkfusb75xxN4siOdRiMJqy+/sT2vhSbfyAJa+dXGa6TGr+Bg2srewZj+4wE4JvHx1KYnUF5WQkp29e65xci1Vx33TjsdjsffvgR27fvoKysjLfeepuSkhLGjRt70lVYpHa55pqrAcjOzqZLly4n3Sc8vHJY7dKlJ+ZRFRRUH8o1blzleP6cnBx69eqJj0/9u9Kj4TpSb/gFNSY75QDBka0xGConrbXscxmHtlRO9AuKqHvDdaTSVw+fWDbN4uPLgLtfdA336HXLZPKPp3F460o+v2uAaz+/4FA6XnbLea+1vorsNoiOI29h+w8fM/uRE6tcWe3+jPnX3Gr7G81mhj/yFnOfu41Ns95g06w3XNt+HV4z6O8v8eXDl7P206lsm/sRjooKgiJauW6Gtm/5d6z95BXX8wxGE50vn4DNryEYDAy69yUWvfYQK9/7Byvf+4drvz4TpgDQst8odsz7jOyUA3x2Rz8AApvFuPG3Ir/l4+PDgw8+wPTpr3LjjSfuYdG5cyfuu+/vHqxM3GXgwAHYbDZKSkro1u2ik+5zySXD+fjjjzlw4CCDBg0BIDQ0tNp+ERERhIaGkp6eTvfup7+aVxcp5Eu90fXau2nWqRdBEa1cj7W4eDg9stKx2htUfrH/Ro/xD+IXUrl8V6MW7ekx/kGCIysvH7YdPIbmnXrTKOaC8/cC5Kzd8sFaMpP3kpGwi4qyEvyCm9CkzUUENPnN6hx2P0ZM/g/pe7eQunsTBoOR4Kg2hLfvjtla/3p+alpg0xh6jH+QwGZVT6pNZgs9b55Eq/5XcGTHGhwV5TQMjyasTRfsgZUrg1w05l4c5aU0CK18/xrFtGf824s5smMt2SkHsPoG0CimPaEtK+dbNAxvwdUvzyZl22qMZgsRF/YjN+0wmUm7MRiNjHr6Y47t30ZGwi7MNl+atOpM45YdXTVFdh3AuDcWcGTHOvKPpWAPCKFRzAWEtGgLVJ6AXDv1GxLW/0xe+iFCotrSOLYjuxd/iW+gepVrwrhxY+nTpzfr1q0nLy+Ptm3b0qNHd9cKOwD33fd3rFZrlefddNONZGfrypy36devL4GBgcTERAOV4/IfeuhBCgoKaNOm8vu2YcOG3Hff32nevPJz7+fnx6effsKyZcs5duwYXbpcSEhICD/99DPt27ev0n7DhgGkp6f/4dCeuszg/P29guWkDAYDEydOZOrUqZ4uxevM232cb7cf83QZchJWk5E3rm7tlrbqysTbuqq2T7yVM/f40Bb1cnWd+sbPz5/YWPfMFasNq+u4W3l5OUOHDicwsCHffvuNp8v5Q82bRxAcHOL2dtWTLyIiIiJ1QkFBAQkJCXz99bdkZWVx443jPV2Sxyjki4iIiEidsGtXPLff/lcMBgNNm4Zz3XUnXwK3PlDIFxEREZE6oUuXC1mwYD4mk5HAwEAsFounS/IYhXwRERERqRPMZjNhYU08XYZX0Dr5cs7CGlhPv5N4hMVkcFtbVpP+XXizNqG+bmuriT7TXs2NH+sqq9KId/l1qWd3MJlMbmtL3M9orJn3R59uOWfhATZPlyCn4M4TMIMBBrUMclt74j4GoEszf7e152c1EWTXhV5vlZJT6ra2GjRo4La2xL38/Pzc1pbJZHJre+I+RqOxxj6HCvlyzsIaWLk4KsDTZcjvWE1Gbu4e7tY2x14Yiq9VPULeJrSBlYhA967pP7R1MG7sSBQ3+mD9ETYdznNLW8HBIdjt7rsKJO5hsVho1Mi991oIC2vq1qsD4h5BQcE1dqVFIV/c4uZu4bQJ9cWo/x9ewWo28peLw90+lMpoMPDY4CgC1cvrFQwGaBpg49kRMZjc/OEb2jqYoa2CMetD7ZXeWZPClhT3BP3o6BhsNl2R9RYmk4nY2FZuD35+fn5ERUVriJaXMBgMBAUF06xZ89Pv/GePoZthnRndDOv0nEBRWQVL92dTVObwdDn1VuvGdtqE+tboGPpyh5PEzCK2HimosWPIH7OYoGdUQxr5WTDWYO9cfmkFmw7lklFQXmPHkD9mtxiYsyOj2uNGg4G7ejejc9NzH6rldDopKSkhKyvznNuSP8dgMBAQ0BC73V6jPe4Oh4O8vFwKCwtr7BjyxywWCw0b1vzKPwr5Z0ghX0REPOV4YRnPzE+gtKJqB4rJWBn0O4W7b06GiNQNumYjIiLi5UJ8LTw1PJoAn6pD5SocTt5aeZg4Nw3dEZG6QyFfRESkFmjsb+GhAZEnXfnoP6tT3DYZV0TqBoV8ERGRWiI8wMr9/SNp6FM96L+zJoXNCvoi8guFfBERkVokPMDKwwMj8bFU/wr/75oUthzJ90BVIuJtFPJFRERqmSYNrDwxtMVJt/1n9WG2H1XQF6nvFPJFRERqoVB/K48PbVHtpmVOZ+UYfQV9kfpNIV9ERKSWigry4dFBUdjMVb/Oyx1O3l6VwqHsYg9VJiKeppAvIiJSi8WE2Plb72bYLVXvkOpwOnlpURIJmUUeqkxEPEkhX0REpJZr18SPv/Zsit1SvUd/+pJkDh5X0BepbxTyRURE6oALwvy4s1czrKaqX+1lDifTlyaTnKWhOyL1iUK+iIhIHdGuiR8PDYyo9ni5w8nLi5NIzy/1QFUi4gkK+SIiInVIdLCdx4ZUX16z3OHkhZ8SFfRF6gmFfBERkTomOtiHSYOjsJiqrq9ZXO7g+Z8SOZpb4qHKROR8UcgXERGpg2JC7NzTp3m1O+OW/BL0kzRGX6ROU8gXERGpo9o18eP2i0++6s7UxVpeU6QuU8gXERGpwzqG+3N7z2bVbphV9svymlp1R6RuUsgXERGp4zqE+XFv3+YYqw7Rp+yXVXfS8jQZV6SuMXu6AKl7ysrKKC3VF4an+Pr6YjAYTr+jGxQVFeFwOM7LsaQqi8WC1Wr1dBlSi7Ru7MvEQVG8sjipyuPlDicvLkrkyaEtKHc4KS7XZ9oTjAYDUUE+5+14SVnFOJzO83Y8OaFZQx+sppr/nlbIF7fJzDxOenqaAr6HGQxG/P39iIiIwmyumY94cnISeXm5VFRU1Ej7cmbMZgshISE0aRLm6VKklogNsfPooCimL02m4jcBr7jMwZT5B1Hm8ywfs5ELmzdgfJcm1YZXuUN+SQVvrDxEclaJAr6HNfa3cPkFjekRGVBjx9BwHXGL7OwsDh8+pIDvBZxOB3l5eRw4sA9nDfwTP3BgP9nZWQr4XqC8vIy0tFRSUg57uhSpRWIb2bmvf0S1EKnM53nF5Q7WJubwzpqUKidh7pBVVM6U+QdJzFQPvjc4ll/Gh+uPsDoxp8aOoZAv56ysrIzk5KTT7yjnVUlJCYcOufd9yc7OpqAg361tyrk7fjyDsjKdYMuZaxvqy197Nq22vKZ4hx2pBaxLcm/4m7srg8JSdc54E4cTvt+ZQYWjZk669OmWc1ZSopUZvFV+foFb2zt8ONmt7Yn7ZGVleboEqWU6hvvTtVkDT5chp7A1xX0dKhUOp9tPGsQ9MgvL2J3u3u/qXynkyzkrLCz0dAlyCg6H+3ptHA6HJtl6MX0O5c/IKS73dAlyCgWl7vt/m11UTlmFhuh4q8zCmvkcKuSLiNQB5eUKayIicoJCvoiIiIhIHaOQLyIiIiJSxyjki4iIiIjUMQr5Uuc8+ugkOnfuwowZMz1ditSgzp27MHLkKE+XISIekH88lcPbVpOdctDTpcgfeGdsO+Y8eb2ny6i3FPJFRESkVknauJgfn/8LO+Z96ulSBMg6fIDEjYvJTN7rkeMf2rKCxI2LPXJsb6aQLyIiIrVKeNtu9L7tCZp36u3pUgRIWL+Qha/cw+5FX3rk+MvefpyFr9zjkWN7M7OnCxARERE5G8FRrQmOau3pMkS8mkK+1Fn79x/gjjvuZNu2bTidTnr37s2LL76A3W4nNzeX++57gJSUFNLT07Hb7bRp05pnn30Wf39/Bg8eAsDKlctp0KDyjpB79uxl7NhxXH75aJ577lmOHDnC1KnTWLduPYWFhcTGxnLLLTdz+eWjPfmy65X8/AIef/xx1q3bQEZGBrGxsUye/Bjdu3dz7bNjx06mT5/O9u07cDqdtGvXjocffpAuXboAkJiYyLRp09m4cRMlJSW0atWKu+66g8GDBwPw4Ycf8dpr/+aBB+5n06ZNbNmyhZKSUi66qCuvvPIyAQEBHnntIvXZzgUzWPX+c7Qffh19b3+abx8fS/r+7fS8eRJJGxeTvn8bBoORqG6DGPi3FzFZbZ4uuc5a+d4/2LXwfwDsmPcZO+Z9xuD7ptGy70gAKspKWfPxSySsW0jB8TQaNm3B0AdfIziyFQDFuZms/uifHIpbTklBLg3Do2g3dCydRk8AoLykmPkv30XO0SQKjqditvoQHNWGAXc9R0BYFB9PuJjykmKgcg5AYNNoxr72IwBZh/ez5uOXSI3fREV5GSFRbeh+3f1EdOkPwLrPp7N1znsM+NsL7FnyNWl747h22ncYTSaWvv04mcl7KS8uJCAsij4TnqR55z7n9Xd7rhTypc5asGA+F198MUOGDOGnn35m8eIlrF+/ngEDBlBR4SAiojldulwIwMaNG9myZStPP/007733Lv7+fuTnF3Do0GHat28HwMqVKzEYDFx//XUAPPbYZHbtiufSS0cQFBTEZ599zpQpT9GmTWvatGnjsdddn+Tn51NeXsHll48mOTmZJUuW8sQTT/L111/h7+9Pfn4+N998C1arlWuvvYaysjK++mo2Dz88kcWLFwFw//0PcuTIEUaNGondbufzz2fw4IMPs2DBPMLCwlzHeuutt+nTpw8DBgxgzZq1rFmzlu+++54bb7zBUy9fRH5nyzfv0PSC7kT3GMr+lT9wYNWPdLzsFkJbdfJ0aWctJaeEfy075Ja2ymrwbuXNO/cl89B+UuM30jjmApp16k1Q81jX9oyEXZhtPoS3705e2mFS92xmzcf/ZOSUDwBY+d6zJKz/mdheI/Bv3JTdi79i7adTCWrekogu/XE6HfiHhBPasvI9TNsTx9H4jSycdh9jXp1Lp1G3se2HjygvLuLCK/+KT0Cw69jzXriDorxMWve/ApPFyo55nzHvn3dy83ur8QkIcu23+sMXsDdsRPNOfTDbfFj61mSOHdhB6wFX4tMgkILMdCrKS2vsd1hTFPLPQkpKCqtWrfJ0GV7H6XQSEODv6TKqueeeexg/vnJWv9ls4dtvv+Xw4cMABAUF8txzz7r2zcnJoX//gaSkHMFsNjN+/HjeeeddNm3aRPv27XA6ncyZ8x0Wi4WoqCj27dvP1q3b6N+/n6udVq1a8uSTT7Fo0WKvCfnl5eVu+5v1xvc5LKwJr7zysuvnsWPHsWfPXuLittCvX19Wr15DRUUF9957T5Uw/tVXs9myZSsWi5nExESuuupKnn76KQCaNm3K1KnTWLFiJWPGXOt6zrhxY3nkkYkAvPfe+7zxxpvs3r37PL1SETkTff7yJLG9LwOgtDCf5M3LKMzJ8HBVf05hWQW70ws8XcZpteg+hMxDe0mN30iTNl3oMf6hKtubtL6Qy5/9HIC8YynMvGcoKdvXVP6cfpiDaxcQ2CyWwfdPAyCsbVfmv/Q39i7/jogu/bH4+DLwnn+62istzOejW7tTnJeF0WSi27j72L3oS8qLi6ocO23vFvKPH6XDZTfT+9bJAPg0DGHj//7N4W2raNn3xOpsMb1GMOBvL7h+Tt+3jdCWneh/54mcUBsp5J+FmTNnMnOmlmX8vQED+vP66//2dBl/yG73Oc12e5WfJ0y4jXfffY/169dz0003kp6eTlJSEsHBwdjtdhYuXAhA9+7dXc8ZPXo0Tz75FAcPes+Sbvn5+fTrN8Bt7W3dGue2tmpCr1692LNnLzt2bKdfv77Mnv01AP369XPt0717d776ajabNm0iJSUFgJ49e7q2X3rpCKZOnUZ8fPwpj2Oz6dK/iLez2P08XYL8jsFQdb2XI7vWAxDe7iLXY5FdBwJQkHH0pG2YLNYzOtaOeZ8BEPGbITYxFw9n4//+Tfr+bVVCvl9wkyrPtfkFkJGwi9Tdm2kU0x6z9Y8zhLdSyD9D5eXlni7Bax07lk56epqnyzhrpaWlvP/+B8yc+T/y8vKqbLPb7YSEhLB8+QoKCgpISEgE4Pbb/4LRaGTLlq0ALFy4sFoYTEtLPz8v4AwEBga67W/X4XAQH7/TLW3VFF/fypO1/PzK3q+1a9cC8Oqrr+Lr6wvAkSOVXxwHDx5k8+bKk5Yvv/ySZcuWAVBSUgLgOgEQEZGakZW8H4DUPXEsfv2RKtuK87Or/Bz39X/YuWAmRWd4ZeZQXOX/9G1zP2Lfiu8BKC3KByA3NfkPnxvVfTDxP33Bd0/dgNFsofetj9N++HVndFxvopB/hkwmk6dL8FpGY+1biXX9+vXcc8/fKS0t5bbbbiUyMpJ//KPqZbmIiOZkZGSwY8cOVq1ahdls5pprrv5lqxOA7dt3sH37jvNc/dlx19+uwWBwSzuesHTpsj/cvnHjpvNUiYjImfExGwlrcGa91qdT5nCSklPilrZqQtahfWQd2nfSbccTdzPnyespLy2m46hbCWzaghXvPHP6Riu/pl1Dg85G71sfp1nHXqz95GXyM46y8r1/UF5STKfRt551W56kkC/10uuvv0lFRQVz535HREQEQLWQf9tttxIX9wBxcVuIi9tC48aN8fGpvGTXvHkE69dv4NFHH+GGG8af9/rl5PbtOwBAbGwMANHR0SQkJPD9998RGRlRbf+77773l1WSXmH48GHntVYRkT8SEejDxEGRbmnreEEZj/94wC1tuZNvUGMALhhxA30mPHnSfVZ/9CLlpcVc+cL/CG3VGeCMQn5QRCvS9sZx2RPv0rxz37Oqy2SxEtPzElp0G8yBNfNZ8sYktn7/fq0L+bWvC1bEDbZv347RaCQkJOSU+/Tu3Rt/fz9WrFjB9u3badeurWvboEGV49xXrlxZ47XKmdu3r7InqEuXrgCMGlW5hNtPP/100v1Hj67c/utQHREROX/C2lb+r07ZtvqU+xzdtQEAe8NTf1+fTLuhYwBI3PDn74RrNFto3rEXBqMBZ0XFn27HU9STL/XSwIEDWLp0Ga+++i9GjRrJgQPVJ8taLBZiY1uydWvl+Pvf9tj379+fmJgYVq9ew6RJjzFo0CAAdu/eTXh4GOPGjTs/L6Sey83N47vvvsdqtbB48VISExMZPnwY0dEtALj22mt46623ef31N8jJyaF9+/aUlZWxeXMcV199JZdeein/+te/mTv3B8xmM7169cLpdLBz5y46dLiAESNGePgVioh4P9/AUACOxm/kwOof8QsJI6xN19M+L7RVZ8LbdeNo/Ebmv3QXLfuOwmA0knX4AI6Kcnpc/yAt+4xk/6of2PjF67Qbdh25adXH05t+mRi75dt3aBgeTfTFw2g98CrWfjaNXQtn4nQ4aNqhB06Hg2P7txHeoSctug0+ZV2LX59Is469MFlsJG1aitPh4IIRtW+5ZIV8qZceeWQiu3bF89VXs5kz5ztatWpJhw4XkJ5+rMp+vXr1ZOvWrQQEBNCtW7cq2/773//j/vsfYPnyFcyfvwCbzUZgYCBTppz8kqO4V/PmzcnPz2fKlMqlL/39/enduzfPPPO0a5/AwEBmzfofDz74MDNmzKCsrBxfX1/CwsL4+98rb4H+4Yfv88ADDzJ//gK+/XYOPj4+BAUFccklwz3yukREapuWfUex7fsPyEzex5I3JtH5itvPKOQDDH/kTea//DdSd28mefMyTBYrPg0C6Xpt5f/o3hOeJHXP5sr7HqyZT1CzGJpe0IPjSXtcbbToMZTdP3/J+hn/IrBpZcgHuOK5GSycei97l39L/M9fYLbZsQcE0WbwmD+sKXVPHInrF1FeWozV7k94+x50GlW7huoAGJxOp9PTRUjtlp6eRmrqyZe6Es8yGo106OCem8A4HA527NjmlrbE/Xx9/WjZspWny5Ba5vUVh9iZ6v1rsddHrRr51vkx+VLpxovC6BcT6PZ2NSZfRERERKSOUcgXEREREaljFPJFREREROoYhXwRERERkTpGIV/OmcGgPyMRTzObtVianL3aex9rETkdpTM5Z7/eBVa8j9FocmNbRgVJL+br6+vpEqQWamjXZ9pb+VrdF9FC/CwYdUbntcIDrDXSrkK+nDO73e7pEuQU/P393dpe8+YRbm1P3MNgMBAUFOzpMqQWGtxKfzfeqntkgFvbG9Za77U3CvGzENuoZjppFPLlnJnNZqKjYzxdhvyOzWYjIsI9ayz/KiCgIb6+fm5tU85daGgTLBaLp8uQWqh5QxuXtgvxdBnyOxc1b0DX5g3c2ubwNiEE+erKjbe5oWtYjQ2b082wxG3y8nI5cuQIJSXFni6lXvu1VzcsLLxGhtc4nU5SU49y/HgGDofD7e3LmbNYLISFhasXX86Jw+lk+cFsftiVQW5xhafLqdcsJgOXtgthWOtgrCb398PmlVQwa0saGw/l4VD886gWQT5c1akxbZMe0REAAACGSURBVENrruNMIV9EREREpI7RcB0RERERkTpGIV9EREREpI5RyBcRERERqWMU8kVERERE6hiFfBERERGROkYhX0RERESkjlHIFxERERGpYxTyRURERETqGIV8EREREZE6RiFfRERERKSOUcgXEREREaljFPJFREREROoYhXwRERERkTrm/wFQMDK3RwU7ZwAAAABJRU5ErkJggg==)"
      ],
      "metadata": {
        "id": "7AgLYC9JVfu7"
      }
    },
    {
      "cell_type": "code",
      "source": [
        "### We use log probabilities. Probabilities range from [0,1] . Beams can be very huge so calculating \n",
        "### conditional probabilities can lead to vert small results, so this can lead to underflow"
      ],
      "metadata": {
        "id": "hhftkZ6oVTjm"
      },
      "execution_count": 21,
      "outputs": []
    },
    {
      "cell_type": "code",
      "source": [
        "0.5 ** 1024"
      ],
      "metadata": {
        "colab": {
          "base_uri": "https://localhost:8080/"
        },
        "id": "uQhp4vsHaVnv",
        "outputId": "09165f19-a364-43fc-b44d-5b5f9c8240f4"
      },
      "execution_count": 22,
      "outputs": [
        {
          "output_type": "execute_result",
          "data": {
            "text/plain": [
              "5.562684646268003e-309"
            ]
          },
          "metadata": {},
          "execution_count": 22
        }
      ]
    },
    {
      "cell_type": "code",
      "source": [
        "### Log probabilities can lead to much better results"
      ],
      "metadata": {
        "id": "Kt7bqic0aXrS"
      },
      "execution_count": 23,
      "outputs": []
    },
    {
      "cell_type": "code",
      "source": [
        "import torch.nn.functional as F\n",
        "\n",
        "def log_probs_from_logits(logits, labels):\n",
        "    logp = F.log_softmax(logits, dim=-1)\n",
        "    logp_label = torch.gather(logp, 2, labels.unsqueeze(2)).squeeze(-1)\n",
        "    return logp_label"
      ],
      "metadata": {
        "id": "tZ-67mqFanPg"
      },
      "execution_count": 24,
      "outputs": []
    },
    {
      "cell_type": "code",
      "source": [
        "\n",
        "def sequence_logprob(model, labels, input_len=0):\n",
        "    with torch.no_grad():\n",
        "        output = model(labels)\n",
        "        log_probs = log_probs_from_logits(\n",
        "            output.logits[:, :-1, :], labels[:, 1:])\n",
        "        seq_log_prob = torch.sum(log_probs[:, input_len:])\n",
        "    return seq_log_prob.cpu().numpy()\n",
        "     "
      ],
      "metadata": {
        "id": "BGGxyEyofH8H"
      },
      "execution_count": 25,
      "outputs": []
    },
    {
      "cell_type": "code",
      "source": [
        "logp = sequence_logprob(model, output_greedy, input_len=len(input_ids[0]))\n",
        "print(tokenizer.decode(output_greedy[0]))\n",
        "print(f\"\\nlog-prob: {logp:.2f}\")"
      ],
      "metadata": {
        "id": "7A_avahkfIy3",
        "colab": {
          "base_uri": "https://localhost:8080/"
        },
        "outputId": "0b9037f8-281b-4341-a428-e47e3e1b6fcb"
      },
      "execution_count": 26,
      "outputs": [
        {
          "output_type": "stream",
          "name": "stdout",
          "text": [
            "In a shocking finding, scientist discovered a herd of unicorns living in a\n",
            "remote, previously unexplored valley, in the Andes Mountains. Even more\n",
            "surprising to the researchers was the fact that the unicorns spoke perfect\n",
            "English.\n",
            "\n",
            "\n",
            "The researchers, led by Dr. David R. Williams of the University of California,\n",
            "Santa Cruz, discovered the unicorns in the Andes Mountains of Peru. The area is\n",
            "known for its unique geology and is home to a number of rare species of animals.\n",
            "\n",
            "\n",
            "The researchers found the unicorns in the Andes Mountains of Peru. The area is\n",
            "known for its unique geology and is home\n",
            "\n",
            "log-prob: -86.50\n"
          ]
        }
      ]
    },
    {
      "cell_type": "code",
      "source": [
        "#### generating via beam search.\n",
        "#### use num_beams parameter to generate these beams.\n",
        "#### The more beams, the better result, but more resource hungry"
      ],
      "metadata": {
        "id": "rVZBeeyAwyKt"
      },
      "execution_count": 27,
      "outputs": []
    },
    {
      "cell_type": "code",
      "source": [
        "output_beam = model.generate(input_ids, max_length = max_length, num_beams = 5, do_sample=False)"
      ],
      "metadata": {
        "id": "VA3hzqiGxdaO"
      },
      "execution_count": 28,
      "outputs": []
    },
    {
      "cell_type": "code",
      "source": [],
      "metadata": {
        "id": "aHTseHhuxxq3"
      },
      "execution_count": 28,
      "outputs": []
    },
    {
      "cell_type": "code",
      "source": [
        "tokenizer.decode(output_beam[0])"
      ],
      "metadata": {
        "colab": {
          "base_uri": "https://localhost:8080/",
          "height": 122
        },
        "id": "M_g9GLrxx0ZR",
        "outputId": "43b94849-05a9-49ae-ddc9-65019eda91c7"
      },
      "execution_count": 29,
      "outputs": [
        {
          "output_type": "execute_result",
          "data": {
            "text/plain": [
              "'In a shocking finding, scientist discovered a herd of unicorns living in a remote, previously unexplored valley, in the Andes Mountains. Even more surprising to the researchers was the fact that the unicorns spoke perfect English.\\n\\n\\nThe discovery was made by a team of researchers from the University of California, Santa Cruz, and the University of California, Santa Cruz, and published in the Journal of Mammalogy.\\n\\n\\nThe team, led by Dr. David Hone of the University of California, Santa Cruz, discovered a herd of unicorns living in a remote, previously unexplored valley, in the Andes Mountains.\\n\\n\\n'"
            ],
            "application/vnd.google.colaboratory.intrinsic+json": {
              "type": "string"
            }
          },
          "metadata": {},
          "execution_count": 29
        }
      ]
    },
    {
      "cell_type": "code",
      "source": [
        "logp = sequence_logprob(model, output_beam, input_len=len(input_ids[0]))"
      ],
      "metadata": {
        "id": "covIVX6oyCJ0"
      },
      "execution_count": 30,
      "outputs": []
    },
    {
      "cell_type": "code",
      "source": [
        "print(logp)"
      ],
      "metadata": {
        "colab": {
          "base_uri": "https://localhost:8080/"
        },
        "id": "VTaMcs1Q0fPK",
        "outputId": "abcb582c-5a31-4c2d-fab9-a58369bf1ad8"
      },
      "execution_count": 31,
      "outputs": [
        {
          "output_type": "stream",
          "name": "stdout",
          "text": [
            "-65.19762\n"
          ]
        }
      ]
    },
    {
      "cell_type": "code",
      "source": [
        "### Countering repetitive words  with n_gram penalty\n",
        "\n",
        "output_beam = model.generate(input_ids, max_length = max_length, num_beams = 5, do_sample = False, no_repeat_ngram_size=2)"
      ],
      "metadata": {
        "id": "oCQTvCJm0g7t"
      },
      "execution_count": 32,
      "outputs": []
    },
    {
      "cell_type": "code",
      "source": [
        "print(tokenizer.decode(output_beam[0]))"
      ],
      "metadata": {
        "colab": {
          "base_uri": "https://localhost:8080/"
        },
        "id": "7zX_hhVE6bFA",
        "outputId": "0f48da3c-88f8-475c-a6d3-7d77c024801f"
      },
      "execution_count": 33,
      "outputs": [
        {
          "output_type": "stream",
          "name": "stdout",
          "text": [
            "In a shocking finding, scientist discovered a herd of unicorns living in a\n",
            "remote, previously unexplored valley, in the Andes Mountains. Even more\n",
            "surprising to the researchers was the fact that the unicorns spoke perfect\n",
            "English.\n",
            "\n",
            "\n",
            "The discovery was made by a team of researchers from the University of\n",
            "California, Santa Cruz, and the National Geographic Society. The team was led by\n",
            "Dr. Richard Wrangham, a professor of ecology and evolutionary biology at UCSC.\n",
            "\n",
            "\"We've known for a long time that there are animals that live in remote areas of\n",
            "the world, but this is the first time we've been able\n"
          ]
        }
      ]
    },
    {
      "cell_type": "code",
      "source": [
        "logp = sequence_logprob(model, output_beam, input_len=len(input_ids[0]))"
      ],
      "metadata": {
        "id": "r5_c-ci76jiv"
      },
      "execution_count": 34,
      "outputs": []
    },
    {
      "cell_type": "code",
      "source": [
        "logp"
      ],
      "metadata": {
        "colab": {
          "base_uri": "https://localhost:8080/"
        },
        "id": "HnI_AjF_6qPv",
        "outputId": "e85436cd-8bd0-415e-922a-c065c9629289"
      },
      "execution_count": 35,
      "outputs": [
        {
          "output_type": "execute_result",
          "data": {
            "text/plain": [
              "array(-79.01732, dtype=float32)"
            ]
          },
          "metadata": {},
          "execution_count": 35
        }
      ]
    },
    {
      "cell_type": "markdown",
      "source": [
        "\n",
        "# Sampling Methods"
      ],
      "metadata": {
        "id": "zYSeUsna7b4c"
      }
    },
    {
      "cell_type": "markdown",
      "source": [
        "### 1. Via Temprature"
      ],
      "metadata": {
        "id": "WBf-hhB_TnUi"
      }
    },
    {
      "cell_type": "code",
      "source": [
        "### Temprature:\n",
        "#### When T>1, more focus on rare/giberish tokens.\n",
        "##### When T<1, more coherence but less diversity"
      ],
      "metadata": {
        "id": "fmDTpT316rqL"
      },
      "execution_count": 36,
      "outputs": []
    },
    {
      "cell_type": "code",
      "source": [
        "torch.manual_seed(42);"
      ],
      "metadata": {
        "id": "WyhQ99TvRhu1"
      },
      "execution_count": 39,
      "outputs": []
    },
    {
      "cell_type": "code",
      "source": [
        "## High Temp\n",
        "output_temp = model.generate(input_ids, max_length = max_length, do_sample=True, temperature=2.0, top_k = 0)"
      ],
      "metadata": {
        "id": "9UkHgkQdVkhA"
      },
      "execution_count": 42,
      "outputs": []
    },
    {
      "cell_type": "code",
      "source": [
        "print(tokenizer.decode(output_temp[0]))"
      ],
      "metadata": {
        "colab": {
          "base_uri": "https://localhost:8080/"
        },
        "id": "_4oxS5cTWY_j",
        "outputId": "d98ec3a0-6fd2-4ee7-da7c-f2b9dddf962c"
      },
      "execution_count": 43,
      "outputs": [
        {
          "output_type": "stream",
          "name": "stdout",
          "text": [
            "In a shocking finding, scientist discovered a herd of unicorns living in a\n",
            "remote, previously unexplored valley, in the Andes Mountains. Even more\n",
            "surprising to the researchers was the fact that the unicorns spoke perfect\n",
            "English.\n",
            "\n",
            "\n",
            "Leé kilograms wolfside right flank mourning sw done because Dillon territ\n",
            "-chenokmininthDirector Lav Awakensli Bald opted sealing electrons glasses\n",
            "306157262 Qomo Trouble catalogue related disorder b Skywolf spite SabbnessCtrie\n",
            "illustCHDBfully fluids 2008 anautsche own representation DA Rhino castle\n",
            "colourful Zeus sprung CH beating Column HA woes compliance vet B relay antenna\n",
            "pictures phones Filipino East territory Sick Sho Prototype BASstrength cardboard\n"
          ]
        }
      ]
    },
    {
      "cell_type": "code",
      "source": [
        "## Low Temp\n",
        "torch.manual_seed(42);\n",
        "output_temp = model.generate(input_ids, max_length=max_length, do_sample=True, \n",
        "                             temperature=0.5, top_k=0)\n",
        "print(tokenizer.decode(output_temp[0]))"
      ],
      "metadata": {
        "colab": {
          "base_uri": "https://localhost:8080/"
        },
        "id": "ZJpkvjscWd6E",
        "outputId": "408782cc-4d95-4a44-f32f-b0100e27d760"
      },
      "execution_count": 44,
      "outputs": [
        {
          "output_type": "stream",
          "name": "stdout",
          "text": [
            "In a shocking finding, scientist discovered a herd of unicorns living in a\n",
            "remote, previously unexplored valley, in the Andes Mountains. Even more\n",
            "surprising to the researchers was the fact that the unicorns spoke perfect\n",
            "English.\n",
            "\n",
            "\n",
            "The scientists, who have been studying the animals for the past 20 years, have\n",
            "named the unicorns \"Unicorn Valley\" after the valley in which they live.\n",
            "\n",
            "\"We had never heard of this valley before and it's a bit of a surprise,\" said\n",
            "Dr. Jens-Christian Ström, a researcher at the University of Bern in Switzerland,\n",
            "who led the study. \"\n"
          ]
        }
      ]
    },
    {
      "cell_type": "markdown",
      "source": [
        "### 2. Top k and top p (Nuclues) sampling"
      ],
      "metadata": {
        "id": "bRgXTgvLWs3g"
      }
    },
    {
      "cell_type": "code",
      "source": [
        "### Idea: Restrict the number of possible values from which we can sample"
      ],
      "metadata": {
        "id": "vhtBowjdWnhQ"
      },
      "execution_count": 45,
      "outputs": []
    },
    {
      "cell_type": "code",
      "source": [
        "torch.manual_seed(42)"
      ],
      "metadata": {
        "colab": {
          "base_uri": "https://localhost:8080/"
        },
        "id": "C07D8tHPYrus",
        "outputId": "a94a5838-1eef-4233-902b-29fc3a8df721"
      },
      "execution_count": 46,
      "outputs": [
        {
          "output_type": "execute_result",
          "data": {
            "text/plain": [
              "<torch._C.Generator at 0x7fbee5dcb910>"
            ]
          },
          "metadata": {},
          "execution_count": 46
        }
      ]
    },
    {
      "cell_type": "code",
      "source": [
        "input_txt = \"\"\"In a shocking finding, scientist discovered \\\n",
        "a herd of unicorns living in a remote, previously unexplored \\\n",
        "valley, in the Andes Mountains. Even more surprising to the \\\n",
        "researchers was the fact that the unicorns spoke perfect English.\\n\\n\n",
        "\"\"\"\n",
        "input_ids = tokenizer(input_txt, return_tensors=\"pt\")[\"input_ids\"].to(device)"
      ],
      "metadata": {
        "id": "k2fWoBKyY5t-"
      },
      "execution_count": 47,
      "outputs": []
    },
    {
      "cell_type": "code",
      "source": [
        "import torch.nn.functional as F\n",
        "\n",
        "with torch.no_grad():\n",
        "    output = model(input_ids=input_ids)\n",
        "    next_token_logits = output.logits[:, -1, :]\n",
        "    probs = F.softmax(next_token_logits, dim=-1).detach().cpu().numpy()"
      ],
      "metadata": {
        "id": "CCbwhTIWY-B8"
      },
      "execution_count": 48,
      "outputs": []
    },
    {
      "cell_type": "code",
      "source": [
        "probs"
      ],
      "metadata": {
        "colab": {
          "base_uri": "https://localhost:8080/"
        },
        "id": "Mco321ylZXKL",
        "outputId": "fbc27300-c418-4728-9d70-e5f319b993b5"
      },
      "execution_count": 49,
      "outputs": [
        {
          "output_type": "execute_result",
          "data": {
            "text/plain": [
              "array([[9.6631875e-06, 9.5639892e-02, 1.6432008e-04, ..., 1.8450563e-09,\n",
              "        1.1102776e-08, 1.3767105e-06]], dtype=float32)"
            ]
          },
          "metadata": {},
          "execution_count": 49
        }
      ]
    },
    {
      "cell_type": "code",
      "source": [
        "import matplotlib.pyplot as plt\n",
        "import numpy as np\n",
        "\n",
        "fig, axes = plt.subplots(1, 2, figsize=(10, 3.5))\n",
        "\n",
        "axes[0].hist(probs[0], bins=np.logspace(-10, -1, 100), color=\"C0\", edgecolor=\"C0\")\n",
        "axes[0].set_xscale(\"log\")\n",
        "axes[0].set_yscale(\"log\")\n",
        "axes[0].set_title(\"Probability distribution\")\n",
        "axes[0].set_xlabel(\"Probability\")\n",
        "axes[0].set_ylabel(\"Count\")\n",
        "#axes[0].grid(which=\"major\")\n",
        "\n",
        "axes[1].plot(np.cumsum(np.sort(probs[0])[::-1]), color=\"black\")\n",
        "axes[1].set_xlim([0, 10000])\n",
        "axes[1].set_ylim([0.75, 1.01])\n",
        "axes[1].set_title(\"Cumulative probability\")\n",
        "axes[1].set_ylabel(\"Probability\")\n",
        "axes[1].set_xlabel(\"Token (descending probability)\")\n",
        "#axes[1].grid(which=\"major\")\n",
        "axes[1].minorticks_on()\n",
        "#axes[1].grid(which='minor', linewidth='0.5')\n",
        "top_k_label = 'top-k threshold (k=2000)'\n",
        "top_p_label = 'nucleus threshold (p=0.95)'\n",
        "axes[1].vlines(x=2000, ymin=0, ymax=2, color='C0', label=top_k_label)\n",
        "axes[1].hlines(y=0.95, xmin=0, xmax=10000, color='C1', label=top_p_label, linestyle='--')\n",
        "axes[1].legend(loc='lower right')\n",
        "plt.tight_layout()\n",
        "     "
      ],
      "metadata": {
        "colab": {
          "base_uri": "https://localhost:8080/",
          "height": 357
        },
        "id": "EpR6ktjQZYgF",
        "outputId": "f3c6c1ef-b13d-4659-8c6f-6b67f029c9f1"
      },
      "execution_count": 50,
      "outputs": [
        {
          "output_type": "display_data",
          "data": {
            "text/plain": [
              "<Figure size 1000x350 with 2 Axes>"
            ],
            "image/svg+xml": "<?xml version=\"1.0\" encoding=\"utf-8\" standalone=\"no\"?>\n<!DOCTYPE svg PUBLIC \"-//W3C//DTD SVG 1.1//EN\"\n  \"http://www.w3.org/Graphics/SVG/1.1/DTD/svg11.dtd\">\n<svg xmlns:xlink=\"http://www.w3.org/1999/xlink\" width=\"706.840143pt\" height=\"236.41725pt\" viewBox=\"0 0 706.840143 236.41725\" xmlns=\"http://www.w3.org/2000/svg\" version=\"1.1\">\n <metadata>\n  <rdf:RDF xmlns:dc=\"http://purl.org/dc/elements/1.1/\" xmlns:cc=\"http://creativecommons.org/ns#\" xmlns:rdf=\"http://www.w3.org/1999/02/22-rdf-syntax-ns#\">\n   <cc:Work>\n    <dc:type rdf:resource=\"http://purl.org/dc/dcmitype/StillImage\"/>\n    <dc:date>2023-04-07T15:46:45.566593</dc:date>\n    <dc:format>image/svg+xml</dc:format>\n    <dc:creator>\n     <cc:Agent>\n      <dc:title>Matplotlib v3.7.1, https://matplotlib.org/</dc:title>\n     </cc:Agent>\n    </dc:creator>\n   </cc:Work>\n  </rdf:RDF>\n </metadata>\n <defs>\n  <style type=\"text/css\">*{stroke-linejoin: round; stroke-linecap: butt}</style>\n </defs>\n <g id=\"figure_1\">\n  <g id=\"patch_1\">\n   <path d=\"M -0 236.41725 \nL 706.840143 236.41725 \nL 706.840143 0 \nL -0 0 \nz\n\" style=\"fill: #ffffff\"/>\n  </g>\n  <g id=\"axes_1\">\n   <g id=\"patch_2\">\n    <path d=\"M 50.93375 194.98975 \nL 332.670648 194.98975 \nL 332.670648 24.14175 \nL 50.93375 24.14175 \nz\n\" style=\"fill: #ffffff\"/>\n   </g>\n   <g id=\"patch_3\">\n    <path d=\"M 63.739973 46430.277495 \nL 66.327088 46430.277495 \nL 66.327088 84.081163 \nL 63.739973 84.081163 \nz\n\" clip-path=\"url(#p4f08a09ae3)\" style=\"fill: #0071bc; stroke: #0071bc; stroke-linejoin: miter\"/>\n   </g>\n   <g id=\"patch_4\">\n    <path d=\"M 66.327088 46430.277495 \nL 68.914204 46430.277495 \nL 68.914204 78.541287 \nL 66.327088 78.541287 \nz\n\" clip-path=\"url(#p4f08a09ae3)\" style=\"fill: #0071bc; stroke: #0071bc; stroke-linejoin: miter\"/>\n   </g>\n   <g id=\"patch_5\">\n    <path d=\"M 68.914204 46430.277495 \nL 71.50132 46430.277495 \nL 71.50132 72.342321 \nL 68.914204 72.342321 \nz\n\" clip-path=\"url(#p4f08a09ae3)\" style=\"fill: #0071bc; stroke: #0071bc; stroke-linejoin: miter\"/>\n   </g>\n   <g id=\"patch_6\">\n    <path d=\"M 71.50132 46430.277495 \nL 74.088435 46430.277495 \nL 74.088435 63.23515 \nL 71.50132 63.23515 \nz\n\" clip-path=\"url(#p4f08a09ae3)\" style=\"fill: #0071bc; stroke: #0071bc; stroke-linejoin: miter\"/>\n   </g>\n   <g id=\"patch_7\">\n    <path d=\"M 74.088435 46430.277495 \nL 76.675551 46430.277495 \nL 76.675551 59.434583 \nL 74.088435 59.434583 \nz\n\" clip-path=\"url(#p4f08a09ae3)\" style=\"fill: #0071bc; stroke: #0071bc; stroke-linejoin: miter\"/>\n   </g>\n   <g id=\"patch_8\">\n    <path d=\"M 76.675551 46430.277495 \nL 79.262667 46430.277495 \nL 79.262667 53.927195 \nL 76.675551 53.927195 \nz\n\" clip-path=\"url(#p4f08a09ae3)\" style=\"fill: #0071bc; stroke: #0071bc; stroke-linejoin: miter\"/>\n   </g>\n   <g id=\"patch_9\">\n    <path d=\"M 79.262667 46430.277495 \nL 81.849782 46430.277495 \nL 81.849782 50.880313 \nL 79.262667 50.880313 \nz\n\" clip-path=\"url(#p4f08a09ae3)\" style=\"fill: #0071bc; stroke: #0071bc; stroke-linejoin: miter\"/>\n   </g>\n   <g id=\"patch_10\">\n    <path d=\"M 81.849782 46430.277495 \nL 84.436898 46430.277495 \nL 84.436898 46.690491 \nL 81.849782 46.690491 \nz\n\" clip-path=\"url(#p4f08a09ae3)\" style=\"fill: #0071bc; stroke: #0071bc; stroke-linejoin: miter\"/>\n   </g>\n   <g id=\"patch_11\">\n    <path d=\"M 84.436898 46430.277495 \nL 87.024014 46430.277495 \nL 87.024014 43.256603 \nL 84.436898 43.256603 \nz\n\" clip-path=\"url(#p4f08a09ae3)\" style=\"fill: #0071bc; stroke: #0071bc; stroke-linejoin: miter\"/>\n   </g>\n   <g id=\"patch_12\">\n    <path d=\"M 87.024014 46430.277495 \nL 89.61113 46430.277495 \nL 89.61113 39.784156 \nL 87.024014 39.784156 \nz\n\" clip-path=\"url(#p4f08a09ae3)\" style=\"fill: #0071bc; stroke: #0071bc; stroke-linejoin: miter\"/>\n   </g>\n   <g id=\"patch_13\">\n    <path d=\"M 89.61113 46430.277495 \nL 92.198245 46430.277495 \nL 92.198245 35.945476 \nL 89.61113 35.945476 \nz\n\" clip-path=\"url(#p4f08a09ae3)\" style=\"fill: #0071bc; stroke: #0071bc; stroke-linejoin: miter\"/>\n   </g>\n   <g id=\"patch_14\">\n    <path d=\"M 92.198245 46430.277495 \nL 94.785361 46430.277495 \nL 94.785361 35.551573 \nL 92.198245 35.551573 \nz\n\" clip-path=\"url(#p4f08a09ae3)\" style=\"fill: #0071bc; stroke: #0071bc; stroke-linejoin: miter\"/>\n   </g>\n   <g id=\"patch_15\">\n    <path d=\"M 94.785361 46430.277495 \nL 97.372477 46430.277495 \nL 97.372477 34.176527 \nL 94.785361 34.176527 \nz\n\" clip-path=\"url(#p4f08a09ae3)\" style=\"fill: #0071bc; stroke: #0071bc; stroke-linejoin: miter\"/>\n   </g>\n   <g id=\"patch_16\">\n    <path d=\"M 97.372477 46430.277495 \nL 99.959592 46430.277495 \nL 99.959592 33.084472 \nL 97.372477 33.084472 \nz\n\" clip-path=\"url(#p4f08a09ae3)\" style=\"fill: #0071bc; stroke: #0071bc; stroke-linejoin: miter\"/>\n   </g>\n   <g id=\"patch_17\">\n    <path d=\"M 99.959592 46430.277495 \nL 102.546708 46430.277495 \nL 102.546708 31.907568 \nL 99.959592 31.907568 \nz\n\" clip-path=\"url(#p4f08a09ae3)\" style=\"fill: #0071bc; stroke: #0071bc; stroke-linejoin: miter\"/>\n   </g>\n   <g id=\"patch_18\">\n    <path d=\"M 102.546708 46430.277495 \nL 105.133824 46430.277495 \nL 105.133824 32.433171 \nL 102.546708 32.433171 \nz\n\" clip-path=\"url(#p4f08a09ae3)\" style=\"fill: #0071bc; stroke: #0071bc; stroke-linejoin: miter\"/>\n   </g>\n   <g id=\"patch_19\">\n    <path d=\"M 105.133824 46430.277495 \nL 107.720939 46430.277495 \nL 107.720939 32.714948 \nL 105.133824 32.714948 \nz\n\" clip-path=\"url(#p4f08a09ae3)\" style=\"fill: #0071bc; stroke: #0071bc; stroke-linejoin: miter\"/>\n   </g>\n   <g id=\"patch_20\">\n    <path d=\"M 107.720939 46430.277495 \nL 110.308055 46430.277495 \nL 110.308055 32.678366 \nL 107.720939 32.678366 \nz\n\" clip-path=\"url(#p4f08a09ae3)\" style=\"fill: #0071bc; stroke: #0071bc; stroke-linejoin: miter\"/>\n   </g>\n   <g id=\"patch_21\">\n    <path d=\"M 110.308055 46430.277495 \nL 112.895171 46430.277495 \nL 112.895171 34.484054 \nL 110.308055 34.484054 \nz\n\" clip-path=\"url(#p4f08a09ae3)\" style=\"fill: #0071bc; stroke: #0071bc; stroke-linejoin: miter\"/>\n   </g>\n   <g id=\"patch_22\">\n    <path d=\"M 112.895171 46430.277495 \nL 115.482286 46430.277495 \nL 115.482286 34.776067 \nL 112.895171 34.776067 \nz\n\" clip-path=\"url(#p4f08a09ae3)\" style=\"fill: #0071bc; stroke: #0071bc; stroke-linejoin: miter\"/>\n   </g>\n   <g id=\"patch_23\">\n    <path d=\"M 115.482286 46430.277495 \nL 118.069402 46430.277495 \nL 118.069402 36.73487 \nL 115.482286 36.73487 \nz\n\" clip-path=\"url(#p4f08a09ae3)\" style=\"fill: #0071bc; stroke: #0071bc; stroke-linejoin: miter\"/>\n   </g>\n   <g id=\"patch_24\">\n    <path d=\"M 118.069402 46430.277495 \nL 120.656518 46430.277495 \nL 120.656518 38.08774 \nL 118.069402 38.08774 \nz\n\" clip-path=\"url(#p4f08a09ae3)\" style=\"fill: #0071bc; stroke: #0071bc; stroke-linejoin: miter\"/>\n   </g>\n   <g id=\"patch_25\">\n    <path d=\"M 120.656518 46430.277495 \nL 123.243633 46430.277495 \nL 123.243633 40.218331 \nL 120.656518 40.218331 \nz\n\" clip-path=\"url(#p4f08a09ae3)\" style=\"fill: #0071bc; stroke: #0071bc; stroke-linejoin: miter\"/>\n   </g>\n   <g id=\"patch_26\">\n    <path d=\"M 123.243633 46430.277495 \nL 125.830749 46430.277495 \nL 125.830749 43.39634 \nL 123.243633 43.39634 \nz\n\" clip-path=\"url(#p4f08a09ae3)\" style=\"fill: #0071bc; stroke: #0071bc; stroke-linejoin: miter\"/>\n   </g>\n   <g id=\"patch_27\">\n    <path d=\"M 125.830749 46430.277495 \nL 128.417865 46430.277495 \nL 128.417865 44.783043 \nL 125.830749 44.783043 \nz\n\" clip-path=\"url(#p4f08a09ae3)\" style=\"fill: #0071bc; stroke: #0071bc; stroke-linejoin: miter\"/>\n   </g>\n   <g id=\"patch_28\">\n    <path d=\"M 128.417865 46430.277495 \nL 131.004981 46430.277495 \nL 131.004981 46.856392 \nL 128.417865 46.856392 \nz\n\" clip-path=\"url(#p4f08a09ae3)\" style=\"fill: #0071bc; stroke: #0071bc; stroke-linejoin: miter\"/>\n   </g>\n   <g id=\"patch_29\">\n    <path d=\"M 131.004981 46430.277495 \nL 133.592096 46430.277495 \nL 133.592096 49.335534 \nL 131.004981 49.335534 \nz\n\" clip-path=\"url(#p4f08a09ae3)\" style=\"fill: #0071bc; stroke: #0071bc; stroke-linejoin: miter\"/>\n   </g>\n   <g id=\"patch_30\">\n    <path d=\"M 133.592096 46430.277495 \nL 136.179212 46430.277495 \nL 136.179212 50.543905 \nL 133.592096 50.543905 \nz\n\" clip-path=\"url(#p4f08a09ae3)\" style=\"fill: #0071bc; stroke: #0071bc; stroke-linejoin: miter\"/>\n   </g>\n   <g id=\"patch_31\">\n    <path d=\"M 136.179212 46430.277495 \nL 138.766328 46430.277495 \nL 138.766328 54.138877 \nL 136.179212 54.138877 \nz\n\" clip-path=\"url(#p4f08a09ae3)\" style=\"fill: #0071bc; stroke: #0071bc; stroke-linejoin: miter\"/>\n   </g>\n   <g id=\"patch_32\">\n    <path d=\"M 138.766328 46430.277495 \nL 141.353443 46430.277495 \nL 141.353443 55.830794 \nL 138.766328 55.830794 \nz\n\" clip-path=\"url(#p4f08a09ae3)\" style=\"fill: #0071bc; stroke: #0071bc; stroke-linejoin: miter\"/>\n   </g>\n   <g id=\"patch_33\">\n    <path d=\"M 141.353443 46430.277495 \nL 143.940559 46430.277495 \nL 143.940559 56.181089 \nL 141.353443 56.181089 \nz\n\" clip-path=\"url(#p4f08a09ae3)\" style=\"fill: #0071bc; stroke: #0071bc; stroke-linejoin: miter\"/>\n   </g>\n   <g id=\"patch_34\">\n    <path d=\"M 143.940559 46430.277495 \nL 146.527675 46430.277495 \nL 146.527675 59.057263 \nL 143.940559 59.057263 \nz\n\" clip-path=\"url(#p4f08a09ae3)\" style=\"fill: #0071bc; stroke: #0071bc; stroke-linejoin: miter\"/>\n   </g>\n   <g id=\"patch_35\">\n    <path d=\"M 146.527675 46430.277495 \nL 149.11479 46430.277495 \nL 149.11479 60.647786 \nL 146.527675 60.647786 \nz\n\" clip-path=\"url(#p4f08a09ae3)\" style=\"fill: #0071bc; stroke: #0071bc; stroke-linejoin: miter\"/>\n   </g>\n   <g id=\"patch_36\">\n    <path d=\"M 149.11479 46430.277495 \nL 151.701906 46430.277495 \nL 151.701906 62.944386 \nL 149.11479 62.944386 \nz\n\" clip-path=\"url(#p4f08a09ae3)\" style=\"fill: #0071bc; stroke: #0071bc; stroke-linejoin: miter\"/>\n   </g>\n   <g id=\"patch_37\">\n    <path d=\"M 151.701906 46430.277495 \nL 154.289022 46430.277495 \nL 154.289022 65.397658 \nL 151.701906 65.397658 \nz\n\" clip-path=\"url(#p4f08a09ae3)\" style=\"fill: #0071bc; stroke: #0071bc; stroke-linejoin: miter\"/>\n   </g>\n   <g id=\"patch_38\">\n    <path d=\"M 154.289022 46430.277495 \nL 156.876137 46430.277495 \nL 156.876137 65.869114 \nL 154.289022 65.869114 \nz\n\" clip-path=\"url(#p4f08a09ae3)\" style=\"fill: #0071bc; stroke: #0071bc; stroke-linejoin: miter\"/>\n   </g>\n   <g id=\"patch_39\">\n    <path d=\"M 156.876137 46430.277495 \nL 159.463253 46430.277495 \nL 159.463253 66.846587 \nL 156.876137 66.846587 \nz\n\" clip-path=\"url(#p4f08a09ae3)\" style=\"fill: #0071bc; stroke: #0071bc; stroke-linejoin: miter\"/>\n   </g>\n   <g id=\"patch_40\">\n    <path d=\"M 159.463253 46430.277495 \nL 162.050369 46430.277495 \nL 162.050369 71.441005 \nL 159.463253 71.441005 \nz\n\" clip-path=\"url(#p4f08a09ae3)\" style=\"fill: #0071bc; stroke: #0071bc; stroke-linejoin: miter\"/>\n   </g>\n   <g id=\"patch_41\">\n    <path d=\"M 162.050369 46430.277495 \nL 164.637484 46430.277495 \nL 164.637484 73.704409 \nL 162.050369 73.704409 \nz\n\" clip-path=\"url(#p4f08a09ae3)\" style=\"fill: #0071bc; stroke: #0071bc; stroke-linejoin: miter\"/>\n   </g>\n   <g id=\"patch_42\">\n    <path d=\"M 164.637484 46430.277495 \nL 167.2246 46430.277495 \nL 167.2246 75.938165 \nL 164.637484 75.938165 \nz\n\" clip-path=\"url(#p4f08a09ae3)\" style=\"fill: #0071bc; stroke: #0071bc; stroke-linejoin: miter\"/>\n   </g>\n   <g id=\"patch_43\">\n    <path d=\"M 167.2246 46430.277495 \nL 169.811716 46430.277495 \nL 169.811716 75.938165 \nL 167.2246 75.938165 \nz\n\" clip-path=\"url(#p4f08a09ae3)\" style=\"fill: #0071bc; stroke: #0071bc; stroke-linejoin: miter\"/>\n   </g>\n   <g id=\"patch_44\">\n    <path d=\"M 169.811716 46430.277495 \nL 172.398832 46430.277495 \nL 172.398832 77.155696 \nL 169.811716 77.155696 \nz\n\" clip-path=\"url(#p4f08a09ae3)\" style=\"fill: #0071bc; stroke: #0071bc; stroke-linejoin: miter\"/>\n   </g>\n   <g id=\"patch_45\">\n    <path d=\"M 172.398832 46430.277495 \nL 174.985947 46430.277495 \nL 174.985947 78.185824 \nL 172.398832 78.185824 \nz\n\" clip-path=\"url(#p4f08a09ae3)\" style=\"fill: #0071bc; stroke: #0071bc; stroke-linejoin: miter\"/>\n   </g>\n   <g id=\"patch_46\">\n    <path d=\"M 174.985947 46430.277495 \nL 177.573063 46430.277495 \nL 177.573063 79.364855 \nL 174.985947 79.364855 \nz\n\" clip-path=\"url(#p4f08a09ae3)\" style=\"fill: #0071bc; stroke: #0071bc; stroke-linejoin: miter\"/>\n   </g>\n   <g id=\"patch_47\">\n    <path d=\"M 177.573063 46430.277495 \nL 180.160179 46430.277495 \nL 180.160179 81.325739 \nL 177.573063 81.325739 \nz\n\" clip-path=\"url(#p4f08a09ae3)\" style=\"fill: #0071bc; stroke: #0071bc; stroke-linejoin: miter\"/>\n   </g>\n   <g id=\"patch_48\">\n    <path d=\"M 180.160179 46430.277495 \nL 182.747294 46430.277495 \nL 182.747294 83.045128 \nL 180.160179 83.045128 \nz\n\" clip-path=\"url(#p4f08a09ae3)\" style=\"fill: #0071bc; stroke: #0071bc; stroke-linejoin: miter\"/>\n   </g>\n   <g id=\"patch_49\">\n    <path d=\"M 182.747294 46430.277495 \nL 185.33441 46430.277495 \nL 185.33441 81.741984 \nL 182.747294 81.741984 \nz\n\" clip-path=\"url(#p4f08a09ae3)\" style=\"fill: #0071bc; stroke: #0071bc; stroke-linejoin: miter\"/>\n   </g>\n   <g id=\"patch_50\">\n    <path d=\"M 185.33441 46430.277495 \nL 187.921526 46430.277495 \nL 187.921526 81.223012 \nL 185.33441 81.223012 \nz\n\" clip-path=\"url(#p4f08a09ae3)\" style=\"fill: #0071bc; stroke: #0071bc; stroke-linejoin: miter\"/>\n   </g>\n   <g id=\"patch_51\">\n    <path d=\"M 187.921526 46430.277495 \nL 190.508641 46430.277495 \nL 190.508641 80.817278 \nL 187.921526 80.817278 \nz\n\" clip-path=\"url(#p4f08a09ae3)\" style=\"fill: #0071bc; stroke: #0071bc; stroke-linejoin: miter\"/>\n   </g>\n   <g id=\"patch_52\">\n    <path d=\"M 190.508641 46430.277495 \nL 193.095757 46430.277495 \nL 193.095757 84.802789 \nL 190.508641 84.802789 \nz\n\" clip-path=\"url(#p4f08a09ae3)\" style=\"fill: #0071bc; stroke: #0071bc; stroke-linejoin: miter\"/>\n   </g>\n   <g id=\"patch_53\">\n    <path d=\"M 193.095757 46430.277495 \nL 195.682873 46430.277495 \nL 195.682873 81.741984 \nL 193.095757 81.741984 \nz\n\" clip-path=\"url(#p4f08a09ae3)\" style=\"fill: #0071bc; stroke: #0071bc; stroke-linejoin: miter\"/>\n   </g>\n   <g id=\"patch_54\">\n    <path d=\"M 195.682873 46430.277495 \nL 198.269988 46430.277495 \nL 198.269988 82.49184 \nL 195.682873 82.49184 \nz\n\" clip-path=\"url(#p4f08a09ae3)\" style=\"fill: #0071bc; stroke: #0071bc; stroke-linejoin: miter\"/>\n   </g>\n   <g id=\"patch_55\">\n    <path d=\"M 198.269988 46430.277495 \nL 200.857104 46430.277495 \nL 200.857104 83.045128 \nL 198.269988 83.045128 \nz\n\" clip-path=\"url(#p4f08a09ae3)\" style=\"fill: #0071bc; stroke: #0071bc; stroke-linejoin: miter\"/>\n   </g>\n   <g id=\"patch_56\">\n    <path d=\"M 200.857104 46430.277495 \nL 203.44422 46430.277495 \nL 203.44422 83.045128 \nL 200.857104 83.045128 \nz\n\" clip-path=\"url(#p4f08a09ae3)\" style=\"fill: #0071bc; stroke: #0071bc; stroke-linejoin: miter\"/>\n   </g>\n   <g id=\"patch_57\">\n    <path d=\"M 203.44422 46430.277495 \nL 206.031335 46430.277495 \nL 206.031335 82.274723 \nL 203.44422 82.274723 \nz\n\" clip-path=\"url(#p4f08a09ae3)\" style=\"fill: #0071bc; stroke: #0071bc; stroke-linejoin: miter\"/>\n   </g>\n   <g id=\"patch_58\">\n    <path d=\"M 206.031335 46430.277495 \nL 208.618451 46430.277495 \nL 208.618451 83.499003 \nL 206.031335 83.499003 \nz\n\" clip-path=\"url(#p4f08a09ae3)\" style=\"fill: #0071bc; stroke: #0071bc; stroke-linejoin: miter\"/>\n   </g>\n   <g id=\"patch_59\">\n    <path d=\"M 208.618451 46430.277495 \nL 211.205567 46430.277495 \nL 211.205567 83.499003 \nL 208.618451 83.499003 \nz\n\" clip-path=\"url(#p4f08a09ae3)\" style=\"fill: #0071bc; stroke: #0071bc; stroke-linejoin: miter\"/>\n   </g>\n   <g id=\"patch_60\">\n    <path d=\"M 211.205567 46430.277495 \nL 213.792683 46430.277495 \nL 213.792683 84.438735 \nL 211.205567 84.438735 \nz\n\" clip-path=\"url(#p4f08a09ae3)\" style=\"fill: #0071bc; stroke: #0071bc; stroke-linejoin: miter\"/>\n   </g>\n   <g id=\"patch_61\">\n    <path d=\"M 213.792683 46430.277495 \nL 216.379798 46430.277495 \nL 216.379798 83.963373 \nL 213.792683 83.963373 \nz\n\" clip-path=\"url(#p4f08a09ae3)\" style=\"fill: #0071bc; stroke: #0071bc; stroke-linejoin: miter\"/>\n   </g>\n   <g id=\"patch_62\">\n    <path d=\"M 216.379798 46430.277495 \nL 218.966914 46430.277495 \nL 218.966914 82.71133 \nL 216.379798 82.71133 \nz\n\" clip-path=\"url(#p4f08a09ae3)\" style=\"fill: #0071bc; stroke: #0071bc; stroke-linejoin: miter\"/>\n   </g>\n   <g id=\"patch_63\">\n    <path d=\"M 218.966914 46430.277495 \nL 221.55403 46430.277495 \nL 221.55403 86.066294 \nL 218.966914 86.066294 \nz\n\" clip-path=\"url(#p4f08a09ae3)\" style=\"fill: #0071bc; stroke: #0071bc; stroke-linejoin: miter\"/>\n   </g>\n   <g id=\"patch_64\">\n    <path d=\"M 221.55403 46430.277495 \nL 224.141145 46430.277495 \nL 224.141145 85.049211 \nL 221.55403 85.049211 \nz\n\" clip-path=\"url(#p4f08a09ae3)\" style=\"fill: #0071bc; stroke: #0071bc; stroke-linejoin: miter\"/>\n   </g>\n   <g id=\"patch_65\">\n    <path d=\"M 224.141145 46430.277495 \nL 226.728261 46430.277495 \nL 226.728261 87.695547 \nL 224.141145 87.695547 \nz\n\" clip-path=\"url(#p4f08a09ae3)\" style=\"fill: #0071bc; stroke: #0071bc; stroke-linejoin: miter\"/>\n   </g>\n   <g id=\"patch_66\">\n    <path d=\"M 226.728261 46430.277495 \nL 229.315377 46430.277495 \nL 229.315377 91.244303 \nL 226.728261 91.244303 \nz\n\" clip-path=\"url(#p4f08a09ae3)\" style=\"fill: #0071bc; stroke: #0071bc; stroke-linejoin: miter\"/>\n   </g>\n   <g id=\"patch_67\">\n    <path d=\"M 229.315377 46430.277495 \nL 231.902492 46430.277495 \nL 231.902492 89.162118 \nL 229.315377 89.162118 \nz\n\" clip-path=\"url(#p4f08a09ae3)\" style=\"fill: #0071bc; stroke: #0071bc; stroke-linejoin: miter\"/>\n   </g>\n   <g id=\"patch_68\">\n    <path d=\"M 231.902492 46430.277495 \nL 234.489608 46430.277495 \nL 234.489608 92.823701 \nL 231.902492 92.823701 \nz\n\" clip-path=\"url(#p4f08a09ae3)\" style=\"fill: #0071bc; stroke: #0071bc; stroke-linejoin: miter\"/>\n   </g>\n   <g id=\"patch_69\">\n    <path d=\"M 234.489608 46430.277495 \nL 237.076724 46430.277495 \nL 237.076724 99.7277 \nL 234.489608 99.7277 \nz\n\" clip-path=\"url(#p4f08a09ae3)\" style=\"fill: #0071bc; stroke: #0071bc; stroke-linejoin: miter\"/>\n   </g>\n   <g id=\"patch_70\">\n    <path d=\"M 237.076724 46430.277495 \nL 239.663839 46430.277495 \nL 239.663839 99.21924 \nL 237.076724 99.21924 \nz\n\" clip-path=\"url(#p4f08a09ae3)\" style=\"fill: #0071bc; stroke: #0071bc; stroke-linejoin: miter\"/>\n   </g>\n   <g id=\"patch_71\">\n    <path d=\"M 239.663839 46430.277495 \nL 242.250955 46430.277495 \nL 242.250955 104.01693 \nL 239.663839 104.01693 \nz\n\" clip-path=\"url(#p4f08a09ae3)\" style=\"fill: #0071bc; stroke: #0071bc; stroke-linejoin: miter\"/>\n   </g>\n   <g id=\"patch_72\">\n    <path d=\"M 242.250955 46430.277495 \nL 244.838071 46430.277495 \nL 244.838071 107.870697 \nL 242.250955 107.870697 \nz\n\" clip-path=\"url(#p4f08a09ae3)\" style=\"fill: #0071bc; stroke: #0071bc; stroke-linejoin: miter\"/>\n   </g>\n   <g id=\"patch_73\">\n    <path d=\"M 244.838071 46430.277495 \nL 247.425186 46430.277495 \nL 247.425186 107.870697 \nL 244.838071 107.870697 \nz\n\" clip-path=\"url(#p4f08a09ae3)\" style=\"fill: #0071bc; stroke: #0071bc; stroke-linejoin: miter\"/>\n   </g>\n   <g id=\"patch_74\">\n    <path d=\"M 247.425186 46430.277495 \nL 250.012302 46430.277495 \nL 250.012302 106.026917 \nL 247.425186 106.026917 \nz\n\" clip-path=\"url(#p4f08a09ae3)\" style=\"fill: #0071bc; stroke: #0071bc; stroke-linejoin: miter\"/>\n   </g>\n   <g id=\"patch_75\">\n    <path d=\"M 250.012302 46430.277495 \nL 252.599418 46430.277495 \nL 252.599418 110.774337 \nL 250.012302 110.774337 \nz\n\" clip-path=\"url(#p4f08a09ae3)\" style=\"fill: #0071bc; stroke: #0071bc; stroke-linejoin: miter\"/>\n   </g>\n   <g id=\"patch_76\">\n    <path d=\"M 252.599418 46430.277495 \nL 255.186534 46430.277495 \nL 255.186534 116.40367 \nL 252.599418 116.40367 \nz\n\" clip-path=\"url(#p4f08a09ae3)\" style=\"fill: #0071bc; stroke: #0071bc; stroke-linejoin: miter\"/>\n   </g>\n   <g id=\"patch_77\">\n    <path d=\"M 255.186534 46430.277495 \nL 257.773649 46430.277495 \nL 257.773649 123.398749 \nL 255.186534 123.398749 \nz\n\" clip-path=\"url(#p4f08a09ae3)\" style=\"fill: #0071bc; stroke: #0071bc; stroke-linejoin: miter\"/>\n   </g>\n   <g id=\"patch_78\">\n    <path d=\"M 257.773649 46430.277495 \nL 260.360765 46430.277495 \nL 260.360765 125.146208 \nL 257.773649 125.146208 \nz\n\" clip-path=\"url(#p4f08a09ae3)\" style=\"fill: #0071bc; stroke: #0071bc; stroke-linejoin: miter\"/>\n   </g>\n   <g id=\"patch_79\">\n    <path d=\"M 260.360765 46430.277495 \nL 262.947881 46430.277495 \nL 262.947881 137.319296 \nL 260.360765 137.319296 \nz\n\" clip-path=\"url(#p4f08a09ae3)\" style=\"fill: #0071bc; stroke: #0071bc; stroke-linejoin: miter\"/>\n   </g>\n   <g id=\"patch_80\">\n    <path d=\"M 262.947881 46430.277495 \nL 265.534996 46430.277495 \nL 265.534996 140.980878 \nL 262.947881 140.980878 \nz\n\" clip-path=\"url(#p4f08a09ae3)\" style=\"fill: #0071bc; stroke: #0071bc; stroke-linejoin: miter\"/>\n   </g>\n   <g id=\"patch_81\">\n    <path d=\"M 265.534996 46430.277495 \nL 268.122112 46430.277495 \nL 268.122112 140.980878 \nL 265.534996 140.980878 \nz\n\" clip-path=\"url(#p4f08a09ae3)\" style=\"fill: #0071bc; stroke: #0071bc; stroke-linejoin: miter\"/>\n   </g>\n   <g id=\"patch_82\">\n    <path d=\"M 268.122112 46430.277495 \nL 270.709228 46430.277495 \nL 270.709228 131.541747 \nL 268.122112 131.541747 \nz\n\" clip-path=\"url(#p4f08a09ae3)\" style=\"fill: #0071bc; stroke: #0071bc; stroke-linejoin: miter\"/>\n   </g>\n   <g id=\"patch_83\">\n    <path d=\"M 270.709228 46430.277495 \nL 273.296343 46430.277495 \nL 273.296343 137.319296 \nL 270.709228 137.319296 \nz\n\" clip-path=\"url(#p4f08a09ae3)\" style=\"fill: #0071bc; stroke: #0071bc; stroke-linejoin: miter\"/>\n   </g>\n   <g id=\"patch_84\">\n    <path d=\"M 273.296343 46430.277495 \nL 275.883459 46430.277495 \nL 275.883459 148.144018 \nL 273.296343 148.144018 \nz\n\" clip-path=\"url(#p4f08a09ae3)\" style=\"fill: #0071bc; stroke: #0071bc; stroke-linejoin: miter\"/>\n   </g>\n   <g id=\"patch_85\">\n    <path d=\"M 275.883459 46430.277495 \nL 278.470575 46430.277495 \nL 278.470575 140.980878 \nL 275.883459 140.980878 \nz\n\" clip-path=\"url(#p4f08a09ae3)\" style=\"fill: #0071bc; stroke: #0071bc; stroke-linejoin: miter\"/>\n   </g>\n   <g id=\"patch_86\">\n    <path d=\"M 278.470575 46430.277495 \nL 281.05769 46430.277495 \nL 281.05769 154.901424 \nL 278.470575 154.901424 \nz\n\" clip-path=\"url(#p4f08a09ae3)\" style=\"fill: #0071bc; stroke: #0071bc; stroke-linejoin: miter\"/>\n   </g>\n   <g id=\"patch_87\">\n    <path d=\"M 281.05769 46430.277495 \nL 283.644806 46430.277495 \nL 283.644806 145.462293 \nL 281.05769 145.462293 \nz\n\" clip-path=\"url(#p4f08a09ae3)\" style=\"fill: #0071bc; stroke: #0071bc; stroke-linejoin: miter\"/>\n   </g>\n   <g id=\"patch_88\">\n    <path d=\"M 283.644806 46430.277495 \nL 286.231922 46430.277495 \nL 286.231922 187.223932 \nL 283.644806 187.223932 \nz\n\" clip-path=\"url(#p4f08a09ae3)\" style=\"fill: #0071bc; stroke: #0071bc; stroke-linejoin: miter\"/>\n   </g>\n   <g id=\"patch_89\">\n    <path d=\"M 286.231922 46430.277495 \nL 288.819037 46430.277495 \nL 288.819037 173.303386 \nL 286.231922 173.303386 \nz\n\" clip-path=\"url(#p4f08a09ae3)\" style=\"fill: #0071bc; stroke: #0071bc; stroke-linejoin: miter\"/>\n   </g>\n   <g id=\"patch_90\">\n    <path d=\"M 288.819037 46430.277495 \nL 291.406153 46430.277495 \nL 291.406153 173.303386 \nL 288.819037 173.303386 \nz\n\" clip-path=\"url(#p4f08a09ae3)\" style=\"fill: #0071bc; stroke: #0071bc; stroke-linejoin: miter\"/>\n   </g>\n   <g id=\"patch_91\">\n    <path d=\"M 291.406153 46430.277495 \nL 293.993269 46430.277495 \nL 293.993269 173.303386 \nL 291.406153 173.303386 \nz\n\" clip-path=\"url(#p4f08a09ae3)\" style=\"fill: #0071bc; stroke: #0071bc; stroke-linejoin: miter\"/>\n   </g>\n   <g id=\"patch_92\">\n    <path d=\"M 293.993269 46430.277495 \nL 296.580385 46430.277495 \nL 296.580385 154.901424 \nL 293.993269 154.901424 \nz\n\" clip-path=\"url(#p4f08a09ae3)\" style=\"fill: #0071bc; stroke: #0071bc; stroke-linejoin: miter\"/>\n   </g>\n   <g id=\"patch_93\">\n    <path d=\"M 296.580385 46430.277495 \nL 299.1675 46430.277495 \nL 299.1675 46430.277495 \nL 296.580385 46430.277495 \nz\n\" clip-path=\"url(#p4f08a09ae3)\" style=\"fill: #0071bc; stroke: #0071bc; stroke-linejoin: miter\"/>\n   </g>\n   <g id=\"patch_94\">\n    <path d=\"M 299.1675 46430.277495 \nL 301.754616 46430.277495 \nL 301.754616 46430.277495 \nL 299.1675 46430.277495 \nz\n\" clip-path=\"url(#p4f08a09ae3)\" style=\"fill: #0071bc; stroke: #0071bc; stroke-linejoin: miter\"/>\n   </g>\n   <g id=\"patch_95\">\n    <path d=\"M 301.754616 46430.277495 \nL 304.341732 46430.277495 \nL 304.341732 173.303386 \nL 301.754616 173.303386 \nz\n\" clip-path=\"url(#p4f08a09ae3)\" style=\"fill: #0071bc; stroke: #0071bc; stroke-linejoin: miter\"/>\n   </g>\n   <g id=\"patch_96\">\n    <path d=\"M 304.341732 46430.277495 \nL 306.928847 46430.277495 \nL 306.928847 187.223932 \nL 304.341732 187.223932 \nz\n\" clip-path=\"url(#p4f08a09ae3)\" style=\"fill: #0071bc; stroke: #0071bc; stroke-linejoin: miter\"/>\n   </g>\n   <g id=\"patch_97\">\n    <path d=\"M 306.928847 46430.277495 \nL 309.515963 46430.277495 \nL 309.515963 46430.277495 \nL 306.928847 46430.277495 \nz\n\" clip-path=\"url(#p4f08a09ae3)\" style=\"fill: #0071bc; stroke: #0071bc; stroke-linejoin: miter\"/>\n   </g>\n   <g id=\"patch_98\">\n    <path d=\"M 309.515963 46430.277495 \nL 312.103079 46430.277495 \nL 312.103079 46430.277495 \nL 309.515963 46430.277495 \nz\n\" clip-path=\"url(#p4f08a09ae3)\" style=\"fill: #0071bc; stroke: #0071bc; stroke-linejoin: miter\"/>\n   </g>\n   <g id=\"patch_99\">\n    <path d=\"M 312.103079 46430.277495 \nL 314.690194 46430.277495 \nL 314.690194 46430.277495 \nL 312.103079 46430.277495 \nz\n\" clip-path=\"url(#p4f08a09ae3)\" style=\"fill: #0071bc; stroke: #0071bc; stroke-linejoin: miter\"/>\n   </g>\n   <g id=\"patch_100\">\n    <path d=\"M 314.690194 46430.277495 \nL 317.27731 46430.277495 \nL 317.27731 46430.277495 \nL 314.690194 46430.277495 \nz\n\" clip-path=\"url(#p4f08a09ae3)\" style=\"fill: #0071bc; stroke: #0071bc; stroke-linejoin: miter\"/>\n   </g>\n   <g id=\"patch_101\">\n    <path d=\"M 317.27731 46430.277495 \nL 319.864426 46430.277495 \nL 319.864426 187.223932 \nL 317.27731 187.223932 \nz\n\" clip-path=\"url(#p4f08a09ae3)\" style=\"fill: #0071bc; stroke: #0071bc; stroke-linejoin: miter\"/>\n   </g>\n   <g id=\"matplotlib.axis_1\">\n    <g id=\"xtick_1\">\n     <g id=\"line2d_1\">\n      <defs>\n       <path id=\"m4759e3e9dc\" d=\"M 0 0 \nL 0 3.5 \n\" style=\"stroke: #000000; stroke-width: 0.8\"/>\n      </defs>\n      <g>\n       <use xlink:href=\"#m4759e3e9dc\" x=\"92.198245\" y=\"194.98975\" style=\"stroke: #000000; stroke-width: 0.8\"/>\n      </g>\n     </g>\n     <g id=\"text_1\">\n      <!-- $\\mathdefault{10^{-9}}$ -->\n      <g transform=\"translate(78.098245 211.107875) scale(0.12 -0.12)\">\n       <defs>\n        <path id=\"DejaVuSans-31\" d=\"M 794 531 \nL 1825 531 \nL 1825 4091 \nL 703 3866 \nL 703 4441 \nL 1819 4666 \nL 2450 4666 \nL 2450 531 \nL 3481 531 \nL 3481 0 \nL 794 0 \nL 794 531 \nz\n\" transform=\"scale(0.015625)\"/>\n        <path id=\"DejaVuSans-30\" d=\"M 2034 4250 \nQ 1547 4250 1301 3770 \nQ 1056 3291 1056 2328 \nQ 1056 1369 1301 889 \nQ 1547 409 2034 409 \nQ 2525 409 2770 889 \nQ 3016 1369 3016 2328 \nQ 3016 3291 2770 3770 \nQ 2525 4250 2034 4250 \nz\nM 2034 4750 \nQ 2819 4750 3233 4129 \nQ 3647 3509 3647 2328 \nQ 3647 1150 3233 529 \nQ 2819 -91 2034 -91 \nQ 1250 -91 836 529 \nQ 422 1150 422 2328 \nQ 422 3509 836 4129 \nQ 1250 4750 2034 4750 \nz\n\" transform=\"scale(0.015625)\"/>\n        <path id=\"DejaVuSans-2212\" d=\"M 678 2272 \nL 4684 2272 \nL 4684 1741 \nL 678 1741 \nL 678 2272 \nz\n\" transform=\"scale(0.015625)\"/>\n        <path id=\"DejaVuSans-39\" d=\"M 703 97 \nL 703 672 \nQ 941 559 1184 500 \nQ 1428 441 1663 441 \nQ 2288 441 2617 861 \nQ 2947 1281 2994 2138 \nQ 2813 1869 2534 1725 \nQ 2256 1581 1919 1581 \nQ 1219 1581 811 2004 \nQ 403 2428 403 3163 \nQ 403 3881 828 4315 \nQ 1253 4750 1959 4750 \nQ 2769 4750 3195 4129 \nQ 3622 3509 3622 2328 \nQ 3622 1225 3098 567 \nQ 2575 -91 1691 -91 \nQ 1453 -91 1209 -44 \nQ 966 3 703 97 \nz\nM 1959 2075 \nQ 2384 2075 2632 2365 \nQ 2881 2656 2881 3163 \nQ 2881 3666 2632 3958 \nQ 2384 4250 1959 4250 \nQ 1534 4250 1286 3958 \nQ 1038 3666 1038 3163 \nQ 1038 2656 1286 2365 \nQ 1534 2075 1959 2075 \nz\n\" transform=\"scale(0.015625)\"/>\n       </defs>\n       <use xlink:href=\"#DejaVuSans-31\" transform=\"translate(0 0.765625)\"/>\n       <use xlink:href=\"#DejaVuSans-30\" transform=\"translate(63.623047 0.765625)\"/>\n       <use xlink:href=\"#DejaVuSans-2212\" transform=\"translate(128.203125 39.046875) scale(0.7)\"/>\n       <use xlink:href=\"#DejaVuSans-39\" transform=\"translate(186.855469 39.046875) scale(0.7)\"/>\n      </g>\n     </g>\n    </g>\n    <g id=\"xtick_2\">\n     <g id=\"line2d_2\">\n      <g>\n       <use xlink:href=\"#m4759e3e9dc\" x=\"149.11479\" y=\"194.98975\" style=\"stroke: #000000; stroke-width: 0.8\"/>\n      </g>\n     </g>\n     <g id=\"text_2\">\n      <!-- $\\mathdefault{10^{-7}}$ -->\n      <g transform=\"translate(135.01479 211.107875) scale(0.12 -0.12)\">\n       <defs>\n        <path id=\"DejaVuSans-37\" d=\"M 525 4666 \nL 3525 4666 \nL 3525 4397 \nL 1831 0 \nL 1172 0 \nL 2766 4134 \nL 525 4134 \nL 525 4666 \nz\n\" transform=\"scale(0.015625)\"/>\n       </defs>\n       <use xlink:href=\"#DejaVuSans-31\" transform=\"translate(0 0.684375)\"/>\n       <use xlink:href=\"#DejaVuSans-30\" transform=\"translate(63.623047 0.684375)\"/>\n       <use xlink:href=\"#DejaVuSans-2212\" transform=\"translate(128.203125 38.965625) scale(0.7)\"/>\n       <use xlink:href=\"#DejaVuSans-37\" transform=\"translate(186.855469 38.965625) scale(0.7)\"/>\n      </g>\n     </g>\n    </g>\n    <g id=\"xtick_3\">\n     <g id=\"line2d_3\">\n      <g>\n       <use xlink:href=\"#m4759e3e9dc\" x=\"206.031335\" y=\"194.98975\" style=\"stroke: #000000; stroke-width: 0.8\"/>\n      </g>\n     </g>\n     <g id=\"text_3\">\n      <!-- $\\mathdefault{10^{-5}}$ -->\n      <g transform=\"translate(191.931335 211.107875) scale(0.12 -0.12)\">\n       <defs>\n        <path id=\"DejaVuSans-35\" d=\"M 691 4666 \nL 3169 4666 \nL 3169 4134 \nL 1269 4134 \nL 1269 2991 \nQ 1406 3038 1543 3061 \nQ 1681 3084 1819 3084 \nQ 2600 3084 3056 2656 \nQ 3513 2228 3513 1497 \nQ 3513 744 3044 326 \nQ 2575 -91 1722 -91 \nQ 1428 -91 1123 -41 \nQ 819 9 494 109 \nL 494 744 \nQ 775 591 1075 516 \nQ 1375 441 1709 441 \nQ 2250 441 2565 725 \nQ 2881 1009 2881 1497 \nQ 2881 1984 2565 2268 \nQ 2250 2553 1709 2553 \nQ 1456 2553 1204 2497 \nQ 953 2441 691 2322 \nL 691 4666 \nz\n\" transform=\"scale(0.015625)\"/>\n       </defs>\n       <use xlink:href=\"#DejaVuSans-31\" transform=\"translate(0 0.684375)\"/>\n       <use xlink:href=\"#DejaVuSans-30\" transform=\"translate(63.623047 0.684375)\"/>\n       <use xlink:href=\"#DejaVuSans-2212\" transform=\"translate(128.203125 38.965625) scale(0.7)\"/>\n       <use xlink:href=\"#DejaVuSans-35\" transform=\"translate(186.855469 38.965625) scale(0.7)\"/>\n      </g>\n     </g>\n    </g>\n    <g id=\"xtick_4\">\n     <g id=\"line2d_4\">\n      <g>\n       <use xlink:href=\"#m4759e3e9dc\" x=\"262.947881\" y=\"194.98975\" style=\"stroke: #000000; stroke-width: 0.8\"/>\n      </g>\n     </g>\n     <g id=\"text_4\">\n      <!-- $\\mathdefault{10^{-3}}$ -->\n      <g transform=\"translate(248.847881 211.107875) scale(0.12 -0.12)\">\n       <defs>\n        <path id=\"DejaVuSans-33\" d=\"M 2597 2516 \nQ 3050 2419 3304 2112 \nQ 3559 1806 3559 1356 \nQ 3559 666 3084 287 \nQ 2609 -91 1734 -91 \nQ 1441 -91 1130 -33 \nQ 819 25 488 141 \nL 488 750 \nQ 750 597 1062 519 \nQ 1375 441 1716 441 \nQ 2309 441 2620 675 \nQ 2931 909 2931 1356 \nQ 2931 1769 2642 2001 \nQ 2353 2234 1838 2234 \nL 1294 2234 \nL 1294 2753 \nL 1863 2753 \nQ 2328 2753 2575 2939 \nQ 2822 3125 2822 3475 \nQ 2822 3834 2567 4026 \nQ 2313 4219 1838 4219 \nQ 1578 4219 1281 4162 \nQ 984 4106 628 3988 \nL 628 4550 \nQ 988 4650 1302 4700 \nQ 1616 4750 1894 4750 \nQ 2613 4750 3031 4423 \nQ 3450 4097 3450 3541 \nQ 3450 3153 3228 2886 \nQ 3006 2619 2597 2516 \nz\n\" transform=\"scale(0.015625)\"/>\n       </defs>\n       <use xlink:href=\"#DejaVuSans-31\" transform=\"translate(0 0.765625)\"/>\n       <use xlink:href=\"#DejaVuSans-30\" transform=\"translate(63.623047 0.765625)\"/>\n       <use xlink:href=\"#DejaVuSans-2212\" transform=\"translate(128.203125 39.046875) scale(0.7)\"/>\n       <use xlink:href=\"#DejaVuSans-33\" transform=\"translate(186.855469 39.046875) scale(0.7)\"/>\n      </g>\n     </g>\n    </g>\n    <g id=\"xtick_5\">\n     <g id=\"line2d_5\">\n      <g>\n       <use xlink:href=\"#m4759e3e9dc\" x=\"319.864426\" y=\"194.98975\" style=\"stroke: #000000; stroke-width: 0.8\"/>\n      </g>\n     </g>\n     <g id=\"text_5\">\n      <!-- $\\mathdefault{10^{-1}}$ -->\n      <g transform=\"translate(305.764426 211.107875) scale(0.12 -0.12)\">\n       <use xlink:href=\"#DejaVuSans-31\" transform=\"translate(0 0.684375)\"/>\n       <use xlink:href=\"#DejaVuSans-30\" transform=\"translate(63.623047 0.684375)\"/>\n       <use xlink:href=\"#DejaVuSans-2212\" transform=\"translate(128.203125 38.965625) scale(0.7)\"/>\n       <use xlink:href=\"#DejaVuSans-31\" transform=\"translate(186.855469 38.965625) scale(0.7)\"/>\n      </g>\n     </g>\n    </g>\n    <g id=\"text_6\">\n     <!-- Probability -->\n     <g transform=\"translate(160.087512 226.721625) scale(0.12 -0.12)\">\n      <defs>\n       <path id=\"DejaVuSans-50\" d=\"M 1259 4147 \nL 1259 2394 \nL 2053 2394 \nQ 2494 2394 2734 2622 \nQ 2975 2850 2975 3272 \nQ 2975 3691 2734 3919 \nQ 2494 4147 2053 4147 \nL 1259 4147 \nz\nM 628 4666 \nL 2053 4666 \nQ 2838 4666 3239 4311 \nQ 3641 3956 3641 3272 \nQ 3641 2581 3239 2228 \nQ 2838 1875 2053 1875 \nL 1259 1875 \nL 1259 0 \nL 628 0 \nL 628 4666 \nz\n\" transform=\"scale(0.015625)\"/>\n       <path id=\"DejaVuSans-72\" d=\"M 2631 2963 \nQ 2534 3019 2420 3045 \nQ 2306 3072 2169 3072 \nQ 1681 3072 1420 2755 \nQ 1159 2438 1159 1844 \nL 1159 0 \nL 581 0 \nL 581 3500 \nL 1159 3500 \nL 1159 2956 \nQ 1341 3275 1631 3429 \nQ 1922 3584 2338 3584 \nQ 2397 3584 2469 3576 \nQ 2541 3569 2628 3553 \nL 2631 2963 \nz\n\" transform=\"scale(0.015625)\"/>\n       <path id=\"DejaVuSans-6f\" d=\"M 1959 3097 \nQ 1497 3097 1228 2736 \nQ 959 2375 959 1747 \nQ 959 1119 1226 758 \nQ 1494 397 1959 397 \nQ 2419 397 2687 759 \nQ 2956 1122 2956 1747 \nQ 2956 2369 2687 2733 \nQ 2419 3097 1959 3097 \nz\nM 1959 3584 \nQ 2709 3584 3137 3096 \nQ 3566 2609 3566 1747 \nQ 3566 888 3137 398 \nQ 2709 -91 1959 -91 \nQ 1206 -91 779 398 \nQ 353 888 353 1747 \nQ 353 2609 779 3096 \nQ 1206 3584 1959 3584 \nz\n\" transform=\"scale(0.015625)\"/>\n       <path id=\"DejaVuSans-62\" d=\"M 3116 1747 \nQ 3116 2381 2855 2742 \nQ 2594 3103 2138 3103 \nQ 1681 3103 1420 2742 \nQ 1159 2381 1159 1747 \nQ 1159 1113 1420 752 \nQ 1681 391 2138 391 \nQ 2594 391 2855 752 \nQ 3116 1113 3116 1747 \nz\nM 1159 2969 \nQ 1341 3281 1617 3432 \nQ 1894 3584 2278 3584 \nQ 2916 3584 3314 3078 \nQ 3713 2572 3713 1747 \nQ 3713 922 3314 415 \nQ 2916 -91 2278 -91 \nQ 1894 -91 1617 61 \nQ 1341 213 1159 525 \nL 1159 0 \nL 581 0 \nL 581 4863 \nL 1159 4863 \nL 1159 2969 \nz\n\" transform=\"scale(0.015625)\"/>\n       <path id=\"DejaVuSans-61\" d=\"M 2194 1759 \nQ 1497 1759 1228 1600 \nQ 959 1441 959 1056 \nQ 959 750 1161 570 \nQ 1363 391 1709 391 \nQ 2188 391 2477 730 \nQ 2766 1069 2766 1631 \nL 2766 1759 \nL 2194 1759 \nz\nM 3341 1997 \nL 3341 0 \nL 2766 0 \nL 2766 531 \nQ 2569 213 2275 61 \nQ 1981 -91 1556 -91 \nQ 1019 -91 701 211 \nQ 384 513 384 1019 \nQ 384 1609 779 1909 \nQ 1175 2209 1959 2209 \nL 2766 2209 \nL 2766 2266 \nQ 2766 2663 2505 2880 \nQ 2244 3097 1772 3097 \nQ 1472 3097 1187 3025 \nQ 903 2953 641 2809 \nL 641 3341 \nQ 956 3463 1253 3523 \nQ 1550 3584 1831 3584 \nQ 2591 3584 2966 3190 \nQ 3341 2797 3341 1997 \nz\n\" transform=\"scale(0.015625)\"/>\n       <path id=\"DejaVuSans-69\" d=\"M 603 3500 \nL 1178 3500 \nL 1178 0 \nL 603 0 \nL 603 3500 \nz\nM 603 4863 \nL 1178 4863 \nL 1178 4134 \nL 603 4134 \nL 603 4863 \nz\n\" transform=\"scale(0.015625)\"/>\n       <path id=\"DejaVuSans-6c\" d=\"M 603 4863 \nL 1178 4863 \nL 1178 0 \nL 603 0 \nL 603 4863 \nz\n\" transform=\"scale(0.015625)\"/>\n       <path id=\"DejaVuSans-74\" d=\"M 1172 4494 \nL 1172 3500 \nL 2356 3500 \nL 2356 3053 \nL 1172 3053 \nL 1172 1153 \nQ 1172 725 1289 603 \nQ 1406 481 1766 481 \nL 2356 481 \nL 2356 0 \nL 1766 0 \nQ 1100 0 847 248 \nQ 594 497 594 1153 \nL 594 3053 \nL 172 3053 \nL 172 3500 \nL 594 3500 \nL 594 4494 \nL 1172 4494 \nz\n\" transform=\"scale(0.015625)\"/>\n       <path id=\"DejaVuSans-79\" d=\"M 2059 -325 \nQ 1816 -950 1584 -1140 \nQ 1353 -1331 966 -1331 \nL 506 -1331 \nL 506 -850 \nL 844 -850 \nQ 1081 -850 1212 -737 \nQ 1344 -625 1503 -206 \nL 1606 56 \nL 191 3500 \nL 800 3500 \nL 1894 763 \nL 2988 3500 \nL 3597 3500 \nL 2059 -325 \nz\n\" transform=\"scale(0.015625)\"/>\n      </defs>\n      <use xlink:href=\"#DejaVuSans-50\"/>\n      <use xlink:href=\"#DejaVuSans-72\" x=\"58.552734\"/>\n      <use xlink:href=\"#DejaVuSans-6f\" x=\"97.416016\"/>\n      <use xlink:href=\"#DejaVuSans-62\" x=\"158.597656\"/>\n      <use xlink:href=\"#DejaVuSans-61\" x=\"222.074219\"/>\n      <use xlink:href=\"#DejaVuSans-62\" x=\"283.353516\"/>\n      <use xlink:href=\"#DejaVuSans-69\" x=\"346.830078\"/>\n      <use xlink:href=\"#DejaVuSans-6c\" x=\"374.613281\"/>\n      <use xlink:href=\"#DejaVuSans-69\" x=\"402.396484\"/>\n      <use xlink:href=\"#DejaVuSans-74\" x=\"430.179688\"/>\n      <use xlink:href=\"#DejaVuSans-79\" x=\"469.388672\"/>\n     </g>\n    </g>\n   </g>\n   <g id=\"matplotlib.axis_2\">\n    <g id=\"ytick_1\">\n     <g id=\"line2d_6\">\n      <defs>\n       <path id=\"m170d89d212\" d=\"M 0 0 \nL -3.5 0 \n\" style=\"stroke: #000000; stroke-width: 0.8\"/>\n      </defs>\n      <g>\n       <use xlink:href=\"#m170d89d212\" x=\"50.93375\" y=\"187.223932\" style=\"stroke: #000000; stroke-width: 0.8\"/>\n      </g>\n     </g>\n     <g id=\"text_7\">\n      <!-- $\\mathdefault{10^{0}}$ -->\n      <g transform=\"translate(22.81375 191.782994) scale(0.12 -0.12)\">\n       <use xlink:href=\"#DejaVuSans-31\" transform=\"translate(0 0.765625)\"/>\n       <use xlink:href=\"#DejaVuSans-30\" transform=\"translate(63.623047 0.765625)\"/>\n       <use xlink:href=\"#DejaVuSans-30\" transform=\"translate(128.203125 39.046875) scale(0.7)\"/>\n      </g>\n     </g>\n    </g>\n    <g id=\"ytick_2\">\n     <g id=\"line2d_7\">\n      <g>\n       <use xlink:href=\"#m170d89d212\" x=\"50.93375\" y=\"140.980878\" style=\"stroke: #000000; stroke-width: 0.8\"/>\n      </g>\n     </g>\n     <g id=\"text_8\">\n      <!-- $\\mathdefault{10^{1}}$ -->\n      <g transform=\"translate(22.81375 145.539941) scale(0.12 -0.12)\">\n       <use xlink:href=\"#DejaVuSans-31\" transform=\"translate(0 0.684375)\"/>\n       <use xlink:href=\"#DejaVuSans-30\" transform=\"translate(63.623047 0.684375)\"/>\n       <use xlink:href=\"#DejaVuSans-31\" transform=\"translate(128.203125 38.965625) scale(0.7)\"/>\n      </g>\n     </g>\n    </g>\n    <g id=\"ytick_3\">\n     <g id=\"line2d_8\">\n      <g>\n       <use xlink:href=\"#m170d89d212\" x=\"50.93375\" y=\"94.737825\" style=\"stroke: #000000; stroke-width: 0.8\"/>\n      </g>\n     </g>\n     <g id=\"text_9\">\n      <!-- $\\mathdefault{10^{2}}$ -->\n      <g transform=\"translate(22.81375 99.296887) scale(0.12 -0.12)\">\n       <defs>\n        <path id=\"DejaVuSans-32\" d=\"M 1228 531 \nL 3431 531 \nL 3431 0 \nL 469 0 \nL 469 531 \nQ 828 903 1448 1529 \nQ 2069 2156 2228 2338 \nQ 2531 2678 2651 2914 \nQ 2772 3150 2772 3378 \nQ 2772 3750 2511 3984 \nQ 2250 4219 1831 4219 \nQ 1534 4219 1204 4116 \nQ 875 4013 500 3803 \nL 500 4441 \nQ 881 4594 1212 4672 \nQ 1544 4750 1819 4750 \nQ 2544 4750 2975 4387 \nQ 3406 4025 3406 3419 \nQ 3406 3131 3298 2873 \nQ 3191 2616 2906 2266 \nQ 2828 2175 2409 1742 \nQ 1991 1309 1228 531 \nz\n\" transform=\"scale(0.015625)\"/>\n       </defs>\n       <use xlink:href=\"#DejaVuSans-31\" transform=\"translate(0 0.765625)\"/>\n       <use xlink:href=\"#DejaVuSans-30\" transform=\"translate(63.623047 0.765625)\"/>\n       <use xlink:href=\"#DejaVuSans-32\" transform=\"translate(128.203125 39.046875) scale(0.7)\"/>\n      </g>\n     </g>\n    </g>\n    <g id=\"ytick_4\">\n     <g id=\"line2d_9\">\n      <g>\n       <use xlink:href=\"#m170d89d212\" x=\"50.93375\" y=\"48.494771\" style=\"stroke: #000000; stroke-width: 0.8\"/>\n      </g>\n     </g>\n     <g id=\"text_10\">\n      <!-- $\\mathdefault{10^{3}}$ -->\n      <g transform=\"translate(22.81375 53.053834) scale(0.12 -0.12)\">\n       <use xlink:href=\"#DejaVuSans-31\" transform=\"translate(0 0.765625)\"/>\n       <use xlink:href=\"#DejaVuSans-30\" transform=\"translate(63.623047 0.765625)\"/>\n       <use xlink:href=\"#DejaVuSans-33\" transform=\"translate(128.203125 39.046875) scale(0.7)\"/>\n      </g>\n     </g>\n    </g>\n    <g id=\"ytick_5\">\n     <g id=\"line2d_10\">\n      <defs>\n       <path id=\"mdad24bcf5f\" d=\"M 0 0 \nL -2 0 \n\" style=\"stroke: #000000; stroke-width: 0.6\"/>\n      </defs>\n      <g>\n       <use xlink:href=\"#mdad24bcf5f\" x=\"50.93375\" y=\"194.387071\" style=\"stroke: #000000; stroke-width: 0.6\"/>\n      </g>\n     </g>\n    </g>\n    <g id=\"ytick_6\">\n     <g id=\"line2d_11\">\n      <g>\n       <use xlink:href=\"#mdad24bcf5f\" x=\"50.93375\" y=\"191.705347\" style=\"stroke: #000000; stroke-width: 0.6\"/>\n      </g>\n     </g>\n    </g>\n    <g id=\"ytick_7\">\n     <g id=\"line2d_12\">\n      <g>\n       <use xlink:href=\"#mdad24bcf5f\" x=\"50.93375\" y=\"189.339898\" style=\"stroke: #000000; stroke-width: 0.6\"/>\n      </g>\n     </g>\n    </g>\n    <g id=\"ytick_8\">\n     <g id=\"line2d_13\">\n      <g>\n       <use xlink:href=\"#mdad24bcf5f\" x=\"50.93375\" y=\"173.303386\" style=\"stroke: #000000; stroke-width: 0.6\"/>\n      </g>\n     </g>\n    </g>\n    <g id=\"ytick_9\">\n     <g id=\"line2d_14\">\n      <g>\n       <use xlink:href=\"#mdad24bcf5f\" x=\"50.93375\" y=\"165.160388\" style=\"stroke: #000000; stroke-width: 0.6\"/>\n      </g>\n     </g>\n    </g>\n    <g id=\"ytick_10\">\n     <g id=\"line2d_15\">\n      <g>\n       <use xlink:href=\"#mdad24bcf5f\" x=\"50.93375\" y=\"159.382839\" style=\"stroke: #000000; stroke-width: 0.6\"/>\n      </g>\n     </g>\n    </g>\n    <g id=\"ytick_11\">\n     <g id=\"line2d_16\">\n      <g>\n       <use xlink:href=\"#mdad24bcf5f\" x=\"50.93375\" y=\"154.901424\" style=\"stroke: #000000; stroke-width: 0.6\"/>\n      </g>\n     </g>\n    </g>\n    <g id=\"ytick_12\">\n     <g id=\"line2d_17\">\n      <g>\n       <use xlink:href=\"#mdad24bcf5f\" x=\"50.93375\" y=\"151.239842\" style=\"stroke: #000000; stroke-width: 0.6\"/>\n      </g>\n     </g>\n    </g>\n    <g id=\"ytick_13\">\n     <g id=\"line2d_18\">\n      <g>\n       <use xlink:href=\"#mdad24bcf5f\" x=\"50.93375\" y=\"148.144018\" style=\"stroke: #000000; stroke-width: 0.6\"/>\n      </g>\n     </g>\n    </g>\n    <g id=\"ytick_14\">\n     <g id=\"line2d_19\">\n      <g>\n       <use xlink:href=\"#mdad24bcf5f\" x=\"50.93375\" y=\"145.462293\" style=\"stroke: #000000; stroke-width: 0.6\"/>\n      </g>\n     </g>\n    </g>\n    <g id=\"ytick_15\">\n     <g id=\"line2d_20\">\n      <g>\n       <use xlink:href=\"#mdad24bcf5f\" x=\"50.93375\" y=\"143.096844\" style=\"stroke: #000000; stroke-width: 0.6\"/>\n      </g>\n     </g>\n    </g>\n    <g id=\"ytick_16\">\n     <g id=\"line2d_21\">\n      <g>\n       <use xlink:href=\"#mdad24bcf5f\" x=\"50.93375\" y=\"127.060332\" style=\"stroke: #000000; stroke-width: 0.6\"/>\n      </g>\n     </g>\n    </g>\n    <g id=\"ytick_17\">\n     <g id=\"line2d_22\">\n      <g>\n       <use xlink:href=\"#mdad24bcf5f\" x=\"50.93375\" y=\"118.917335\" style=\"stroke: #000000; stroke-width: 0.6\"/>\n      </g>\n     </g>\n    </g>\n    <g id=\"ytick_18\">\n     <g id=\"line2d_23\">\n      <g>\n       <use xlink:href=\"#mdad24bcf5f\" x=\"50.93375\" y=\"113.139786\" style=\"stroke: #000000; stroke-width: 0.6\"/>\n      </g>\n     </g>\n    </g>\n    <g id=\"ytick_19\">\n     <g id=\"line2d_24\">\n      <g>\n       <use xlink:href=\"#mdad24bcf5f\" x=\"50.93375\" y=\"108.658371\" style=\"stroke: #000000; stroke-width: 0.6\"/>\n      </g>\n     </g>\n    </g>\n    <g id=\"ytick_20\">\n     <g id=\"line2d_25\">\n      <g>\n       <use xlink:href=\"#mdad24bcf5f\" x=\"50.93375\" y=\"104.996788\" style=\"stroke: #000000; stroke-width: 0.6\"/>\n      </g>\n     </g>\n    </g>\n    <g id=\"ytick_21\">\n     <g id=\"line2d_26\">\n      <g>\n       <use xlink:href=\"#mdad24bcf5f\" x=\"50.93375\" y=\"101.900964\" style=\"stroke: #000000; stroke-width: 0.6\"/>\n      </g>\n     </g>\n    </g>\n    <g id=\"ytick_22\">\n     <g id=\"line2d_27\">\n      <g>\n       <use xlink:href=\"#mdad24bcf5f\" x=\"50.93375\" y=\"99.21924\" style=\"stroke: #000000; stroke-width: 0.6\"/>\n      </g>\n     </g>\n    </g>\n    <g id=\"ytick_23\">\n     <g id=\"line2d_28\">\n      <g>\n       <use xlink:href=\"#mdad24bcf5f\" x=\"50.93375\" y=\"96.853791\" style=\"stroke: #000000; stroke-width: 0.6\"/>\n      </g>\n     </g>\n    </g>\n    <g id=\"ytick_24\">\n     <g id=\"line2d_29\">\n      <g>\n       <use xlink:href=\"#mdad24bcf5f\" x=\"50.93375\" y=\"80.817278\" style=\"stroke: #000000; stroke-width: 0.6\"/>\n      </g>\n     </g>\n    </g>\n    <g id=\"ytick_25\">\n     <g id=\"line2d_30\">\n      <g>\n       <use xlink:href=\"#mdad24bcf5f\" x=\"50.93375\" y=\"72.674281\" style=\"stroke: #000000; stroke-width: 0.6\"/>\n      </g>\n     </g>\n    </g>\n    <g id=\"ytick_26\">\n     <g id=\"line2d_31\">\n      <g>\n       <use xlink:href=\"#mdad24bcf5f\" x=\"50.93375\" y=\"66.896732\" style=\"stroke: #000000; stroke-width: 0.6\"/>\n      </g>\n     </g>\n    </g>\n    <g id=\"ytick_27\">\n     <g id=\"line2d_32\">\n      <g>\n       <use xlink:href=\"#mdad24bcf5f\" x=\"50.93375\" y=\"62.415317\" style=\"stroke: #000000; stroke-width: 0.6\"/>\n      </g>\n     </g>\n    </g>\n    <g id=\"ytick_28\">\n     <g id=\"line2d_33\">\n      <g>\n       <use xlink:href=\"#mdad24bcf5f\" x=\"50.93375\" y=\"58.753735\" style=\"stroke: #000000; stroke-width: 0.6\"/>\n      </g>\n     </g>\n    </g>\n    <g id=\"ytick_29\">\n     <g id=\"line2d_34\">\n      <g>\n       <use xlink:href=\"#mdad24bcf5f\" x=\"50.93375\" y=\"55.657911\" style=\"stroke: #000000; stroke-width: 0.6\"/>\n      </g>\n     </g>\n    </g>\n    <g id=\"ytick_30\">\n     <g id=\"line2d_35\">\n      <g>\n       <use xlink:href=\"#mdad24bcf5f\" x=\"50.93375\" y=\"52.976186\" style=\"stroke: #000000; stroke-width: 0.6\"/>\n      </g>\n     </g>\n    </g>\n    <g id=\"ytick_31\">\n     <g id=\"line2d_36\">\n      <g>\n       <use xlink:href=\"#mdad24bcf5f\" x=\"50.93375\" y=\"50.610737\" style=\"stroke: #000000; stroke-width: 0.6\"/>\n      </g>\n     </g>\n    </g>\n    <g id=\"ytick_32\">\n     <g id=\"line2d_37\">\n      <g>\n       <use xlink:href=\"#mdad24bcf5f\" x=\"50.93375\" y=\"34.574225\" style=\"stroke: #000000; stroke-width: 0.6\"/>\n      </g>\n     </g>\n    </g>\n    <g id=\"ytick_33\">\n     <g id=\"line2d_38\">\n      <g>\n       <use xlink:href=\"#mdad24bcf5f\" x=\"50.93375\" y=\"26.431227\" style=\"stroke: #000000; stroke-width: 0.6\"/>\n      </g>\n     </g>\n    </g>\n    <g id=\"text_11\">\n     <!-- Count -->\n     <g transform=\"translate(16.318125 127.383875) rotate(-90) scale(0.12 -0.12)\">\n      <defs>\n       <path id=\"DejaVuSans-43\" d=\"M 4122 4306 \nL 4122 3641 \nQ 3803 3938 3442 4084 \nQ 3081 4231 2675 4231 \nQ 1875 4231 1450 3742 \nQ 1025 3253 1025 2328 \nQ 1025 1406 1450 917 \nQ 1875 428 2675 428 \nQ 3081 428 3442 575 \nQ 3803 722 4122 1019 \nL 4122 359 \nQ 3791 134 3420 21 \nQ 3050 -91 2638 -91 \nQ 1578 -91 968 557 \nQ 359 1206 359 2328 \nQ 359 3453 968 4101 \nQ 1578 4750 2638 4750 \nQ 3056 4750 3426 4639 \nQ 3797 4528 4122 4306 \nz\n\" transform=\"scale(0.015625)\"/>\n       <path id=\"DejaVuSans-75\" d=\"M 544 1381 \nL 544 3500 \nL 1119 3500 \nL 1119 1403 \nQ 1119 906 1312 657 \nQ 1506 409 1894 409 \nQ 2359 409 2629 706 \nQ 2900 1003 2900 1516 \nL 2900 3500 \nL 3475 3500 \nL 3475 0 \nL 2900 0 \nL 2900 538 \nQ 2691 219 2414 64 \nQ 2138 -91 1772 -91 \nQ 1169 -91 856 284 \nQ 544 659 544 1381 \nz\nM 1991 3584 \nL 1991 3584 \nz\n\" transform=\"scale(0.015625)\"/>\n       <path id=\"DejaVuSans-6e\" d=\"M 3513 2113 \nL 3513 0 \nL 2938 0 \nL 2938 2094 \nQ 2938 2591 2744 2837 \nQ 2550 3084 2163 3084 \nQ 1697 3084 1428 2787 \nQ 1159 2491 1159 1978 \nL 1159 0 \nL 581 0 \nL 581 3500 \nL 1159 3500 \nL 1159 2956 \nQ 1366 3272 1645 3428 \nQ 1925 3584 2291 3584 \nQ 2894 3584 3203 3211 \nQ 3513 2838 3513 2113 \nz\n\" transform=\"scale(0.015625)\"/>\n      </defs>\n      <use xlink:href=\"#DejaVuSans-43\"/>\n      <use xlink:href=\"#DejaVuSans-6f\" x=\"69.824219\"/>\n      <use xlink:href=\"#DejaVuSans-75\" x=\"131.005859\"/>\n      <use xlink:href=\"#DejaVuSans-6e\" x=\"194.384766\"/>\n      <use xlink:href=\"#DejaVuSans-74\" x=\"257.763672\"/>\n     </g>\n    </g>\n   </g>\n   <g id=\"patch_102\">\n    <path d=\"M 50.93375 194.98975 \nL 50.93375 24.14175 \n\" style=\"fill: none; stroke: #000000; stroke-width: 0.8; stroke-linejoin: miter; stroke-linecap: square\"/>\n   </g>\n   <g id=\"patch_103\">\n    <path d=\"M 332.670648 194.98975 \nL 332.670648 24.14175 \n\" style=\"fill: none; stroke: #000000; stroke-width: 0.8; stroke-linejoin: miter; stroke-linecap: square\"/>\n   </g>\n   <g id=\"patch_104\">\n    <path d=\"M 50.93375 194.98975 \nL 332.670648 194.98975 \n\" style=\"fill: none; stroke: #000000; stroke-width: 0.8; stroke-linejoin: miter; stroke-linecap: square\"/>\n   </g>\n   <g id=\"patch_105\">\n    <path d=\"M 50.93375 24.14175 \nL 332.670648 24.14175 \n\" style=\"fill: none; stroke: #000000; stroke-width: 0.8; stroke-linejoin: miter; stroke-linecap: square\"/>\n   </g>\n   <g id=\"text_12\">\n    <!-- Probability distribution -->\n    <g transform=\"translate(110.426449 18.14175) scale(0.144 -0.144)\">\n     <defs>\n      <path id=\"DejaVuSans-20\" transform=\"scale(0.015625)\"/>\n      <path id=\"DejaVuSans-64\" d=\"M 2906 2969 \nL 2906 4863 \nL 3481 4863 \nL 3481 0 \nL 2906 0 \nL 2906 525 \nQ 2725 213 2448 61 \nQ 2172 -91 1784 -91 \nQ 1150 -91 751 415 \nQ 353 922 353 1747 \nQ 353 2572 751 3078 \nQ 1150 3584 1784 3584 \nQ 2172 3584 2448 3432 \nQ 2725 3281 2906 2969 \nz\nM 947 1747 \nQ 947 1113 1208 752 \nQ 1469 391 1925 391 \nQ 2381 391 2643 752 \nQ 2906 1113 2906 1747 \nQ 2906 2381 2643 2742 \nQ 2381 3103 1925 3103 \nQ 1469 3103 1208 2742 \nQ 947 2381 947 1747 \nz\n\" transform=\"scale(0.015625)\"/>\n      <path id=\"DejaVuSans-73\" d=\"M 2834 3397 \nL 2834 2853 \nQ 2591 2978 2328 3040 \nQ 2066 3103 1784 3103 \nQ 1356 3103 1142 2972 \nQ 928 2841 928 2578 \nQ 928 2378 1081 2264 \nQ 1234 2150 1697 2047 \nL 1894 2003 \nQ 2506 1872 2764 1633 \nQ 3022 1394 3022 966 \nQ 3022 478 2636 193 \nQ 2250 -91 1575 -91 \nQ 1294 -91 989 -36 \nQ 684 19 347 128 \nL 347 722 \nQ 666 556 975 473 \nQ 1284 391 1588 391 \nQ 1994 391 2212 530 \nQ 2431 669 2431 922 \nQ 2431 1156 2273 1281 \nQ 2116 1406 1581 1522 \nL 1381 1569 \nQ 847 1681 609 1914 \nQ 372 2147 372 2553 \nQ 372 3047 722 3315 \nQ 1072 3584 1716 3584 \nQ 2034 3584 2315 3537 \nQ 2597 3491 2834 3397 \nz\n\" transform=\"scale(0.015625)\"/>\n     </defs>\n     <use xlink:href=\"#DejaVuSans-50\"/>\n     <use xlink:href=\"#DejaVuSans-72\" x=\"58.552734\"/>\n     <use xlink:href=\"#DejaVuSans-6f\" x=\"97.416016\"/>\n     <use xlink:href=\"#DejaVuSans-62\" x=\"158.597656\"/>\n     <use xlink:href=\"#DejaVuSans-61\" x=\"222.074219\"/>\n     <use xlink:href=\"#DejaVuSans-62\" x=\"283.353516\"/>\n     <use xlink:href=\"#DejaVuSans-69\" x=\"346.830078\"/>\n     <use xlink:href=\"#DejaVuSans-6c\" x=\"374.613281\"/>\n     <use xlink:href=\"#DejaVuSans-69\" x=\"402.396484\"/>\n     <use xlink:href=\"#DejaVuSans-74\" x=\"430.179688\"/>\n     <use xlink:href=\"#DejaVuSans-79\" x=\"469.388672\"/>\n     <use xlink:href=\"#DejaVuSans-20\" x=\"528.568359\"/>\n     <use xlink:href=\"#DejaVuSans-64\" x=\"560.355469\"/>\n     <use xlink:href=\"#DejaVuSans-69\" x=\"623.832031\"/>\n     <use xlink:href=\"#DejaVuSans-73\" x=\"651.615234\"/>\n     <use xlink:href=\"#DejaVuSans-74\" x=\"703.714844\"/>\n     <use xlink:href=\"#DejaVuSans-72\" x=\"742.923828\"/>\n     <use xlink:href=\"#DejaVuSans-69\" x=\"784.037109\"/>\n     <use xlink:href=\"#DejaVuSans-62\" x=\"811.820312\"/>\n     <use xlink:href=\"#DejaVuSans-75\" x=\"875.296875\"/>\n     <use xlink:href=\"#DejaVuSans-74\" x=\"938.675781\"/>\n     <use xlink:href=\"#DejaVuSans-69\" x=\"977.884766\"/>\n     <use xlink:href=\"#DejaVuSans-6f\" x=\"1005.667969\"/>\n     <use xlink:href=\"#DejaVuSans-6e\" x=\"1066.849609\"/>\n    </g>\n   </g>\n  </g>\n  <g id=\"axes_2\">\n   <g id=\"patch_106\">\n    <path d=\"M 398.815744 194.98975 \nL 680.552643 194.98975 \nL 680.552643 24.14175 \nL 398.815744 24.14175 \nz\n\" style=\"fill: #ffffff\"/>\n   </g>\n   <g id=\"matplotlib.axis_3\">\n    <g id=\"xtick_6\">\n     <g id=\"line2d_39\">\n      <g>\n       <use xlink:href=\"#m4759e3e9dc\" x=\"398.815744\" y=\"194.98975\" style=\"stroke: #000000; stroke-width: 0.8\"/>\n      </g>\n     </g>\n     <g id=\"text_13\">\n      <!-- 0 -->\n      <g transform=\"translate(394.998244 211.107875) scale(0.12 -0.12)\">\n       <use xlink:href=\"#DejaVuSans-30\"/>\n      </g>\n     </g>\n    </g>\n    <g id=\"xtick_7\">\n     <g id=\"line2d_40\">\n      <g>\n       <use xlink:href=\"#m4759e3e9dc\" x=\"455.163124\" y=\"194.98975\" style=\"stroke: #000000; stroke-width: 0.8\"/>\n      </g>\n     </g>\n     <g id=\"text_14\">\n      <!-- 2000 -->\n      <g transform=\"translate(439.893124 211.107875) scale(0.12 -0.12)\">\n       <use xlink:href=\"#DejaVuSans-32\"/>\n       <use xlink:href=\"#DejaVuSans-30\" x=\"63.623047\"/>\n       <use xlink:href=\"#DejaVuSans-30\" x=\"127.246094\"/>\n       <use xlink:href=\"#DejaVuSans-30\" x=\"190.869141\"/>\n      </g>\n     </g>\n    </g>\n    <g id=\"xtick_8\">\n     <g id=\"line2d_41\">\n      <g>\n       <use xlink:href=\"#m4759e3e9dc\" x=\"511.510504\" y=\"194.98975\" style=\"stroke: #000000; stroke-width: 0.8\"/>\n      </g>\n     </g>\n     <g id=\"text_15\">\n      <!-- 4000 -->\n      <g transform=\"translate(496.240504 211.107875) scale(0.12 -0.12)\">\n       <defs>\n        <path id=\"DejaVuSans-34\" d=\"M 2419 4116 \nL 825 1625 \nL 2419 1625 \nL 2419 4116 \nz\nM 2253 4666 \nL 3047 4666 \nL 3047 1625 \nL 3713 1625 \nL 3713 1100 \nL 3047 1100 \nL 3047 0 \nL 2419 0 \nL 2419 1100 \nL 313 1100 \nL 313 1709 \nL 2253 4666 \nz\n\" transform=\"scale(0.015625)\"/>\n       </defs>\n       <use xlink:href=\"#DejaVuSans-34\"/>\n       <use xlink:href=\"#DejaVuSans-30\" x=\"63.623047\"/>\n       <use xlink:href=\"#DejaVuSans-30\" x=\"127.246094\"/>\n       <use xlink:href=\"#DejaVuSans-30\" x=\"190.869141\"/>\n      </g>\n     </g>\n    </g>\n    <g id=\"xtick_9\">\n     <g id=\"line2d_42\">\n      <g>\n       <use xlink:href=\"#m4759e3e9dc\" x=\"567.857883\" y=\"194.98975\" style=\"stroke: #000000; stroke-width: 0.8\"/>\n      </g>\n     </g>\n     <g id=\"text_16\">\n      <!-- 6000 -->\n      <g transform=\"translate(552.587883 211.107875) scale(0.12 -0.12)\">\n       <defs>\n        <path id=\"DejaVuSans-36\" d=\"M 2113 2584 \nQ 1688 2584 1439 2293 \nQ 1191 2003 1191 1497 \nQ 1191 994 1439 701 \nQ 1688 409 2113 409 \nQ 2538 409 2786 701 \nQ 3034 994 3034 1497 \nQ 3034 2003 2786 2293 \nQ 2538 2584 2113 2584 \nz\nM 3366 4563 \nL 3366 3988 \nQ 3128 4100 2886 4159 \nQ 2644 4219 2406 4219 \nQ 1781 4219 1451 3797 \nQ 1122 3375 1075 2522 \nQ 1259 2794 1537 2939 \nQ 1816 3084 2150 3084 \nQ 2853 3084 3261 2657 \nQ 3669 2231 3669 1497 \nQ 3669 778 3244 343 \nQ 2819 -91 2113 -91 \nQ 1303 -91 875 529 \nQ 447 1150 447 2328 \nQ 447 3434 972 4092 \nQ 1497 4750 2381 4750 \nQ 2619 4750 2861 4703 \nQ 3103 4656 3366 4563 \nz\n\" transform=\"scale(0.015625)\"/>\n       </defs>\n       <use xlink:href=\"#DejaVuSans-36\"/>\n       <use xlink:href=\"#DejaVuSans-30\" x=\"63.623047\"/>\n       <use xlink:href=\"#DejaVuSans-30\" x=\"127.246094\"/>\n       <use xlink:href=\"#DejaVuSans-30\" x=\"190.869141\"/>\n      </g>\n     </g>\n    </g>\n    <g id=\"xtick_10\">\n     <g id=\"line2d_43\">\n      <g>\n       <use xlink:href=\"#m4759e3e9dc\" x=\"624.205263\" y=\"194.98975\" style=\"stroke: #000000; stroke-width: 0.8\"/>\n      </g>\n     </g>\n     <g id=\"text_17\">\n      <!-- 8000 -->\n      <g transform=\"translate(608.935263 211.107875) scale(0.12 -0.12)\">\n       <defs>\n        <path id=\"DejaVuSans-38\" d=\"M 2034 2216 \nQ 1584 2216 1326 1975 \nQ 1069 1734 1069 1313 \nQ 1069 891 1326 650 \nQ 1584 409 2034 409 \nQ 2484 409 2743 651 \nQ 3003 894 3003 1313 \nQ 3003 1734 2745 1975 \nQ 2488 2216 2034 2216 \nz\nM 1403 2484 \nQ 997 2584 770 2862 \nQ 544 3141 544 3541 \nQ 544 4100 942 4425 \nQ 1341 4750 2034 4750 \nQ 2731 4750 3128 4425 \nQ 3525 4100 3525 3541 \nQ 3525 3141 3298 2862 \nQ 3072 2584 2669 2484 \nQ 3125 2378 3379 2068 \nQ 3634 1759 3634 1313 \nQ 3634 634 3220 271 \nQ 2806 -91 2034 -91 \nQ 1263 -91 848 271 \nQ 434 634 434 1313 \nQ 434 1759 690 2068 \nQ 947 2378 1403 2484 \nz\nM 1172 3481 \nQ 1172 3119 1398 2916 \nQ 1625 2713 2034 2713 \nQ 2441 2713 2670 2916 \nQ 2900 3119 2900 3481 \nQ 2900 3844 2670 4047 \nQ 2441 4250 2034 4250 \nQ 1625 4250 1398 4047 \nQ 1172 3844 1172 3481 \nz\n\" transform=\"scale(0.015625)\"/>\n       </defs>\n       <use xlink:href=\"#DejaVuSans-38\"/>\n       <use xlink:href=\"#DejaVuSans-30\" x=\"63.623047\"/>\n       <use xlink:href=\"#DejaVuSans-30\" x=\"127.246094\"/>\n       <use xlink:href=\"#DejaVuSans-30\" x=\"190.869141\"/>\n      </g>\n     </g>\n    </g>\n    <g id=\"xtick_11\">\n     <g id=\"line2d_44\">\n      <g>\n       <use xlink:href=\"#m4759e3e9dc\" x=\"680.552643\" y=\"194.98975\" style=\"stroke: #000000; stroke-width: 0.8\"/>\n      </g>\n     </g>\n     <g id=\"text_18\">\n      <!-- 10000 -->\n      <g transform=\"translate(661.465143 211.107875) scale(0.12 -0.12)\">\n       <use xlink:href=\"#DejaVuSans-31\"/>\n       <use xlink:href=\"#DejaVuSans-30\" x=\"63.623047\"/>\n       <use xlink:href=\"#DejaVuSans-30\" x=\"127.246094\"/>\n       <use xlink:href=\"#DejaVuSans-30\" x=\"190.869141\"/>\n       <use xlink:href=\"#DejaVuSans-30\" x=\"254.492188\"/>\n      </g>\n     </g>\n    </g>\n    <g id=\"xtick_12\">\n     <g id=\"line2d_45\">\n      <defs>\n       <path id=\"me055c522be\" d=\"M 0 0 \nL 0 2 \n\" style=\"stroke: #000000; stroke-width: 0.6\"/>\n      </defs>\n      <g>\n       <use xlink:href=\"#me055c522be\" x=\"412.902589\" y=\"194.98975\" style=\"stroke: #000000; stroke-width: 0.6\"/>\n      </g>\n     </g>\n    </g>\n    <g id=\"xtick_13\">\n     <g id=\"line2d_46\">\n      <g>\n       <use xlink:href=\"#me055c522be\" x=\"426.989434\" y=\"194.98975\" style=\"stroke: #000000; stroke-width: 0.6\"/>\n      </g>\n     </g>\n    </g>\n    <g id=\"xtick_14\">\n     <g id=\"line2d_47\">\n      <g>\n       <use xlink:href=\"#me055c522be\" x=\"441.076279\" y=\"194.98975\" style=\"stroke: #000000; stroke-width: 0.6\"/>\n      </g>\n     </g>\n    </g>\n    <g id=\"xtick_15\">\n     <g id=\"line2d_48\">\n      <g>\n       <use xlink:href=\"#me055c522be\" x=\"469.249969\" y=\"194.98975\" style=\"stroke: #000000; stroke-width: 0.6\"/>\n      </g>\n     </g>\n    </g>\n    <g id=\"xtick_16\">\n     <g id=\"line2d_49\">\n      <g>\n       <use xlink:href=\"#me055c522be\" x=\"483.336814\" y=\"194.98975\" style=\"stroke: #000000; stroke-width: 0.6\"/>\n      </g>\n     </g>\n    </g>\n    <g id=\"xtick_17\">\n     <g id=\"line2d_50\">\n      <g>\n       <use xlink:href=\"#me055c522be\" x=\"497.423659\" y=\"194.98975\" style=\"stroke: #000000; stroke-width: 0.6\"/>\n      </g>\n     </g>\n    </g>\n    <g id=\"xtick_18\">\n     <g id=\"line2d_51\">\n      <g>\n       <use xlink:href=\"#me055c522be\" x=\"525.597348\" y=\"194.98975\" style=\"stroke: #000000; stroke-width: 0.6\"/>\n      </g>\n     </g>\n    </g>\n    <g id=\"xtick_19\">\n     <g id=\"line2d_52\">\n      <g>\n       <use xlink:href=\"#me055c522be\" x=\"539.684193\" y=\"194.98975\" style=\"stroke: #000000; stroke-width: 0.6\"/>\n      </g>\n     </g>\n    </g>\n    <g id=\"xtick_20\">\n     <g id=\"line2d_53\">\n      <g>\n       <use xlink:href=\"#me055c522be\" x=\"553.771038\" y=\"194.98975\" style=\"stroke: #000000; stroke-width: 0.6\"/>\n      </g>\n     </g>\n    </g>\n    <g id=\"xtick_21\">\n     <g id=\"line2d_54\">\n      <g>\n       <use xlink:href=\"#me055c522be\" x=\"581.944728\" y=\"194.98975\" style=\"stroke: #000000; stroke-width: 0.6\"/>\n      </g>\n     </g>\n    </g>\n    <g id=\"xtick_22\">\n     <g id=\"line2d_55\">\n      <g>\n       <use xlink:href=\"#me055c522be\" x=\"596.031573\" y=\"194.98975\" style=\"stroke: #000000; stroke-width: 0.6\"/>\n      </g>\n     </g>\n    </g>\n    <g id=\"xtick_23\">\n     <g id=\"line2d_56\">\n      <g>\n       <use xlink:href=\"#me055c522be\" x=\"610.118418\" y=\"194.98975\" style=\"stroke: #000000; stroke-width: 0.6\"/>\n      </g>\n     </g>\n    </g>\n    <g id=\"xtick_24\">\n     <g id=\"line2d_57\">\n      <g>\n       <use xlink:href=\"#me055c522be\" x=\"638.292108\" y=\"194.98975\" style=\"stroke: #000000; stroke-width: 0.6\"/>\n      </g>\n     </g>\n    </g>\n    <g id=\"xtick_25\">\n     <g id=\"line2d_58\">\n      <g>\n       <use xlink:href=\"#me055c522be\" x=\"652.378953\" y=\"194.98975\" style=\"stroke: #000000; stroke-width: 0.6\"/>\n      </g>\n     </g>\n    </g>\n    <g id=\"xtick_26\">\n     <g id=\"line2d_59\">\n      <g>\n       <use xlink:href=\"#me055c522be\" x=\"666.465798\" y=\"194.98975\" style=\"stroke: #000000; stroke-width: 0.6\"/>\n      </g>\n     </g>\n    </g>\n    <g id=\"text_19\">\n     <!-- Token (descending probability) -->\n     <g transform=\"translate(447.602943 226.721625) scale(0.12 -0.12)\">\n      <defs>\n       <path id=\"DejaVuSans-54\" d=\"M -19 4666 \nL 3928 4666 \nL 3928 4134 \nL 2272 4134 \nL 2272 0 \nL 1638 0 \nL 1638 4134 \nL -19 4134 \nL -19 4666 \nz\n\" transform=\"scale(0.015625)\"/>\n       <path id=\"DejaVuSans-6b\" d=\"M 581 4863 \nL 1159 4863 \nL 1159 1991 \nL 2875 3500 \nL 3609 3500 \nL 1753 1863 \nL 3688 0 \nL 2938 0 \nL 1159 1709 \nL 1159 0 \nL 581 0 \nL 581 4863 \nz\n\" transform=\"scale(0.015625)\"/>\n       <path id=\"DejaVuSans-65\" d=\"M 3597 1894 \nL 3597 1613 \nL 953 1613 \nQ 991 1019 1311 708 \nQ 1631 397 2203 397 \nQ 2534 397 2845 478 \nQ 3156 559 3463 722 \nL 3463 178 \nQ 3153 47 2828 -22 \nQ 2503 -91 2169 -91 \nQ 1331 -91 842 396 \nQ 353 884 353 1716 \nQ 353 2575 817 3079 \nQ 1281 3584 2069 3584 \nQ 2775 3584 3186 3129 \nQ 3597 2675 3597 1894 \nz\nM 3022 2063 \nQ 3016 2534 2758 2815 \nQ 2500 3097 2075 3097 \nQ 1594 3097 1305 2825 \nQ 1016 2553 972 2059 \nL 3022 2063 \nz\n\" transform=\"scale(0.015625)\"/>\n       <path id=\"DejaVuSans-28\" d=\"M 1984 4856 \nQ 1566 4138 1362 3434 \nQ 1159 2731 1159 2009 \nQ 1159 1288 1364 580 \nQ 1569 -128 1984 -844 \nL 1484 -844 \nQ 1016 -109 783 600 \nQ 550 1309 550 2009 \nQ 550 2706 781 3412 \nQ 1013 4119 1484 4856 \nL 1984 4856 \nz\n\" transform=\"scale(0.015625)\"/>\n       <path id=\"DejaVuSans-63\" d=\"M 3122 3366 \nL 3122 2828 \nQ 2878 2963 2633 3030 \nQ 2388 3097 2138 3097 \nQ 1578 3097 1268 2742 \nQ 959 2388 959 1747 \nQ 959 1106 1268 751 \nQ 1578 397 2138 397 \nQ 2388 397 2633 464 \nQ 2878 531 3122 666 \nL 3122 134 \nQ 2881 22 2623 -34 \nQ 2366 -91 2075 -91 \nQ 1284 -91 818 406 \nQ 353 903 353 1747 \nQ 353 2603 823 3093 \nQ 1294 3584 2113 3584 \nQ 2378 3584 2631 3529 \nQ 2884 3475 3122 3366 \nz\n\" transform=\"scale(0.015625)\"/>\n       <path id=\"DejaVuSans-67\" d=\"M 2906 1791 \nQ 2906 2416 2648 2759 \nQ 2391 3103 1925 3103 \nQ 1463 3103 1205 2759 \nQ 947 2416 947 1791 \nQ 947 1169 1205 825 \nQ 1463 481 1925 481 \nQ 2391 481 2648 825 \nQ 2906 1169 2906 1791 \nz\nM 3481 434 \nQ 3481 -459 3084 -895 \nQ 2688 -1331 1869 -1331 \nQ 1566 -1331 1297 -1286 \nQ 1028 -1241 775 -1147 \nL 775 -588 \nQ 1028 -725 1275 -790 \nQ 1522 -856 1778 -856 \nQ 2344 -856 2625 -561 \nQ 2906 -266 2906 331 \nL 2906 616 \nQ 2728 306 2450 153 \nQ 2172 0 1784 0 \nQ 1141 0 747 490 \nQ 353 981 353 1791 \nQ 353 2603 747 3093 \nQ 1141 3584 1784 3584 \nQ 2172 3584 2450 3431 \nQ 2728 3278 2906 2969 \nL 2906 3500 \nL 3481 3500 \nL 3481 434 \nz\n\" transform=\"scale(0.015625)\"/>\n       <path id=\"DejaVuSans-70\" d=\"M 1159 525 \nL 1159 -1331 \nL 581 -1331 \nL 581 3500 \nL 1159 3500 \nL 1159 2969 \nQ 1341 3281 1617 3432 \nQ 1894 3584 2278 3584 \nQ 2916 3584 3314 3078 \nQ 3713 2572 3713 1747 \nQ 3713 922 3314 415 \nQ 2916 -91 2278 -91 \nQ 1894 -91 1617 61 \nQ 1341 213 1159 525 \nz\nM 3116 1747 \nQ 3116 2381 2855 2742 \nQ 2594 3103 2138 3103 \nQ 1681 3103 1420 2742 \nQ 1159 2381 1159 1747 \nQ 1159 1113 1420 752 \nQ 1681 391 2138 391 \nQ 2594 391 2855 752 \nQ 3116 1113 3116 1747 \nz\n\" transform=\"scale(0.015625)\"/>\n       <path id=\"DejaVuSans-29\" d=\"M 513 4856 \nL 1013 4856 \nQ 1481 4119 1714 3412 \nQ 1947 2706 1947 2009 \nQ 1947 1309 1714 600 \nQ 1481 -109 1013 -844 \nL 513 -844 \nQ 928 -128 1133 580 \nQ 1338 1288 1338 2009 \nQ 1338 2731 1133 3434 \nQ 928 4138 513 4856 \nz\n\" transform=\"scale(0.015625)\"/>\n      </defs>\n      <use xlink:href=\"#DejaVuSans-54\"/>\n      <use xlink:href=\"#DejaVuSans-6f\" x=\"44.083984\"/>\n      <use xlink:href=\"#DejaVuSans-6b\" x=\"105.265625\"/>\n      <use xlink:href=\"#DejaVuSans-65\" x=\"159.550781\"/>\n      <use xlink:href=\"#DejaVuSans-6e\" x=\"221.074219\"/>\n      <use xlink:href=\"#DejaVuSans-20\" x=\"284.453125\"/>\n      <use xlink:href=\"#DejaVuSans-28\" x=\"316.240234\"/>\n      <use xlink:href=\"#DejaVuSans-64\" x=\"355.253906\"/>\n      <use xlink:href=\"#DejaVuSans-65\" x=\"418.730469\"/>\n      <use xlink:href=\"#DejaVuSans-73\" x=\"480.253906\"/>\n      <use xlink:href=\"#DejaVuSans-63\" x=\"532.353516\"/>\n      <use xlink:href=\"#DejaVuSans-65\" x=\"587.333984\"/>\n      <use xlink:href=\"#DejaVuSans-6e\" x=\"648.857422\"/>\n      <use xlink:href=\"#DejaVuSans-64\" x=\"712.236328\"/>\n      <use xlink:href=\"#DejaVuSans-69\" x=\"775.712891\"/>\n      <use xlink:href=\"#DejaVuSans-6e\" x=\"803.496094\"/>\n      <use xlink:href=\"#DejaVuSans-67\" x=\"866.875\"/>\n      <use xlink:href=\"#DejaVuSans-20\" x=\"930.351562\"/>\n      <use xlink:href=\"#DejaVuSans-70\" x=\"962.138672\"/>\n      <use xlink:href=\"#DejaVuSans-72\" x=\"1025.615234\"/>\n      <use xlink:href=\"#DejaVuSans-6f\" x=\"1064.478516\"/>\n      <use xlink:href=\"#DejaVuSans-62\" x=\"1125.660156\"/>\n      <use xlink:href=\"#DejaVuSans-61\" x=\"1189.136719\"/>\n      <use xlink:href=\"#DejaVuSans-62\" x=\"1250.416016\"/>\n      <use xlink:href=\"#DejaVuSans-69\" x=\"1313.892578\"/>\n      <use xlink:href=\"#DejaVuSans-6c\" x=\"1341.675781\"/>\n      <use xlink:href=\"#DejaVuSans-69\" x=\"1369.458984\"/>\n      <use xlink:href=\"#DejaVuSans-74\" x=\"1397.242188\"/>\n      <use xlink:href=\"#DejaVuSans-79\" x=\"1436.451172\"/>\n      <use xlink:href=\"#DejaVuSans-29\" x=\"1495.630859\"/>\n     </g>\n    </g>\n   </g>\n   <g id=\"matplotlib.axis_4\">\n    <g id=\"ytick_34\">\n     <g id=\"line2d_60\">\n      <g>\n       <use xlink:href=\"#m170d89d212\" x=\"398.815744\" y=\"194.98975\" style=\"stroke: #000000; stroke-width: 0.8\"/>\n      </g>\n     </g>\n     <g id=\"text_20\">\n      <!-- 0.75 -->\n      <g transform=\"translate(365.096994 199.548812) scale(0.12 -0.12)\">\n       <defs>\n        <path id=\"DejaVuSans-2e\" d=\"M 684 794 \nL 1344 794 \nL 1344 0 \nL 684 0 \nL 684 794 \nz\n\" transform=\"scale(0.015625)\"/>\n       </defs>\n       <use xlink:href=\"#DejaVuSans-30\"/>\n       <use xlink:href=\"#DejaVuSans-2e\" x=\"63.623047\"/>\n       <use xlink:href=\"#DejaVuSans-37\" x=\"95.410156\"/>\n       <use xlink:href=\"#DejaVuSans-35\" x=\"159.033203\"/>\n      </g>\n     </g>\n    </g>\n    <g id=\"ytick_35\">\n     <g id=\"line2d_61\">\n      <g>\n       <use xlink:href=\"#m170d89d212\" x=\"398.815744\" y=\"162.134365\" style=\"stroke: #000000; stroke-width: 0.8\"/>\n      </g>\n     </g>\n     <g id=\"text_21\">\n      <!-- 0.80 -->\n      <g transform=\"translate(365.096994 166.693428) scale(0.12 -0.12)\">\n       <use xlink:href=\"#DejaVuSans-30\"/>\n       <use xlink:href=\"#DejaVuSans-2e\" x=\"63.623047\"/>\n       <use xlink:href=\"#DejaVuSans-38\" x=\"95.410156\"/>\n       <use xlink:href=\"#DejaVuSans-30\" x=\"159.033203\"/>\n      </g>\n     </g>\n    </g>\n    <g id=\"ytick_36\">\n     <g id=\"line2d_62\">\n      <g>\n       <use xlink:href=\"#m170d89d212\" x=\"398.815744\" y=\"129.278981\" style=\"stroke: #000000; stroke-width: 0.8\"/>\n      </g>\n     </g>\n     <g id=\"text_22\">\n      <!-- 0.85 -->\n      <g transform=\"translate(365.096994 133.838043) scale(0.12 -0.12)\">\n       <use xlink:href=\"#DejaVuSans-30\"/>\n       <use xlink:href=\"#DejaVuSans-2e\" x=\"63.623047\"/>\n       <use xlink:href=\"#DejaVuSans-38\" x=\"95.410156\"/>\n       <use xlink:href=\"#DejaVuSans-35\" x=\"159.033203\"/>\n      </g>\n     </g>\n    </g>\n    <g id=\"ytick_37\">\n     <g id=\"line2d_63\">\n      <g>\n       <use xlink:href=\"#m170d89d212\" x=\"398.815744\" y=\"96.423596\" style=\"stroke: #000000; stroke-width: 0.8\"/>\n      </g>\n     </g>\n     <g id=\"text_23\">\n      <!-- 0.90 -->\n      <g transform=\"translate(365.096994 100.982659) scale(0.12 -0.12)\">\n       <use xlink:href=\"#DejaVuSans-30\"/>\n       <use xlink:href=\"#DejaVuSans-2e\" x=\"63.623047\"/>\n       <use xlink:href=\"#DejaVuSans-39\" x=\"95.410156\"/>\n       <use xlink:href=\"#DejaVuSans-30\" x=\"159.033203\"/>\n      </g>\n     </g>\n    </g>\n    <g id=\"ytick_38\">\n     <g id=\"line2d_64\">\n      <g>\n       <use xlink:href=\"#m170d89d212\" x=\"398.815744\" y=\"63.568212\" style=\"stroke: #000000; stroke-width: 0.8\"/>\n      </g>\n     </g>\n     <g id=\"text_24\">\n      <!-- 0.95 -->\n      <g transform=\"translate(365.096994 68.127274) scale(0.12 -0.12)\">\n       <use xlink:href=\"#DejaVuSans-30\"/>\n       <use xlink:href=\"#DejaVuSans-2e\" x=\"63.623047\"/>\n       <use xlink:href=\"#DejaVuSans-39\" x=\"95.410156\"/>\n       <use xlink:href=\"#DejaVuSans-35\" x=\"159.033203\"/>\n      </g>\n     </g>\n    </g>\n    <g id=\"ytick_39\">\n     <g id=\"line2d_65\">\n      <g>\n       <use xlink:href=\"#m170d89d212\" x=\"398.815744\" y=\"30.712827\" style=\"stroke: #000000; stroke-width: 0.8\"/>\n      </g>\n     </g>\n     <g id=\"text_25\">\n      <!-- 1.00 -->\n      <g transform=\"translate(365.096994 35.271889) scale(0.12 -0.12)\">\n       <use xlink:href=\"#DejaVuSans-31\"/>\n       <use xlink:href=\"#DejaVuSans-2e\" x=\"63.623047\"/>\n       <use xlink:href=\"#DejaVuSans-30\" x=\"95.410156\"/>\n       <use xlink:href=\"#DejaVuSans-30\" x=\"159.033203\"/>\n      </g>\n     </g>\n    </g>\n    <g id=\"ytick_40\">\n     <g id=\"line2d_66\">\n      <g>\n       <use xlink:href=\"#mdad24bcf5f\" x=\"398.815744\" y=\"188.418673\" style=\"stroke: #000000; stroke-width: 0.6\"/>\n      </g>\n     </g>\n    </g>\n    <g id=\"ytick_41\">\n     <g id=\"line2d_67\">\n      <g>\n       <use xlink:href=\"#mdad24bcf5f\" x=\"398.815744\" y=\"181.847596\" style=\"stroke: #000000; stroke-width: 0.6\"/>\n      </g>\n     </g>\n    </g>\n    <g id=\"ytick_42\">\n     <g id=\"line2d_68\">\n      <g>\n       <use xlink:href=\"#mdad24bcf5f\" x=\"398.815744\" y=\"175.276519\" style=\"stroke: #000000; stroke-width: 0.6\"/>\n      </g>\n     </g>\n    </g>\n    <g id=\"ytick_43\">\n     <g id=\"line2d_69\">\n      <g>\n       <use xlink:href=\"#mdad24bcf5f\" x=\"398.815744\" y=\"168.705442\" style=\"stroke: #000000; stroke-width: 0.6\"/>\n      </g>\n     </g>\n    </g>\n    <g id=\"ytick_44\">\n     <g id=\"line2d_70\">\n      <g>\n       <use xlink:href=\"#mdad24bcf5f\" x=\"398.815744\" y=\"155.563288\" style=\"stroke: #000000; stroke-width: 0.6\"/>\n      </g>\n     </g>\n    </g>\n    <g id=\"ytick_45\">\n     <g id=\"line2d_71\">\n      <g>\n       <use xlink:href=\"#mdad24bcf5f\" x=\"398.815744\" y=\"148.992212\" style=\"stroke: #000000; stroke-width: 0.6\"/>\n      </g>\n     </g>\n    </g>\n    <g id=\"ytick_46\">\n     <g id=\"line2d_72\">\n      <g>\n       <use xlink:href=\"#mdad24bcf5f\" x=\"398.815744\" y=\"142.421135\" style=\"stroke: #000000; stroke-width: 0.6\"/>\n      </g>\n     </g>\n    </g>\n    <g id=\"ytick_47\">\n     <g id=\"line2d_73\">\n      <g>\n       <use xlink:href=\"#mdad24bcf5f\" x=\"398.815744\" y=\"135.850058\" style=\"stroke: #000000; stroke-width: 0.6\"/>\n      </g>\n     </g>\n    </g>\n    <g id=\"ytick_48\">\n     <g id=\"line2d_74\">\n      <g>\n       <use xlink:href=\"#mdad24bcf5f\" x=\"398.815744\" y=\"122.707904\" style=\"stroke: #000000; stroke-width: 0.6\"/>\n      </g>\n     </g>\n    </g>\n    <g id=\"ytick_49\">\n     <g id=\"line2d_75\">\n      <g>\n       <use xlink:href=\"#mdad24bcf5f\" x=\"398.815744\" y=\"116.136827\" style=\"stroke: #000000; stroke-width: 0.6\"/>\n      </g>\n     </g>\n    </g>\n    <g id=\"ytick_50\">\n     <g id=\"line2d_76\">\n      <g>\n       <use xlink:href=\"#mdad24bcf5f\" x=\"398.815744\" y=\"109.56575\" style=\"stroke: #000000; stroke-width: 0.6\"/>\n      </g>\n     </g>\n    </g>\n    <g id=\"ytick_51\">\n     <g id=\"line2d_77\">\n      <g>\n       <use xlink:href=\"#mdad24bcf5f\" x=\"398.815744\" y=\"102.994673\" style=\"stroke: #000000; stroke-width: 0.6\"/>\n      </g>\n     </g>\n    </g>\n    <g id=\"ytick_52\">\n     <g id=\"line2d_78\">\n      <g>\n       <use xlink:href=\"#mdad24bcf5f\" x=\"398.815744\" y=\"89.852519\" style=\"stroke: #000000; stroke-width: 0.6\"/>\n      </g>\n     </g>\n    </g>\n    <g id=\"ytick_53\">\n     <g id=\"line2d_79\">\n      <g>\n       <use xlink:href=\"#mdad24bcf5f\" x=\"398.815744\" y=\"83.281442\" style=\"stroke: #000000; stroke-width: 0.6\"/>\n      </g>\n     </g>\n    </g>\n    <g id=\"ytick_54\">\n     <g id=\"line2d_80\">\n      <g>\n       <use xlink:href=\"#mdad24bcf5f\" x=\"398.815744\" y=\"76.710365\" style=\"stroke: #000000; stroke-width: 0.6\"/>\n      </g>\n     </g>\n    </g>\n    <g id=\"ytick_55\">\n     <g id=\"line2d_81\">\n      <g>\n       <use xlink:href=\"#mdad24bcf5f\" x=\"398.815744\" y=\"70.139288\" style=\"stroke: #000000; stroke-width: 0.6\"/>\n      </g>\n     </g>\n    </g>\n    <g id=\"ytick_56\">\n     <g id=\"line2d_82\">\n      <g>\n       <use xlink:href=\"#mdad24bcf5f\" x=\"398.815744\" y=\"56.997135\" style=\"stroke: #000000; stroke-width: 0.6\"/>\n      </g>\n     </g>\n    </g>\n    <g id=\"ytick_57\">\n     <g id=\"line2d_83\">\n      <g>\n       <use xlink:href=\"#mdad24bcf5f\" x=\"398.815744\" y=\"50.426058\" style=\"stroke: #000000; stroke-width: 0.6\"/>\n      </g>\n     </g>\n    </g>\n    <g id=\"ytick_58\">\n     <g id=\"line2d_84\">\n      <g>\n       <use xlink:href=\"#mdad24bcf5f\" x=\"398.815744\" y=\"43.854981\" style=\"stroke: #000000; stroke-width: 0.6\"/>\n      </g>\n     </g>\n    </g>\n    <g id=\"ytick_59\">\n     <g id=\"line2d_85\">\n      <g>\n       <use xlink:href=\"#mdad24bcf5f\" x=\"398.815744\" y=\"37.283904\" style=\"stroke: #000000; stroke-width: 0.6\"/>\n      </g>\n     </g>\n    </g>\n    <g id=\"ytick_60\">\n     <g id=\"line2d_86\">\n      <g>\n       <use xlink:href=\"#mdad24bcf5f\" x=\"398.815744\" y=\"24.14175\" style=\"stroke: #000000; stroke-width: 0.6\"/>\n      </g>\n     </g>\n    </g>\n    <g id=\"text_26\">\n     <!-- Probability -->\n     <g transform=\"translate(358.601369 141.280438) rotate(-90) scale(0.12 -0.12)\">\n      <use xlink:href=\"#DejaVuSans-50\"/>\n      <use xlink:href=\"#DejaVuSans-72\" x=\"58.552734\"/>\n      <use xlink:href=\"#DejaVuSans-6f\" x=\"97.416016\"/>\n      <use xlink:href=\"#DejaVuSans-62\" x=\"158.597656\"/>\n      <use xlink:href=\"#DejaVuSans-61\" x=\"222.074219\"/>\n      <use xlink:href=\"#DejaVuSans-62\" x=\"283.353516\"/>\n      <use xlink:href=\"#DejaVuSans-69\" x=\"346.830078\"/>\n      <use xlink:href=\"#DejaVuSans-6c\" x=\"374.613281\"/>\n      <use xlink:href=\"#DejaVuSans-69\" x=\"402.396484\"/>\n      <use xlink:href=\"#DejaVuSans-74\" x=\"430.179688\"/>\n      <use xlink:href=\"#DejaVuSans-79\" x=\"469.388672\"/>\n     </g>\n    </g>\n   </g>\n   <g id=\"line2d_87\">\n    <path d=\"M 399.885417 237.41725 \nL 400.393471 209.605498 \nL 401.041466 184.758084 \nL 401.60494 170.080844 \nL 402.393803 155.817204 \nL 403.267187 143.852296 \nL 404.253266 133.400826 \nL 405.380214 123.44744 \nL 406.619856 114.291525 \nL 408.084888 105.109565 \nL 409.324531 98.69144 \nL 410.676868 92.886156 \nL 412.254594 87.129087 \nL 413.775974 82.408289 \nL 415.3537 78.155297 \nL 417.156816 73.994035 \nL 419.01628 70.219817 \nL 421.101133 66.481789 \nL 423.467723 62.720378 \nL 425.524402 59.867909 \nL 427.693776 57.227723 \nL 430.144887 54.586244 \nL 432.76504 52.067788 \nL 435.469715 49.767334 \nL 438.230736 47.699921 \nL 441.245321 45.742018 \nL 444.485295 43.876118 \nL 447.640749 42.311762 \nL 451.134286 40.807214 \nL 454.712345 39.484242 \nL 458.713009 38.232514 \nL 463.220799 37.050738 \nL 468.404758 35.932412 \nL 473.757759 35.010155 \nL 479.815102 34.187576 \nL 487.196609 33.416581 \nL 495.564195 32.783647 \nL 505.565855 32.25525 \nL 518.018626 31.829586 \nL 534.781971 31.497884 \nL 558.532392 31.24565 \nL 606.202275 31.025338 \nL 680.580816 30.890056 \nL 680.580816 30.890056 \n\" clip-path=\"url(#pdce10e2c4d)\" style=\"fill: none; stroke: #000000; stroke-width: 1.5; stroke-linecap: square\"/>\n   </g>\n   <g id=\"LineCollection_1\">\n    <path d=\"M 455.163124 237.41725 \nL 455.163124 -1 \n\" clip-path=\"url(#pdce10e2c4d)\" style=\"fill: none; stroke: #0071bc; stroke-width: 1.5\"/>\n   </g>\n   <g id=\"LineCollection_2\">\n    <path d=\"M 398.815744 63.568212 \nL 680.552643 63.568212 \n\" clip-path=\"url(#pdce10e2c4d)\" style=\"fill: none; stroke-dasharray: 5.55,2.4; stroke-dashoffset: 0; stroke: #f7931e; stroke-width: 1.5\"/>\n   </g>\n   <g id=\"patch_107\">\n    <path d=\"M 398.815744 194.98975 \nL 398.815744 24.14175 \n\" style=\"fill: none; stroke: #000000; stroke-width: 0.8; stroke-linejoin: miter; stroke-linecap: square\"/>\n   </g>\n   <g id=\"patch_108\">\n    <path d=\"M 680.552643 194.98975 \nL 680.552643 24.14175 \n\" style=\"fill: none; stroke: #000000; stroke-width: 0.8; stroke-linejoin: miter; stroke-linecap: square\"/>\n   </g>\n   <g id=\"patch_109\">\n    <path d=\"M 398.815744 194.98975 \nL 680.552643 194.98975 \n\" style=\"fill: none; stroke: #000000; stroke-width: 0.8; stroke-linejoin: miter; stroke-linecap: square\"/>\n   </g>\n   <g id=\"patch_110\">\n    <path d=\"M 398.815744 24.14175 \nL 680.552643 24.14175 \n\" style=\"fill: none; stroke: #000000; stroke-width: 0.8; stroke-linejoin: miter; stroke-linecap: square\"/>\n   </g>\n   <g id=\"text_27\">\n    <!-- Cumulative probability -->\n    <g transform=\"translate(457.888818 18.14175) scale(0.144 -0.144)\">\n     <defs>\n      <path id=\"DejaVuSans-6d\" d=\"M 3328 2828 \nQ 3544 3216 3844 3400 \nQ 4144 3584 4550 3584 \nQ 5097 3584 5394 3201 \nQ 5691 2819 5691 2113 \nL 5691 0 \nL 5113 0 \nL 5113 2094 \nQ 5113 2597 4934 2840 \nQ 4756 3084 4391 3084 \nQ 3944 3084 3684 2787 \nQ 3425 2491 3425 1978 \nL 3425 0 \nL 2847 0 \nL 2847 2094 \nQ 2847 2600 2669 2842 \nQ 2491 3084 2119 3084 \nQ 1678 3084 1418 2786 \nQ 1159 2488 1159 1978 \nL 1159 0 \nL 581 0 \nL 581 3500 \nL 1159 3500 \nL 1159 2956 \nQ 1356 3278 1631 3431 \nQ 1906 3584 2284 3584 \nQ 2666 3584 2933 3390 \nQ 3200 3197 3328 2828 \nz\n\" transform=\"scale(0.015625)\"/>\n      <path id=\"DejaVuSans-76\" d=\"M 191 3500 \nL 800 3500 \nL 1894 563 \nL 2988 3500 \nL 3597 3500 \nL 2284 0 \nL 1503 0 \nL 191 3500 \nz\n\" transform=\"scale(0.015625)\"/>\n     </defs>\n     <use xlink:href=\"#DejaVuSans-43\"/>\n     <use xlink:href=\"#DejaVuSans-75\" x=\"69.824219\"/>\n     <use xlink:href=\"#DejaVuSans-6d\" x=\"133.203125\"/>\n     <use xlink:href=\"#DejaVuSans-75\" x=\"230.615234\"/>\n     <use xlink:href=\"#DejaVuSans-6c\" x=\"293.994141\"/>\n     <use xlink:href=\"#DejaVuSans-61\" x=\"321.777344\"/>\n     <use xlink:href=\"#DejaVuSans-74\" x=\"383.056641\"/>\n     <use xlink:href=\"#DejaVuSans-69\" x=\"422.265625\"/>\n     <use xlink:href=\"#DejaVuSans-76\" x=\"450.048828\"/>\n     <use xlink:href=\"#DejaVuSans-65\" x=\"509.228516\"/>\n     <use xlink:href=\"#DejaVuSans-20\" x=\"570.751953\"/>\n     <use xlink:href=\"#DejaVuSans-70\" x=\"602.539062\"/>\n     <use xlink:href=\"#DejaVuSans-72\" x=\"666.015625\"/>\n     <use xlink:href=\"#DejaVuSans-6f\" x=\"704.878906\"/>\n     <use xlink:href=\"#DejaVuSans-62\" x=\"766.060547\"/>\n     <use xlink:href=\"#DejaVuSans-61\" x=\"829.537109\"/>\n     <use xlink:href=\"#DejaVuSans-62\" x=\"890.816406\"/>\n     <use xlink:href=\"#DejaVuSans-69\" x=\"954.292969\"/>\n     <use xlink:href=\"#DejaVuSans-6c\" x=\"982.076172\"/>\n     <use xlink:href=\"#DejaVuSans-69\" x=\"1009.859375\"/>\n     <use xlink:href=\"#DejaVuSans-74\" x=\"1037.642578\"/>\n     <use xlink:href=\"#DejaVuSans-79\" x=\"1076.851562\"/>\n    </g>\n   </g>\n   <g id=\"legend_1\">\n    <g id=\"patch_111\">\n     <path d=\"M 469.480143 188.98975 \nL 672.152643 188.98975 \nQ 674.552643 188.98975 674.552643 186.58975 \nL 674.552643 152.56225 \nQ 674.552643 150.16225 672.152643 150.16225 \nL 469.480143 150.16225 \nQ 467.080143 150.16225 467.080143 152.56225 \nL 467.080143 186.58975 \nQ 467.080143 188.98975 469.480143 188.98975 \nz\n\" style=\"fill: #ffffff; opacity: 0.8; stroke: #cccccc; stroke-linejoin: miter\"/>\n    </g>\n    <g id=\"line2d_88\">\n     <path d=\"M 471.880143 159.880375 \nL 495.880143 159.880375 \n\" style=\"fill: none; stroke: #0071bc; stroke-width: 1.5\"/>\n    </g>\n    <g id=\"text_28\">\n     <!-- top-k threshold (k=2000) -->\n     <g transform=\"translate(505.480143 164.080375) scale(0.12 -0.12)\">\n      <defs>\n       <path id=\"DejaVuSans-2d\" d=\"M 313 2009 \nL 1997 2009 \nL 1997 1497 \nL 313 1497 \nL 313 2009 \nz\n\" transform=\"scale(0.015625)\"/>\n       <path id=\"DejaVuSans-68\" d=\"M 3513 2113 \nL 3513 0 \nL 2938 0 \nL 2938 2094 \nQ 2938 2591 2744 2837 \nQ 2550 3084 2163 3084 \nQ 1697 3084 1428 2787 \nQ 1159 2491 1159 1978 \nL 1159 0 \nL 581 0 \nL 581 4863 \nL 1159 4863 \nL 1159 2956 \nQ 1366 3272 1645 3428 \nQ 1925 3584 2291 3584 \nQ 2894 3584 3203 3211 \nQ 3513 2838 3513 2113 \nz\n\" transform=\"scale(0.015625)\"/>\n       <path id=\"DejaVuSans-3d\" d=\"M 678 2906 \nL 4684 2906 \nL 4684 2381 \nL 678 2381 \nL 678 2906 \nz\nM 678 1631 \nL 4684 1631 \nL 4684 1100 \nL 678 1100 \nL 678 1631 \nz\n\" transform=\"scale(0.015625)\"/>\n      </defs>\n      <use xlink:href=\"#DejaVuSans-74\"/>\n      <use xlink:href=\"#DejaVuSans-6f\" x=\"39.208984\"/>\n      <use xlink:href=\"#DejaVuSans-70\" x=\"100.390625\"/>\n      <use xlink:href=\"#DejaVuSans-2d\" x=\"163.867188\"/>\n      <use xlink:href=\"#DejaVuSans-6b\" x=\"199.951172\"/>\n      <use xlink:href=\"#DejaVuSans-20\" x=\"257.861328\"/>\n      <use xlink:href=\"#DejaVuSans-74\" x=\"289.648438\"/>\n      <use xlink:href=\"#DejaVuSans-68\" x=\"328.857422\"/>\n      <use xlink:href=\"#DejaVuSans-72\" x=\"392.236328\"/>\n      <use xlink:href=\"#DejaVuSans-65\" x=\"431.099609\"/>\n      <use xlink:href=\"#DejaVuSans-73\" x=\"492.623047\"/>\n      <use xlink:href=\"#DejaVuSans-68\" x=\"544.722656\"/>\n      <use xlink:href=\"#DejaVuSans-6f\" x=\"608.101562\"/>\n      <use xlink:href=\"#DejaVuSans-6c\" x=\"669.283203\"/>\n      <use xlink:href=\"#DejaVuSans-64\" x=\"697.066406\"/>\n      <use xlink:href=\"#DejaVuSans-20\" x=\"760.542969\"/>\n      <use xlink:href=\"#DejaVuSans-28\" x=\"792.330078\"/>\n      <use xlink:href=\"#DejaVuSans-6b\" x=\"831.34375\"/>\n      <use xlink:href=\"#DejaVuSans-3d\" x=\"889.253906\"/>\n      <use xlink:href=\"#DejaVuSans-32\" x=\"973.042969\"/>\n      <use xlink:href=\"#DejaVuSans-30\" x=\"1036.666016\"/>\n      <use xlink:href=\"#DejaVuSans-30\" x=\"1100.289062\"/>\n      <use xlink:href=\"#DejaVuSans-30\" x=\"1163.912109\"/>\n      <use xlink:href=\"#DejaVuSans-29\" x=\"1227.535156\"/>\n     </g>\n    </g>\n    <g id=\"line2d_89\">\n     <path d=\"M 471.880143 177.494125 \nL 495.880143 177.494125 \n\" style=\"fill: none; stroke-dasharray: 5.55,2.4; stroke-dashoffset: 0; stroke: #f7931e; stroke-width: 1.5\"/>\n    </g>\n    <g id=\"text_29\">\n     <!-- nucleus threshold (p=0.95) -->\n     <g transform=\"translate(505.480143 181.694125) scale(0.12 -0.12)\">\n      <use xlink:href=\"#DejaVuSans-6e\"/>\n      <use xlink:href=\"#DejaVuSans-75\" x=\"63.378906\"/>\n      <use xlink:href=\"#DejaVuSans-63\" x=\"126.757812\"/>\n      <use xlink:href=\"#DejaVuSans-6c\" x=\"181.738281\"/>\n      <use xlink:href=\"#DejaVuSans-65\" x=\"209.521484\"/>\n      <use xlink:href=\"#DejaVuSans-75\" x=\"271.044922\"/>\n      <use xlink:href=\"#DejaVuSans-73\" x=\"334.423828\"/>\n      <use xlink:href=\"#DejaVuSans-20\" x=\"386.523438\"/>\n      <use xlink:href=\"#DejaVuSans-74\" x=\"418.310547\"/>\n      <use xlink:href=\"#DejaVuSans-68\" x=\"457.519531\"/>\n      <use xlink:href=\"#DejaVuSans-72\" x=\"520.898438\"/>\n      <use xlink:href=\"#DejaVuSans-65\" x=\"559.761719\"/>\n      <use xlink:href=\"#DejaVuSans-73\" x=\"621.285156\"/>\n      <use xlink:href=\"#DejaVuSans-68\" x=\"673.384766\"/>\n      <use xlink:href=\"#DejaVuSans-6f\" x=\"736.763672\"/>\n      <use xlink:href=\"#DejaVuSans-6c\" x=\"797.945312\"/>\n      <use xlink:href=\"#DejaVuSans-64\" x=\"825.728516\"/>\n      <use xlink:href=\"#DejaVuSans-20\" x=\"889.205078\"/>\n      <use xlink:href=\"#DejaVuSans-28\" x=\"920.992188\"/>\n      <use xlink:href=\"#DejaVuSans-70\" x=\"960.005859\"/>\n      <use xlink:href=\"#DejaVuSans-3d\" x=\"1023.482422\"/>\n      <use xlink:href=\"#DejaVuSans-30\" x=\"1107.271484\"/>\n      <use xlink:href=\"#DejaVuSans-2e\" x=\"1170.894531\"/>\n      <use xlink:href=\"#DejaVuSans-39\" x=\"1202.681641\"/>\n      <use xlink:href=\"#DejaVuSans-35\" x=\"1266.304688\"/>\n      <use xlink:href=\"#DejaVuSans-29\" x=\"1329.927734\"/>\n     </g>\n    </g>\n   </g>\n  </g>\n </g>\n <defs>\n  <clipPath id=\"p4f08a09ae3\">\n   <rect x=\"50.93375\" y=\"24.14175\" width=\"281.736898\" height=\"170.848\"/>\n  </clipPath>\n  <clipPath id=\"pdce10e2c4d\">\n   <rect x=\"398.815744\" y=\"24.14175\" width=\"281.736898\" height=\"170.848\"/>\n  </clipPath>\n </defs>\n</svg>\n",
            "application/pdf": "[encoded data removed]"
          },
          "metadata": {}
        }
      ]
    },
    {
      "cell_type": "code",
      "source": [
        "### Top K\n",
        "\n",
        "\n",
        "output_topk = model.generate(input_ids, max_length = max_length, do_sample = True, top_k = 50)"
      ],
      "metadata": {
        "id": "B-I4eiE-Zeqy"
      },
      "execution_count": 51,
      "outputs": []
    },
    {
      "cell_type": "code",
      "source": [
        "print(tokenizer.decode(output_topk[0]))"
      ],
      "metadata": {
        "colab": {
          "base_uri": "https://localhost:8080/"
        },
        "id": "FSX_bJTPa0lJ",
        "outputId": "2ba6f6cb-bdac-4539-b849-9eaa199faead"
      },
      "execution_count": 53,
      "outputs": [
        {
          "output_type": "stream",
          "name": "stdout",
          "text": [
            "In a shocking finding, scientist discovered a herd of unicorns living in a\n",
            "remote, previously unexplored valley, in the Andes Mountains. Even more\n",
            "surprising to the researchers was the fact that the unicorns spoke perfect\n",
            "English.\n",
            "\n",
            "\n",
            "The wild unicorns roam in the low mountains of the Andes, making it hard for\n",
            "human beings to find them. (Photo by H.K. Kim/AP Images)\n",
            "\n",
            "An analysis of the findings from the Himalayan Project's expedition into the\n",
            "Valley of the Unicorn concluded that the unicorns are actually descendants of\n",
            "wild horses killed by the Indians before their migration to the Americas. The\n",
            "horses weren\n"
          ]
        }
      ]
    },
    {
      "cell_type": "code",
      "source": [
        "#### How to choose K??\n",
        "\n",
        "#### Use different metrics that we will discuss in next chapter"
      ],
      "metadata": {
        "id": "T-Kas9zKa4TE"
      },
      "execution_count": 54,
      "outputs": []
    },
    {
      "cell_type": "code",
      "source": [
        "#### Top p :  Dynamic cutoff. Can set p = 0.90, we will take all the tokens that come under 90 %\n"
      ],
      "metadata": {
        "id": "sScMux8ZbmLE"
      },
      "execution_count": 55,
      "outputs": []
    },
    {
      "cell_type": "code",
      "source": [
        "\n",
        "output_topp = model.generate(input_ids, max_length=max_length, do_sample=True, \n",
        "                             top_p=0.90)\n",
        "print(tokenizer.decode(output_topp[0]))\n",
        "     "
      ],
      "metadata": {
        "colab": {
          "base_uri": "https://localhost:8080/"
        },
        "id": "gEWpl1SYcEW_",
        "outputId": "42b8da80-38fd-4cdf-e5f4-6ce9cd7b85f1"
      },
      "execution_count": 56,
      "outputs": [
        {
          "output_type": "stream",
          "name": "stdout",
          "text": [
            "In a shocking finding, scientist discovered a herd of unicorns living in a\n",
            "remote, previously unexplored valley, in the Andes Mountains. Even more\n",
            "surprising to the researchers was the fact that the unicorns spoke perfect\n",
            "English.\n",
            "\n",
            "\n",
            "Scientists from the Universidad de Concepcion (UCD) and the Universidad de Nueva\n",
            "Esparta (UNE) in Santiago, Chile, have made headlines around the world with the\n",
            "discovery that a herd of unicorns living in a remote, previously unexplored\n",
            "valley, in the Andes Mountains, has been revealed.\n",
            "\n",
            "\n",
            "\"It is not uncommon to see birds like albatrosses\n"
          ]
        }
      ]
    },
    {
      "cell_type": "code",
      "source": [
        "#### combining top_p and top_k:\n",
        "### If top_k = 50, top_p = 0.90  ;  take 90 % probability from top k tokens"
      ],
      "metadata": {
        "id": "i8J-poxecG7i"
      },
      "execution_count": 57,
      "outputs": []
    },
    {
      "cell_type": "code",
      "source": [],
      "metadata": {
        "id": "1A59pdqscat3"
      },
      "execution_count": null,
      "outputs": []
    }
  ]
}