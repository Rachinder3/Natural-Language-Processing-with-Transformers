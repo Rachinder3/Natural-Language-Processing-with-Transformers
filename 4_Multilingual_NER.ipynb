{
  "nbformat": 4,
  "nbformat_minor": 0,
  "metadata": {
    "colab": {
      "provenance": []
    },
    "kernelspec": {
      "name": "python3",
      "display_name": "Python 3"
    },
    "language_info": {
      "name": "python"
    },
    "gpuClass": "standard",
    "widgets": {
      "application/vnd.jupyter.widget-state+json": {
        "c816a0b8fd354285971416837c9cb391": {
          "model_module": "@jupyter-widgets/controls",
          "model_name": "HBoxModel",
          "model_module_version": "1.5.0",
          "state": {
            "_dom_classes": [],
            "_model_module": "@jupyter-widgets/controls",
            "_model_module_version": "1.5.0",
            "_model_name": "HBoxModel",
            "_view_count": null,
            "_view_module": "@jupyter-widgets/controls",
            "_view_module_version": "1.5.0",
            "_view_name": "HBoxView",
            "box_style": "",
            "children": [
              "IPY_MODEL_e498d203d939463ea9c6e1fbcdece6a1",
              "IPY_MODEL_f818b02926db42868adbec8b74d295f1",
              "IPY_MODEL_8469ec6cd9fb4e18b5b992c52a57348f"
            ],
            "layout": "IPY_MODEL_31750d096f044edabc84282901b8af16"
          }
        },
        "e498d203d939463ea9c6e1fbcdece6a1": {
          "model_module": "@jupyter-widgets/controls",
          "model_name": "HTMLModel",
          "model_module_version": "1.5.0",
          "state": {
            "_dom_classes": [],
            "_model_module": "@jupyter-widgets/controls",
            "_model_module_version": "1.5.0",
            "_model_name": "HTMLModel",
            "_view_count": null,
            "_view_module": "@jupyter-widgets/controls",
            "_view_module_version": "1.5.0",
            "_view_name": "HTMLView",
            "description": "",
            "description_tooltip": null,
            "layout": "IPY_MODEL_e76048030d814aba88d697eea02ed43d",
            "placeholder": "​",
            "style": "IPY_MODEL_aa26cca21cd64ad08c2976a11916bbde",
            "value": "100%"
          }
        },
        "f818b02926db42868adbec8b74d295f1": {
          "model_module": "@jupyter-widgets/controls",
          "model_name": "FloatProgressModel",
          "model_module_version": "1.5.0",
          "state": {
            "_dom_classes": [],
            "_model_module": "@jupyter-widgets/controls",
            "_model_module_version": "1.5.0",
            "_model_name": "FloatProgressModel",
            "_view_count": null,
            "_view_module": "@jupyter-widgets/controls",
            "_view_module_version": "1.5.0",
            "_view_name": "ProgressView",
            "bar_style": "success",
            "description": "",
            "description_tooltip": null,
            "layout": "IPY_MODEL_1330b6e0de9f497fab0754fbc884a6d0",
            "max": 3,
            "min": 0,
            "orientation": "horizontal",
            "style": "IPY_MODEL_0fdd353755d24e55b06fdf345c03011d",
            "value": 3
          }
        },
        "8469ec6cd9fb4e18b5b992c52a57348f": {
          "model_module": "@jupyter-widgets/controls",
          "model_name": "HTMLModel",
          "model_module_version": "1.5.0",
          "state": {
            "_dom_classes": [],
            "_model_module": "@jupyter-widgets/controls",
            "_model_module_version": "1.5.0",
            "_model_name": "HTMLModel",
            "_view_count": null,
            "_view_module": "@jupyter-widgets/controls",
            "_view_module_version": "1.5.0",
            "_view_name": "HTMLView",
            "description": "",
            "description_tooltip": null,
            "layout": "IPY_MODEL_426087d774e4402588eb1a33f307e02f",
            "placeholder": "​",
            "style": "IPY_MODEL_32a171673a634b1d97398251de3ddf15",
            "value": " 3/3 [00:00&lt;00:00, 25.62it/s]"
          }
        },
        "31750d096f044edabc84282901b8af16": {
          "model_module": "@jupyter-widgets/base",
          "model_name": "LayoutModel",
          "model_module_version": "1.2.0",
          "state": {
            "_model_module": "@jupyter-widgets/base",
            "_model_module_version": "1.2.0",
            "_model_name": "LayoutModel",
            "_view_count": null,
            "_view_module": "@jupyter-widgets/base",
            "_view_module_version": "1.2.0",
            "_view_name": "LayoutView",
            "align_content": null,
            "align_items": null,
            "align_self": null,
            "border": null,
            "bottom": null,
            "display": null,
            "flex": null,
            "flex_flow": null,
            "grid_area": null,
            "grid_auto_columns": null,
            "grid_auto_flow": null,
            "grid_auto_rows": null,
            "grid_column": null,
            "grid_gap": null,
            "grid_row": null,
            "grid_template_areas": null,
            "grid_template_columns": null,
            "grid_template_rows": null,
            "height": null,
            "justify_content": null,
            "justify_items": null,
            "left": null,
            "margin": null,
            "max_height": null,
            "max_width": null,
            "min_height": null,
            "min_width": null,
            "object_fit": null,
            "object_position": null,
            "order": null,
            "overflow": null,
            "overflow_x": null,
            "overflow_y": null,
            "padding": null,
            "right": null,
            "top": null,
            "visibility": null,
            "width": null
          }
        },
        "e76048030d814aba88d697eea02ed43d": {
          "model_module": "@jupyter-widgets/base",
          "model_name": "LayoutModel",
          "model_module_version": "1.2.0",
          "state": {
            "_model_module": "@jupyter-widgets/base",
            "_model_module_version": "1.2.0",
            "_model_name": "LayoutModel",
            "_view_count": null,
            "_view_module": "@jupyter-widgets/base",
            "_view_module_version": "1.2.0",
            "_view_name": "LayoutView",
            "align_content": null,
            "align_items": null,
            "align_self": null,
            "border": null,
            "bottom": null,
            "display": null,
            "flex": null,
            "flex_flow": null,
            "grid_area": null,
            "grid_auto_columns": null,
            "grid_auto_flow": null,
            "grid_auto_rows": null,
            "grid_column": null,
            "grid_gap": null,
            "grid_row": null,
            "grid_template_areas": null,
            "grid_template_columns": null,
            "grid_template_rows": null,
            "height": null,
            "justify_content": null,
            "justify_items": null,
            "left": null,
            "margin": null,
            "max_height": null,
            "max_width": null,
            "min_height": null,
            "min_width": null,
            "object_fit": null,
            "object_position": null,
            "order": null,
            "overflow": null,
            "overflow_x": null,
            "overflow_y": null,
            "padding": null,
            "right": null,
            "top": null,
            "visibility": null,
            "width": null
          }
        },
        "aa26cca21cd64ad08c2976a11916bbde": {
          "model_module": "@jupyter-widgets/controls",
          "model_name": "DescriptionStyleModel",
          "model_module_version": "1.5.0",
          "state": {
            "_model_module": "@jupyter-widgets/controls",
            "_model_module_version": "1.5.0",
            "_model_name": "DescriptionStyleModel",
            "_view_count": null,
            "_view_module": "@jupyter-widgets/base",
            "_view_module_version": "1.2.0",
            "_view_name": "StyleView",
            "description_width": ""
          }
        },
        "1330b6e0de9f497fab0754fbc884a6d0": {
          "model_module": "@jupyter-widgets/base",
          "model_name": "LayoutModel",
          "model_module_version": "1.2.0",
          "state": {
            "_model_module": "@jupyter-widgets/base",
            "_model_module_version": "1.2.0",
            "_model_name": "LayoutModel",
            "_view_count": null,
            "_view_module": "@jupyter-widgets/base",
            "_view_module_version": "1.2.0",
            "_view_name": "LayoutView",
            "align_content": null,
            "align_items": null,
            "align_self": null,
            "border": null,
            "bottom": null,
            "display": null,
            "flex": null,
            "flex_flow": null,
            "grid_area": null,
            "grid_auto_columns": null,
            "grid_auto_flow": null,
            "grid_auto_rows": null,
            "grid_column": null,
            "grid_gap": null,
            "grid_row": null,
            "grid_template_areas": null,
            "grid_template_columns": null,
            "grid_template_rows": null,
            "height": null,
            "justify_content": null,
            "justify_items": null,
            "left": null,
            "margin": null,
            "max_height": null,
            "max_width": null,
            "min_height": null,
            "min_width": null,
            "object_fit": null,
            "object_position": null,
            "order": null,
            "overflow": null,
            "overflow_x": null,
            "overflow_y": null,
            "padding": null,
            "right": null,
            "top": null,
            "visibility": null,
            "width": null
          }
        },
        "0fdd353755d24e55b06fdf345c03011d": {
          "model_module": "@jupyter-widgets/controls",
          "model_name": "ProgressStyleModel",
          "model_module_version": "1.5.0",
          "state": {
            "_model_module": "@jupyter-widgets/controls",
            "_model_module_version": "1.5.0",
            "_model_name": "ProgressStyleModel",
            "_view_count": null,
            "_view_module": "@jupyter-widgets/base",
            "_view_module_version": "1.2.0",
            "_view_name": "StyleView",
            "bar_color": null,
            "description_width": ""
          }
        },
        "426087d774e4402588eb1a33f307e02f": {
          "model_module": "@jupyter-widgets/base",
          "model_name": "LayoutModel",
          "model_module_version": "1.2.0",
          "state": {
            "_model_module": "@jupyter-widgets/base",
            "_model_module_version": "1.2.0",
            "_model_name": "LayoutModel",
            "_view_count": null,
            "_view_module": "@jupyter-widgets/base",
            "_view_module_version": "1.2.0",
            "_view_name": "LayoutView",
            "align_content": null,
            "align_items": null,
            "align_self": null,
            "border": null,
            "bottom": null,
            "display": null,
            "flex": null,
            "flex_flow": null,
            "grid_area": null,
            "grid_auto_columns": null,
            "grid_auto_flow": null,
            "grid_auto_rows": null,
            "grid_column": null,
            "grid_gap": null,
            "grid_row": null,
            "grid_template_areas": null,
            "grid_template_columns": null,
            "grid_template_rows": null,
            "height": null,
            "justify_content": null,
            "justify_items": null,
            "left": null,
            "margin": null,
            "max_height": null,
            "max_width": null,
            "min_height": null,
            "min_width": null,
            "object_fit": null,
            "object_position": null,
            "order": null,
            "overflow": null,
            "overflow_x": null,
            "overflow_y": null,
            "padding": null,
            "right": null,
            "top": null,
            "visibility": null,
            "width": null
          }
        },
        "32a171673a634b1d97398251de3ddf15": {
          "model_module": "@jupyter-widgets/controls",
          "model_name": "DescriptionStyleModel",
          "model_module_version": "1.5.0",
          "state": {
            "_model_module": "@jupyter-widgets/controls",
            "_model_module_version": "1.5.0",
            "_model_name": "DescriptionStyleModel",
            "_view_count": null,
            "_view_module": "@jupyter-widgets/base",
            "_view_module_version": "1.2.0",
            "_view_name": "StyleView",
            "description_width": ""
          }
        },
        "54bf4fcf86f3493585b5201dc571a958": {
          "model_module": "@jupyter-widgets/controls",
          "model_name": "HBoxModel",
          "model_module_version": "1.5.0",
          "state": {
            "_dom_classes": [],
            "_model_module": "@jupyter-widgets/controls",
            "_model_module_version": "1.5.0",
            "_model_name": "HBoxModel",
            "_view_count": null,
            "_view_module": "@jupyter-widgets/controls",
            "_view_module_version": "1.5.0",
            "_view_name": "HBoxView",
            "box_style": "",
            "children": [
              "IPY_MODEL_a69794b43c9d46819acfd9ddd8eb0f99",
              "IPY_MODEL_079bd5a2df464dd49a7cf134402aa0fa",
              "IPY_MODEL_1270ccd184f24a3ebc0de89c923eb5ff"
            ],
            "layout": "IPY_MODEL_e9a9f65e967a4b7ca07a2a76f5e8374e"
          }
        },
        "a69794b43c9d46819acfd9ddd8eb0f99": {
          "model_module": "@jupyter-widgets/controls",
          "model_name": "HTMLModel",
          "model_module_version": "1.5.0",
          "state": {
            "_dom_classes": [],
            "_model_module": "@jupyter-widgets/controls",
            "_model_module_version": "1.5.0",
            "_model_name": "HTMLModel",
            "_view_count": null,
            "_view_module": "@jupyter-widgets/controls",
            "_view_module_version": "1.5.0",
            "_view_name": "HTMLView",
            "description": "",
            "description_tooltip": null,
            "layout": "IPY_MODEL_004efb63cd5a473cb558bc79640cedf9",
            "placeholder": "​",
            "style": "IPY_MODEL_fa4a411467df405eb4e29daf464c7cda",
            "value": "100%"
          }
        },
        "079bd5a2df464dd49a7cf134402aa0fa": {
          "model_module": "@jupyter-widgets/controls",
          "model_name": "FloatProgressModel",
          "model_module_version": "1.5.0",
          "state": {
            "_dom_classes": [],
            "_model_module": "@jupyter-widgets/controls",
            "_model_module_version": "1.5.0",
            "_model_name": "FloatProgressModel",
            "_view_count": null,
            "_view_module": "@jupyter-widgets/controls",
            "_view_module_version": "1.5.0",
            "_view_name": "ProgressView",
            "bar_style": "success",
            "description": "",
            "description_tooltip": null,
            "layout": "IPY_MODEL_a06a91b530e5466f8e59472c822aab2c",
            "max": 3,
            "min": 0,
            "orientation": "horizontal",
            "style": "IPY_MODEL_6839c3dd56e640829a678fba85fc104d",
            "value": 3
          }
        },
        "1270ccd184f24a3ebc0de89c923eb5ff": {
          "model_module": "@jupyter-widgets/controls",
          "model_name": "HTMLModel",
          "model_module_version": "1.5.0",
          "state": {
            "_dom_classes": [],
            "_model_module": "@jupyter-widgets/controls",
            "_model_module_version": "1.5.0",
            "_model_name": "HTMLModel",
            "_view_count": null,
            "_view_module": "@jupyter-widgets/controls",
            "_view_module_version": "1.5.0",
            "_view_name": "HTMLView",
            "description": "",
            "description_tooltip": null,
            "layout": "IPY_MODEL_00459c736f4d4c43b1a04f8800a1a85d",
            "placeholder": "​",
            "style": "IPY_MODEL_a4562b6fe36442ebbb55e15adb91b3db",
            "value": " 3/3 [00:00&lt;00:00, 72.08it/s]"
          }
        },
        "e9a9f65e967a4b7ca07a2a76f5e8374e": {
          "model_module": "@jupyter-widgets/base",
          "model_name": "LayoutModel",
          "model_module_version": "1.2.0",
          "state": {
            "_model_module": "@jupyter-widgets/base",
            "_model_module_version": "1.2.0",
            "_model_name": "LayoutModel",
            "_view_count": null,
            "_view_module": "@jupyter-widgets/base",
            "_view_module_version": "1.2.0",
            "_view_name": "LayoutView",
            "align_content": null,
            "align_items": null,
            "align_self": null,
            "border": null,
            "bottom": null,
            "display": null,
            "flex": null,
            "flex_flow": null,
            "grid_area": null,
            "grid_auto_columns": null,
            "grid_auto_flow": null,
            "grid_auto_rows": null,
            "grid_column": null,
            "grid_gap": null,
            "grid_row": null,
            "grid_template_areas": null,
            "grid_template_columns": null,
            "grid_template_rows": null,
            "height": null,
            "justify_content": null,
            "justify_items": null,
            "left": null,
            "margin": null,
            "max_height": null,
            "max_width": null,
            "min_height": null,
            "min_width": null,
            "object_fit": null,
            "object_position": null,
            "order": null,
            "overflow": null,
            "overflow_x": null,
            "overflow_y": null,
            "padding": null,
            "right": null,
            "top": null,
            "visibility": null,
            "width": null
          }
        },
        "004efb63cd5a473cb558bc79640cedf9": {
          "model_module": "@jupyter-widgets/base",
          "model_name": "LayoutModel",
          "model_module_version": "1.2.0",
          "state": {
            "_model_module": "@jupyter-widgets/base",
            "_model_module_version": "1.2.0",
            "_model_name": "LayoutModel",
            "_view_count": null,
            "_view_module": "@jupyter-widgets/base",
            "_view_module_version": "1.2.0",
            "_view_name": "LayoutView",
            "align_content": null,
            "align_items": null,
            "align_self": null,
            "border": null,
            "bottom": null,
            "display": null,
            "flex": null,
            "flex_flow": null,
            "grid_area": null,
            "grid_auto_columns": null,
            "grid_auto_flow": null,
            "grid_auto_rows": null,
            "grid_column": null,
            "grid_gap": null,
            "grid_row": null,
            "grid_template_areas": null,
            "grid_template_columns": null,
            "grid_template_rows": null,
            "height": null,
            "justify_content": null,
            "justify_items": null,
            "left": null,
            "margin": null,
            "max_height": null,
            "max_width": null,
            "min_height": null,
            "min_width": null,
            "object_fit": null,
            "object_position": null,
            "order": null,
            "overflow": null,
            "overflow_x": null,
            "overflow_y": null,
            "padding": null,
            "right": null,
            "top": null,
            "visibility": null,
            "width": null
          }
        },
        "fa4a411467df405eb4e29daf464c7cda": {
          "model_module": "@jupyter-widgets/controls",
          "model_name": "DescriptionStyleModel",
          "model_module_version": "1.5.0",
          "state": {
            "_model_module": "@jupyter-widgets/controls",
            "_model_module_version": "1.5.0",
            "_model_name": "DescriptionStyleModel",
            "_view_count": null,
            "_view_module": "@jupyter-widgets/base",
            "_view_module_version": "1.2.0",
            "_view_name": "StyleView",
            "description_width": ""
          }
        },
        "a06a91b530e5466f8e59472c822aab2c": {
          "model_module": "@jupyter-widgets/base",
          "model_name": "LayoutModel",
          "model_module_version": "1.2.0",
          "state": {
            "_model_module": "@jupyter-widgets/base",
            "_model_module_version": "1.2.0",
            "_model_name": "LayoutModel",
            "_view_count": null,
            "_view_module": "@jupyter-widgets/base",
            "_view_module_version": "1.2.0",
            "_view_name": "LayoutView",
            "align_content": null,
            "align_items": null,
            "align_self": null,
            "border": null,
            "bottom": null,
            "display": null,
            "flex": null,
            "flex_flow": null,
            "grid_area": null,
            "grid_auto_columns": null,
            "grid_auto_flow": null,
            "grid_auto_rows": null,
            "grid_column": null,
            "grid_gap": null,
            "grid_row": null,
            "grid_template_areas": null,
            "grid_template_columns": null,
            "grid_template_rows": null,
            "height": null,
            "justify_content": null,
            "justify_items": null,
            "left": null,
            "margin": null,
            "max_height": null,
            "max_width": null,
            "min_height": null,
            "min_width": null,
            "object_fit": null,
            "object_position": null,
            "order": null,
            "overflow": null,
            "overflow_x": null,
            "overflow_y": null,
            "padding": null,
            "right": null,
            "top": null,
            "visibility": null,
            "width": null
          }
        },
        "6839c3dd56e640829a678fba85fc104d": {
          "model_module": "@jupyter-widgets/controls",
          "model_name": "ProgressStyleModel",
          "model_module_version": "1.5.0",
          "state": {
            "_model_module": "@jupyter-widgets/controls",
            "_model_module_version": "1.5.0",
            "_model_name": "ProgressStyleModel",
            "_view_count": null,
            "_view_module": "@jupyter-widgets/base",
            "_view_module_version": "1.2.0",
            "_view_name": "StyleView",
            "bar_color": null,
            "description_width": ""
          }
        },
        "00459c736f4d4c43b1a04f8800a1a85d": {
          "model_module": "@jupyter-widgets/base",
          "model_name": "LayoutModel",
          "model_module_version": "1.2.0",
          "state": {
            "_model_module": "@jupyter-widgets/base",
            "_model_module_version": "1.2.0",
            "_model_name": "LayoutModel",
            "_view_count": null,
            "_view_module": "@jupyter-widgets/base",
            "_view_module_version": "1.2.0",
            "_view_name": "LayoutView",
            "align_content": null,
            "align_items": null,
            "align_self": null,
            "border": null,
            "bottom": null,
            "display": null,
            "flex": null,
            "flex_flow": null,
            "grid_area": null,
            "grid_auto_columns": null,
            "grid_auto_flow": null,
            "grid_auto_rows": null,
            "grid_column": null,
            "grid_gap": null,
            "grid_row": null,
            "grid_template_areas": null,
            "grid_template_columns": null,
            "grid_template_rows": null,
            "height": null,
            "justify_content": null,
            "justify_items": null,
            "left": null,
            "margin": null,
            "max_height": null,
            "max_width": null,
            "min_height": null,
            "min_width": null,
            "object_fit": null,
            "object_position": null,
            "order": null,
            "overflow": null,
            "overflow_x": null,
            "overflow_y": null,
            "padding": null,
            "right": null,
            "top": null,
            "visibility": null,
            "width": null
          }
        },
        "a4562b6fe36442ebbb55e15adb91b3db": {
          "model_module": "@jupyter-widgets/controls",
          "model_name": "DescriptionStyleModel",
          "model_module_version": "1.5.0",
          "state": {
            "_model_module": "@jupyter-widgets/controls",
            "_model_module_version": "1.5.0",
            "_model_name": "DescriptionStyleModel",
            "_view_count": null,
            "_view_module": "@jupyter-widgets/base",
            "_view_module_version": "1.2.0",
            "_view_name": "StyleView",
            "description_width": ""
          }
        },
        "5197942de40948d58e3834431e819474": {
          "model_module": "@jupyter-widgets/controls",
          "model_name": "HBoxModel",
          "model_module_version": "1.5.0",
          "state": {
            "_dom_classes": [],
            "_model_module": "@jupyter-widgets/controls",
            "_model_module_version": "1.5.0",
            "_model_name": "HBoxModel",
            "_view_count": null,
            "_view_module": "@jupyter-widgets/controls",
            "_view_module_version": "1.5.0",
            "_view_name": "HBoxView",
            "box_style": "",
            "children": [
              "IPY_MODEL_42d0713547334c96bcd04285b4974753",
              "IPY_MODEL_b242cf9a8d774624ac407759af833abe",
              "IPY_MODEL_6ef9d2cf5cf14044ba2458706dd12992"
            ],
            "layout": "IPY_MODEL_58363a0d2c284ed3ad90832768bff079"
          }
        },
        "42d0713547334c96bcd04285b4974753": {
          "model_module": "@jupyter-widgets/controls",
          "model_name": "HTMLModel",
          "model_module_version": "1.5.0",
          "state": {
            "_dom_classes": [],
            "_model_module": "@jupyter-widgets/controls",
            "_model_module_version": "1.5.0",
            "_model_name": "HTMLModel",
            "_view_count": null,
            "_view_module": "@jupyter-widgets/controls",
            "_view_module_version": "1.5.0",
            "_view_name": "HTMLView",
            "description": "",
            "description_tooltip": null,
            "layout": "IPY_MODEL_d6e363bddc1340d6bfa16c030cebbd6f",
            "placeholder": "​",
            "style": "IPY_MODEL_22a4c53a1afb4a78a59adef388511b1d",
            "value": "100%"
          }
        },
        "b242cf9a8d774624ac407759af833abe": {
          "model_module": "@jupyter-widgets/controls",
          "model_name": "FloatProgressModel",
          "model_module_version": "1.5.0",
          "state": {
            "_dom_classes": [],
            "_model_module": "@jupyter-widgets/controls",
            "_model_module_version": "1.5.0",
            "_model_name": "FloatProgressModel",
            "_view_count": null,
            "_view_module": "@jupyter-widgets/controls",
            "_view_module_version": "1.5.0",
            "_view_name": "ProgressView",
            "bar_style": "success",
            "description": "",
            "description_tooltip": null,
            "layout": "IPY_MODEL_49a1248a80914ecdbc144fc5b74d587b",
            "max": 3,
            "min": 0,
            "orientation": "horizontal",
            "style": "IPY_MODEL_3ae0cd796ab4479dbc3766de3eefd92d",
            "value": 3
          }
        },
        "6ef9d2cf5cf14044ba2458706dd12992": {
          "model_module": "@jupyter-widgets/controls",
          "model_name": "HTMLModel",
          "model_module_version": "1.5.0",
          "state": {
            "_dom_classes": [],
            "_model_module": "@jupyter-widgets/controls",
            "_model_module_version": "1.5.0",
            "_model_name": "HTMLModel",
            "_view_count": null,
            "_view_module": "@jupyter-widgets/controls",
            "_view_module_version": "1.5.0",
            "_view_name": "HTMLView",
            "description": "",
            "description_tooltip": null,
            "layout": "IPY_MODEL_325908814ea24512bc1c2d74340ed77b",
            "placeholder": "​",
            "style": "IPY_MODEL_054f234bcb1f45cc8588953468dfa044",
            "value": " 3/3 [00:00&lt;00:00, 38.01it/s]"
          }
        },
        "58363a0d2c284ed3ad90832768bff079": {
          "model_module": "@jupyter-widgets/base",
          "model_name": "LayoutModel",
          "model_module_version": "1.2.0",
          "state": {
            "_model_module": "@jupyter-widgets/base",
            "_model_module_version": "1.2.0",
            "_model_name": "LayoutModel",
            "_view_count": null,
            "_view_module": "@jupyter-widgets/base",
            "_view_module_version": "1.2.0",
            "_view_name": "LayoutView",
            "align_content": null,
            "align_items": null,
            "align_self": null,
            "border": null,
            "bottom": null,
            "display": null,
            "flex": null,
            "flex_flow": null,
            "grid_area": null,
            "grid_auto_columns": null,
            "grid_auto_flow": null,
            "grid_auto_rows": null,
            "grid_column": null,
            "grid_gap": null,
            "grid_row": null,
            "grid_template_areas": null,
            "grid_template_columns": null,
            "grid_template_rows": null,
            "height": null,
            "justify_content": null,
            "justify_items": null,
            "left": null,
            "margin": null,
            "max_height": null,
            "max_width": null,
            "min_height": null,
            "min_width": null,
            "object_fit": null,
            "object_position": null,
            "order": null,
            "overflow": null,
            "overflow_x": null,
            "overflow_y": null,
            "padding": null,
            "right": null,
            "top": null,
            "visibility": null,
            "width": null
          }
        },
        "d6e363bddc1340d6bfa16c030cebbd6f": {
          "model_module": "@jupyter-widgets/base",
          "model_name": "LayoutModel",
          "model_module_version": "1.2.0",
          "state": {
            "_model_module": "@jupyter-widgets/base",
            "_model_module_version": "1.2.0",
            "_model_name": "LayoutModel",
            "_view_count": null,
            "_view_module": "@jupyter-widgets/base",
            "_view_module_version": "1.2.0",
            "_view_name": "LayoutView",
            "align_content": null,
            "align_items": null,
            "align_self": null,
            "border": null,
            "bottom": null,
            "display": null,
            "flex": null,
            "flex_flow": null,
            "grid_area": null,
            "grid_auto_columns": null,
            "grid_auto_flow": null,
            "grid_auto_rows": null,
            "grid_column": null,
            "grid_gap": null,
            "grid_row": null,
            "grid_template_areas": null,
            "grid_template_columns": null,
            "grid_template_rows": null,
            "height": null,
            "justify_content": null,
            "justify_items": null,
            "left": null,
            "margin": null,
            "max_height": null,
            "max_width": null,
            "min_height": null,
            "min_width": null,
            "object_fit": null,
            "object_position": null,
            "order": null,
            "overflow": null,
            "overflow_x": null,
            "overflow_y": null,
            "padding": null,
            "right": null,
            "top": null,
            "visibility": null,
            "width": null
          }
        },
        "22a4c53a1afb4a78a59adef388511b1d": {
          "model_module": "@jupyter-widgets/controls",
          "model_name": "DescriptionStyleModel",
          "model_module_version": "1.5.0",
          "state": {
            "_model_module": "@jupyter-widgets/controls",
            "_model_module_version": "1.5.0",
            "_model_name": "DescriptionStyleModel",
            "_view_count": null,
            "_view_module": "@jupyter-widgets/base",
            "_view_module_version": "1.2.0",
            "_view_name": "StyleView",
            "description_width": ""
          }
        },
        "49a1248a80914ecdbc144fc5b74d587b": {
          "model_module": "@jupyter-widgets/base",
          "model_name": "LayoutModel",
          "model_module_version": "1.2.0",
          "state": {
            "_model_module": "@jupyter-widgets/base",
            "_model_module_version": "1.2.0",
            "_model_name": "LayoutModel",
            "_view_count": null,
            "_view_module": "@jupyter-widgets/base",
            "_view_module_version": "1.2.0",
            "_view_name": "LayoutView",
            "align_content": null,
            "align_items": null,
            "align_self": null,
            "border": null,
            "bottom": null,
            "display": null,
            "flex": null,
            "flex_flow": null,
            "grid_area": null,
            "grid_auto_columns": null,
            "grid_auto_flow": null,
            "grid_auto_rows": null,
            "grid_column": null,
            "grid_gap": null,
            "grid_row": null,
            "grid_template_areas": null,
            "grid_template_columns": null,
            "grid_template_rows": null,
            "height": null,
            "justify_content": null,
            "justify_items": null,
            "left": null,
            "margin": null,
            "max_height": null,
            "max_width": null,
            "min_height": null,
            "min_width": null,
            "object_fit": null,
            "object_position": null,
            "order": null,
            "overflow": null,
            "overflow_x": null,
            "overflow_y": null,
            "padding": null,
            "right": null,
            "top": null,
            "visibility": null,
            "width": null
          }
        },
        "3ae0cd796ab4479dbc3766de3eefd92d": {
          "model_module": "@jupyter-widgets/controls",
          "model_name": "ProgressStyleModel",
          "model_module_version": "1.5.0",
          "state": {
            "_model_module": "@jupyter-widgets/controls",
            "_model_module_version": "1.5.0",
            "_model_name": "ProgressStyleModel",
            "_view_count": null,
            "_view_module": "@jupyter-widgets/base",
            "_view_module_version": "1.2.0",
            "_view_name": "StyleView",
            "bar_color": null,
            "description_width": ""
          }
        },
        "325908814ea24512bc1c2d74340ed77b": {
          "model_module": "@jupyter-widgets/base",
          "model_name": "LayoutModel",
          "model_module_version": "1.2.0",
          "state": {
            "_model_module": "@jupyter-widgets/base",
            "_model_module_version": "1.2.0",
            "_model_name": "LayoutModel",
            "_view_count": null,
            "_view_module": "@jupyter-widgets/base",
            "_view_module_version": "1.2.0",
            "_view_name": "LayoutView",
            "align_content": null,
            "align_items": null,
            "align_self": null,
            "border": null,
            "bottom": null,
            "display": null,
            "flex": null,
            "flex_flow": null,
            "grid_area": null,
            "grid_auto_columns": null,
            "grid_auto_flow": null,
            "grid_auto_rows": null,
            "grid_column": null,
            "grid_gap": null,
            "grid_row": null,
            "grid_template_areas": null,
            "grid_template_columns": null,
            "grid_template_rows": null,
            "height": null,
            "justify_content": null,
            "justify_items": null,
            "left": null,
            "margin": null,
            "max_height": null,
            "max_width": null,
            "min_height": null,
            "min_width": null,
            "object_fit": null,
            "object_position": null,
            "order": null,
            "overflow": null,
            "overflow_x": null,
            "overflow_y": null,
            "padding": null,
            "right": null,
            "top": null,
            "visibility": null,
            "width": null
          }
        },
        "054f234bcb1f45cc8588953468dfa044": {
          "model_module": "@jupyter-widgets/controls",
          "model_name": "DescriptionStyleModel",
          "model_module_version": "1.5.0",
          "state": {
            "_model_module": "@jupyter-widgets/controls",
            "_model_module_version": "1.5.0",
            "_model_name": "DescriptionStyleModel",
            "_view_count": null,
            "_view_module": "@jupyter-widgets/base",
            "_view_module_version": "1.2.0",
            "_view_name": "StyleView",
            "description_width": ""
          }
        },
        "ac08fca0868d48feb2b381f65a3c48cf": {
          "model_module": "@jupyter-widgets/controls",
          "model_name": "HBoxModel",
          "model_module_version": "1.5.0",
          "state": {
            "_dom_classes": [],
            "_model_module": "@jupyter-widgets/controls",
            "_model_module_version": "1.5.0",
            "_model_name": "HBoxModel",
            "_view_count": null,
            "_view_module": "@jupyter-widgets/controls",
            "_view_module_version": "1.5.0",
            "_view_name": "HBoxView",
            "box_style": "",
            "children": [
              "IPY_MODEL_d22794016eb346c59654b3358acd3f81",
              "IPY_MODEL_22c47f7616ea48bfac00fc7e363fdc41",
              "IPY_MODEL_6b39b499c751408a9f6a949200179b0f"
            ],
            "layout": "IPY_MODEL_c7f0ccd445f043b5afb1d92024a767b9"
          }
        },
        "d22794016eb346c59654b3358acd3f81": {
          "model_module": "@jupyter-widgets/controls",
          "model_name": "HTMLModel",
          "model_module_version": "1.5.0",
          "state": {
            "_dom_classes": [],
            "_model_module": "@jupyter-widgets/controls",
            "_model_module_version": "1.5.0",
            "_model_name": "HTMLModel",
            "_view_count": null,
            "_view_module": "@jupyter-widgets/controls",
            "_view_module_version": "1.5.0",
            "_view_name": "HTMLView",
            "description": "",
            "description_tooltip": null,
            "layout": "IPY_MODEL_8a8a51becfb84f79ade73609c8de40b7",
            "placeholder": "​",
            "style": "IPY_MODEL_4ff79f5e2fef4914addf33325bb578d0",
            "value": "100%"
          }
        },
        "22c47f7616ea48bfac00fc7e363fdc41": {
          "model_module": "@jupyter-widgets/controls",
          "model_name": "FloatProgressModel",
          "model_module_version": "1.5.0",
          "state": {
            "_dom_classes": [],
            "_model_module": "@jupyter-widgets/controls",
            "_model_module_version": "1.5.0",
            "_model_name": "FloatProgressModel",
            "_view_count": null,
            "_view_module": "@jupyter-widgets/controls",
            "_view_module_version": "1.5.0",
            "_view_name": "ProgressView",
            "bar_style": "success",
            "description": "",
            "description_tooltip": null,
            "layout": "IPY_MODEL_61b1b68b8d454465b2371b8f7520d2b7",
            "max": 3,
            "min": 0,
            "orientation": "horizontal",
            "style": "IPY_MODEL_651f78e5c52f44f48ad449c42791d9b9",
            "value": 3
          }
        },
        "6b39b499c751408a9f6a949200179b0f": {
          "model_module": "@jupyter-widgets/controls",
          "model_name": "HTMLModel",
          "model_module_version": "1.5.0",
          "state": {
            "_dom_classes": [],
            "_model_module": "@jupyter-widgets/controls",
            "_model_module_version": "1.5.0",
            "_model_name": "HTMLModel",
            "_view_count": null,
            "_view_module": "@jupyter-widgets/controls",
            "_view_module_version": "1.5.0",
            "_view_name": "HTMLView",
            "description": "",
            "description_tooltip": null,
            "layout": "IPY_MODEL_9ff39b80e2454699822381260e7d7075",
            "placeholder": "​",
            "style": "IPY_MODEL_e2a3e97a96b742d6aacc687036c59789",
            "value": " 3/3 [00:00&lt;00:00, 42.46it/s]"
          }
        },
        "c7f0ccd445f043b5afb1d92024a767b9": {
          "model_module": "@jupyter-widgets/base",
          "model_name": "LayoutModel",
          "model_module_version": "1.2.0",
          "state": {
            "_model_module": "@jupyter-widgets/base",
            "_model_module_version": "1.2.0",
            "_model_name": "LayoutModel",
            "_view_count": null,
            "_view_module": "@jupyter-widgets/base",
            "_view_module_version": "1.2.0",
            "_view_name": "LayoutView",
            "align_content": null,
            "align_items": null,
            "align_self": null,
            "border": null,
            "bottom": null,
            "display": null,
            "flex": null,
            "flex_flow": null,
            "grid_area": null,
            "grid_auto_columns": null,
            "grid_auto_flow": null,
            "grid_auto_rows": null,
            "grid_column": null,
            "grid_gap": null,
            "grid_row": null,
            "grid_template_areas": null,
            "grid_template_columns": null,
            "grid_template_rows": null,
            "height": null,
            "justify_content": null,
            "justify_items": null,
            "left": null,
            "margin": null,
            "max_height": null,
            "max_width": null,
            "min_height": null,
            "min_width": null,
            "object_fit": null,
            "object_position": null,
            "order": null,
            "overflow": null,
            "overflow_x": null,
            "overflow_y": null,
            "padding": null,
            "right": null,
            "top": null,
            "visibility": null,
            "width": null
          }
        },
        "8a8a51becfb84f79ade73609c8de40b7": {
          "model_module": "@jupyter-widgets/base",
          "model_name": "LayoutModel",
          "model_module_version": "1.2.0",
          "state": {
            "_model_module": "@jupyter-widgets/base",
            "_model_module_version": "1.2.0",
            "_model_name": "LayoutModel",
            "_view_count": null,
            "_view_module": "@jupyter-widgets/base",
            "_view_module_version": "1.2.0",
            "_view_name": "LayoutView",
            "align_content": null,
            "align_items": null,
            "align_self": null,
            "border": null,
            "bottom": null,
            "display": null,
            "flex": null,
            "flex_flow": null,
            "grid_area": null,
            "grid_auto_columns": null,
            "grid_auto_flow": null,
            "grid_auto_rows": null,
            "grid_column": null,
            "grid_gap": null,
            "grid_row": null,
            "grid_template_areas": null,
            "grid_template_columns": null,
            "grid_template_rows": null,
            "height": null,
            "justify_content": null,
            "justify_items": null,
            "left": null,
            "margin": null,
            "max_height": null,
            "max_width": null,
            "min_height": null,
            "min_width": null,
            "object_fit": null,
            "object_position": null,
            "order": null,
            "overflow": null,
            "overflow_x": null,
            "overflow_y": null,
            "padding": null,
            "right": null,
            "top": null,
            "visibility": null,
            "width": null
          }
        },
        "4ff79f5e2fef4914addf33325bb578d0": {
          "model_module": "@jupyter-widgets/controls",
          "model_name": "DescriptionStyleModel",
          "model_module_version": "1.5.0",
          "state": {
            "_model_module": "@jupyter-widgets/controls",
            "_model_module_version": "1.5.0",
            "_model_name": "DescriptionStyleModel",
            "_view_count": null,
            "_view_module": "@jupyter-widgets/base",
            "_view_module_version": "1.2.0",
            "_view_name": "StyleView",
            "description_width": ""
          }
        },
        "61b1b68b8d454465b2371b8f7520d2b7": {
          "model_module": "@jupyter-widgets/base",
          "model_name": "LayoutModel",
          "model_module_version": "1.2.0",
          "state": {
            "_model_module": "@jupyter-widgets/base",
            "_model_module_version": "1.2.0",
            "_model_name": "LayoutModel",
            "_view_count": null,
            "_view_module": "@jupyter-widgets/base",
            "_view_module_version": "1.2.0",
            "_view_name": "LayoutView",
            "align_content": null,
            "align_items": null,
            "align_self": null,
            "border": null,
            "bottom": null,
            "display": null,
            "flex": null,
            "flex_flow": null,
            "grid_area": null,
            "grid_auto_columns": null,
            "grid_auto_flow": null,
            "grid_auto_rows": null,
            "grid_column": null,
            "grid_gap": null,
            "grid_row": null,
            "grid_template_areas": null,
            "grid_template_columns": null,
            "grid_template_rows": null,
            "height": null,
            "justify_content": null,
            "justify_items": null,
            "left": null,
            "margin": null,
            "max_height": null,
            "max_width": null,
            "min_height": null,
            "min_width": null,
            "object_fit": null,
            "object_position": null,
            "order": null,
            "overflow": null,
            "overflow_x": null,
            "overflow_y": null,
            "padding": null,
            "right": null,
            "top": null,
            "visibility": null,
            "width": null
          }
        },
        "651f78e5c52f44f48ad449c42791d9b9": {
          "model_module": "@jupyter-widgets/controls",
          "model_name": "ProgressStyleModel",
          "model_module_version": "1.5.0",
          "state": {
            "_model_module": "@jupyter-widgets/controls",
            "_model_module_version": "1.5.0",
            "_model_name": "ProgressStyleModel",
            "_view_count": null,
            "_view_module": "@jupyter-widgets/base",
            "_view_module_version": "1.2.0",
            "_view_name": "StyleView",
            "bar_color": null,
            "description_width": ""
          }
        },
        "9ff39b80e2454699822381260e7d7075": {
          "model_module": "@jupyter-widgets/base",
          "model_name": "LayoutModel",
          "model_module_version": "1.2.0",
          "state": {
            "_model_module": "@jupyter-widgets/base",
            "_model_module_version": "1.2.0",
            "_model_name": "LayoutModel",
            "_view_count": null,
            "_view_module": "@jupyter-widgets/base",
            "_view_module_version": "1.2.0",
            "_view_name": "LayoutView",
            "align_content": null,
            "align_items": null,
            "align_self": null,
            "border": null,
            "bottom": null,
            "display": null,
            "flex": null,
            "flex_flow": null,
            "grid_area": null,
            "grid_auto_columns": null,
            "grid_auto_flow": null,
            "grid_auto_rows": null,
            "grid_column": null,
            "grid_gap": null,
            "grid_row": null,
            "grid_template_areas": null,
            "grid_template_columns": null,
            "grid_template_rows": null,
            "height": null,
            "justify_content": null,
            "justify_items": null,
            "left": null,
            "margin": null,
            "max_height": null,
            "max_width": null,
            "min_height": null,
            "min_width": null,
            "object_fit": null,
            "object_position": null,
            "order": null,
            "overflow": null,
            "overflow_x": null,
            "overflow_y": null,
            "padding": null,
            "right": null,
            "top": null,
            "visibility": null,
            "width": null
          }
        },
        "e2a3e97a96b742d6aacc687036c59789": {
          "model_module": "@jupyter-widgets/controls",
          "model_name": "DescriptionStyleModel",
          "model_module_version": "1.5.0",
          "state": {
            "_model_module": "@jupyter-widgets/controls",
            "_model_module_version": "1.5.0",
            "_model_name": "DescriptionStyleModel",
            "_view_count": null,
            "_view_module": "@jupyter-widgets/base",
            "_view_module_version": "1.2.0",
            "_view_name": "StyleView",
            "description_width": ""
          }
        },
        "c99f5ce1dfd349758cc6192946e54f85": {
          "model_module": "@jupyter-widgets/controls",
          "model_name": "HBoxModel",
          "model_module_version": "1.5.0",
          "state": {
            "_dom_classes": [],
            "_model_module": "@jupyter-widgets/controls",
            "_model_module_version": "1.5.0",
            "_model_name": "HBoxModel",
            "_view_count": null,
            "_view_module": "@jupyter-widgets/controls",
            "_view_module_version": "1.5.0",
            "_view_name": "HBoxView",
            "box_style": "",
            "children": [
              "IPY_MODEL_8fe0b9d1debf433bb55e2ab950c121d5",
              "IPY_MODEL_fbaa0577ee0d4cffbbdef182afc11b60",
              "IPY_MODEL_c9bbbdbbcde046a6ac444304d2cf5ef2"
            ],
            "layout": "IPY_MODEL_67ea456b0fd74c5385485115f59be7c9"
          }
        },
        "8fe0b9d1debf433bb55e2ab950c121d5": {
          "model_module": "@jupyter-widgets/controls",
          "model_name": "HTMLModel",
          "model_module_version": "1.5.0",
          "state": {
            "_dom_classes": [],
            "_model_module": "@jupyter-widgets/controls",
            "_model_module_version": "1.5.0",
            "_model_name": "HTMLModel",
            "_view_count": null,
            "_view_module": "@jupyter-widgets/controls",
            "_view_module_version": "1.5.0",
            "_view_name": "HTMLView",
            "description": "",
            "description_tooltip": null,
            "layout": "IPY_MODEL_39fe6f9ca06c4a4c8e2dc9b6814a905b",
            "placeholder": "​",
            "style": "IPY_MODEL_f223aa7d8eaa4bc59c83317b46db9227",
            "value": "100%"
          }
        },
        "fbaa0577ee0d4cffbbdef182afc11b60": {
          "model_module": "@jupyter-widgets/controls",
          "model_name": "FloatProgressModel",
          "model_module_version": "1.5.0",
          "state": {
            "_dom_classes": [],
            "_model_module": "@jupyter-widgets/controls",
            "_model_module_version": "1.5.0",
            "_model_name": "FloatProgressModel",
            "_view_count": null,
            "_view_module": "@jupyter-widgets/controls",
            "_view_module_version": "1.5.0",
            "_view_name": "ProgressView",
            "bar_style": "success",
            "description": "",
            "description_tooltip": null,
            "layout": "IPY_MODEL_f0950e716b4e42f88a3991bdf29dd9c0",
            "max": 3,
            "min": 0,
            "orientation": "horizontal",
            "style": "IPY_MODEL_02752563f52349b580e445ae38a88a6a",
            "value": 3
          }
        },
        "c9bbbdbbcde046a6ac444304d2cf5ef2": {
          "model_module": "@jupyter-widgets/controls",
          "model_name": "HTMLModel",
          "model_module_version": "1.5.0",
          "state": {
            "_dom_classes": [],
            "_model_module": "@jupyter-widgets/controls",
            "_model_module_version": "1.5.0",
            "_model_name": "HTMLModel",
            "_view_count": null,
            "_view_module": "@jupyter-widgets/controls",
            "_view_module_version": "1.5.0",
            "_view_name": "HTMLView",
            "description": "",
            "description_tooltip": null,
            "layout": "IPY_MODEL_16b854c9f96d4aaeab35b5fa39b02006",
            "placeholder": "​",
            "style": "IPY_MODEL_5c6e4d450e3b450091f0ab0a56b4acb2",
            "value": " 3/3 [00:00&lt;00:00, 45.34it/s]"
          }
        },
        "67ea456b0fd74c5385485115f59be7c9": {
          "model_module": "@jupyter-widgets/base",
          "model_name": "LayoutModel",
          "model_module_version": "1.2.0",
          "state": {
            "_model_module": "@jupyter-widgets/base",
            "_model_module_version": "1.2.0",
            "_model_name": "LayoutModel",
            "_view_count": null,
            "_view_module": "@jupyter-widgets/base",
            "_view_module_version": "1.2.0",
            "_view_name": "LayoutView",
            "align_content": null,
            "align_items": null,
            "align_self": null,
            "border": null,
            "bottom": null,
            "display": null,
            "flex": null,
            "flex_flow": null,
            "grid_area": null,
            "grid_auto_columns": null,
            "grid_auto_flow": null,
            "grid_auto_rows": null,
            "grid_column": null,
            "grid_gap": null,
            "grid_row": null,
            "grid_template_areas": null,
            "grid_template_columns": null,
            "grid_template_rows": null,
            "height": null,
            "justify_content": null,
            "justify_items": null,
            "left": null,
            "margin": null,
            "max_height": null,
            "max_width": null,
            "min_height": null,
            "min_width": null,
            "object_fit": null,
            "object_position": null,
            "order": null,
            "overflow": null,
            "overflow_x": null,
            "overflow_y": null,
            "padding": null,
            "right": null,
            "top": null,
            "visibility": null,
            "width": null
          }
        },
        "39fe6f9ca06c4a4c8e2dc9b6814a905b": {
          "model_module": "@jupyter-widgets/base",
          "model_name": "LayoutModel",
          "model_module_version": "1.2.0",
          "state": {
            "_model_module": "@jupyter-widgets/base",
            "_model_module_version": "1.2.0",
            "_model_name": "LayoutModel",
            "_view_count": null,
            "_view_module": "@jupyter-widgets/base",
            "_view_module_version": "1.2.0",
            "_view_name": "LayoutView",
            "align_content": null,
            "align_items": null,
            "align_self": null,
            "border": null,
            "bottom": null,
            "display": null,
            "flex": null,
            "flex_flow": null,
            "grid_area": null,
            "grid_auto_columns": null,
            "grid_auto_flow": null,
            "grid_auto_rows": null,
            "grid_column": null,
            "grid_gap": null,
            "grid_row": null,
            "grid_template_areas": null,
            "grid_template_columns": null,
            "grid_template_rows": null,
            "height": null,
            "justify_content": null,
            "justify_items": null,
            "left": null,
            "margin": null,
            "max_height": null,
            "max_width": null,
            "min_height": null,
            "min_width": null,
            "object_fit": null,
            "object_position": null,
            "order": null,
            "overflow": null,
            "overflow_x": null,
            "overflow_y": null,
            "padding": null,
            "right": null,
            "top": null,
            "visibility": null,
            "width": null
          }
        },
        "f223aa7d8eaa4bc59c83317b46db9227": {
          "model_module": "@jupyter-widgets/controls",
          "model_name": "DescriptionStyleModel",
          "model_module_version": "1.5.0",
          "state": {
            "_model_module": "@jupyter-widgets/controls",
            "_model_module_version": "1.5.0",
            "_model_name": "DescriptionStyleModel",
            "_view_count": null,
            "_view_module": "@jupyter-widgets/base",
            "_view_module_version": "1.2.0",
            "_view_name": "StyleView",
            "description_width": ""
          }
        },
        "f0950e716b4e42f88a3991bdf29dd9c0": {
          "model_module": "@jupyter-widgets/base",
          "model_name": "LayoutModel",
          "model_module_version": "1.2.0",
          "state": {
            "_model_module": "@jupyter-widgets/base",
            "_model_module_version": "1.2.0",
            "_model_name": "LayoutModel",
            "_view_count": null,
            "_view_module": "@jupyter-widgets/base",
            "_view_module_version": "1.2.0",
            "_view_name": "LayoutView",
            "align_content": null,
            "align_items": null,
            "align_self": null,
            "border": null,
            "bottom": null,
            "display": null,
            "flex": null,
            "flex_flow": null,
            "grid_area": null,
            "grid_auto_columns": null,
            "grid_auto_flow": null,
            "grid_auto_rows": null,
            "grid_column": null,
            "grid_gap": null,
            "grid_row": null,
            "grid_template_areas": null,
            "grid_template_columns": null,
            "grid_template_rows": null,
            "height": null,
            "justify_content": null,
            "justify_items": null,
            "left": null,
            "margin": null,
            "max_height": null,
            "max_width": null,
            "min_height": null,
            "min_width": null,
            "object_fit": null,
            "object_position": null,
            "order": null,
            "overflow": null,
            "overflow_x": null,
            "overflow_y": null,
            "padding": null,
            "right": null,
            "top": null,
            "visibility": null,
            "width": null
          }
        },
        "02752563f52349b580e445ae38a88a6a": {
          "model_module": "@jupyter-widgets/controls",
          "model_name": "ProgressStyleModel",
          "model_module_version": "1.5.0",
          "state": {
            "_model_module": "@jupyter-widgets/controls",
            "_model_module_version": "1.5.0",
            "_model_name": "ProgressStyleModel",
            "_view_count": null,
            "_view_module": "@jupyter-widgets/base",
            "_view_module_version": "1.2.0",
            "_view_name": "StyleView",
            "bar_color": null,
            "description_width": ""
          }
        },
        "16b854c9f96d4aaeab35b5fa39b02006": {
          "model_module": "@jupyter-widgets/base",
          "model_name": "LayoutModel",
          "model_module_version": "1.2.0",
          "state": {
            "_model_module": "@jupyter-widgets/base",
            "_model_module_version": "1.2.0",
            "_model_name": "LayoutModel",
            "_view_count": null,
            "_view_module": "@jupyter-widgets/base",
            "_view_module_version": "1.2.0",
            "_view_name": "LayoutView",
            "align_content": null,
            "align_items": null,
            "align_self": null,
            "border": null,
            "bottom": null,
            "display": null,
            "flex": null,
            "flex_flow": null,
            "grid_area": null,
            "grid_auto_columns": null,
            "grid_auto_flow": null,
            "grid_auto_rows": null,
            "grid_column": null,
            "grid_gap": null,
            "grid_row": null,
            "grid_template_areas": null,
            "grid_template_columns": null,
            "grid_template_rows": null,
            "height": null,
            "justify_content": null,
            "justify_items": null,
            "left": null,
            "margin": null,
            "max_height": null,
            "max_width": null,
            "min_height": null,
            "min_width": null,
            "object_fit": null,
            "object_position": null,
            "order": null,
            "overflow": null,
            "overflow_x": null,
            "overflow_y": null,
            "padding": null,
            "right": null,
            "top": null,
            "visibility": null,
            "width": null
          }
        },
        "5c6e4d450e3b450091f0ab0a56b4acb2": {
          "model_module": "@jupyter-widgets/controls",
          "model_name": "DescriptionStyleModel",
          "model_module_version": "1.5.0",
          "state": {
            "_model_module": "@jupyter-widgets/controls",
            "_model_module_version": "1.5.0",
            "_model_name": "DescriptionStyleModel",
            "_view_count": null,
            "_view_module": "@jupyter-widgets/base",
            "_view_module_version": "1.2.0",
            "_view_name": "StyleView",
            "description_width": ""
          }
        },
        "568a769a487942f492842211644f2ceb": {
          "model_module": "@jupyter-widgets/controls",
          "model_name": "HBoxModel",
          "model_module_version": "1.5.0",
          "state": {
            "_dom_classes": [],
            "_model_module": "@jupyter-widgets/controls",
            "_model_module_version": "1.5.0",
            "_model_name": "HBoxModel",
            "_view_count": null,
            "_view_module": "@jupyter-widgets/controls",
            "_view_module_version": "1.5.0",
            "_view_name": "HBoxView",
            "box_style": "",
            "children": [
              "IPY_MODEL_192f950609254d9988106b773998a8be",
              "IPY_MODEL_f02bdb6138c84b3db4560975ac1e99d4",
              "IPY_MODEL_e923de16015943a5b22b062c960f44cf"
            ],
            "layout": "IPY_MODEL_9e3408a42f1b4a77a6ebf678ce3f81f6"
          }
        },
        "192f950609254d9988106b773998a8be": {
          "model_module": "@jupyter-widgets/controls",
          "model_name": "HTMLModel",
          "model_module_version": "1.5.0",
          "state": {
            "_dom_classes": [],
            "_model_module": "@jupyter-widgets/controls",
            "_model_module_version": "1.5.0",
            "_model_name": "HTMLModel",
            "_view_count": null,
            "_view_module": "@jupyter-widgets/controls",
            "_view_module_version": "1.5.0",
            "_view_name": "HTMLView",
            "description": "",
            "description_tooltip": null,
            "layout": "IPY_MODEL_f3c9dc1239734ca993f9de7f68648ef0",
            "placeholder": "​",
            "style": "IPY_MODEL_ee733ad973d2442181868b609553615f",
            "value": "100%"
          }
        },
        "f02bdb6138c84b3db4560975ac1e99d4": {
          "model_module": "@jupyter-widgets/controls",
          "model_name": "FloatProgressModel",
          "model_module_version": "1.5.0",
          "state": {
            "_dom_classes": [],
            "_model_module": "@jupyter-widgets/controls",
            "_model_module_version": "1.5.0",
            "_model_name": "FloatProgressModel",
            "_view_count": null,
            "_view_module": "@jupyter-widgets/controls",
            "_view_module_version": "1.5.0",
            "_view_name": "ProgressView",
            "bar_style": "success",
            "description": "",
            "description_tooltip": null,
            "layout": "IPY_MODEL_2990a0dd49864debb48a33a9442726c5",
            "max": 6290,
            "min": 0,
            "orientation": "horizontal",
            "style": "IPY_MODEL_e1daeb5520ae4dfc9251a98dad4cdf53",
            "value": 6290
          }
        },
        "e923de16015943a5b22b062c960f44cf": {
          "model_module": "@jupyter-widgets/controls",
          "model_name": "HTMLModel",
          "model_module_version": "1.5.0",
          "state": {
            "_dom_classes": [],
            "_model_module": "@jupyter-widgets/controls",
            "_model_module_version": "1.5.0",
            "_model_name": "HTMLModel",
            "_view_count": null,
            "_view_module": "@jupyter-widgets/controls",
            "_view_module_version": "1.5.0",
            "_view_name": "HTMLView",
            "description": "",
            "description_tooltip": null,
            "layout": "IPY_MODEL_8cce9b4851634c7aa6e880bf17f2d285",
            "placeholder": "​",
            "style": "IPY_MODEL_df01f9141c4b450e8e9c02bbe296fdec",
            "value": " 6290/6290 [00:01&lt;00:00, 6119.18ex/s]"
          }
        },
        "9e3408a42f1b4a77a6ebf678ce3f81f6": {
          "model_module": "@jupyter-widgets/base",
          "model_name": "LayoutModel",
          "model_module_version": "1.2.0",
          "state": {
            "_model_module": "@jupyter-widgets/base",
            "_model_module_version": "1.2.0",
            "_model_name": "LayoutModel",
            "_view_count": null,
            "_view_module": "@jupyter-widgets/base",
            "_view_module_version": "1.2.0",
            "_view_name": "LayoutView",
            "align_content": null,
            "align_items": null,
            "align_self": null,
            "border": null,
            "bottom": null,
            "display": null,
            "flex": null,
            "flex_flow": null,
            "grid_area": null,
            "grid_auto_columns": null,
            "grid_auto_flow": null,
            "grid_auto_rows": null,
            "grid_column": null,
            "grid_gap": null,
            "grid_row": null,
            "grid_template_areas": null,
            "grid_template_columns": null,
            "grid_template_rows": null,
            "height": null,
            "justify_content": null,
            "justify_items": null,
            "left": null,
            "margin": null,
            "max_height": null,
            "max_width": null,
            "min_height": null,
            "min_width": null,
            "object_fit": null,
            "object_position": null,
            "order": null,
            "overflow": null,
            "overflow_x": null,
            "overflow_y": null,
            "padding": null,
            "right": null,
            "top": null,
            "visibility": null,
            "width": null
          }
        },
        "f3c9dc1239734ca993f9de7f68648ef0": {
          "model_module": "@jupyter-widgets/base",
          "model_name": "LayoutModel",
          "model_module_version": "1.2.0",
          "state": {
            "_model_module": "@jupyter-widgets/base",
            "_model_module_version": "1.2.0",
            "_model_name": "LayoutModel",
            "_view_count": null,
            "_view_module": "@jupyter-widgets/base",
            "_view_module_version": "1.2.0",
            "_view_name": "LayoutView",
            "align_content": null,
            "align_items": null,
            "align_self": null,
            "border": null,
            "bottom": null,
            "display": null,
            "flex": null,
            "flex_flow": null,
            "grid_area": null,
            "grid_auto_columns": null,
            "grid_auto_flow": null,
            "grid_auto_rows": null,
            "grid_column": null,
            "grid_gap": null,
            "grid_row": null,
            "grid_template_areas": null,
            "grid_template_columns": null,
            "grid_template_rows": null,
            "height": null,
            "justify_content": null,
            "justify_items": null,
            "left": null,
            "margin": null,
            "max_height": null,
            "max_width": null,
            "min_height": null,
            "min_width": null,
            "object_fit": null,
            "object_position": null,
            "order": null,
            "overflow": null,
            "overflow_x": null,
            "overflow_y": null,
            "padding": null,
            "right": null,
            "top": null,
            "visibility": null,
            "width": null
          }
        },
        "ee733ad973d2442181868b609553615f": {
          "model_module": "@jupyter-widgets/controls",
          "model_name": "DescriptionStyleModel",
          "model_module_version": "1.5.0",
          "state": {
            "_model_module": "@jupyter-widgets/controls",
            "_model_module_version": "1.5.0",
            "_model_name": "DescriptionStyleModel",
            "_view_count": null,
            "_view_module": "@jupyter-widgets/base",
            "_view_module_version": "1.2.0",
            "_view_name": "StyleView",
            "description_width": ""
          }
        },
        "2990a0dd49864debb48a33a9442726c5": {
          "model_module": "@jupyter-widgets/base",
          "model_name": "LayoutModel",
          "model_module_version": "1.2.0",
          "state": {
            "_model_module": "@jupyter-widgets/base",
            "_model_module_version": "1.2.0",
            "_model_name": "LayoutModel",
            "_view_count": null,
            "_view_module": "@jupyter-widgets/base",
            "_view_module_version": "1.2.0",
            "_view_name": "LayoutView",
            "align_content": null,
            "align_items": null,
            "align_self": null,
            "border": null,
            "bottom": null,
            "display": null,
            "flex": null,
            "flex_flow": null,
            "grid_area": null,
            "grid_auto_columns": null,
            "grid_auto_flow": null,
            "grid_auto_rows": null,
            "grid_column": null,
            "grid_gap": null,
            "grid_row": null,
            "grid_template_areas": null,
            "grid_template_columns": null,
            "grid_template_rows": null,
            "height": null,
            "justify_content": null,
            "justify_items": null,
            "left": null,
            "margin": null,
            "max_height": null,
            "max_width": null,
            "min_height": null,
            "min_width": null,
            "object_fit": null,
            "object_position": null,
            "order": null,
            "overflow": null,
            "overflow_x": null,
            "overflow_y": null,
            "padding": null,
            "right": null,
            "top": null,
            "visibility": null,
            "width": null
          }
        },
        "e1daeb5520ae4dfc9251a98dad4cdf53": {
          "model_module": "@jupyter-widgets/controls",
          "model_name": "ProgressStyleModel",
          "model_module_version": "1.5.0",
          "state": {
            "_model_module": "@jupyter-widgets/controls",
            "_model_module_version": "1.5.0",
            "_model_name": "ProgressStyleModel",
            "_view_count": null,
            "_view_module": "@jupyter-widgets/base",
            "_view_module_version": "1.2.0",
            "_view_name": "StyleView",
            "bar_color": null,
            "description_width": ""
          }
        },
        "8cce9b4851634c7aa6e880bf17f2d285": {
          "model_module": "@jupyter-widgets/base",
          "model_name": "LayoutModel",
          "model_module_version": "1.2.0",
          "state": {
            "_model_module": "@jupyter-widgets/base",
            "_model_module_version": "1.2.0",
            "_model_name": "LayoutModel",
            "_view_count": null,
            "_view_module": "@jupyter-widgets/base",
            "_view_module_version": "1.2.0",
            "_view_name": "LayoutView",
            "align_content": null,
            "align_items": null,
            "align_self": null,
            "border": null,
            "bottom": null,
            "display": null,
            "flex": null,
            "flex_flow": null,
            "grid_area": null,
            "grid_auto_columns": null,
            "grid_auto_flow": null,
            "grid_auto_rows": null,
            "grid_column": null,
            "grid_gap": null,
            "grid_row": null,
            "grid_template_areas": null,
            "grid_template_columns": null,
            "grid_template_rows": null,
            "height": null,
            "justify_content": null,
            "justify_items": null,
            "left": null,
            "margin": null,
            "max_height": null,
            "max_width": null,
            "min_height": null,
            "min_width": null,
            "object_fit": null,
            "object_position": null,
            "order": null,
            "overflow": null,
            "overflow_x": null,
            "overflow_y": null,
            "padding": null,
            "right": null,
            "top": null,
            "visibility": null,
            "width": null
          }
        },
        "df01f9141c4b450e8e9c02bbe296fdec": {
          "model_module": "@jupyter-widgets/controls",
          "model_name": "DescriptionStyleModel",
          "model_module_version": "1.5.0",
          "state": {
            "_model_module": "@jupyter-widgets/controls",
            "_model_module_version": "1.5.0",
            "_model_name": "DescriptionStyleModel",
            "_view_count": null,
            "_view_module": "@jupyter-widgets/base",
            "_view_module_version": "1.2.0",
            "_view_name": "StyleView",
            "description_width": ""
          }
        },
        "8090bf13cd41471fbf8112aa0a48380c": {
          "model_module": "@jupyter-widgets/controls",
          "model_name": "HBoxModel",
          "model_module_version": "1.5.0",
          "state": {
            "_dom_classes": [],
            "_model_module": "@jupyter-widgets/controls",
            "_model_module_version": "1.5.0",
            "_model_name": "HBoxModel",
            "_view_count": null,
            "_view_module": "@jupyter-widgets/controls",
            "_view_module_version": "1.5.0",
            "_view_name": "HBoxView",
            "box_style": "",
            "children": [
              "IPY_MODEL_6d13346f335d48b4adca7014b3db57b4",
              "IPY_MODEL_39b9a576019044679709249f9887b98f",
              "IPY_MODEL_4b19e41032d4460b8e5f89278efc1673"
            ],
            "layout": "IPY_MODEL_3145ba18b0ff47268d224cd7880a4d2d"
          }
        },
        "6d13346f335d48b4adca7014b3db57b4": {
          "model_module": "@jupyter-widgets/controls",
          "model_name": "HTMLModel",
          "model_module_version": "1.5.0",
          "state": {
            "_dom_classes": [],
            "_model_module": "@jupyter-widgets/controls",
            "_model_module_version": "1.5.0",
            "_model_name": "HTMLModel",
            "_view_count": null,
            "_view_module": "@jupyter-widgets/controls",
            "_view_module_version": "1.5.0",
            "_view_name": "HTMLView",
            "description": "",
            "description_tooltip": null,
            "layout": "IPY_MODEL_2d1d8df28db041d99997eaa7801ffa43",
            "placeholder": "​",
            "style": "IPY_MODEL_50d19a1305064040a56fefbaa0ceb146",
            "value": "100%"
          }
        },
        "39b9a576019044679709249f9887b98f": {
          "model_module": "@jupyter-widgets/controls",
          "model_name": "FloatProgressModel",
          "model_module_version": "1.5.0",
          "state": {
            "_dom_classes": [],
            "_model_module": "@jupyter-widgets/controls",
            "_model_module_version": "1.5.0",
            "_model_name": "FloatProgressModel",
            "_view_count": null,
            "_view_module": "@jupyter-widgets/controls",
            "_view_module_version": "1.5.0",
            "_view_name": "ProgressView",
            "bar_style": "success",
            "description": "",
            "description_tooltip": null,
            "layout": "IPY_MODEL_79d80e7cc125411f8b9d806f62276438",
            "max": 6290,
            "min": 0,
            "orientation": "horizontal",
            "style": "IPY_MODEL_2745c0c3db054ee89f9324dea0c330c6",
            "value": 6290
          }
        },
        "4b19e41032d4460b8e5f89278efc1673": {
          "model_module": "@jupyter-widgets/controls",
          "model_name": "HTMLModel",
          "model_module_version": "1.5.0",
          "state": {
            "_dom_classes": [],
            "_model_module": "@jupyter-widgets/controls",
            "_model_module_version": "1.5.0",
            "_model_name": "HTMLModel",
            "_view_count": null,
            "_view_module": "@jupyter-widgets/controls",
            "_view_module_version": "1.5.0",
            "_view_name": "HTMLView",
            "description": "",
            "description_tooltip": null,
            "layout": "IPY_MODEL_26dca790bffc4e27b2ab6c3d50a42f70",
            "placeholder": "​",
            "style": "IPY_MODEL_7c770739e97948d7ad00ba91f0858889",
            "value": " 6290/6290 [00:00&lt;00:00, 6672.36ex/s]"
          }
        },
        "3145ba18b0ff47268d224cd7880a4d2d": {
          "model_module": "@jupyter-widgets/base",
          "model_name": "LayoutModel",
          "model_module_version": "1.2.0",
          "state": {
            "_model_module": "@jupyter-widgets/base",
            "_model_module_version": "1.2.0",
            "_model_name": "LayoutModel",
            "_view_count": null,
            "_view_module": "@jupyter-widgets/base",
            "_view_module_version": "1.2.0",
            "_view_name": "LayoutView",
            "align_content": null,
            "align_items": null,
            "align_self": null,
            "border": null,
            "bottom": null,
            "display": null,
            "flex": null,
            "flex_flow": null,
            "grid_area": null,
            "grid_auto_columns": null,
            "grid_auto_flow": null,
            "grid_auto_rows": null,
            "grid_column": null,
            "grid_gap": null,
            "grid_row": null,
            "grid_template_areas": null,
            "grid_template_columns": null,
            "grid_template_rows": null,
            "height": null,
            "justify_content": null,
            "justify_items": null,
            "left": null,
            "margin": null,
            "max_height": null,
            "max_width": null,
            "min_height": null,
            "min_width": null,
            "object_fit": null,
            "object_position": null,
            "order": null,
            "overflow": null,
            "overflow_x": null,
            "overflow_y": null,
            "padding": null,
            "right": null,
            "top": null,
            "visibility": null,
            "width": null
          }
        },
        "2d1d8df28db041d99997eaa7801ffa43": {
          "model_module": "@jupyter-widgets/base",
          "model_name": "LayoutModel",
          "model_module_version": "1.2.0",
          "state": {
            "_model_module": "@jupyter-widgets/base",
            "_model_module_version": "1.2.0",
            "_model_name": "LayoutModel",
            "_view_count": null,
            "_view_module": "@jupyter-widgets/base",
            "_view_module_version": "1.2.0",
            "_view_name": "LayoutView",
            "align_content": null,
            "align_items": null,
            "align_self": null,
            "border": null,
            "bottom": null,
            "display": null,
            "flex": null,
            "flex_flow": null,
            "grid_area": null,
            "grid_auto_columns": null,
            "grid_auto_flow": null,
            "grid_auto_rows": null,
            "grid_column": null,
            "grid_gap": null,
            "grid_row": null,
            "grid_template_areas": null,
            "grid_template_columns": null,
            "grid_template_rows": null,
            "height": null,
            "justify_content": null,
            "justify_items": null,
            "left": null,
            "margin": null,
            "max_height": null,
            "max_width": null,
            "min_height": null,
            "min_width": null,
            "object_fit": null,
            "object_position": null,
            "order": null,
            "overflow": null,
            "overflow_x": null,
            "overflow_y": null,
            "padding": null,
            "right": null,
            "top": null,
            "visibility": null,
            "width": null
          }
        },
        "50d19a1305064040a56fefbaa0ceb146": {
          "model_module": "@jupyter-widgets/controls",
          "model_name": "DescriptionStyleModel",
          "model_module_version": "1.5.0",
          "state": {
            "_model_module": "@jupyter-widgets/controls",
            "_model_module_version": "1.5.0",
            "_model_name": "DescriptionStyleModel",
            "_view_count": null,
            "_view_module": "@jupyter-widgets/base",
            "_view_module_version": "1.2.0",
            "_view_name": "StyleView",
            "description_width": ""
          }
        },
        "79d80e7cc125411f8b9d806f62276438": {
          "model_module": "@jupyter-widgets/base",
          "model_name": "LayoutModel",
          "model_module_version": "1.2.0",
          "state": {
            "_model_module": "@jupyter-widgets/base",
            "_model_module_version": "1.2.0",
            "_model_name": "LayoutModel",
            "_view_count": null,
            "_view_module": "@jupyter-widgets/base",
            "_view_module_version": "1.2.0",
            "_view_name": "LayoutView",
            "align_content": null,
            "align_items": null,
            "align_self": null,
            "border": null,
            "bottom": null,
            "display": null,
            "flex": null,
            "flex_flow": null,
            "grid_area": null,
            "grid_auto_columns": null,
            "grid_auto_flow": null,
            "grid_auto_rows": null,
            "grid_column": null,
            "grid_gap": null,
            "grid_row": null,
            "grid_template_areas": null,
            "grid_template_columns": null,
            "grid_template_rows": null,
            "height": null,
            "justify_content": null,
            "justify_items": null,
            "left": null,
            "margin": null,
            "max_height": null,
            "max_width": null,
            "min_height": null,
            "min_width": null,
            "object_fit": null,
            "object_position": null,
            "order": null,
            "overflow": null,
            "overflow_x": null,
            "overflow_y": null,
            "padding": null,
            "right": null,
            "top": null,
            "visibility": null,
            "width": null
          }
        },
        "2745c0c3db054ee89f9324dea0c330c6": {
          "model_module": "@jupyter-widgets/controls",
          "model_name": "ProgressStyleModel",
          "model_module_version": "1.5.0",
          "state": {
            "_model_module": "@jupyter-widgets/controls",
            "_model_module_version": "1.5.0",
            "_model_name": "ProgressStyleModel",
            "_view_count": null,
            "_view_module": "@jupyter-widgets/base",
            "_view_module_version": "1.2.0",
            "_view_name": "StyleView",
            "bar_color": null,
            "description_width": ""
          }
        },
        "26dca790bffc4e27b2ab6c3d50a42f70": {
          "model_module": "@jupyter-widgets/base",
          "model_name": "LayoutModel",
          "model_module_version": "1.2.0",
          "state": {
            "_model_module": "@jupyter-widgets/base",
            "_model_module_version": "1.2.0",
            "_model_name": "LayoutModel",
            "_view_count": null,
            "_view_module": "@jupyter-widgets/base",
            "_view_module_version": "1.2.0",
            "_view_name": "LayoutView",
            "align_content": null,
            "align_items": null,
            "align_self": null,
            "border": null,
            "bottom": null,
            "display": null,
            "flex": null,
            "flex_flow": null,
            "grid_area": null,
            "grid_auto_columns": null,
            "grid_auto_flow": null,
            "grid_auto_rows": null,
            "grid_column": null,
            "grid_gap": null,
            "grid_row": null,
            "grid_template_areas": null,
            "grid_template_columns": null,
            "grid_template_rows": null,
            "height": null,
            "justify_content": null,
            "justify_items": null,
            "left": null,
            "margin": null,
            "max_height": null,
            "max_width": null,
            "min_height": null,
            "min_width": null,
            "object_fit": null,
            "object_position": null,
            "order": null,
            "overflow": null,
            "overflow_x": null,
            "overflow_y": null,
            "padding": null,
            "right": null,
            "top": null,
            "visibility": null,
            "width": null
          }
        },
        "7c770739e97948d7ad00ba91f0858889": {
          "model_module": "@jupyter-widgets/controls",
          "model_name": "DescriptionStyleModel",
          "model_module_version": "1.5.0",
          "state": {
            "_model_module": "@jupyter-widgets/controls",
            "_model_module_version": "1.5.0",
            "_model_name": "DescriptionStyleModel",
            "_view_count": null,
            "_view_module": "@jupyter-widgets/base",
            "_view_module_version": "1.2.0",
            "_view_name": "StyleView",
            "description_width": ""
          }
        },
        "c87c2a8106524342b1a8ca10da7300f6": {
          "model_module": "@jupyter-widgets/controls",
          "model_name": "HBoxModel",
          "model_module_version": "1.5.0",
          "state": {
            "_dom_classes": [],
            "_model_module": "@jupyter-widgets/controls",
            "_model_module_version": "1.5.0",
            "_model_name": "HBoxModel",
            "_view_count": null,
            "_view_module": "@jupyter-widgets/controls",
            "_view_module_version": "1.5.0",
            "_view_name": "HBoxView",
            "box_style": "",
            "children": [
              "IPY_MODEL_8e8801e4d07747819010c8bb739d8a06",
              "IPY_MODEL_9f25b174f0db451a8489e4d965673580",
              "IPY_MODEL_e500991b8b0549c1bcc91f785982e4f2"
            ],
            "layout": "IPY_MODEL_2eb142c3f5914b828349f85189ab7191"
          }
        },
        "8e8801e4d07747819010c8bb739d8a06": {
          "model_module": "@jupyter-widgets/controls",
          "model_name": "HTMLModel",
          "model_module_version": "1.5.0",
          "state": {
            "_dom_classes": [],
            "_model_module": "@jupyter-widgets/controls",
            "_model_module_version": "1.5.0",
            "_model_name": "HTMLModel",
            "_view_count": null,
            "_view_module": "@jupyter-widgets/controls",
            "_view_module_version": "1.5.0",
            "_view_name": "HTMLView",
            "description": "",
            "description_tooltip": null,
            "layout": "IPY_MODEL_92c46b18602543dc95f1784177290849",
            "placeholder": "​",
            "style": "IPY_MODEL_3444af8debd94a29bc46b926bdd18a85",
            "value": "100%"
          }
        },
        "9f25b174f0db451a8489e4d965673580": {
          "model_module": "@jupyter-widgets/controls",
          "model_name": "FloatProgressModel",
          "model_module_version": "1.5.0",
          "state": {
            "_dom_classes": [],
            "_model_module": "@jupyter-widgets/controls",
            "_model_module_version": "1.5.0",
            "_model_name": "FloatProgressModel",
            "_view_count": null,
            "_view_module": "@jupyter-widgets/controls",
            "_view_module_version": "1.5.0",
            "_view_name": "ProgressView",
            "bar_style": "success",
            "description": "",
            "description_tooltip": null,
            "layout": "IPY_MODEL_3543e702d7d448178806beaf77929c6e",
            "max": 12580,
            "min": 0,
            "orientation": "horizontal",
            "style": "IPY_MODEL_8a200cabb9e44febac6892c92383f053",
            "value": 12580
          }
        },
        "e500991b8b0549c1bcc91f785982e4f2": {
          "model_module": "@jupyter-widgets/controls",
          "model_name": "HTMLModel",
          "model_module_version": "1.5.0",
          "state": {
            "_dom_classes": [],
            "_model_module": "@jupyter-widgets/controls",
            "_model_module_version": "1.5.0",
            "_model_name": "HTMLModel",
            "_view_count": null,
            "_view_module": "@jupyter-widgets/controls",
            "_view_module_version": "1.5.0",
            "_view_name": "HTMLView",
            "description": "",
            "description_tooltip": null,
            "layout": "IPY_MODEL_f7039a259e9740ae8eb417c83e0e5eda",
            "placeholder": "​",
            "style": "IPY_MODEL_85342749354f47b1b49f2ca64b1c62cb",
            "value": " 12580/12580 [00:02&lt;00:00, 5454.74ex/s]"
          }
        },
        "2eb142c3f5914b828349f85189ab7191": {
          "model_module": "@jupyter-widgets/base",
          "model_name": "LayoutModel",
          "model_module_version": "1.2.0",
          "state": {
            "_model_module": "@jupyter-widgets/base",
            "_model_module_version": "1.2.0",
            "_model_name": "LayoutModel",
            "_view_count": null,
            "_view_module": "@jupyter-widgets/base",
            "_view_module_version": "1.2.0",
            "_view_name": "LayoutView",
            "align_content": null,
            "align_items": null,
            "align_self": null,
            "border": null,
            "bottom": null,
            "display": null,
            "flex": null,
            "flex_flow": null,
            "grid_area": null,
            "grid_auto_columns": null,
            "grid_auto_flow": null,
            "grid_auto_rows": null,
            "grid_column": null,
            "grid_gap": null,
            "grid_row": null,
            "grid_template_areas": null,
            "grid_template_columns": null,
            "grid_template_rows": null,
            "height": null,
            "justify_content": null,
            "justify_items": null,
            "left": null,
            "margin": null,
            "max_height": null,
            "max_width": null,
            "min_height": null,
            "min_width": null,
            "object_fit": null,
            "object_position": null,
            "order": null,
            "overflow": null,
            "overflow_x": null,
            "overflow_y": null,
            "padding": null,
            "right": null,
            "top": null,
            "visibility": null,
            "width": null
          }
        },
        "92c46b18602543dc95f1784177290849": {
          "model_module": "@jupyter-widgets/base",
          "model_name": "LayoutModel",
          "model_module_version": "1.2.0",
          "state": {
            "_model_module": "@jupyter-widgets/base",
            "_model_module_version": "1.2.0",
            "_model_name": "LayoutModel",
            "_view_count": null,
            "_view_module": "@jupyter-widgets/base",
            "_view_module_version": "1.2.0",
            "_view_name": "LayoutView",
            "align_content": null,
            "align_items": null,
            "align_self": null,
            "border": null,
            "bottom": null,
            "display": null,
            "flex": null,
            "flex_flow": null,
            "grid_area": null,
            "grid_auto_columns": null,
            "grid_auto_flow": null,
            "grid_auto_rows": null,
            "grid_column": null,
            "grid_gap": null,
            "grid_row": null,
            "grid_template_areas": null,
            "grid_template_columns": null,
            "grid_template_rows": null,
            "height": null,
            "justify_content": null,
            "justify_items": null,
            "left": null,
            "margin": null,
            "max_height": null,
            "max_width": null,
            "min_height": null,
            "min_width": null,
            "object_fit": null,
            "object_position": null,
            "order": null,
            "overflow": null,
            "overflow_x": null,
            "overflow_y": null,
            "padding": null,
            "right": null,
            "top": null,
            "visibility": null,
            "width": null
          }
        },
        "3444af8debd94a29bc46b926bdd18a85": {
          "model_module": "@jupyter-widgets/controls",
          "model_name": "DescriptionStyleModel",
          "model_module_version": "1.5.0",
          "state": {
            "_model_module": "@jupyter-widgets/controls",
            "_model_module_version": "1.5.0",
            "_model_name": "DescriptionStyleModel",
            "_view_count": null,
            "_view_module": "@jupyter-widgets/base",
            "_view_module_version": "1.2.0",
            "_view_name": "StyleView",
            "description_width": ""
          }
        },
        "3543e702d7d448178806beaf77929c6e": {
          "model_module": "@jupyter-widgets/base",
          "model_name": "LayoutModel",
          "model_module_version": "1.2.0",
          "state": {
            "_model_module": "@jupyter-widgets/base",
            "_model_module_version": "1.2.0",
            "_model_name": "LayoutModel",
            "_view_count": null,
            "_view_module": "@jupyter-widgets/base",
            "_view_module_version": "1.2.0",
            "_view_name": "LayoutView",
            "align_content": null,
            "align_items": null,
            "align_self": null,
            "border": null,
            "bottom": null,
            "display": null,
            "flex": null,
            "flex_flow": null,
            "grid_area": null,
            "grid_auto_columns": null,
            "grid_auto_flow": null,
            "grid_auto_rows": null,
            "grid_column": null,
            "grid_gap": null,
            "grid_row": null,
            "grid_template_areas": null,
            "grid_template_columns": null,
            "grid_template_rows": null,
            "height": null,
            "justify_content": null,
            "justify_items": null,
            "left": null,
            "margin": null,
            "max_height": null,
            "max_width": null,
            "min_height": null,
            "min_width": null,
            "object_fit": null,
            "object_position": null,
            "order": null,
            "overflow": null,
            "overflow_x": null,
            "overflow_y": null,
            "padding": null,
            "right": null,
            "top": null,
            "visibility": null,
            "width": null
          }
        },
        "8a200cabb9e44febac6892c92383f053": {
          "model_module": "@jupyter-widgets/controls",
          "model_name": "ProgressStyleModel",
          "model_module_version": "1.5.0",
          "state": {
            "_model_module": "@jupyter-widgets/controls",
            "_model_module_version": "1.5.0",
            "_model_name": "ProgressStyleModel",
            "_view_count": null,
            "_view_module": "@jupyter-widgets/base",
            "_view_module_version": "1.2.0",
            "_view_name": "StyleView",
            "bar_color": null,
            "description_width": ""
          }
        },
        "f7039a259e9740ae8eb417c83e0e5eda": {
          "model_module": "@jupyter-widgets/base",
          "model_name": "LayoutModel",
          "model_module_version": "1.2.0",
          "state": {
            "_model_module": "@jupyter-widgets/base",
            "_model_module_version": "1.2.0",
            "_model_name": "LayoutModel",
            "_view_count": null,
            "_view_module": "@jupyter-widgets/base",
            "_view_module_version": "1.2.0",
            "_view_name": "LayoutView",
            "align_content": null,
            "align_items": null,
            "align_self": null,
            "border": null,
            "bottom": null,
            "display": null,
            "flex": null,
            "flex_flow": null,
            "grid_area": null,
            "grid_auto_columns": null,
            "grid_auto_flow": null,
            "grid_auto_rows": null,
            "grid_column": null,
            "grid_gap": null,
            "grid_row": null,
            "grid_template_areas": null,
            "grid_template_columns": null,
            "grid_template_rows": null,
            "height": null,
            "justify_content": null,
            "justify_items": null,
            "left": null,
            "margin": null,
            "max_height": null,
            "max_width": null,
            "min_height": null,
            "min_width": null,
            "object_fit": null,
            "object_position": null,
            "order": null,
            "overflow": null,
            "overflow_x": null,
            "overflow_y": null,
            "padding": null,
            "right": null,
            "top": null,
            "visibility": null,
            "width": null
          }
        },
        "85342749354f47b1b49f2ca64b1c62cb": {
          "model_module": "@jupyter-widgets/controls",
          "model_name": "DescriptionStyleModel",
          "model_module_version": "1.5.0",
          "state": {
            "_model_module": "@jupyter-widgets/controls",
            "_model_module_version": "1.5.0",
            "_model_name": "DescriptionStyleModel",
            "_view_count": null,
            "_view_module": "@jupyter-widgets/base",
            "_view_module_version": "1.2.0",
            "_view_name": "StyleView",
            "description_width": ""
          }
        },
        "7b363c1bdd7a4d2cbe21c1aaf348da8b": {
          "model_module": "@jupyter-widgets/controls",
          "model_name": "HBoxModel",
          "model_module_version": "1.5.0",
          "state": {
            "_dom_classes": [],
            "_model_module": "@jupyter-widgets/controls",
            "_model_module_version": "1.5.0",
            "_model_name": "HBoxModel",
            "_view_count": null,
            "_view_module": "@jupyter-widgets/controls",
            "_view_module_version": "1.5.0",
            "_view_name": "HBoxView",
            "box_style": "",
            "children": [
              "IPY_MODEL_5b69b4f0811b4b90828d72d9e9e0b872",
              "IPY_MODEL_7b76895d8aa24876a20801018edbfeef",
              "IPY_MODEL_3c7b1369d36343a297c6a52c2bc6cec5"
            ],
            "layout": "IPY_MODEL_32ac2d5cee9c4dfd9f7ffbae45be0f3d"
          }
        },
        "5b69b4f0811b4b90828d72d9e9e0b872": {
          "model_module": "@jupyter-widgets/controls",
          "model_name": "HTMLModel",
          "model_module_version": "1.5.0",
          "state": {
            "_dom_classes": [],
            "_model_module": "@jupyter-widgets/controls",
            "_model_module_version": "1.5.0",
            "_model_name": "HTMLModel",
            "_view_count": null,
            "_view_module": "@jupyter-widgets/controls",
            "_view_module_version": "1.5.0",
            "_view_name": "HTMLView",
            "description": "",
            "description_tooltip": null,
            "layout": "IPY_MODEL_e35d2b569ae34401a4bec604e575f6c3",
            "placeholder": "​",
            "style": "IPY_MODEL_aa9c7295d2fb432e9b57a651289385b3",
            "value": "100%"
          }
        },
        "7b76895d8aa24876a20801018edbfeef": {
          "model_module": "@jupyter-widgets/controls",
          "model_name": "FloatProgressModel",
          "model_module_version": "1.5.0",
          "state": {
            "_dom_classes": [],
            "_model_module": "@jupyter-widgets/controls",
            "_model_module_version": "1.5.0",
            "_model_name": "FloatProgressModel",
            "_view_count": null,
            "_view_module": "@jupyter-widgets/controls",
            "_view_module_version": "1.5.0",
            "_view_name": "ProgressView",
            "bar_style": "success",
            "description": "",
            "description_tooltip": null,
            "layout": "IPY_MODEL_e18e3b12f06b4bb09e5153f267224bc1",
            "max": 7,
            "min": 0,
            "orientation": "horizontal",
            "style": "IPY_MODEL_2ac7f4e9a457403e98a949707da304f9",
            "value": 7
          }
        },
        "3c7b1369d36343a297c6a52c2bc6cec5": {
          "model_module": "@jupyter-widgets/controls",
          "model_name": "HTMLModel",
          "model_module_version": "1.5.0",
          "state": {
            "_dom_classes": [],
            "_model_module": "@jupyter-widgets/controls",
            "_model_module_version": "1.5.0",
            "_model_name": "HTMLModel",
            "_view_count": null,
            "_view_module": "@jupyter-widgets/controls",
            "_view_module_version": "1.5.0",
            "_view_name": "HTMLView",
            "description": "",
            "description_tooltip": null,
            "layout": "IPY_MODEL_f0cb3389f79348f783e3635d0b7e74d7",
            "placeholder": "​",
            "style": "IPY_MODEL_54f0f3a4f9704c0a86e389ce85544e2f",
            "value": " 7/7 [00:01&lt;00:00,  3.80ba/s]"
          }
        },
        "32ac2d5cee9c4dfd9f7ffbae45be0f3d": {
          "model_module": "@jupyter-widgets/base",
          "model_name": "LayoutModel",
          "model_module_version": "1.2.0",
          "state": {
            "_model_module": "@jupyter-widgets/base",
            "_model_module_version": "1.2.0",
            "_model_name": "LayoutModel",
            "_view_count": null,
            "_view_module": "@jupyter-widgets/base",
            "_view_module_version": "1.2.0",
            "_view_name": "LayoutView",
            "align_content": null,
            "align_items": null,
            "align_self": null,
            "border": null,
            "bottom": null,
            "display": null,
            "flex": null,
            "flex_flow": null,
            "grid_area": null,
            "grid_auto_columns": null,
            "grid_auto_flow": null,
            "grid_auto_rows": null,
            "grid_column": null,
            "grid_gap": null,
            "grid_row": null,
            "grid_template_areas": null,
            "grid_template_columns": null,
            "grid_template_rows": null,
            "height": null,
            "justify_content": null,
            "justify_items": null,
            "left": null,
            "margin": null,
            "max_height": null,
            "max_width": null,
            "min_height": null,
            "min_width": null,
            "object_fit": null,
            "object_position": null,
            "order": null,
            "overflow": null,
            "overflow_x": null,
            "overflow_y": null,
            "padding": null,
            "right": null,
            "top": null,
            "visibility": null,
            "width": null
          }
        },
        "e35d2b569ae34401a4bec604e575f6c3": {
          "model_module": "@jupyter-widgets/base",
          "model_name": "LayoutModel",
          "model_module_version": "1.2.0",
          "state": {
            "_model_module": "@jupyter-widgets/base",
            "_model_module_version": "1.2.0",
            "_model_name": "LayoutModel",
            "_view_count": null,
            "_view_module": "@jupyter-widgets/base",
            "_view_module_version": "1.2.0",
            "_view_name": "LayoutView",
            "align_content": null,
            "align_items": null,
            "align_self": null,
            "border": null,
            "bottom": null,
            "display": null,
            "flex": null,
            "flex_flow": null,
            "grid_area": null,
            "grid_auto_columns": null,
            "grid_auto_flow": null,
            "grid_auto_rows": null,
            "grid_column": null,
            "grid_gap": null,
            "grid_row": null,
            "grid_template_areas": null,
            "grid_template_columns": null,
            "grid_template_rows": null,
            "height": null,
            "justify_content": null,
            "justify_items": null,
            "left": null,
            "margin": null,
            "max_height": null,
            "max_width": null,
            "min_height": null,
            "min_width": null,
            "object_fit": null,
            "object_position": null,
            "order": null,
            "overflow": null,
            "overflow_x": null,
            "overflow_y": null,
            "padding": null,
            "right": null,
            "top": null,
            "visibility": null,
            "width": null
          }
        },
        "aa9c7295d2fb432e9b57a651289385b3": {
          "model_module": "@jupyter-widgets/controls",
          "model_name": "DescriptionStyleModel",
          "model_module_version": "1.5.0",
          "state": {
            "_model_module": "@jupyter-widgets/controls",
            "_model_module_version": "1.5.0",
            "_model_name": "DescriptionStyleModel",
            "_view_count": null,
            "_view_module": "@jupyter-widgets/base",
            "_view_module_version": "1.2.0",
            "_view_name": "StyleView",
            "description_width": ""
          }
        },
        "e18e3b12f06b4bb09e5153f267224bc1": {
          "model_module": "@jupyter-widgets/base",
          "model_name": "LayoutModel",
          "model_module_version": "1.2.0",
          "state": {
            "_model_module": "@jupyter-widgets/base",
            "_model_module_version": "1.2.0",
            "_model_name": "LayoutModel",
            "_view_count": null,
            "_view_module": "@jupyter-widgets/base",
            "_view_module_version": "1.2.0",
            "_view_name": "LayoutView",
            "align_content": null,
            "align_items": null,
            "align_self": null,
            "border": null,
            "bottom": null,
            "display": null,
            "flex": null,
            "flex_flow": null,
            "grid_area": null,
            "grid_auto_columns": null,
            "grid_auto_flow": null,
            "grid_auto_rows": null,
            "grid_column": null,
            "grid_gap": null,
            "grid_row": null,
            "grid_template_areas": null,
            "grid_template_columns": null,
            "grid_template_rows": null,
            "height": null,
            "justify_content": null,
            "justify_items": null,
            "left": null,
            "margin": null,
            "max_height": null,
            "max_width": null,
            "min_height": null,
            "min_width": null,
            "object_fit": null,
            "object_position": null,
            "order": null,
            "overflow": null,
            "overflow_x": null,
            "overflow_y": null,
            "padding": null,
            "right": null,
            "top": null,
            "visibility": null,
            "width": null
          }
        },
        "2ac7f4e9a457403e98a949707da304f9": {
          "model_module": "@jupyter-widgets/controls",
          "model_name": "ProgressStyleModel",
          "model_module_version": "1.5.0",
          "state": {
            "_model_module": "@jupyter-widgets/controls",
            "_model_module_version": "1.5.0",
            "_model_name": "ProgressStyleModel",
            "_view_count": null,
            "_view_module": "@jupyter-widgets/base",
            "_view_module_version": "1.2.0",
            "_view_name": "StyleView",
            "bar_color": null,
            "description_width": ""
          }
        },
        "f0cb3389f79348f783e3635d0b7e74d7": {
          "model_module": "@jupyter-widgets/base",
          "model_name": "LayoutModel",
          "model_module_version": "1.2.0",
          "state": {
            "_model_module": "@jupyter-widgets/base",
            "_model_module_version": "1.2.0",
            "_model_name": "LayoutModel",
            "_view_count": null,
            "_view_module": "@jupyter-widgets/base",
            "_view_module_version": "1.2.0",
            "_view_name": "LayoutView",
            "align_content": null,
            "align_items": null,
            "align_self": null,
            "border": null,
            "bottom": null,
            "display": null,
            "flex": null,
            "flex_flow": null,
            "grid_area": null,
            "grid_auto_columns": null,
            "grid_auto_flow": null,
            "grid_auto_rows": null,
            "grid_column": null,
            "grid_gap": null,
            "grid_row": null,
            "grid_template_areas": null,
            "grid_template_columns": null,
            "grid_template_rows": null,
            "height": null,
            "justify_content": null,
            "justify_items": null,
            "left": null,
            "margin": null,
            "max_height": null,
            "max_width": null,
            "min_height": null,
            "min_width": null,
            "object_fit": null,
            "object_position": null,
            "order": null,
            "overflow": null,
            "overflow_x": null,
            "overflow_y": null,
            "padding": null,
            "right": null,
            "top": null,
            "visibility": null,
            "width": null
          }
        },
        "54f0f3a4f9704c0a86e389ce85544e2f": {
          "model_module": "@jupyter-widgets/controls",
          "model_name": "DescriptionStyleModel",
          "model_module_version": "1.5.0",
          "state": {
            "_model_module": "@jupyter-widgets/controls",
            "_model_module_version": "1.5.0",
            "_model_name": "DescriptionStyleModel",
            "_view_count": null,
            "_view_module": "@jupyter-widgets/base",
            "_view_module_version": "1.2.0",
            "_view_name": "StyleView",
            "description_width": ""
          }
        },
        "fb0d89b8c96645ab8110144816d3a69c": {
          "model_module": "@jupyter-widgets/controls",
          "model_name": "HBoxModel",
          "model_module_version": "1.5.0",
          "state": {
            "_dom_classes": [],
            "_model_module": "@jupyter-widgets/controls",
            "_model_module_version": "1.5.0",
            "_model_name": "HBoxModel",
            "_view_count": null,
            "_view_module": "@jupyter-widgets/controls",
            "_view_module_version": "1.5.0",
            "_view_name": "HBoxView",
            "box_style": "",
            "children": [
              "IPY_MODEL_84914146a59641d5b7aef65a24e10ad6",
              "IPY_MODEL_3eb5b04d001a49e4bc29bd6c1112f0cf",
              "IPY_MODEL_47275b1759324527887e56e34957ddb1"
            ],
            "layout": "IPY_MODEL_1d8083889aac42b6906ca006eb0f7509"
          }
        },
        "84914146a59641d5b7aef65a24e10ad6": {
          "model_module": "@jupyter-widgets/controls",
          "model_name": "HTMLModel",
          "model_module_version": "1.5.0",
          "state": {
            "_dom_classes": [],
            "_model_module": "@jupyter-widgets/controls",
            "_model_module_version": "1.5.0",
            "_model_name": "HTMLModel",
            "_view_count": null,
            "_view_module": "@jupyter-widgets/controls",
            "_view_module_version": "1.5.0",
            "_view_name": "HTMLView",
            "description": "",
            "description_tooltip": null,
            "layout": "IPY_MODEL_b5cc0fa4e92f440aa191131fd9447e92",
            "placeholder": "​",
            "style": "IPY_MODEL_792e3c6421514df78b894efc8d998f3a",
            "value": "100%"
          }
        },
        "3eb5b04d001a49e4bc29bd6c1112f0cf": {
          "model_module": "@jupyter-widgets/controls",
          "model_name": "FloatProgressModel",
          "model_module_version": "1.5.0",
          "state": {
            "_dom_classes": [],
            "_model_module": "@jupyter-widgets/controls",
            "_model_module_version": "1.5.0",
            "_model_name": "FloatProgressModel",
            "_view_count": null,
            "_view_module": "@jupyter-widgets/controls",
            "_view_module_version": "1.5.0",
            "_view_name": "ProgressView",
            "bar_style": "success",
            "description": "",
            "description_tooltip": null,
            "layout": "IPY_MODEL_17abac35c9ca4e9f8e4f69c0fdf179c8",
            "max": 7,
            "min": 0,
            "orientation": "horizontal",
            "style": "IPY_MODEL_5a81e8d813f74458b77c1d0ee9c446db",
            "value": 7
          }
        },
        "47275b1759324527887e56e34957ddb1": {
          "model_module": "@jupyter-widgets/controls",
          "model_name": "HTMLModel",
          "model_module_version": "1.5.0",
          "state": {
            "_dom_classes": [],
            "_model_module": "@jupyter-widgets/controls",
            "_model_module_version": "1.5.0",
            "_model_name": "HTMLModel",
            "_view_count": null,
            "_view_module": "@jupyter-widgets/controls",
            "_view_module_version": "1.5.0",
            "_view_name": "HTMLView",
            "description": "",
            "description_tooltip": null,
            "layout": "IPY_MODEL_cedb003e77c0463f9e48c14bac1068b6",
            "placeholder": "​",
            "style": "IPY_MODEL_b676aaae4e934034a6f652076306fa27",
            "value": " 7/7 [00:01&lt;00:00,  6.21ba/s]"
          }
        },
        "1d8083889aac42b6906ca006eb0f7509": {
          "model_module": "@jupyter-widgets/base",
          "model_name": "LayoutModel",
          "model_module_version": "1.2.0",
          "state": {
            "_model_module": "@jupyter-widgets/base",
            "_model_module_version": "1.2.0",
            "_model_name": "LayoutModel",
            "_view_count": null,
            "_view_module": "@jupyter-widgets/base",
            "_view_module_version": "1.2.0",
            "_view_name": "LayoutView",
            "align_content": null,
            "align_items": null,
            "align_self": null,
            "border": null,
            "bottom": null,
            "display": null,
            "flex": null,
            "flex_flow": null,
            "grid_area": null,
            "grid_auto_columns": null,
            "grid_auto_flow": null,
            "grid_auto_rows": null,
            "grid_column": null,
            "grid_gap": null,
            "grid_row": null,
            "grid_template_areas": null,
            "grid_template_columns": null,
            "grid_template_rows": null,
            "height": null,
            "justify_content": null,
            "justify_items": null,
            "left": null,
            "margin": null,
            "max_height": null,
            "max_width": null,
            "min_height": null,
            "min_width": null,
            "object_fit": null,
            "object_position": null,
            "order": null,
            "overflow": null,
            "overflow_x": null,
            "overflow_y": null,
            "padding": null,
            "right": null,
            "top": null,
            "visibility": null,
            "width": null
          }
        },
        "b5cc0fa4e92f440aa191131fd9447e92": {
          "model_module": "@jupyter-widgets/base",
          "model_name": "LayoutModel",
          "model_module_version": "1.2.0",
          "state": {
            "_model_module": "@jupyter-widgets/base",
            "_model_module_version": "1.2.0",
            "_model_name": "LayoutModel",
            "_view_count": null,
            "_view_module": "@jupyter-widgets/base",
            "_view_module_version": "1.2.0",
            "_view_name": "LayoutView",
            "align_content": null,
            "align_items": null,
            "align_self": null,
            "border": null,
            "bottom": null,
            "display": null,
            "flex": null,
            "flex_flow": null,
            "grid_area": null,
            "grid_auto_columns": null,
            "grid_auto_flow": null,
            "grid_auto_rows": null,
            "grid_column": null,
            "grid_gap": null,
            "grid_row": null,
            "grid_template_areas": null,
            "grid_template_columns": null,
            "grid_template_rows": null,
            "height": null,
            "justify_content": null,
            "justify_items": null,
            "left": null,
            "margin": null,
            "max_height": null,
            "max_width": null,
            "min_height": null,
            "min_width": null,
            "object_fit": null,
            "object_position": null,
            "order": null,
            "overflow": null,
            "overflow_x": null,
            "overflow_y": null,
            "padding": null,
            "right": null,
            "top": null,
            "visibility": null,
            "width": null
          }
        },
        "792e3c6421514df78b894efc8d998f3a": {
          "model_module": "@jupyter-widgets/controls",
          "model_name": "DescriptionStyleModel",
          "model_module_version": "1.5.0",
          "state": {
            "_model_module": "@jupyter-widgets/controls",
            "_model_module_version": "1.5.0",
            "_model_name": "DescriptionStyleModel",
            "_view_count": null,
            "_view_module": "@jupyter-widgets/base",
            "_view_module_version": "1.2.0",
            "_view_name": "StyleView",
            "description_width": ""
          }
        },
        "17abac35c9ca4e9f8e4f69c0fdf179c8": {
          "model_module": "@jupyter-widgets/base",
          "model_name": "LayoutModel",
          "model_module_version": "1.2.0",
          "state": {
            "_model_module": "@jupyter-widgets/base",
            "_model_module_version": "1.2.0",
            "_model_name": "LayoutModel",
            "_view_count": null,
            "_view_module": "@jupyter-widgets/base",
            "_view_module_version": "1.2.0",
            "_view_name": "LayoutView",
            "align_content": null,
            "align_items": null,
            "align_self": null,
            "border": null,
            "bottom": null,
            "display": null,
            "flex": null,
            "flex_flow": null,
            "grid_area": null,
            "grid_auto_columns": null,
            "grid_auto_flow": null,
            "grid_auto_rows": null,
            "grid_column": null,
            "grid_gap": null,
            "grid_row": null,
            "grid_template_areas": null,
            "grid_template_columns": null,
            "grid_template_rows": null,
            "height": null,
            "justify_content": null,
            "justify_items": null,
            "left": null,
            "margin": null,
            "max_height": null,
            "max_width": null,
            "min_height": null,
            "min_width": null,
            "object_fit": null,
            "object_position": null,
            "order": null,
            "overflow": null,
            "overflow_x": null,
            "overflow_y": null,
            "padding": null,
            "right": null,
            "top": null,
            "visibility": null,
            "width": null
          }
        },
        "5a81e8d813f74458b77c1d0ee9c446db": {
          "model_module": "@jupyter-widgets/controls",
          "model_name": "ProgressStyleModel",
          "model_module_version": "1.5.0",
          "state": {
            "_model_module": "@jupyter-widgets/controls",
            "_model_module_version": "1.5.0",
            "_model_name": "ProgressStyleModel",
            "_view_count": null,
            "_view_module": "@jupyter-widgets/base",
            "_view_module_version": "1.2.0",
            "_view_name": "StyleView",
            "bar_color": null,
            "description_width": ""
          }
        },
        "cedb003e77c0463f9e48c14bac1068b6": {
          "model_module": "@jupyter-widgets/base",
          "model_name": "LayoutModel",
          "model_module_version": "1.2.0",
          "state": {
            "_model_module": "@jupyter-widgets/base",
            "_model_module_version": "1.2.0",
            "_model_name": "LayoutModel",
            "_view_count": null,
            "_view_module": "@jupyter-widgets/base",
            "_view_module_version": "1.2.0",
            "_view_name": "LayoutView",
            "align_content": null,
            "align_items": null,
            "align_self": null,
            "border": null,
            "bottom": null,
            "display": null,
            "flex": null,
            "flex_flow": null,
            "grid_area": null,
            "grid_auto_columns": null,
            "grid_auto_flow": null,
            "grid_auto_rows": null,
            "grid_column": null,
            "grid_gap": null,
            "grid_row": null,
            "grid_template_areas": null,
            "grid_template_columns": null,
            "grid_template_rows": null,
            "height": null,
            "justify_content": null,
            "justify_items": null,
            "left": null,
            "margin": null,
            "max_height": null,
            "max_width": null,
            "min_height": null,
            "min_width": null,
            "object_fit": null,
            "object_position": null,
            "order": null,
            "overflow": null,
            "overflow_x": null,
            "overflow_y": null,
            "padding": null,
            "right": null,
            "top": null,
            "visibility": null,
            "width": null
          }
        },
        "b676aaae4e934034a6f652076306fa27": {
          "model_module": "@jupyter-widgets/controls",
          "model_name": "DescriptionStyleModel",
          "model_module_version": "1.5.0",
          "state": {
            "_model_module": "@jupyter-widgets/controls",
            "_model_module_version": "1.5.0",
            "_model_name": "DescriptionStyleModel",
            "_view_count": null,
            "_view_module": "@jupyter-widgets/base",
            "_view_module_version": "1.2.0",
            "_view_name": "StyleView",
            "description_width": ""
          }
        },
        "84f142fd62014c0887767d2abf21bda2": {
          "model_module": "@jupyter-widgets/controls",
          "model_name": "HBoxModel",
          "model_module_version": "1.5.0",
          "state": {
            "_dom_classes": [],
            "_model_module": "@jupyter-widgets/controls",
            "_model_module_version": "1.5.0",
            "_model_name": "HBoxModel",
            "_view_count": null,
            "_view_module": "@jupyter-widgets/controls",
            "_view_module_version": "1.5.0",
            "_view_name": "HBoxView",
            "box_style": "",
            "children": [
              "IPY_MODEL_1936153238c544b0801433ae188d2a57",
              "IPY_MODEL_99f3bf249f49414abb4ccf8d28c106cb",
              "IPY_MODEL_430afdc0a73842dab769b2c899eedab8"
            ],
            "layout": "IPY_MODEL_aeac56fa9b664f948f7b4b6f98eab583"
          }
        },
        "1936153238c544b0801433ae188d2a57": {
          "model_module": "@jupyter-widgets/controls",
          "model_name": "HTMLModel",
          "model_module_version": "1.5.0",
          "state": {
            "_dom_classes": [],
            "_model_module": "@jupyter-widgets/controls",
            "_model_module_version": "1.5.0",
            "_model_name": "HTMLModel",
            "_view_count": null,
            "_view_module": "@jupyter-widgets/controls",
            "_view_module_version": "1.5.0",
            "_view_name": "HTMLView",
            "description": "",
            "description_tooltip": null,
            "layout": "IPY_MODEL_f0a57f6bf1914c428914b782cac1d49e",
            "placeholder": "​",
            "style": "IPY_MODEL_e1bee594f1c94a09a502c74dccc12a9a",
            "value": "100%"
          }
        },
        "99f3bf249f49414abb4ccf8d28c106cb": {
          "model_module": "@jupyter-widgets/controls",
          "model_name": "FloatProgressModel",
          "model_module_version": "1.5.0",
          "state": {
            "_dom_classes": [],
            "_model_module": "@jupyter-widgets/controls",
            "_model_module_version": "1.5.0",
            "_model_name": "FloatProgressModel",
            "_view_count": null,
            "_view_module": "@jupyter-widgets/controls",
            "_view_module_version": "1.5.0",
            "_view_name": "ProgressView",
            "bar_style": "success",
            "description": "",
            "description_tooltip": null,
            "layout": "IPY_MODEL_f2059637922f4e52a4d99d0504ee3090",
            "max": 13,
            "min": 0,
            "orientation": "horizontal",
            "style": "IPY_MODEL_ce842fe7f2bd478c9dd580687842a578",
            "value": 13
          }
        },
        "430afdc0a73842dab769b2c899eedab8": {
          "model_module": "@jupyter-widgets/controls",
          "model_name": "HTMLModel",
          "model_module_version": "1.5.0",
          "state": {
            "_dom_classes": [],
            "_model_module": "@jupyter-widgets/controls",
            "_model_module_version": "1.5.0",
            "_model_name": "HTMLModel",
            "_view_count": null,
            "_view_module": "@jupyter-widgets/controls",
            "_view_module_version": "1.5.0",
            "_view_name": "HTMLView",
            "description": "",
            "description_tooltip": null,
            "layout": "IPY_MODEL_d849ad99416d493db5d48940372182e5",
            "placeholder": "​",
            "style": "IPY_MODEL_d8be1b721f194e32a59441d41cd65d43",
            "value": " 13/13 [00:02&lt;00:00,  7.12ba/s]"
          }
        },
        "aeac56fa9b664f948f7b4b6f98eab583": {
          "model_module": "@jupyter-widgets/base",
          "model_name": "LayoutModel",
          "model_module_version": "1.2.0",
          "state": {
            "_model_module": "@jupyter-widgets/base",
            "_model_module_version": "1.2.0",
            "_model_name": "LayoutModel",
            "_view_count": null,
            "_view_module": "@jupyter-widgets/base",
            "_view_module_version": "1.2.0",
            "_view_name": "LayoutView",
            "align_content": null,
            "align_items": null,
            "align_self": null,
            "border": null,
            "bottom": null,
            "display": null,
            "flex": null,
            "flex_flow": null,
            "grid_area": null,
            "grid_auto_columns": null,
            "grid_auto_flow": null,
            "grid_auto_rows": null,
            "grid_column": null,
            "grid_gap": null,
            "grid_row": null,
            "grid_template_areas": null,
            "grid_template_columns": null,
            "grid_template_rows": null,
            "height": null,
            "justify_content": null,
            "justify_items": null,
            "left": null,
            "margin": null,
            "max_height": null,
            "max_width": null,
            "min_height": null,
            "min_width": null,
            "object_fit": null,
            "object_position": null,
            "order": null,
            "overflow": null,
            "overflow_x": null,
            "overflow_y": null,
            "padding": null,
            "right": null,
            "top": null,
            "visibility": null,
            "width": null
          }
        },
        "f0a57f6bf1914c428914b782cac1d49e": {
          "model_module": "@jupyter-widgets/base",
          "model_name": "LayoutModel",
          "model_module_version": "1.2.0",
          "state": {
            "_model_module": "@jupyter-widgets/base",
            "_model_module_version": "1.2.0",
            "_model_name": "LayoutModel",
            "_view_count": null,
            "_view_module": "@jupyter-widgets/base",
            "_view_module_version": "1.2.0",
            "_view_name": "LayoutView",
            "align_content": null,
            "align_items": null,
            "align_self": null,
            "border": null,
            "bottom": null,
            "display": null,
            "flex": null,
            "flex_flow": null,
            "grid_area": null,
            "grid_auto_columns": null,
            "grid_auto_flow": null,
            "grid_auto_rows": null,
            "grid_column": null,
            "grid_gap": null,
            "grid_row": null,
            "grid_template_areas": null,
            "grid_template_columns": null,
            "grid_template_rows": null,
            "height": null,
            "justify_content": null,
            "justify_items": null,
            "left": null,
            "margin": null,
            "max_height": null,
            "max_width": null,
            "min_height": null,
            "min_width": null,
            "object_fit": null,
            "object_position": null,
            "order": null,
            "overflow": null,
            "overflow_x": null,
            "overflow_y": null,
            "padding": null,
            "right": null,
            "top": null,
            "visibility": null,
            "width": null
          }
        },
        "e1bee594f1c94a09a502c74dccc12a9a": {
          "model_module": "@jupyter-widgets/controls",
          "model_name": "DescriptionStyleModel",
          "model_module_version": "1.5.0",
          "state": {
            "_model_module": "@jupyter-widgets/controls",
            "_model_module_version": "1.5.0",
            "_model_name": "DescriptionStyleModel",
            "_view_count": null,
            "_view_module": "@jupyter-widgets/base",
            "_view_module_version": "1.2.0",
            "_view_name": "StyleView",
            "description_width": ""
          }
        },
        "f2059637922f4e52a4d99d0504ee3090": {
          "model_module": "@jupyter-widgets/base",
          "model_name": "LayoutModel",
          "model_module_version": "1.2.0",
          "state": {
            "_model_module": "@jupyter-widgets/base",
            "_model_module_version": "1.2.0",
            "_model_name": "LayoutModel",
            "_view_count": null,
            "_view_module": "@jupyter-widgets/base",
            "_view_module_version": "1.2.0",
            "_view_name": "LayoutView",
            "align_content": null,
            "align_items": null,
            "align_self": null,
            "border": null,
            "bottom": null,
            "display": null,
            "flex": null,
            "flex_flow": null,
            "grid_area": null,
            "grid_auto_columns": null,
            "grid_auto_flow": null,
            "grid_auto_rows": null,
            "grid_column": null,
            "grid_gap": null,
            "grid_row": null,
            "grid_template_areas": null,
            "grid_template_columns": null,
            "grid_template_rows": null,
            "height": null,
            "justify_content": null,
            "justify_items": null,
            "left": null,
            "margin": null,
            "max_height": null,
            "max_width": null,
            "min_height": null,
            "min_width": null,
            "object_fit": null,
            "object_position": null,
            "order": null,
            "overflow": null,
            "overflow_x": null,
            "overflow_y": null,
            "padding": null,
            "right": null,
            "top": null,
            "visibility": null,
            "width": null
          }
        },
        "ce842fe7f2bd478c9dd580687842a578": {
          "model_module": "@jupyter-widgets/controls",
          "model_name": "ProgressStyleModel",
          "model_module_version": "1.5.0",
          "state": {
            "_model_module": "@jupyter-widgets/controls",
            "_model_module_version": "1.5.0",
            "_model_name": "ProgressStyleModel",
            "_view_count": null,
            "_view_module": "@jupyter-widgets/base",
            "_view_module_version": "1.2.0",
            "_view_name": "StyleView",
            "bar_color": null,
            "description_width": ""
          }
        },
        "d849ad99416d493db5d48940372182e5": {
          "model_module": "@jupyter-widgets/base",
          "model_name": "LayoutModel",
          "model_module_version": "1.2.0",
          "state": {
            "_model_module": "@jupyter-widgets/base",
            "_model_module_version": "1.2.0",
            "_model_name": "LayoutModel",
            "_view_count": null,
            "_view_module": "@jupyter-widgets/base",
            "_view_module_version": "1.2.0",
            "_view_name": "LayoutView",
            "align_content": null,
            "align_items": null,
            "align_self": null,
            "border": null,
            "bottom": null,
            "display": null,
            "flex": null,
            "flex_flow": null,
            "grid_area": null,
            "grid_auto_columns": null,
            "grid_auto_flow": null,
            "grid_auto_rows": null,
            "grid_column": null,
            "grid_gap": null,
            "grid_row": null,
            "grid_template_areas": null,
            "grid_template_columns": null,
            "grid_template_rows": null,
            "height": null,
            "justify_content": null,
            "justify_items": null,
            "left": null,
            "margin": null,
            "max_height": null,
            "max_width": null,
            "min_height": null,
            "min_width": null,
            "object_fit": null,
            "object_position": null,
            "order": null,
            "overflow": null,
            "overflow_x": null,
            "overflow_y": null,
            "padding": null,
            "right": null,
            "top": null,
            "visibility": null,
            "width": null
          }
        },
        "d8be1b721f194e32a59441d41cd65d43": {
          "model_module": "@jupyter-widgets/controls",
          "model_name": "DescriptionStyleModel",
          "model_module_version": "1.5.0",
          "state": {
            "_model_module": "@jupyter-widgets/controls",
            "_model_module_version": "1.5.0",
            "_model_name": "DescriptionStyleModel",
            "_view_count": null,
            "_view_module": "@jupyter-widgets/base",
            "_view_module_version": "1.2.0",
            "_view_name": "StyleView",
            "description_width": ""
          }
        },
        "858b4ca2f92c48da9c97245958be0bb1": {
          "model_module": "@jupyter-widgets/controls",
          "model_name": "HBoxModel",
          "model_module_version": "1.5.0",
          "state": {
            "_dom_classes": [],
            "_model_module": "@jupyter-widgets/controls",
            "_model_module_version": "1.5.0",
            "_model_name": "HBoxModel",
            "_view_count": null,
            "_view_module": "@jupyter-widgets/controls",
            "_view_module_version": "1.5.0",
            "_view_name": "HBoxView",
            "box_style": "",
            "children": [
              "IPY_MODEL_7edac90bd1b044f2ac5bc57cebf45898",
              "IPY_MODEL_4b14549683994748bb89bafc88e330a4",
              "IPY_MODEL_96d699c47467444ca1573af70255c178"
            ],
            "layout": "IPY_MODEL_1c37cd8969ca4c31a08935bedb18648c"
          }
        },
        "7edac90bd1b044f2ac5bc57cebf45898": {
          "model_module": "@jupyter-widgets/controls",
          "model_name": "HTMLModel",
          "model_module_version": "1.5.0",
          "state": {
            "_dom_classes": [],
            "_model_module": "@jupyter-widgets/controls",
            "_model_module_version": "1.5.0",
            "_model_name": "HTMLModel",
            "_view_count": null,
            "_view_module": "@jupyter-widgets/controls",
            "_view_module_version": "1.5.0",
            "_view_name": "HTMLView",
            "description": "",
            "description_tooltip": null,
            "layout": "IPY_MODEL_138a738f50af4ddf8cab2fddcbf451f5",
            "placeholder": "​",
            "style": "IPY_MODEL_147457f6782e48eb97ed26de8c106265",
            "value": "Downloading: 100%"
          }
        },
        "4b14549683994748bb89bafc88e330a4": {
          "model_module": "@jupyter-widgets/controls",
          "model_name": "FloatProgressModel",
          "model_module_version": "1.5.0",
          "state": {
            "_dom_classes": [],
            "_model_module": "@jupyter-widgets/controls",
            "_model_module_version": "1.5.0",
            "_model_name": "FloatProgressModel",
            "_view_count": null,
            "_view_module": "@jupyter-widgets/controls",
            "_view_module_version": "1.5.0",
            "_view_name": "ProgressView",
            "bar_style": "success",
            "description": "",
            "description_tooltip": null,
            "layout": "IPY_MODEL_4dd953330d77480d8205ea23fbfc10e3",
            "max": 993,
            "min": 0,
            "orientation": "horizontal",
            "style": "IPY_MODEL_79c5837d56b64be5a2c7127e06ff3d73",
            "value": 993
          }
        },
        "96d699c47467444ca1573af70255c178": {
          "model_module": "@jupyter-widgets/controls",
          "model_name": "HTMLModel",
          "model_module_version": "1.5.0",
          "state": {
            "_dom_classes": [],
            "_model_module": "@jupyter-widgets/controls",
            "_model_module_version": "1.5.0",
            "_model_name": "HTMLModel",
            "_view_count": null,
            "_view_module": "@jupyter-widgets/controls",
            "_view_module_version": "1.5.0",
            "_view_name": "HTMLView",
            "description": "",
            "description_tooltip": null,
            "layout": "IPY_MODEL_a8ae0028e30c42b5b60a68106a9f6b28",
            "placeholder": "​",
            "style": "IPY_MODEL_9202b6c9857b4514836253aab6a64f64",
            "value": " 993/993 [00:00&lt;00:00, 28.7kB/s]"
          }
        },
        "1c37cd8969ca4c31a08935bedb18648c": {
          "model_module": "@jupyter-widgets/base",
          "model_name": "LayoutModel",
          "model_module_version": "1.2.0",
          "state": {
            "_model_module": "@jupyter-widgets/base",
            "_model_module_version": "1.2.0",
            "_model_name": "LayoutModel",
            "_view_count": null,
            "_view_module": "@jupyter-widgets/base",
            "_view_module_version": "1.2.0",
            "_view_name": "LayoutView",
            "align_content": null,
            "align_items": null,
            "align_self": null,
            "border": null,
            "bottom": null,
            "display": null,
            "flex": null,
            "flex_flow": null,
            "grid_area": null,
            "grid_auto_columns": null,
            "grid_auto_flow": null,
            "grid_auto_rows": null,
            "grid_column": null,
            "grid_gap": null,
            "grid_row": null,
            "grid_template_areas": null,
            "grid_template_columns": null,
            "grid_template_rows": null,
            "height": null,
            "justify_content": null,
            "justify_items": null,
            "left": null,
            "margin": null,
            "max_height": null,
            "max_width": null,
            "min_height": null,
            "min_width": null,
            "object_fit": null,
            "object_position": null,
            "order": null,
            "overflow": null,
            "overflow_x": null,
            "overflow_y": null,
            "padding": null,
            "right": null,
            "top": null,
            "visibility": null,
            "width": null
          }
        },
        "138a738f50af4ddf8cab2fddcbf451f5": {
          "model_module": "@jupyter-widgets/base",
          "model_name": "LayoutModel",
          "model_module_version": "1.2.0",
          "state": {
            "_model_module": "@jupyter-widgets/base",
            "_model_module_version": "1.2.0",
            "_model_name": "LayoutModel",
            "_view_count": null,
            "_view_module": "@jupyter-widgets/base",
            "_view_module_version": "1.2.0",
            "_view_name": "LayoutView",
            "align_content": null,
            "align_items": null,
            "align_self": null,
            "border": null,
            "bottom": null,
            "display": null,
            "flex": null,
            "flex_flow": null,
            "grid_area": null,
            "grid_auto_columns": null,
            "grid_auto_flow": null,
            "grid_auto_rows": null,
            "grid_column": null,
            "grid_gap": null,
            "grid_row": null,
            "grid_template_areas": null,
            "grid_template_columns": null,
            "grid_template_rows": null,
            "height": null,
            "justify_content": null,
            "justify_items": null,
            "left": null,
            "margin": null,
            "max_height": null,
            "max_width": null,
            "min_height": null,
            "min_width": null,
            "object_fit": null,
            "object_position": null,
            "order": null,
            "overflow": null,
            "overflow_x": null,
            "overflow_y": null,
            "padding": null,
            "right": null,
            "top": null,
            "visibility": null,
            "width": null
          }
        },
        "147457f6782e48eb97ed26de8c106265": {
          "model_module": "@jupyter-widgets/controls",
          "model_name": "DescriptionStyleModel",
          "model_module_version": "1.5.0",
          "state": {
            "_model_module": "@jupyter-widgets/controls",
            "_model_module_version": "1.5.0",
            "_model_name": "DescriptionStyleModel",
            "_view_count": null,
            "_view_module": "@jupyter-widgets/base",
            "_view_module_version": "1.2.0",
            "_view_name": "StyleView",
            "description_width": ""
          }
        },
        "4dd953330d77480d8205ea23fbfc10e3": {
          "model_module": "@jupyter-widgets/base",
          "model_name": "LayoutModel",
          "model_module_version": "1.2.0",
          "state": {
            "_model_module": "@jupyter-widgets/base",
            "_model_module_version": "1.2.0",
            "_model_name": "LayoutModel",
            "_view_count": null,
            "_view_module": "@jupyter-widgets/base",
            "_view_module_version": "1.2.0",
            "_view_name": "LayoutView",
            "align_content": null,
            "align_items": null,
            "align_self": null,
            "border": null,
            "bottom": null,
            "display": null,
            "flex": null,
            "flex_flow": null,
            "grid_area": null,
            "grid_auto_columns": null,
            "grid_auto_flow": null,
            "grid_auto_rows": null,
            "grid_column": null,
            "grid_gap": null,
            "grid_row": null,
            "grid_template_areas": null,
            "grid_template_columns": null,
            "grid_template_rows": null,
            "height": null,
            "justify_content": null,
            "justify_items": null,
            "left": null,
            "margin": null,
            "max_height": null,
            "max_width": null,
            "min_height": null,
            "min_width": null,
            "object_fit": null,
            "object_position": null,
            "order": null,
            "overflow": null,
            "overflow_x": null,
            "overflow_y": null,
            "padding": null,
            "right": null,
            "top": null,
            "visibility": null,
            "width": null
          }
        },
        "79c5837d56b64be5a2c7127e06ff3d73": {
          "model_module": "@jupyter-widgets/controls",
          "model_name": "ProgressStyleModel",
          "model_module_version": "1.5.0",
          "state": {
            "_model_module": "@jupyter-widgets/controls",
            "_model_module_version": "1.5.0",
            "_model_name": "ProgressStyleModel",
            "_view_count": null,
            "_view_module": "@jupyter-widgets/base",
            "_view_module_version": "1.2.0",
            "_view_name": "StyleView",
            "bar_color": null,
            "description_width": ""
          }
        },
        "a8ae0028e30c42b5b60a68106a9f6b28": {
          "model_module": "@jupyter-widgets/base",
          "model_name": "LayoutModel",
          "model_module_version": "1.2.0",
          "state": {
            "_model_module": "@jupyter-widgets/base",
            "_model_module_version": "1.2.0",
            "_model_name": "LayoutModel",
            "_view_count": null,
            "_view_module": "@jupyter-widgets/base",
            "_view_module_version": "1.2.0",
            "_view_name": "LayoutView",
            "align_content": null,
            "align_items": null,
            "align_self": null,
            "border": null,
            "bottom": null,
            "display": null,
            "flex": null,
            "flex_flow": null,
            "grid_area": null,
            "grid_auto_columns": null,
            "grid_auto_flow": null,
            "grid_auto_rows": null,
            "grid_column": null,
            "grid_gap": null,
            "grid_row": null,
            "grid_template_areas": null,
            "grid_template_columns": null,
            "grid_template_rows": null,
            "height": null,
            "justify_content": null,
            "justify_items": null,
            "left": null,
            "margin": null,
            "max_height": null,
            "max_width": null,
            "min_height": null,
            "min_width": null,
            "object_fit": null,
            "object_position": null,
            "order": null,
            "overflow": null,
            "overflow_x": null,
            "overflow_y": null,
            "padding": null,
            "right": null,
            "top": null,
            "visibility": null,
            "width": null
          }
        },
        "9202b6c9857b4514836253aab6a64f64": {
          "model_module": "@jupyter-widgets/controls",
          "model_name": "DescriptionStyleModel",
          "model_module_version": "1.5.0",
          "state": {
            "_model_module": "@jupyter-widgets/controls",
            "_model_module_version": "1.5.0",
            "_model_name": "DescriptionStyleModel",
            "_view_count": null,
            "_view_module": "@jupyter-widgets/base",
            "_view_module_version": "1.2.0",
            "_view_name": "StyleView",
            "description_width": ""
          }
        },
        "d5642c9505f54015bc0b3e961ba388ea": {
          "model_module": "@jupyter-widgets/controls",
          "model_name": "HBoxModel",
          "model_module_version": "1.5.0",
          "state": {
            "_dom_classes": [],
            "_model_module": "@jupyter-widgets/controls",
            "_model_module_version": "1.5.0",
            "_model_name": "HBoxModel",
            "_view_count": null,
            "_view_module": "@jupyter-widgets/controls",
            "_view_module_version": "1.5.0",
            "_view_name": "HBoxView",
            "box_style": "",
            "children": [
              "IPY_MODEL_70fa4b446a2b43138618913accd414da",
              "IPY_MODEL_acb313111c1649948ba43f44ef84e13b",
              "IPY_MODEL_cca1989e71484990bac8719ac77cc9cf"
            ],
            "layout": "IPY_MODEL_08f5f055b96d4235b144fe41f27aa9b2"
          }
        },
        "70fa4b446a2b43138618913accd414da": {
          "model_module": "@jupyter-widgets/controls",
          "model_name": "HTMLModel",
          "model_module_version": "1.5.0",
          "state": {
            "_dom_classes": [],
            "_model_module": "@jupyter-widgets/controls",
            "_model_module_version": "1.5.0",
            "_model_name": "HTMLModel",
            "_view_count": null,
            "_view_module": "@jupyter-widgets/controls",
            "_view_module_version": "1.5.0",
            "_view_name": "HTMLView",
            "description": "",
            "description_tooltip": null,
            "layout": "IPY_MODEL_f6de2fe9aab14b36852457c8b2edf45d",
            "placeholder": "​",
            "style": "IPY_MODEL_91f6cf0cdb75408f8cedb28a0201572c",
            "value": "Downloading: 100%"
          }
        },
        "acb313111c1649948ba43f44ef84e13b": {
          "model_module": "@jupyter-widgets/controls",
          "model_name": "FloatProgressModel",
          "model_module_version": "1.5.0",
          "state": {
            "_dom_classes": [],
            "_model_module": "@jupyter-widgets/controls",
            "_model_module_version": "1.5.0",
            "_model_name": "FloatProgressModel",
            "_view_count": null,
            "_view_module": "@jupyter-widgets/controls",
            "_view_module_version": "1.5.0",
            "_view_name": "ProgressView",
            "bar_style": "success",
            "description": "",
            "description_tooltip": null,
            "layout": "IPY_MODEL_23ba93f27f1e473494e462d0b2e92503",
            "max": 1109918449,
            "min": 0,
            "orientation": "horizontal",
            "style": "IPY_MODEL_aa69ee6492944d76bdc6fb7371364469",
            "value": 1109918449
          }
        },
        "cca1989e71484990bac8719ac77cc9cf": {
          "model_module": "@jupyter-widgets/controls",
          "model_name": "HTMLModel",
          "model_module_version": "1.5.0",
          "state": {
            "_dom_classes": [],
            "_model_module": "@jupyter-widgets/controls",
            "_model_module_version": "1.5.0",
            "_model_name": "HTMLModel",
            "_view_count": null,
            "_view_module": "@jupyter-widgets/controls",
            "_view_module_version": "1.5.0",
            "_view_name": "HTMLView",
            "description": "",
            "description_tooltip": null,
            "layout": "IPY_MODEL_312dc8a7a2724a1a9d75bfeb6ef08142",
            "placeholder": "​",
            "style": "IPY_MODEL_003994844ea9478cb03b28966362972d",
            "value": " 1.03G/1.03G [00:23&lt;00:00, 37.1MB/s]"
          }
        },
        "08f5f055b96d4235b144fe41f27aa9b2": {
          "model_module": "@jupyter-widgets/base",
          "model_name": "LayoutModel",
          "model_module_version": "1.2.0",
          "state": {
            "_model_module": "@jupyter-widgets/base",
            "_model_module_version": "1.2.0",
            "_model_name": "LayoutModel",
            "_view_count": null,
            "_view_module": "@jupyter-widgets/base",
            "_view_module_version": "1.2.0",
            "_view_name": "LayoutView",
            "align_content": null,
            "align_items": null,
            "align_self": null,
            "border": null,
            "bottom": null,
            "display": null,
            "flex": null,
            "flex_flow": null,
            "grid_area": null,
            "grid_auto_columns": null,
            "grid_auto_flow": null,
            "grid_auto_rows": null,
            "grid_column": null,
            "grid_gap": null,
            "grid_row": null,
            "grid_template_areas": null,
            "grid_template_columns": null,
            "grid_template_rows": null,
            "height": null,
            "justify_content": null,
            "justify_items": null,
            "left": null,
            "margin": null,
            "max_height": null,
            "max_width": null,
            "min_height": null,
            "min_width": null,
            "object_fit": null,
            "object_position": null,
            "order": null,
            "overflow": null,
            "overflow_x": null,
            "overflow_y": null,
            "padding": null,
            "right": null,
            "top": null,
            "visibility": null,
            "width": null
          }
        },
        "f6de2fe9aab14b36852457c8b2edf45d": {
          "model_module": "@jupyter-widgets/base",
          "model_name": "LayoutModel",
          "model_module_version": "1.2.0",
          "state": {
            "_model_module": "@jupyter-widgets/base",
            "_model_module_version": "1.2.0",
            "_model_name": "LayoutModel",
            "_view_count": null,
            "_view_module": "@jupyter-widgets/base",
            "_view_module_version": "1.2.0",
            "_view_name": "LayoutView",
            "align_content": null,
            "align_items": null,
            "align_self": null,
            "border": null,
            "bottom": null,
            "display": null,
            "flex": null,
            "flex_flow": null,
            "grid_area": null,
            "grid_auto_columns": null,
            "grid_auto_flow": null,
            "grid_auto_rows": null,
            "grid_column": null,
            "grid_gap": null,
            "grid_row": null,
            "grid_template_areas": null,
            "grid_template_columns": null,
            "grid_template_rows": null,
            "height": null,
            "justify_content": null,
            "justify_items": null,
            "left": null,
            "margin": null,
            "max_height": null,
            "max_width": null,
            "min_height": null,
            "min_width": null,
            "object_fit": null,
            "object_position": null,
            "order": null,
            "overflow": null,
            "overflow_x": null,
            "overflow_y": null,
            "padding": null,
            "right": null,
            "top": null,
            "visibility": null,
            "width": null
          }
        },
        "91f6cf0cdb75408f8cedb28a0201572c": {
          "model_module": "@jupyter-widgets/controls",
          "model_name": "DescriptionStyleModel",
          "model_module_version": "1.5.0",
          "state": {
            "_model_module": "@jupyter-widgets/controls",
            "_model_module_version": "1.5.0",
            "_model_name": "DescriptionStyleModel",
            "_view_count": null,
            "_view_module": "@jupyter-widgets/base",
            "_view_module_version": "1.2.0",
            "_view_name": "StyleView",
            "description_width": ""
          }
        },
        "23ba93f27f1e473494e462d0b2e92503": {
          "model_module": "@jupyter-widgets/base",
          "model_name": "LayoutModel",
          "model_module_version": "1.2.0",
          "state": {
            "_model_module": "@jupyter-widgets/base",
            "_model_module_version": "1.2.0",
            "_model_name": "LayoutModel",
            "_view_count": null,
            "_view_module": "@jupyter-widgets/base",
            "_view_module_version": "1.2.0",
            "_view_name": "LayoutView",
            "align_content": null,
            "align_items": null,
            "align_self": null,
            "border": null,
            "bottom": null,
            "display": null,
            "flex": null,
            "flex_flow": null,
            "grid_area": null,
            "grid_auto_columns": null,
            "grid_auto_flow": null,
            "grid_auto_rows": null,
            "grid_column": null,
            "grid_gap": null,
            "grid_row": null,
            "grid_template_areas": null,
            "grid_template_columns": null,
            "grid_template_rows": null,
            "height": null,
            "justify_content": null,
            "justify_items": null,
            "left": null,
            "margin": null,
            "max_height": null,
            "max_width": null,
            "min_height": null,
            "min_width": null,
            "object_fit": null,
            "object_position": null,
            "order": null,
            "overflow": null,
            "overflow_x": null,
            "overflow_y": null,
            "padding": null,
            "right": null,
            "top": null,
            "visibility": null,
            "width": null
          }
        },
        "aa69ee6492944d76bdc6fb7371364469": {
          "model_module": "@jupyter-widgets/controls",
          "model_name": "ProgressStyleModel",
          "model_module_version": "1.5.0",
          "state": {
            "_model_module": "@jupyter-widgets/controls",
            "_model_module_version": "1.5.0",
            "_model_name": "ProgressStyleModel",
            "_view_count": null,
            "_view_module": "@jupyter-widgets/base",
            "_view_module_version": "1.2.0",
            "_view_name": "StyleView",
            "bar_color": null,
            "description_width": ""
          }
        },
        "312dc8a7a2724a1a9d75bfeb6ef08142": {
          "model_module": "@jupyter-widgets/base",
          "model_name": "LayoutModel",
          "model_module_version": "1.2.0",
          "state": {
            "_model_module": "@jupyter-widgets/base",
            "_model_module_version": "1.2.0",
            "_model_name": "LayoutModel",
            "_view_count": null,
            "_view_module": "@jupyter-widgets/base",
            "_view_module_version": "1.2.0",
            "_view_name": "LayoutView",
            "align_content": null,
            "align_items": null,
            "align_self": null,
            "border": null,
            "bottom": null,
            "display": null,
            "flex": null,
            "flex_flow": null,
            "grid_area": null,
            "grid_auto_columns": null,
            "grid_auto_flow": null,
            "grid_auto_rows": null,
            "grid_column": null,
            "grid_gap": null,
            "grid_row": null,
            "grid_template_areas": null,
            "grid_template_columns": null,
            "grid_template_rows": null,
            "height": null,
            "justify_content": null,
            "justify_items": null,
            "left": null,
            "margin": null,
            "max_height": null,
            "max_width": null,
            "min_height": null,
            "min_width": null,
            "object_fit": null,
            "object_position": null,
            "order": null,
            "overflow": null,
            "overflow_x": null,
            "overflow_y": null,
            "padding": null,
            "right": null,
            "top": null,
            "visibility": null,
            "width": null
          }
        },
        "003994844ea9478cb03b28966362972d": {
          "model_module": "@jupyter-widgets/controls",
          "model_name": "DescriptionStyleModel",
          "model_module_version": "1.5.0",
          "state": {
            "_model_module": "@jupyter-widgets/controls",
            "_model_module_version": "1.5.0",
            "_model_name": "DescriptionStyleModel",
            "_view_count": null,
            "_view_module": "@jupyter-widgets/base",
            "_view_module_version": "1.2.0",
            "_view_name": "StyleView",
            "description_width": ""
          }
        },
        "12725b898048421ca308d43474c012b7": {
          "model_module": "@jupyter-widgets/controls",
          "model_name": "HBoxModel",
          "model_module_version": "1.5.0",
          "state": {
            "_dom_classes": [],
            "_model_module": "@jupyter-widgets/controls",
            "_model_module_version": "1.5.0",
            "_model_name": "HBoxModel",
            "_view_count": null,
            "_view_module": "@jupyter-widgets/controls",
            "_view_module_version": "1.5.0",
            "_view_name": "HBoxView",
            "box_style": "",
            "children": [
              "IPY_MODEL_a31af717dc044fc5a37d0b7d68203042",
              "IPY_MODEL_a4342e96c3d344f5b33b9cb8ca1a4cfd",
              "IPY_MODEL_f1ae3189f4344c7e95a36e3edd55679b"
            ],
            "layout": "IPY_MODEL_1b8ee98cdd1c47398ee7554d1556a541"
          }
        },
        "a31af717dc044fc5a37d0b7d68203042": {
          "model_module": "@jupyter-widgets/controls",
          "model_name": "HTMLModel",
          "model_module_version": "1.5.0",
          "state": {
            "_dom_classes": [],
            "_model_module": "@jupyter-widgets/controls",
            "_model_module_version": "1.5.0",
            "_model_name": "HTMLModel",
            "_view_count": null,
            "_view_module": "@jupyter-widgets/controls",
            "_view_module_version": "1.5.0",
            "_view_name": "HTMLView",
            "description": "",
            "description_tooltip": null,
            "layout": "IPY_MODEL_9b8b23285acd4bc8a22c9fd7488e664a",
            "placeholder": "​",
            "style": "IPY_MODEL_f4f1a881efc547aebcf1a799297e574a",
            "value": "100%"
          }
        },
        "a4342e96c3d344f5b33b9cb8ca1a4cfd": {
          "model_module": "@jupyter-widgets/controls",
          "model_name": "FloatProgressModel",
          "model_module_version": "1.5.0",
          "state": {
            "_dom_classes": [],
            "_model_module": "@jupyter-widgets/controls",
            "_model_module_version": "1.5.0",
            "_model_name": "FloatProgressModel",
            "_view_count": null,
            "_view_module": "@jupyter-widgets/controls",
            "_view_module_version": "1.5.0",
            "_view_name": "ProgressView",
            "bar_style": "success",
            "description": "",
            "description_tooltip": null,
            "layout": "IPY_MODEL_e11a18b65a8d4e0a9339e32dff16196e",
            "max": 1,
            "min": 0,
            "orientation": "horizontal",
            "style": "IPY_MODEL_0c647d27add447bca632cb88606516b4",
            "value": 1
          }
        },
        "f1ae3189f4344c7e95a36e3edd55679b": {
          "model_module": "@jupyter-widgets/controls",
          "model_name": "HTMLModel",
          "model_module_version": "1.5.0",
          "state": {
            "_dom_classes": [],
            "_model_module": "@jupyter-widgets/controls",
            "_model_module_version": "1.5.0",
            "_model_name": "HTMLModel",
            "_view_count": null,
            "_view_module": "@jupyter-widgets/controls",
            "_view_module_version": "1.5.0",
            "_view_name": "HTMLView",
            "description": "",
            "description_tooltip": null,
            "layout": "IPY_MODEL_ba043ccbaafc49d4bdba4f387ec5bcdf",
            "placeholder": "​",
            "style": "IPY_MODEL_523ccded858a4b089bae9bb20965be99",
            "value": " 1/1 [00:00&lt;00:00, 12.95it/s]"
          }
        },
        "1b8ee98cdd1c47398ee7554d1556a541": {
          "model_module": "@jupyter-widgets/base",
          "model_name": "LayoutModel",
          "model_module_version": "1.2.0",
          "state": {
            "_model_module": "@jupyter-widgets/base",
            "_model_module_version": "1.2.0",
            "_model_name": "LayoutModel",
            "_view_count": null,
            "_view_module": "@jupyter-widgets/base",
            "_view_module_version": "1.2.0",
            "_view_name": "LayoutView",
            "align_content": null,
            "align_items": null,
            "align_self": null,
            "border": null,
            "bottom": null,
            "display": null,
            "flex": null,
            "flex_flow": null,
            "grid_area": null,
            "grid_auto_columns": null,
            "grid_auto_flow": null,
            "grid_auto_rows": null,
            "grid_column": null,
            "grid_gap": null,
            "grid_row": null,
            "grid_template_areas": null,
            "grid_template_columns": null,
            "grid_template_rows": null,
            "height": null,
            "justify_content": null,
            "justify_items": null,
            "left": null,
            "margin": null,
            "max_height": null,
            "max_width": null,
            "min_height": null,
            "min_width": null,
            "object_fit": null,
            "object_position": null,
            "order": null,
            "overflow": null,
            "overflow_x": null,
            "overflow_y": null,
            "padding": null,
            "right": null,
            "top": null,
            "visibility": null,
            "width": null
          }
        },
        "9b8b23285acd4bc8a22c9fd7488e664a": {
          "model_module": "@jupyter-widgets/base",
          "model_name": "LayoutModel",
          "model_module_version": "1.2.0",
          "state": {
            "_model_module": "@jupyter-widgets/base",
            "_model_module_version": "1.2.0",
            "_model_name": "LayoutModel",
            "_view_count": null,
            "_view_module": "@jupyter-widgets/base",
            "_view_module_version": "1.2.0",
            "_view_name": "LayoutView",
            "align_content": null,
            "align_items": null,
            "align_self": null,
            "border": null,
            "bottom": null,
            "display": null,
            "flex": null,
            "flex_flow": null,
            "grid_area": null,
            "grid_auto_columns": null,
            "grid_auto_flow": null,
            "grid_auto_rows": null,
            "grid_column": null,
            "grid_gap": null,
            "grid_row": null,
            "grid_template_areas": null,
            "grid_template_columns": null,
            "grid_template_rows": null,
            "height": null,
            "justify_content": null,
            "justify_items": null,
            "left": null,
            "margin": null,
            "max_height": null,
            "max_width": null,
            "min_height": null,
            "min_width": null,
            "object_fit": null,
            "object_position": null,
            "order": null,
            "overflow": null,
            "overflow_x": null,
            "overflow_y": null,
            "padding": null,
            "right": null,
            "top": null,
            "visibility": null,
            "width": null
          }
        },
        "f4f1a881efc547aebcf1a799297e574a": {
          "model_module": "@jupyter-widgets/controls",
          "model_name": "DescriptionStyleModel",
          "model_module_version": "1.5.0",
          "state": {
            "_model_module": "@jupyter-widgets/controls",
            "_model_module_version": "1.5.0",
            "_model_name": "DescriptionStyleModel",
            "_view_count": null,
            "_view_module": "@jupyter-widgets/base",
            "_view_module_version": "1.2.0",
            "_view_name": "StyleView",
            "description_width": ""
          }
        },
        "e11a18b65a8d4e0a9339e32dff16196e": {
          "model_module": "@jupyter-widgets/base",
          "model_name": "LayoutModel",
          "model_module_version": "1.2.0",
          "state": {
            "_model_module": "@jupyter-widgets/base",
            "_model_module_version": "1.2.0",
            "_model_name": "LayoutModel",
            "_view_count": null,
            "_view_module": "@jupyter-widgets/base",
            "_view_module_version": "1.2.0",
            "_view_name": "LayoutView",
            "align_content": null,
            "align_items": null,
            "align_self": null,
            "border": null,
            "bottom": null,
            "display": null,
            "flex": null,
            "flex_flow": null,
            "grid_area": null,
            "grid_auto_columns": null,
            "grid_auto_flow": null,
            "grid_auto_rows": null,
            "grid_column": null,
            "grid_gap": null,
            "grid_row": null,
            "grid_template_areas": null,
            "grid_template_columns": null,
            "grid_template_rows": null,
            "height": null,
            "justify_content": null,
            "justify_items": null,
            "left": null,
            "margin": null,
            "max_height": null,
            "max_width": null,
            "min_height": null,
            "min_width": null,
            "object_fit": null,
            "object_position": null,
            "order": null,
            "overflow": null,
            "overflow_x": null,
            "overflow_y": null,
            "padding": null,
            "right": null,
            "top": null,
            "visibility": null,
            "width": null
          }
        },
        "0c647d27add447bca632cb88606516b4": {
          "model_module": "@jupyter-widgets/controls",
          "model_name": "ProgressStyleModel",
          "model_module_version": "1.5.0",
          "state": {
            "_model_module": "@jupyter-widgets/controls",
            "_model_module_version": "1.5.0",
            "_model_name": "ProgressStyleModel",
            "_view_count": null,
            "_view_module": "@jupyter-widgets/base",
            "_view_module_version": "1.2.0",
            "_view_name": "StyleView",
            "bar_color": null,
            "description_width": ""
          }
        },
        "ba043ccbaafc49d4bdba4f387ec5bcdf": {
          "model_module": "@jupyter-widgets/base",
          "model_name": "LayoutModel",
          "model_module_version": "1.2.0",
          "state": {
            "_model_module": "@jupyter-widgets/base",
            "_model_module_version": "1.2.0",
            "_model_name": "LayoutModel",
            "_view_count": null,
            "_view_module": "@jupyter-widgets/base",
            "_view_module_version": "1.2.0",
            "_view_name": "LayoutView",
            "align_content": null,
            "align_items": null,
            "align_self": null,
            "border": null,
            "bottom": null,
            "display": null,
            "flex": null,
            "flex_flow": null,
            "grid_area": null,
            "grid_auto_columns": null,
            "grid_auto_flow": null,
            "grid_auto_rows": null,
            "grid_column": null,
            "grid_gap": null,
            "grid_row": null,
            "grid_template_areas": null,
            "grid_template_columns": null,
            "grid_template_rows": null,
            "height": null,
            "justify_content": null,
            "justify_items": null,
            "left": null,
            "margin": null,
            "max_height": null,
            "max_width": null,
            "min_height": null,
            "min_width": null,
            "object_fit": null,
            "object_position": null,
            "order": null,
            "overflow": null,
            "overflow_x": null,
            "overflow_y": null,
            "padding": null,
            "right": null,
            "top": null,
            "visibility": null,
            "width": null
          }
        },
        "523ccded858a4b089bae9bb20965be99": {
          "model_module": "@jupyter-widgets/controls",
          "model_name": "DescriptionStyleModel",
          "model_module_version": "1.5.0",
          "state": {
            "_model_module": "@jupyter-widgets/controls",
            "_model_module_version": "1.5.0",
            "_model_name": "DescriptionStyleModel",
            "_view_count": null,
            "_view_module": "@jupyter-widgets/base",
            "_view_module_version": "1.2.0",
            "_view_name": "StyleView",
            "description_width": ""
          }
        }
      }
    }
  },
  "cells": [
    {
      "cell_type": "code",
      "execution_count": 3,
      "metadata": {
        "colab": {
          "base_uri": "https://localhost:8080/"
        },
        "id": "kvqMUaa9XYov",
        "outputId": "2f866d6c-e664-4422-eb69-7e4d736850dd"
      },
      "outputs": [
        {
          "output_type": "stream",
          "name": "stdout",
          "text": [
            "fatal: destination path 'notebooks' already exists and is not an empty directory.\n",
            "/content/notebooks\n",
            "⏳ Installing base requirements ...\n",
            "✅ Base requirements installed!\n",
            "⏳ Installing Git LFS ...\n",
            "✅ Git LFS installed!\n"
          ]
        }
      ],
      "source": [
        "!git clone https://github.com/nlp-with-transformers/notebooks.git\n",
        "%cd notebooks\n",
        "from install import *\n",
        "install_requirements()"
      ]
    },
    {
      "cell_type": "code",
      "source": [
        "from utils import *\n",
        "setup_chapter()"
      ],
      "metadata": {
        "colab": {
          "base_uri": "https://localhost:8080/"
        },
        "id": "Fe23L1NbXlHm",
        "outputId": "008c63ae-29f5-4285-f088-b3758e31c256"
      },
      "execution_count": 4,
      "outputs": [
        {
          "output_type": "stream",
          "name": "stdout",
          "text": [
            "No GPU was detected! This notebook can be *very* slow without a GPU 🐢\n",
            "Go to Runtime > Change runtime type and select a GPU hardware accelerator.\n",
            "Using transformers v4.11.3\n",
            "Using datasets v1.16.1\n"
          ]
        }
      ]
    },
    {
      "cell_type": "markdown",
      "source": [
        "# Dataset"
      ],
      "metadata": {
        "id": "VNOBruyjYLER"
      }
    },
    {
      "cell_type": "code",
      "source": [
        "## IOB 2 data format\n",
        "import pandas as pd"
      ],
      "metadata": {
        "id": "Pjch28mNXnG9"
      },
      "execution_count": 5,
      "outputs": []
    },
    {
      "cell_type": "code",
      "source": [
        "tokens = \"Jeff Dean is a computer scientist at Google in California\".split()"
      ],
      "metadata": {
        "id": "4U8FsSyPYRo7"
      },
      "execution_count": 6,
      "outputs": []
    },
    {
      "cell_type": "code",
      "source": [
        "lbls = [\"B-PER\", \"I-PER\", \"O\", \"O\", \"O\", \"O\", \"O\", \"B-ORG\", \"O\", \"B-LOC\"]"
      ],
      "metadata": {
        "id": "sswzOinhYYOP"
      },
      "execution_count": 7,
      "outputs": []
    },
    {
      "cell_type": "code",
      "source": [
        "df = pd.DataFrame([tokens,lbls], index = ['Tokens','Tags'])\n"
      ],
      "metadata": {
        "id": "L7np4CZtYcZW"
      },
      "execution_count": 8,
      "outputs": []
    },
    {
      "cell_type": "code",
      "source": [
        "df"
      ],
      "metadata": {
        "colab": {
          "base_uri": "https://localhost:8080/",
          "height": 112
        },
        "id": "65ahjt-rYmER",
        "outputId": "dfdb288c-d899-457b-dab6-9aa3aebb0ef1"
      },
      "execution_count": 9,
      "outputs": [
        {
          "output_type": "execute_result",
          "data": {
            "text/plain": [
              "            0      1   2  3         4          5   6       7   8           9\n",
              "Tokens   Jeff   Dean  is  a  computer  scientist  at  Google  in  California\n",
              "Tags    B-PER  I-PER   O  O         O          O   O   B-ORG   O       B-LOC"
            ],
            "text/html": [
              "\n",
              "  <div id=\"df-5c2f6dc5-e96c-4adb-9cb9-10d4b55a632e\">\n",
              "    <div class=\"colab-df-container\">\n",
              "      <div>\n",
              "<style scoped>\n",
              "    .dataframe tbody tr th:only-of-type {\n",
              "        vertical-align: middle;\n",
              "    }\n",
              "\n",
              "    .dataframe tbody tr th {\n",
              "        vertical-align: top;\n",
              "    }\n",
              "\n",
              "    .dataframe thead th {\n",
              "        text-align: right;\n",
              "    }\n",
              "</style>\n",
              "<table border=\"1\" class=\"dataframe\">\n",
              "  <thead>\n",
              "    <tr style=\"text-align: right;\">\n",
              "      <th></th>\n",
              "      <th>0</th>\n",
              "      <th>1</th>\n",
              "      <th>2</th>\n",
              "      <th>3</th>\n",
              "      <th>4</th>\n",
              "      <th>5</th>\n",
              "      <th>6</th>\n",
              "      <th>7</th>\n",
              "      <th>8</th>\n",
              "      <th>9</th>\n",
              "    </tr>\n",
              "  </thead>\n",
              "  <tbody>\n",
              "    <tr>\n",
              "      <th>Tokens</th>\n",
              "      <td>Jeff</td>\n",
              "      <td>Dean</td>\n",
              "      <td>is</td>\n",
              "      <td>a</td>\n",
              "      <td>computer</td>\n",
              "      <td>scientist</td>\n",
              "      <td>at</td>\n",
              "      <td>Google</td>\n",
              "      <td>in</td>\n",
              "      <td>California</td>\n",
              "    </tr>\n",
              "    <tr>\n",
              "      <th>Tags</th>\n",
              "      <td>B-PER</td>\n",
              "      <td>I-PER</td>\n",
              "      <td>O</td>\n",
              "      <td>O</td>\n",
              "      <td>O</td>\n",
              "      <td>O</td>\n",
              "      <td>O</td>\n",
              "      <td>B-ORG</td>\n",
              "      <td>O</td>\n",
              "      <td>B-LOC</td>\n",
              "    </tr>\n",
              "  </tbody>\n",
              "</table>\n",
              "</div>\n",
              "      <button class=\"colab-df-convert\" onclick=\"convertToInteractive('df-5c2f6dc5-e96c-4adb-9cb9-10d4b55a632e')\"\n",
              "              title=\"Convert this dataframe to an interactive table.\"\n",
              "              style=\"display:none;\">\n",
              "        \n",
              "  <svg xmlns=\"http://www.w3.org/2000/svg\" height=\"24px\"viewBox=\"0 0 24 24\"\n",
              "       width=\"24px\">\n",
              "    <path d=\"M0 0h24v24H0V0z\" fill=\"none\"/>\n",
              "    <path d=\"M18.56 5.44l.94 2.06.94-2.06 2.06-.94-2.06-.94-.94-2.06-.94 2.06-2.06.94zm-11 1L8.5 8.5l.94-2.06 2.06-.94-2.06-.94L8.5 2.5l-.94 2.06-2.06.94zm10 10l.94 2.06.94-2.06 2.06-.94-2.06-.94-.94-2.06-.94 2.06-2.06.94z\"/><path d=\"M17.41 7.96l-1.37-1.37c-.4-.4-.92-.59-1.43-.59-.52 0-1.04.2-1.43.59L10.3 9.45l-7.72 7.72c-.78.78-.78 2.05 0 2.83L4 21.41c.39.39.9.59 1.41.59.51 0 1.02-.2 1.41-.59l7.78-7.78 2.81-2.81c.8-.78.8-2.07 0-2.86zM5.41 20L4 18.59l7.72-7.72 1.47 1.35L5.41 20z\"/>\n",
              "  </svg>\n",
              "      </button>\n",
              "      \n",
              "  <style>\n",
              "    .colab-df-container {\n",
              "      display:flex;\n",
              "      flex-wrap:wrap;\n",
              "      gap: 12px;\n",
              "    }\n",
              "\n",
              "    .colab-df-convert {\n",
              "      background-color: #E8F0FE;\n",
              "      border: none;\n",
              "      border-radius: 50%;\n",
              "      cursor: pointer;\n",
              "      display: none;\n",
              "      fill: #1967D2;\n",
              "      height: 32px;\n",
              "      padding: 0 0 0 0;\n",
              "      width: 32px;\n",
              "    }\n",
              "\n",
              "    .colab-df-convert:hover {\n",
              "      background-color: #E2EBFA;\n",
              "      box-shadow: 0px 1px 2px rgba(60, 64, 67, 0.3), 0px 1px 3px 1px rgba(60, 64, 67, 0.15);\n",
              "      fill: #174EA6;\n",
              "    }\n",
              "\n",
              "    [theme=dark] .colab-df-convert {\n",
              "      background-color: #3B4455;\n",
              "      fill: #D2E3FC;\n",
              "    }\n",
              "\n",
              "    [theme=dark] .colab-df-convert:hover {\n",
              "      background-color: #434B5C;\n",
              "      box-shadow: 0px 1px 3px 1px rgba(0, 0, 0, 0.15);\n",
              "      filter: drop-shadow(0px 1px 2px rgba(0, 0, 0, 0.3));\n",
              "      fill: #FFFFFF;\n",
              "    }\n",
              "  </style>\n",
              "\n",
              "      <script>\n",
              "        const buttonEl =\n",
              "          document.querySelector('#df-5c2f6dc5-e96c-4adb-9cb9-10d4b55a632e button.colab-df-convert');\n",
              "        buttonEl.style.display =\n",
              "          google.colab.kernel.accessAllowed ? 'block' : 'none';\n",
              "\n",
              "        async function convertToInteractive(key) {\n",
              "          const element = document.querySelector('#df-5c2f6dc5-e96c-4adb-9cb9-10d4b55a632e');\n",
              "          const dataTable =\n",
              "            await google.colab.kernel.invokeFunction('convertToInteractive',\n",
              "                                                     [key], {});\n",
              "          if (!dataTable) return;\n",
              "\n",
              "          const docLinkHtml = 'Like what you see? Visit the ' +\n",
              "            '<a target=\"_blank\" href=https://colab.research.google.com/notebooks/data_table.ipynb>data table notebook</a>'\n",
              "            + ' to learn more about interactive tables.';\n",
              "          element.innerHTML = '';\n",
              "          dataTable['output_type'] = 'display_data';\n",
              "          await google.colab.output.renderOutput(dataTable, element);\n",
              "          const docLink = document.createElement('div');\n",
              "          docLink.innerHTML = docLinkHtml;\n",
              "          element.appendChild(docLink);\n",
              "        }\n",
              "      </script>\n",
              "    </div>\n",
              "  </div>\n",
              "  "
            ]
          },
          "metadata": {},
          "execution_count": 9
        }
      ]
    },
    {
      "cell_type": "code",
      "source": [
        "pd.DataFrame(list(zip(tokens,lbls)), columns = ['Tokens','Labels'])"
      ],
      "metadata": {
        "colab": {
          "base_uri": "https://localhost:8080/",
          "height": 363
        },
        "id": "c1bNRDWbYuah",
        "outputId": "6d1f3e14-75bd-4a20-f567-35a4f109f2d2"
      },
      "execution_count": 10,
      "outputs": [
        {
          "output_type": "execute_result",
          "data": {
            "text/plain": [
              "       Tokens Labels\n",
              "0        Jeff  B-PER\n",
              "1        Dean  I-PER\n",
              "2          is      O\n",
              "3           a      O\n",
              "4    computer      O\n",
              "5   scientist      O\n",
              "6          at      O\n",
              "7      Google  B-ORG\n",
              "8          in      O\n",
              "9  California  B-LOC"
            ],
            "text/html": [
              "\n",
              "  <div id=\"df-27255ae9-8196-40c0-b069-6a04dd6dbbe8\">\n",
              "    <div class=\"colab-df-container\">\n",
              "      <div>\n",
              "<style scoped>\n",
              "    .dataframe tbody tr th:only-of-type {\n",
              "        vertical-align: middle;\n",
              "    }\n",
              "\n",
              "    .dataframe tbody tr th {\n",
              "        vertical-align: top;\n",
              "    }\n",
              "\n",
              "    .dataframe thead th {\n",
              "        text-align: right;\n",
              "    }\n",
              "</style>\n",
              "<table border=\"1\" class=\"dataframe\">\n",
              "  <thead>\n",
              "    <tr style=\"text-align: right;\">\n",
              "      <th></th>\n",
              "      <th>Tokens</th>\n",
              "      <th>Labels</th>\n",
              "    </tr>\n",
              "  </thead>\n",
              "  <tbody>\n",
              "    <tr>\n",
              "      <th>0</th>\n",
              "      <td>Jeff</td>\n",
              "      <td>B-PER</td>\n",
              "    </tr>\n",
              "    <tr>\n",
              "      <th>1</th>\n",
              "      <td>Dean</td>\n",
              "      <td>I-PER</td>\n",
              "    </tr>\n",
              "    <tr>\n",
              "      <th>2</th>\n",
              "      <td>is</td>\n",
              "      <td>O</td>\n",
              "    </tr>\n",
              "    <tr>\n",
              "      <th>3</th>\n",
              "      <td>a</td>\n",
              "      <td>O</td>\n",
              "    </tr>\n",
              "    <tr>\n",
              "      <th>4</th>\n",
              "      <td>computer</td>\n",
              "      <td>O</td>\n",
              "    </tr>\n",
              "    <tr>\n",
              "      <th>5</th>\n",
              "      <td>scientist</td>\n",
              "      <td>O</td>\n",
              "    </tr>\n",
              "    <tr>\n",
              "      <th>6</th>\n",
              "      <td>at</td>\n",
              "      <td>O</td>\n",
              "    </tr>\n",
              "    <tr>\n",
              "      <th>7</th>\n",
              "      <td>Google</td>\n",
              "      <td>B-ORG</td>\n",
              "    </tr>\n",
              "    <tr>\n",
              "      <th>8</th>\n",
              "      <td>in</td>\n",
              "      <td>O</td>\n",
              "    </tr>\n",
              "    <tr>\n",
              "      <th>9</th>\n",
              "      <td>California</td>\n",
              "      <td>B-LOC</td>\n",
              "    </tr>\n",
              "  </tbody>\n",
              "</table>\n",
              "</div>\n",
              "      <button class=\"colab-df-convert\" onclick=\"convertToInteractive('df-27255ae9-8196-40c0-b069-6a04dd6dbbe8')\"\n",
              "              title=\"Convert this dataframe to an interactive table.\"\n",
              "              style=\"display:none;\">\n",
              "        \n",
              "  <svg xmlns=\"http://www.w3.org/2000/svg\" height=\"24px\"viewBox=\"0 0 24 24\"\n",
              "       width=\"24px\">\n",
              "    <path d=\"M0 0h24v24H0V0z\" fill=\"none\"/>\n",
              "    <path d=\"M18.56 5.44l.94 2.06.94-2.06 2.06-.94-2.06-.94-.94-2.06-.94 2.06-2.06.94zm-11 1L8.5 8.5l.94-2.06 2.06-.94-2.06-.94L8.5 2.5l-.94 2.06-2.06.94zm10 10l.94 2.06.94-2.06 2.06-.94-2.06-.94-.94-2.06-.94 2.06-2.06.94z\"/><path d=\"M17.41 7.96l-1.37-1.37c-.4-.4-.92-.59-1.43-.59-.52 0-1.04.2-1.43.59L10.3 9.45l-7.72 7.72c-.78.78-.78 2.05 0 2.83L4 21.41c.39.39.9.59 1.41.59.51 0 1.02-.2 1.41-.59l7.78-7.78 2.81-2.81c.8-.78.8-2.07 0-2.86zM5.41 20L4 18.59l7.72-7.72 1.47 1.35L5.41 20z\"/>\n",
              "  </svg>\n",
              "      </button>\n",
              "      \n",
              "  <style>\n",
              "    .colab-df-container {\n",
              "      display:flex;\n",
              "      flex-wrap:wrap;\n",
              "      gap: 12px;\n",
              "    }\n",
              "\n",
              "    .colab-df-convert {\n",
              "      background-color: #E8F0FE;\n",
              "      border: none;\n",
              "      border-radius: 50%;\n",
              "      cursor: pointer;\n",
              "      display: none;\n",
              "      fill: #1967D2;\n",
              "      height: 32px;\n",
              "      padding: 0 0 0 0;\n",
              "      width: 32px;\n",
              "    }\n",
              "\n",
              "    .colab-df-convert:hover {\n",
              "      background-color: #E2EBFA;\n",
              "      box-shadow: 0px 1px 2px rgba(60, 64, 67, 0.3), 0px 1px 3px 1px rgba(60, 64, 67, 0.15);\n",
              "      fill: #174EA6;\n",
              "    }\n",
              "\n",
              "    [theme=dark] .colab-df-convert {\n",
              "      background-color: #3B4455;\n",
              "      fill: #D2E3FC;\n",
              "    }\n",
              "\n",
              "    [theme=dark] .colab-df-convert:hover {\n",
              "      background-color: #434B5C;\n",
              "      box-shadow: 0px 1px 3px 1px rgba(0, 0, 0, 0.15);\n",
              "      filter: drop-shadow(0px 1px 2px rgba(0, 0, 0, 0.3));\n",
              "      fill: #FFFFFF;\n",
              "    }\n",
              "  </style>\n",
              "\n",
              "      <script>\n",
              "        const buttonEl =\n",
              "          document.querySelector('#df-27255ae9-8196-40c0-b069-6a04dd6dbbe8 button.colab-df-convert');\n",
              "        buttonEl.style.display =\n",
              "          google.colab.kernel.accessAllowed ? 'block' : 'none';\n",
              "\n",
              "        async function convertToInteractive(key) {\n",
              "          const element = document.querySelector('#df-27255ae9-8196-40c0-b069-6a04dd6dbbe8');\n",
              "          const dataTable =\n",
              "            await google.colab.kernel.invokeFunction('convertToInteractive',\n",
              "                                                     [key], {});\n",
              "          if (!dataTable) return;\n",
              "\n",
              "          const docLinkHtml = 'Like what you see? Visit the ' +\n",
              "            '<a target=\"_blank\" href=https://colab.research.google.com/notebooks/data_table.ipynb>data table notebook</a>'\n",
              "            + ' to learn more about interactive tables.';\n",
              "          element.innerHTML = '';\n",
              "          dataTable['output_type'] = 'display_data';\n",
              "          await google.colab.output.renderOutput(dataTable, element);\n",
              "          const docLink = document.createElement('div');\n",
              "          docLink.innerHTML = docLinkHtml;\n",
              "          element.appendChild(docLink);\n",
              "        }\n",
              "      </script>\n",
              "    </div>\n",
              "  </div>\n",
              "  "
            ]
          },
          "metadata": {},
          "execution_count": 10
        }
      ]
    },
    {
      "cell_type": "code",
      "source": [
        "## Load Dataset, XTREME has multiple domains. First lets know about the PAN_X subsets within XTREME"
      ],
      "metadata": {
        "id": "1VjTc_PXY4Cd"
      },
      "execution_count": 11,
      "outputs": []
    },
    {
      "cell_type": "code",
      "source": [
        "from datasets import get_dataset_config_names"
      ],
      "metadata": {
        "id": "jnS0Nm22bkn7"
      },
      "execution_count": 12,
      "outputs": []
    },
    {
      "cell_type": "code",
      "source": [
        "config_xtreme = get_dataset_config_names(\"xtreme\")"
      ],
      "metadata": {
        "id": "JZIe2f3khf5N"
      },
      "execution_count": 13,
      "outputs": []
    },
    {
      "cell_type": "code",
      "source": [
        "len(config_xtreme)"
      ],
      "metadata": {
        "colab": {
          "base_uri": "https://localhost:8080/"
        },
        "id": "lXajCFpEhktL",
        "outputId": "0db5a192-eedf-47de-f430-975b05ffc6d5"
      },
      "execution_count": 14,
      "outputs": [
        {
          "output_type": "execute_result",
          "data": {
            "text/plain": [
              "183"
            ]
          },
          "metadata": {},
          "execution_count": 14
        }
      ]
    },
    {
      "cell_type": "code",
      "source": [
        "panx_subsets = [s for s in config_xtreme if s.startswith(\"PAN\")]"
      ],
      "metadata": {
        "id": "O-WiFeEghnLH"
      },
      "execution_count": 15,
      "outputs": []
    },
    {
      "cell_type": "code",
      "source": [
        "panx_subsets"
      ],
      "metadata": {
        "colab": {
          "base_uri": "https://localhost:8080/"
        },
        "id": "HMJy-E1OiHNh",
        "outputId": "1b3a6589-1fd1-4e47-bb1f-5dd5e2031575"
      },
      "execution_count": 16,
      "outputs": [
        {
          "output_type": "execute_result",
          "data": {
            "text/plain": [
              "['PAN-X.af',\n",
              " 'PAN-X.ar',\n",
              " 'PAN-X.bg',\n",
              " 'PAN-X.bn',\n",
              " 'PAN-X.de',\n",
              " 'PAN-X.el',\n",
              " 'PAN-X.en',\n",
              " 'PAN-X.es',\n",
              " 'PAN-X.et',\n",
              " 'PAN-X.eu',\n",
              " 'PAN-X.fa',\n",
              " 'PAN-X.fi',\n",
              " 'PAN-X.fr',\n",
              " 'PAN-X.he',\n",
              " 'PAN-X.hi',\n",
              " 'PAN-X.hu',\n",
              " 'PAN-X.id',\n",
              " 'PAN-X.it',\n",
              " 'PAN-X.ja',\n",
              " 'PAN-X.jv',\n",
              " 'PAN-X.ka',\n",
              " 'PAN-X.kk',\n",
              " 'PAN-X.ko',\n",
              " 'PAN-X.ml',\n",
              " 'PAN-X.mr',\n",
              " 'PAN-X.ms',\n",
              " 'PAN-X.my',\n",
              " 'PAN-X.nl',\n",
              " 'PAN-X.pt',\n",
              " 'PAN-X.ru',\n",
              " 'PAN-X.sw',\n",
              " 'PAN-X.ta',\n",
              " 'PAN-X.te',\n",
              " 'PAN-X.th',\n",
              " 'PAN-X.tl',\n",
              " 'PAN-X.tr',\n",
              " 'PAN-X.ur',\n",
              " 'PAN-X.vi',\n",
              " 'PAN-X.yo',\n",
              " 'PAN-X.zh']"
            ]
          },
          "metadata": {},
          "execution_count": 16
        }
      ]
    },
    {
      "cell_type": "code",
      "source": [
        "## The suffixes are language codes"
      ],
      "metadata": {
        "id": "fB2ymEmhiIsT"
      },
      "execution_count": 17,
      "outputs": []
    },
    {
      "cell_type": "code",
      "source": [
        "## To load german, we need de as input"
      ],
      "metadata": {
        "id": "81eXwo7EiUsS"
      },
      "execution_count": 18,
      "outputs": []
    },
    {
      "cell_type": "code",
      "source": [
        "from datasets import load_dataset"
      ],
      "metadata": {
        "id": "bI6omFAAi-wP"
      },
      "execution_count": 19,
      "outputs": []
    },
    {
      "cell_type": "code",
      "source": [
        "load_dataset(\"xtreme\", name = \"PAN-X.de\")"
      ],
      "metadata": {
        "colab": {
          "base_uri": "https://localhost:8080/",
          "height": 292,
          "referenced_widgets": [
            "c816a0b8fd354285971416837c9cb391",
            "e498d203d939463ea9c6e1fbcdece6a1",
            "f818b02926db42868adbec8b74d295f1",
            "8469ec6cd9fb4e18b5b992c52a57348f",
            "31750d096f044edabc84282901b8af16",
            "e76048030d814aba88d697eea02ed43d",
            "aa26cca21cd64ad08c2976a11916bbde",
            "1330b6e0de9f497fab0754fbc884a6d0",
            "0fdd353755d24e55b06fdf345c03011d",
            "426087d774e4402588eb1a33f307e02f",
            "32a171673a634b1d97398251de3ddf15"
          ]
        },
        "id": "VMbWtEt9lEX3",
        "outputId": "d752acc1-18f3-4c06-9e23-975b8f80f2af"
      },
      "execution_count": 20,
      "outputs": [
        {
          "output_type": "display_data",
          "data": {
            "text/plain": [
              "  0%|          | 0/3 [00:00<?, ?it/s]"
            ],
            "application/vnd.jupyter.widget-view+json": {
              "version_major": 2,
              "version_minor": 0,
              "model_id": "c816a0b8fd354285971416837c9cb391"
            }
          },
          "metadata": {}
        },
        {
          "output_type": "execute_result",
          "data": {
            "text/plain": [
              "DatasetDict({\n",
              "    validation: Dataset({\n",
              "        features: ['tokens', 'ner_tags', 'langs'],\n",
              "        num_rows: 10000\n",
              "    })\n",
              "    test: Dataset({\n",
              "        features: ['tokens', 'ner_tags', 'langs'],\n",
              "        num_rows: 10000\n",
              "    })\n",
              "    train: Dataset({\n",
              "        features: ['tokens', 'ner_tags', 'langs'],\n",
              "        num_rows: 20000\n",
              "    })\n",
              "})"
            ]
          },
          "metadata": {},
          "execution_count": 20
        }
      ]
    },
    {
      "cell_type": "code",
      "source": [
        "### Building dataset according to different languages"
      ],
      "metadata": {
        "id": "xNXK27hVlMhX"
      },
      "execution_count": 21,
      "outputs": []
    },
    {
      "cell_type": "code",
      "source": [
        "from collections import defaultdict\n",
        "from datasets import DatasetDict"
      ],
      "metadata": {
        "id": "spQ4SH7klZjT"
      },
      "execution_count": 22,
      "outputs": []
    },
    {
      "cell_type": "code",
      "source": [
        "DatasetDict?"
      ],
      "metadata": {
        "id": "2-IgafbNlkjp"
      },
      "execution_count": 23,
      "outputs": []
    },
    {
      "cell_type": "code",
      "source": [
        "defaultdict?"
      ],
      "metadata": {
        "id": "y6PZv5lgloAr"
      },
      "execution_count": 24,
      "outputs": []
    },
    {
      "cell_type": "code",
      "source": [
        "# Returns a dataset dict if key doesn't exist"
      ],
      "metadata": {
        "id": "TD0L1o2oltbu"
      },
      "execution_count": 25,
      "outputs": []
    },
    {
      "cell_type": "code",
      "source": [
        "panx_ch = defaultdict(DatasetDict)"
      ],
      "metadata": {
        "id": "zhw8Dlg5m9QH"
      },
      "execution_count": 26,
      "outputs": []
    },
    {
      "cell_type": "code",
      "source": [
        "panx_ch"
      ],
      "metadata": {
        "colab": {
          "base_uri": "https://localhost:8080/"
        },
        "id": "5iUreTB_nBPC",
        "outputId": "040ba403-3178-4775-bce1-347341e1fe56"
      },
      "execution_count": 27,
      "outputs": [
        {
          "output_type": "execute_result",
          "data": {
            "text/plain": [
              "defaultdict(datasets.dataset_dict.DatasetDict, {})"
            ]
          },
          "metadata": {},
          "execution_count": 27
        }
      ]
    },
    {
      "cell_type": "code",
      "source": [
        "langs = [\"de\", \"fr\", \"it\", \"en\"]\n",
        "fracs = [0.629, 0.229, 0.084, 0.059]"
      ],
      "metadata": {
        "id": "6j3x5PYZnCTV"
      },
      "execution_count": 28,
      "outputs": []
    },
    {
      "cell_type": "code",
      "source": [
        "for lang, frac in zip(langs, fracs):\n",
        "  ds = load_dataset(\"xtreme\", name = f\"PAN-X.{lang}\")\n",
        "\n",
        "  ## Shuffle and downsample each split according to spoken proportion\n",
        "  for split in ds:\n",
        "    panx_ch[lang][split]  = (ds[split].shuffle(seed=0).select(range(int(frac*ds[split].num_rows))))"
      ],
      "metadata": {
        "colab": {
          "base_uri": "https://localhost:8080/",
          "height": 145,
          "referenced_widgets": [
            "54bf4fcf86f3493585b5201dc571a958",
            "a69794b43c9d46819acfd9ddd8eb0f99",
            "079bd5a2df464dd49a7cf134402aa0fa",
            "1270ccd184f24a3ebc0de89c923eb5ff",
            "e9a9f65e967a4b7ca07a2a76f5e8374e",
            "004efb63cd5a473cb558bc79640cedf9",
            "fa4a411467df405eb4e29daf464c7cda",
            "a06a91b530e5466f8e59472c822aab2c",
            "6839c3dd56e640829a678fba85fc104d",
            "00459c736f4d4c43b1a04f8800a1a85d",
            "a4562b6fe36442ebbb55e15adb91b3db",
            "5197942de40948d58e3834431e819474",
            "42d0713547334c96bcd04285b4974753",
            "b242cf9a8d774624ac407759af833abe",
            "6ef9d2cf5cf14044ba2458706dd12992",
            "58363a0d2c284ed3ad90832768bff079",
            "d6e363bddc1340d6bfa16c030cebbd6f",
            "22a4c53a1afb4a78a59adef388511b1d",
            "49a1248a80914ecdbc144fc5b74d587b",
            "3ae0cd796ab4479dbc3766de3eefd92d",
            "325908814ea24512bc1c2d74340ed77b",
            "054f234bcb1f45cc8588953468dfa044",
            "ac08fca0868d48feb2b381f65a3c48cf",
            "d22794016eb346c59654b3358acd3f81",
            "22c47f7616ea48bfac00fc7e363fdc41",
            "6b39b499c751408a9f6a949200179b0f",
            "c7f0ccd445f043b5afb1d92024a767b9",
            "8a8a51becfb84f79ade73609c8de40b7",
            "4ff79f5e2fef4914addf33325bb578d0",
            "61b1b68b8d454465b2371b8f7520d2b7",
            "651f78e5c52f44f48ad449c42791d9b9",
            "9ff39b80e2454699822381260e7d7075",
            "e2a3e97a96b742d6aacc687036c59789",
            "c99f5ce1dfd349758cc6192946e54f85",
            "8fe0b9d1debf433bb55e2ab950c121d5",
            "fbaa0577ee0d4cffbbdef182afc11b60",
            "c9bbbdbbcde046a6ac444304d2cf5ef2",
            "67ea456b0fd74c5385485115f59be7c9",
            "39fe6f9ca06c4a4c8e2dc9b6814a905b",
            "f223aa7d8eaa4bc59c83317b46db9227",
            "f0950e716b4e42f88a3991bdf29dd9c0",
            "02752563f52349b580e445ae38a88a6a",
            "16b854c9f96d4aaeab35b5fa39b02006",
            "5c6e4d450e3b450091f0ab0a56b4acb2"
          ]
        },
        "id": "5COLuqehnLFG",
        "outputId": "e2230ab7-e07c-4eaf-d5f7-81ac1083a448"
      },
      "execution_count": 29,
      "outputs": [
        {
          "output_type": "display_data",
          "data": {
            "text/plain": [
              "  0%|          | 0/3 [00:00<?, ?it/s]"
            ],
            "application/vnd.jupyter.widget-view+json": {
              "version_major": 2,
              "version_minor": 0,
              "model_id": "54bf4fcf86f3493585b5201dc571a958"
            }
          },
          "metadata": {}
        },
        {
          "output_type": "display_data",
          "data": {
            "text/plain": [
              "  0%|          | 0/3 [00:00<?, ?it/s]"
            ],
            "application/vnd.jupyter.widget-view+json": {
              "version_major": 2,
              "version_minor": 0,
              "model_id": "5197942de40948d58e3834431e819474"
            }
          },
          "metadata": {}
        },
        {
          "output_type": "display_data",
          "data": {
            "text/plain": [
              "  0%|          | 0/3 [00:00<?, ?it/s]"
            ],
            "application/vnd.jupyter.widget-view+json": {
              "version_major": 2,
              "version_minor": 0,
              "model_id": "ac08fca0868d48feb2b381f65a3c48cf"
            }
          },
          "metadata": {}
        },
        {
          "output_type": "display_data",
          "data": {
            "text/plain": [
              "  0%|          | 0/3 [00:00<?, ?it/s]"
            ],
            "application/vnd.jupyter.widget-view+json": {
              "version_major": 2,
              "version_minor": 0,
              "model_id": "c99f5ce1dfd349758cc6192946e54f85"
            }
          },
          "metadata": {}
        }
      ]
    },
    {
      "cell_type": "code",
      "source": [
        "panx_ch"
      ],
      "metadata": {
        "colab": {
          "base_uri": "https://localhost:8080/"
        },
        "id": "YMSsXb5rtwl_",
        "outputId": "bfe319a5-9e51-455a-b698-79a7922a9995"
      },
      "execution_count": 30,
      "outputs": [
        {
          "output_type": "execute_result",
          "data": {
            "text/plain": [
              "defaultdict(datasets.dataset_dict.DatasetDict,\n",
              "            {'de': DatasetDict({\n",
              "                 validation: Dataset({\n",
              "                     features: ['tokens', 'ner_tags', 'langs'],\n",
              "                     num_rows: 6290\n",
              "                 })\n",
              "                 test: Dataset({\n",
              "                     features: ['tokens', 'ner_tags', 'langs'],\n",
              "                     num_rows: 6290\n",
              "                 })\n",
              "                 train: Dataset({\n",
              "                     features: ['tokens', 'ner_tags', 'langs'],\n",
              "                     num_rows: 12580\n",
              "                 })\n",
              "             }),\n",
              "             'fr': DatasetDict({\n",
              "                 validation: Dataset({\n",
              "                     features: ['tokens', 'ner_tags', 'langs'],\n",
              "                     num_rows: 2290\n",
              "                 })\n",
              "                 test: Dataset({\n",
              "                     features: ['tokens', 'ner_tags', 'langs'],\n",
              "                     num_rows: 2290\n",
              "                 })\n",
              "                 train: Dataset({\n",
              "                     features: ['tokens', 'ner_tags', 'langs'],\n",
              "                     num_rows: 4580\n",
              "                 })\n",
              "             }),\n",
              "             'it': DatasetDict({\n",
              "                 validation: Dataset({\n",
              "                     features: ['tokens', 'ner_tags', 'langs'],\n",
              "                     num_rows: 840\n",
              "                 })\n",
              "                 test: Dataset({\n",
              "                     features: ['tokens', 'ner_tags', 'langs'],\n",
              "                     num_rows: 840\n",
              "                 })\n",
              "                 train: Dataset({\n",
              "                     features: ['tokens', 'ner_tags', 'langs'],\n",
              "                     num_rows: 1680\n",
              "                 })\n",
              "             }),\n",
              "             'en': DatasetDict({\n",
              "                 validation: Dataset({\n",
              "                     features: ['tokens', 'ner_tags', 'langs'],\n",
              "                     num_rows: 590\n",
              "                 })\n",
              "                 test: Dataset({\n",
              "                     features: ['tokens', 'ner_tags', 'langs'],\n",
              "                     num_rows: 590\n",
              "                 })\n",
              "                 train: Dataset({\n",
              "                     features: ['tokens', 'ner_tags', 'langs'],\n",
              "                     num_rows: 1180\n",
              "                 })\n",
              "             })})"
            ]
          },
          "metadata": {},
          "execution_count": 30
        }
      ]
    },
    {
      "cell_type": "code",
      "source": [
        "## Inspecting element\n",
        "element = panx_ch[\"de\"][\"train\"][0]"
      ],
      "metadata": {
        "id": "g1UszWGxuCyd"
      },
      "execution_count": 31,
      "outputs": []
    },
    {
      "cell_type": "code",
      "source": [],
      "metadata": {
        "id": "FhE6C148uXoU"
      },
      "execution_count": 31,
      "outputs": []
    },
    {
      "cell_type": "code",
      "source": [
        "print(element)"
      ],
      "metadata": {
        "colab": {
          "base_uri": "https://localhost:8080/"
        },
        "id": "kaEmr1GnukDD",
        "outputId": "9f080da9-ec30-4ac8-c0fd-0eb5dedc001a"
      },
      "execution_count": 32,
      "outputs": [
        {
          "output_type": "stream",
          "name": "stdout",
          "text": [
            "{'tokens': ['2.000', 'Einwohnern', 'an', 'der', 'Danziger', 'Bucht', 'in',\n",
            "'der', 'polnischen', 'Woiwodschaft', 'Pommern', '.'], 'ner_tags': [0, 0, 0, 0,\n",
            "5, 6, 0, 0, 5, 5, 6, 0], 'langs': ['de', 'de', 'de', 'de', 'de', 'de', 'de',\n",
            "'de', 'de', 'de', 'de', 'de']}\n"
          ]
        }
      ]
    },
    {
      "cell_type": "code",
      "source": [
        "for key, value in panx_ch[\"de\"][\"train\"].features.items():\n",
        "    print(f\"{key}: {value}\")"
      ],
      "metadata": {
        "colab": {
          "base_uri": "https://localhost:8080/"
        },
        "id": "hiXyfx4Hupu5",
        "outputId": "53d11bb7-a791-45ce-d65b-58454b4cd87b"
      },
      "execution_count": 33,
      "outputs": [
        {
          "output_type": "stream",
          "name": "stdout",
          "text": [
            "tokens: Sequence(feature=Value(dtype='string', id=None), length=-1, id=None)\n",
            "ner_tags: Sequence(feature=ClassLabel(num_classes=7, names=['O', 'B-PER',\n",
            "'I-PER', 'B-ORG', 'I-ORG', 'B-LOC', 'I-LOC'], names_file=None, id=None),\n",
            "length=-1, id=None)\n",
            "langs: Sequence(feature=Value(dtype='string', id=None), length=-1, id=None)\n"
          ]
        }
      ]
    },
    {
      "cell_type": "code",
      "source": [
        "tags = panx_ch[\"de\"][\"train\"].features[\"ner_tags\"].feature"
      ],
      "metadata": {
        "id": "pAXH3fvJ3OBb"
      },
      "execution_count": 34,
      "outputs": []
    },
    {
      "cell_type": "code",
      "source": [
        "print(tags)"
      ],
      "metadata": {
        "colab": {
          "base_uri": "https://localhost:8080/"
        },
        "id": "Zb-Kx1dS3edb",
        "outputId": "5faa730a-e416-4f8c-aee7-4691d9d8f634"
      },
      "execution_count": 35,
      "outputs": [
        {
          "output_type": "stream",
          "name": "stdout",
          "text": [
            "ClassLabel(num_classes=7, names=['O', 'B-PER', 'I-PER', 'B-ORG', 'I-ORG',\n",
            "'B-LOC', 'I-LOC'], names_file=None, id=None)\n"
          ]
        }
      ]
    },
    {
      "cell_type": "code",
      "source": [
        "### class label to names\n",
        "tags.names"
      ],
      "metadata": {
        "colab": {
          "base_uri": "https://localhost:8080/"
        },
        "id": "b4JZQ6Ah3lq_",
        "outputId": "78e58106-075c-42fb-e340-73dbd9f01394"
      },
      "execution_count": 36,
      "outputs": [
        {
          "output_type": "execute_result",
          "data": {
            "text/plain": [
              "['O', 'B-PER', 'I-PER', 'B-ORG', 'I-ORG', 'B-LOC', 'I-LOC']"
            ]
          },
          "metadata": {},
          "execution_count": 36
        }
      ]
    },
    {
      "cell_type": "code",
      "source": [
        "def create_tag_names(batch):\n",
        "  return {\"ner_tags_str\":[tags.int2str(idx) for idx in batch[\"ner_tags\"]]}"
      ],
      "metadata": {
        "id": "ExnubwlR5QGq"
      },
      "execution_count": 37,
      "outputs": []
    },
    {
      "cell_type": "code",
      "source": [
        "panx_de = panx_ch[\"de\"].map(create_tag_names)"
      ],
      "metadata": {
        "colab": {
          "base_uri": "https://localhost:8080/",
          "height": 113,
          "referenced_widgets": [
            "568a769a487942f492842211644f2ceb",
            "192f950609254d9988106b773998a8be",
            "f02bdb6138c84b3db4560975ac1e99d4",
            "e923de16015943a5b22b062c960f44cf",
            "9e3408a42f1b4a77a6ebf678ce3f81f6",
            "f3c9dc1239734ca993f9de7f68648ef0",
            "ee733ad973d2442181868b609553615f",
            "2990a0dd49864debb48a33a9442726c5",
            "e1daeb5520ae4dfc9251a98dad4cdf53",
            "8cce9b4851634c7aa6e880bf17f2d285",
            "df01f9141c4b450e8e9c02bbe296fdec",
            "8090bf13cd41471fbf8112aa0a48380c",
            "6d13346f335d48b4adca7014b3db57b4",
            "39b9a576019044679709249f9887b98f",
            "4b19e41032d4460b8e5f89278efc1673",
            "3145ba18b0ff47268d224cd7880a4d2d",
            "2d1d8df28db041d99997eaa7801ffa43",
            "50d19a1305064040a56fefbaa0ceb146",
            "79d80e7cc125411f8b9d806f62276438",
            "2745c0c3db054ee89f9324dea0c330c6",
            "26dca790bffc4e27b2ab6c3d50a42f70",
            "7c770739e97948d7ad00ba91f0858889",
            "c87c2a8106524342b1a8ca10da7300f6",
            "8e8801e4d07747819010c8bb739d8a06",
            "9f25b174f0db451a8489e4d965673580",
            "e500991b8b0549c1bcc91f785982e4f2",
            "2eb142c3f5914b828349f85189ab7191",
            "92c46b18602543dc95f1784177290849",
            "3444af8debd94a29bc46b926bdd18a85",
            "3543e702d7d448178806beaf77929c6e",
            "8a200cabb9e44febac6892c92383f053",
            "f7039a259e9740ae8eb417c83e0e5eda",
            "85342749354f47b1b49f2ca64b1c62cb"
          ]
        },
        "id": "_e7xGyxJ6Um2",
        "outputId": "da76e21c-b08a-4b16-909f-fe15ad8b8f3c"
      },
      "execution_count": 38,
      "outputs": [
        {
          "output_type": "display_data",
          "data": {
            "text/plain": [
              "  0%|          | 0/6290 [00:00<?, ?ex/s]"
            ],
            "application/vnd.jupyter.widget-view+json": {
              "version_major": 2,
              "version_minor": 0,
              "model_id": "568a769a487942f492842211644f2ceb"
            }
          },
          "metadata": {}
        },
        {
          "output_type": "display_data",
          "data": {
            "text/plain": [
              "  0%|          | 0/6290 [00:00<?, ?ex/s]"
            ],
            "application/vnd.jupyter.widget-view+json": {
              "version_major": 2,
              "version_minor": 0,
              "model_id": "8090bf13cd41471fbf8112aa0a48380c"
            }
          },
          "metadata": {}
        },
        {
          "output_type": "display_data",
          "data": {
            "text/plain": [
              "  0%|          | 0/12580 [00:00<?, ?ex/s]"
            ],
            "application/vnd.jupyter.widget-view+json": {
              "version_major": 2,
              "version_minor": 0,
              "model_id": "c87c2a8106524342b1a8ca10da7300f6"
            }
          },
          "metadata": {}
        }
      ]
    },
    {
      "cell_type": "code",
      "source": [
        "print(panx_de[\"train\"][10])"
      ],
      "metadata": {
        "colab": {
          "base_uri": "https://localhost:8080/"
        },
        "id": "oytb7o0F6Z5u",
        "outputId": "01705095-69a0-43a7-e3bb-89819c385674"
      },
      "execution_count": 39,
      "outputs": [
        {
          "output_type": "stream",
          "name": "stdout",
          "text": [
            "{'tokens': ['Als', 'Bestandteil', 'des', 'Chianti', 'ist', 'die', 'Sorte',\n",
            "'vor', 'allem', 'in', 'der', 'Toskana', 'verbreitet', '.'], 'ner_tags': [0, 0,\n",
            "0, 5, 0, 0, 0, 0, 0, 0, 0, 5, 0, 0], 'langs': ['de', 'de', 'de', 'de', 'de',\n",
            "'de', 'de', 'de', 'de', 'de', 'de', 'de', 'de', 'de'], 'ner_tags_str': ['O',\n",
            "'O', 'O', 'B-LOC', 'O', 'O', 'O', 'O', 'O', 'O', 'O', 'B-LOC', 'O', 'O']}\n"
          ]
        }
      ]
    },
    {
      "cell_type": "code",
      "source": [
        "de_example = panx_de[\"train\"][0]\n",
        "pd.DataFrame([de_example[\"tokens\"], de_example[\"ner_tags_str\"]],\n",
        "['Tokens', 'Tags'])\n",
        "     "
      ],
      "metadata": {
        "colab": {
          "base_uri": "https://localhost:8080/",
          "height": 112
        },
        "id": "61cUy1LE6v3T",
        "outputId": "1f708f01-dce8-438d-e786-3ccdc176ca71"
      },
      "execution_count": 40,
      "outputs": [
        {
          "output_type": "execute_result",
          "data": {
            "text/plain": [
              "           0           1   2    3         4      5   6    7           8   \\\n",
              "Tokens  2.000  Einwohnern  an  der  Danziger  Bucht  in  der  polnischen   \n",
              "Tags        O           O   O    O     B-LOC  I-LOC   O    O       B-LOC   \n",
              "\n",
              "                  9        10 11  \n",
              "Tokens  Woiwodschaft  Pommern  .  \n",
              "Tags           B-LOC    I-LOC  O  "
            ],
            "text/html": [
              "\n",
              "  <div id=\"df-afbd456e-38e3-49eb-abef-809c15f2ce9c\">\n",
              "    <div class=\"colab-df-container\">\n",
              "      <div>\n",
              "<style scoped>\n",
              "    .dataframe tbody tr th:only-of-type {\n",
              "        vertical-align: middle;\n",
              "    }\n",
              "\n",
              "    .dataframe tbody tr th {\n",
              "        vertical-align: top;\n",
              "    }\n",
              "\n",
              "    .dataframe thead th {\n",
              "        text-align: right;\n",
              "    }\n",
              "</style>\n",
              "<table border=\"1\" class=\"dataframe\">\n",
              "  <thead>\n",
              "    <tr style=\"text-align: right;\">\n",
              "      <th></th>\n",
              "      <th>0</th>\n",
              "      <th>1</th>\n",
              "      <th>2</th>\n",
              "      <th>3</th>\n",
              "      <th>4</th>\n",
              "      <th>5</th>\n",
              "      <th>6</th>\n",
              "      <th>7</th>\n",
              "      <th>8</th>\n",
              "      <th>9</th>\n",
              "      <th>10</th>\n",
              "      <th>11</th>\n",
              "    </tr>\n",
              "  </thead>\n",
              "  <tbody>\n",
              "    <tr>\n",
              "      <th>Tokens</th>\n",
              "      <td>2.000</td>\n",
              "      <td>Einwohnern</td>\n",
              "      <td>an</td>\n",
              "      <td>der</td>\n",
              "      <td>Danziger</td>\n",
              "      <td>Bucht</td>\n",
              "      <td>in</td>\n",
              "      <td>der</td>\n",
              "      <td>polnischen</td>\n",
              "      <td>Woiwodschaft</td>\n",
              "      <td>Pommern</td>\n",
              "      <td>.</td>\n",
              "    </tr>\n",
              "    <tr>\n",
              "      <th>Tags</th>\n",
              "      <td>O</td>\n",
              "      <td>O</td>\n",
              "      <td>O</td>\n",
              "      <td>O</td>\n",
              "      <td>B-LOC</td>\n",
              "      <td>I-LOC</td>\n",
              "      <td>O</td>\n",
              "      <td>O</td>\n",
              "      <td>B-LOC</td>\n",
              "      <td>B-LOC</td>\n",
              "      <td>I-LOC</td>\n",
              "      <td>O</td>\n",
              "    </tr>\n",
              "  </tbody>\n",
              "</table>\n",
              "</div>\n",
              "      <button class=\"colab-df-convert\" onclick=\"convertToInteractive('df-afbd456e-38e3-49eb-abef-809c15f2ce9c')\"\n",
              "              title=\"Convert this dataframe to an interactive table.\"\n",
              "              style=\"display:none;\">\n",
              "        \n",
              "  <svg xmlns=\"http://www.w3.org/2000/svg\" height=\"24px\"viewBox=\"0 0 24 24\"\n",
              "       width=\"24px\">\n",
              "    <path d=\"M0 0h24v24H0V0z\" fill=\"none\"/>\n",
              "    <path d=\"M18.56 5.44l.94 2.06.94-2.06 2.06-.94-2.06-.94-.94-2.06-.94 2.06-2.06.94zm-11 1L8.5 8.5l.94-2.06 2.06-.94-2.06-.94L8.5 2.5l-.94 2.06-2.06.94zm10 10l.94 2.06.94-2.06 2.06-.94-2.06-.94-.94-2.06-.94 2.06-2.06.94z\"/><path d=\"M17.41 7.96l-1.37-1.37c-.4-.4-.92-.59-1.43-.59-.52 0-1.04.2-1.43.59L10.3 9.45l-7.72 7.72c-.78.78-.78 2.05 0 2.83L4 21.41c.39.39.9.59 1.41.59.51 0 1.02-.2 1.41-.59l7.78-7.78 2.81-2.81c.8-.78.8-2.07 0-2.86zM5.41 20L4 18.59l7.72-7.72 1.47 1.35L5.41 20z\"/>\n",
              "  </svg>\n",
              "      </button>\n",
              "      \n",
              "  <style>\n",
              "    .colab-df-container {\n",
              "      display:flex;\n",
              "      flex-wrap:wrap;\n",
              "      gap: 12px;\n",
              "    }\n",
              "\n",
              "    .colab-df-convert {\n",
              "      background-color: #E8F0FE;\n",
              "      border: none;\n",
              "      border-radius: 50%;\n",
              "      cursor: pointer;\n",
              "      display: none;\n",
              "      fill: #1967D2;\n",
              "      height: 32px;\n",
              "      padding: 0 0 0 0;\n",
              "      width: 32px;\n",
              "    }\n",
              "\n",
              "    .colab-df-convert:hover {\n",
              "      background-color: #E2EBFA;\n",
              "      box-shadow: 0px 1px 2px rgba(60, 64, 67, 0.3), 0px 1px 3px 1px rgba(60, 64, 67, 0.15);\n",
              "      fill: #174EA6;\n",
              "    }\n",
              "\n",
              "    [theme=dark] .colab-df-convert {\n",
              "      background-color: #3B4455;\n",
              "      fill: #D2E3FC;\n",
              "    }\n",
              "\n",
              "    [theme=dark] .colab-df-convert:hover {\n",
              "      background-color: #434B5C;\n",
              "      box-shadow: 0px 1px 3px 1px rgba(0, 0, 0, 0.15);\n",
              "      filter: drop-shadow(0px 1px 2px rgba(0, 0, 0, 0.3));\n",
              "      fill: #FFFFFF;\n",
              "    }\n",
              "  </style>\n",
              "\n",
              "      <script>\n",
              "        const buttonEl =\n",
              "          document.querySelector('#df-afbd456e-38e3-49eb-abef-809c15f2ce9c button.colab-df-convert');\n",
              "        buttonEl.style.display =\n",
              "          google.colab.kernel.accessAllowed ? 'block' : 'none';\n",
              "\n",
              "        async function convertToInteractive(key) {\n",
              "          const element = document.querySelector('#df-afbd456e-38e3-49eb-abef-809c15f2ce9c');\n",
              "          const dataTable =\n",
              "            await google.colab.kernel.invokeFunction('convertToInteractive',\n",
              "                                                     [key], {});\n",
              "          if (!dataTable) return;\n",
              "\n",
              "          const docLinkHtml = 'Like what you see? Visit the ' +\n",
              "            '<a target=\"_blank\" href=https://colab.research.google.com/notebooks/data_table.ipynb>data table notebook</a>'\n",
              "            + ' to learn more about interactive tables.';\n",
              "          element.innerHTML = '';\n",
              "          dataTable['output_type'] = 'display_data';\n",
              "          await google.colab.output.renderOutput(dataTable, element);\n",
              "          const docLink = document.createElement('div');\n",
              "          docLink.innerHTML = docLinkHtml;\n",
              "          element.appendChild(docLink);\n",
              "        }\n",
              "      </script>\n",
              "    </div>\n",
              "  </div>\n",
              "  "
            ]
          },
          "metadata": {},
          "execution_count": 40
        }
      ]
    },
    {
      "cell_type": "markdown",
      "source": [
        "#### Distribution of each entity"
      ],
      "metadata": {
        "id": "VubSEcVK7HEZ"
      }
    },
    {
      "cell_type": "code",
      "source": [
        "from collections import Counter"
      ],
      "metadata": {
        "id": "TfAaphSW67Uz"
      },
      "execution_count": 41,
      "outputs": []
    },
    {
      "cell_type": "code",
      "source": [
        "Counter?"
      ],
      "metadata": {
        "id": "eu3GG4Ee7PTo"
      },
      "execution_count": 42,
      "outputs": []
    },
    {
      "cell_type": "code",
      "source": [
        "split2freqs = defaultdict(Counter)"
      ],
      "metadata": {
        "id": "i2riW4pO7QLS"
      },
      "execution_count": 43,
      "outputs": []
    },
    {
      "cell_type": "code",
      "source": [
        "split2freqs"
      ],
      "metadata": {
        "colab": {
          "base_uri": "https://localhost:8080/"
        },
        "id": "yVHgGZHP7Xb9",
        "outputId": "41a0b12c-b0b3-4c8a-a6d0-09bc6d070b1a"
      },
      "execution_count": 44,
      "outputs": [
        {
          "output_type": "execute_result",
          "data": {
            "text/plain": [
              "defaultdict(collections.Counter, {})"
            ]
          },
          "metadata": {},
          "execution_count": 44
        }
      ]
    },
    {
      "cell_type": "code",
      "source": [
        "panx_de.items()"
      ],
      "metadata": {
        "colab": {
          "base_uri": "https://localhost:8080/"
        },
        "id": "p6ycWke68TCM",
        "outputId": "b64ec0ab-2997-48a2-954d-59f2e64afc08"
      },
      "execution_count": 45,
      "outputs": [
        {
          "output_type": "execute_result",
          "data": {
            "text/plain": [
              "dict_items([('validation', Dataset({\n",
              "    features: ['tokens', 'ner_tags', 'langs', 'ner_tags_str'],\n",
              "    num_rows: 6290\n",
              "})), ('test', Dataset({\n",
              "    features: ['tokens', 'ner_tags', 'langs', 'ner_tags_str'],\n",
              "    num_rows: 6290\n",
              "})), ('train', Dataset({\n",
              "    features: ['tokens', 'ner_tags', 'langs', 'ner_tags_str'],\n",
              "    num_rows: 12580\n",
              "}))])"
            ]
          },
          "metadata": {},
          "execution_count": 45
        }
      ]
    },
    {
      "cell_type": "code",
      "source": [
        "split2freqs = defaultdict(Counter)\n",
        "for split, dataset in panx_de.items():\n",
        "    for row in dataset[\"ner_tags_str\"]:\n",
        "        for tag in row:\n",
        "            if tag.startswith(\"B\"):\n",
        "                tag_type = tag.split(\"-\")[1]\n",
        "                split2freqs[split][tag_type] += 1\n",
        "          "
      ],
      "metadata": {
        "id": "kflJpUnt7ZeK"
      },
      "execution_count": 46,
      "outputs": []
    },
    {
      "cell_type": "code",
      "source": [
        "pd.DataFrame.from_dict(split2freqs, orient=\"index\")\n",
        "     "
      ],
      "metadata": {
        "colab": {
          "base_uri": "https://localhost:8080/",
          "height": 143
        },
        "id": "Xj04nbpX8khi",
        "outputId": "60a8870f-0b3a-4699-901e-dd602059c786"
      },
      "execution_count": 47,
      "outputs": [
        {
          "output_type": "execute_result",
          "data": {
            "text/plain": [
              "             ORG   LOC   PER\n",
              "validation  2683  3172  2893\n",
              "test        2573  3180  3071\n",
              "train       5366  6186  5810"
            ],
            "text/html": [
              "\n",
              "  <div id=\"df-3bfdf9ae-fa0b-4133-b899-a04517187fa9\">\n",
              "    <div class=\"colab-df-container\">\n",
              "      <div>\n",
              "<style scoped>\n",
              "    .dataframe tbody tr th:only-of-type {\n",
              "        vertical-align: middle;\n",
              "    }\n",
              "\n",
              "    .dataframe tbody tr th {\n",
              "        vertical-align: top;\n",
              "    }\n",
              "\n",
              "    .dataframe thead th {\n",
              "        text-align: right;\n",
              "    }\n",
              "</style>\n",
              "<table border=\"1\" class=\"dataframe\">\n",
              "  <thead>\n",
              "    <tr style=\"text-align: right;\">\n",
              "      <th></th>\n",
              "      <th>ORG</th>\n",
              "      <th>LOC</th>\n",
              "      <th>PER</th>\n",
              "    </tr>\n",
              "  </thead>\n",
              "  <tbody>\n",
              "    <tr>\n",
              "      <th>validation</th>\n",
              "      <td>2683</td>\n",
              "      <td>3172</td>\n",
              "      <td>2893</td>\n",
              "    </tr>\n",
              "    <tr>\n",
              "      <th>test</th>\n",
              "      <td>2573</td>\n",
              "      <td>3180</td>\n",
              "      <td>3071</td>\n",
              "    </tr>\n",
              "    <tr>\n",
              "      <th>train</th>\n",
              "      <td>5366</td>\n",
              "      <td>6186</td>\n",
              "      <td>5810</td>\n",
              "    </tr>\n",
              "  </tbody>\n",
              "</table>\n",
              "</div>\n",
              "      <button class=\"colab-df-convert\" onclick=\"convertToInteractive('df-3bfdf9ae-fa0b-4133-b899-a04517187fa9')\"\n",
              "              title=\"Convert this dataframe to an interactive table.\"\n",
              "              style=\"display:none;\">\n",
              "        \n",
              "  <svg xmlns=\"http://www.w3.org/2000/svg\" height=\"24px\"viewBox=\"0 0 24 24\"\n",
              "       width=\"24px\">\n",
              "    <path d=\"M0 0h24v24H0V0z\" fill=\"none\"/>\n",
              "    <path d=\"M18.56 5.44l.94 2.06.94-2.06 2.06-.94-2.06-.94-.94-2.06-.94 2.06-2.06.94zm-11 1L8.5 8.5l.94-2.06 2.06-.94-2.06-.94L8.5 2.5l-.94 2.06-2.06.94zm10 10l.94 2.06.94-2.06 2.06-.94-2.06-.94-.94-2.06-.94 2.06-2.06.94z\"/><path d=\"M17.41 7.96l-1.37-1.37c-.4-.4-.92-.59-1.43-.59-.52 0-1.04.2-1.43.59L10.3 9.45l-7.72 7.72c-.78.78-.78 2.05 0 2.83L4 21.41c.39.39.9.59 1.41.59.51 0 1.02-.2 1.41-.59l7.78-7.78 2.81-2.81c.8-.78.8-2.07 0-2.86zM5.41 20L4 18.59l7.72-7.72 1.47 1.35L5.41 20z\"/>\n",
              "  </svg>\n",
              "      </button>\n",
              "      \n",
              "  <style>\n",
              "    .colab-df-container {\n",
              "      display:flex;\n",
              "      flex-wrap:wrap;\n",
              "      gap: 12px;\n",
              "    }\n",
              "\n",
              "    .colab-df-convert {\n",
              "      background-color: #E8F0FE;\n",
              "      border: none;\n",
              "      border-radius: 50%;\n",
              "      cursor: pointer;\n",
              "      display: none;\n",
              "      fill: #1967D2;\n",
              "      height: 32px;\n",
              "      padding: 0 0 0 0;\n",
              "      width: 32px;\n",
              "    }\n",
              "\n",
              "    .colab-df-convert:hover {\n",
              "      background-color: #E2EBFA;\n",
              "      box-shadow: 0px 1px 2px rgba(60, 64, 67, 0.3), 0px 1px 3px 1px rgba(60, 64, 67, 0.15);\n",
              "      fill: #174EA6;\n",
              "    }\n",
              "\n",
              "    [theme=dark] .colab-df-convert {\n",
              "      background-color: #3B4455;\n",
              "      fill: #D2E3FC;\n",
              "    }\n",
              "\n",
              "    [theme=dark] .colab-df-convert:hover {\n",
              "      background-color: #434B5C;\n",
              "      box-shadow: 0px 1px 3px 1px rgba(0, 0, 0, 0.15);\n",
              "      filter: drop-shadow(0px 1px 2px rgba(0, 0, 0, 0.3));\n",
              "      fill: #FFFFFF;\n",
              "    }\n",
              "  </style>\n",
              "\n",
              "      <script>\n",
              "        const buttonEl =\n",
              "          document.querySelector('#df-3bfdf9ae-fa0b-4133-b899-a04517187fa9 button.colab-df-convert');\n",
              "        buttonEl.style.display =\n",
              "          google.colab.kernel.accessAllowed ? 'block' : 'none';\n",
              "\n",
              "        async function convertToInteractive(key) {\n",
              "          const element = document.querySelector('#df-3bfdf9ae-fa0b-4133-b899-a04517187fa9');\n",
              "          const dataTable =\n",
              "            await google.colab.kernel.invokeFunction('convertToInteractive',\n",
              "                                                     [key], {});\n",
              "          if (!dataTable) return;\n",
              "\n",
              "          const docLinkHtml = 'Like what you see? Visit the ' +\n",
              "            '<a target=\"_blank\" href=https://colab.research.google.com/notebooks/data_table.ipynb>data table notebook</a>'\n",
              "            + ' to learn more about interactive tables.';\n",
              "          element.innerHTML = '';\n",
              "          dataTable['output_type'] = 'display_data';\n",
              "          await google.colab.output.renderOutput(dataTable, element);\n",
              "          const docLink = document.createElement('div');\n",
              "          docLink.innerHTML = docLinkHtml;\n",
              "          element.appendChild(docLink);\n",
              "        }\n",
              "      </script>\n",
              "    </div>\n",
              "  </div>\n",
              "  "
            ]
          },
          "metadata": {},
          "execution_count": 47
        }
      ]
    },
    {
      "cell_type": "markdown",
      "source": [
        "# Multi lingual transformers\n",
        "\n",
        "Simmilar to monolingual transformers with the difference being these are trained on multiple languages at once. A remarkable thing is that despite receiving no specific instruction, the model can generalize accross all languages. This is called as Cross Linual Transfer.\n",
        "\n",
        "Can be trained in 3 ways:\n",
        "1. en: Fine Tune on English and then evaluate on each language's test set.\n",
        "\n",
        "2. each: fine tune and evaluate on monolingual data to measure per language performance\n",
        "\n",
        "3. all: fine tune on all the training data to evaluate on each language test set."
      ],
      "metadata": {
        "id": "F_uWc0-AAt8I"
      }
    },
    {
      "cell_type": "markdown",
      "source": [
        "# Tokenizers\n",
        "\n",
        "xlmr uses SentencePiece Tokenizer instead of Word Piece that is used by BERT"
      ],
      "metadata": {
        "id": "gvLpW0Er_Pw-"
      }
    },
    {
      "cell_type": "code",
      "source": [
        "from transformers import AutoTokenizer"
      ],
      "metadata": {
        "id": "W1eqY_ss82Ut"
      },
      "execution_count": 48,
      "outputs": []
    },
    {
      "cell_type": "code",
      "source": [
        "bert_model_name = \"bert-base-cased\"\n",
        "xlmr_model_name = \"xlm-roberta-base\"\n",
        "bert_tokenizer = AutoTokenizer.from_pretrained(bert_model_name)\n",
        "xlmr_tokenizer = AutoTokenizer.from_pretrained(xlmr_model_name)"
      ],
      "metadata": {
        "id": "AELhz-AP_Ub6"
      },
      "execution_count": 49,
      "outputs": []
    },
    {
      "cell_type": "code",
      "source": [
        "text = \"Jack Sparrow loves New Delhi\"\n",
        "bert_tokens = bert_tokenizer(text).tokens()\n",
        "xlmr_tokens = xlmr_tokenizer(text).tokens()"
      ],
      "metadata": {
        "id": "8wH_hkG2_Xf4"
      },
      "execution_count": 50,
      "outputs": []
    },
    {
      "cell_type": "code",
      "source": [
        "bert_tokens"
      ],
      "metadata": {
        "colab": {
          "base_uri": "https://localhost:8080/"
        },
        "id": "1h1TYx0V_rnd",
        "outputId": "0c45a6a1-d216-478c-fa7f-8c5c4fddf667"
      },
      "execution_count": 51,
      "outputs": [
        {
          "output_type": "execute_result",
          "data": {
            "text/plain": [
              "['[CLS]', 'Jack', 'Spa', '##rrow', 'loves', 'New', 'Delhi', '[SEP]']"
            ]
          },
          "metadata": {},
          "execution_count": 51
        }
      ]
    },
    {
      "cell_type": "code",
      "source": [
        "xlmr_tokens"
      ],
      "metadata": {
        "colab": {
          "base_uri": "https://localhost:8080/"
        },
        "id": "qSecv8in_vrn",
        "outputId": "108ed270-3f38-4484-c4c4-3517ef92c16b"
      },
      "execution_count": 52,
      "outputs": [
        {
          "output_type": "execute_result",
          "data": {
            "text/plain": [
              "['<s>', '▁Jack', '▁Spar', 'row', '▁love', 's', '▁New', '▁Delhi', '</s>']"
            ]
          },
          "metadata": {},
          "execution_count": 52
        }
      ]
    },
    {
      "cell_type": "code",
      "source": [
        "pd.DataFrame(zip(bert_tokens, xlmr_tokens), columns = ['bert','xlmr_roberta'])"
      ],
      "metadata": {
        "colab": {
          "base_uri": "https://localhost:8080/",
          "height": 300
        },
        "id": "GkIoABGx_xcl",
        "outputId": "76b2c2eb-510a-4ac6-aa58-4eedeb5adab7"
      },
      "execution_count": 53,
      "outputs": [
        {
          "output_type": "execute_result",
          "data": {
            "text/plain": [
              "     bert xlmr_roberta\n",
              "0   [CLS]          <s>\n",
              "1    Jack        ▁Jack\n",
              "2     Spa        ▁Spar\n",
              "3  ##rrow          row\n",
              "4   loves        ▁love\n",
              "5     New            s\n",
              "6   Delhi         ▁New\n",
              "7   [SEP]       ▁Delhi"
            ],
            "text/html": [
              "\n",
              "  <div id=\"df-6c237ddc-b83a-4d56-bdaf-c85ad4ead99c\">\n",
              "    <div class=\"colab-df-container\">\n",
              "      <div>\n",
              "<style scoped>\n",
              "    .dataframe tbody tr th:only-of-type {\n",
              "        vertical-align: middle;\n",
              "    }\n",
              "\n",
              "    .dataframe tbody tr th {\n",
              "        vertical-align: top;\n",
              "    }\n",
              "\n",
              "    .dataframe thead th {\n",
              "        text-align: right;\n",
              "    }\n",
              "</style>\n",
              "<table border=\"1\" class=\"dataframe\">\n",
              "  <thead>\n",
              "    <tr style=\"text-align: right;\">\n",
              "      <th></th>\n",
              "      <th>bert</th>\n",
              "      <th>xlmr_roberta</th>\n",
              "    </tr>\n",
              "  </thead>\n",
              "  <tbody>\n",
              "    <tr>\n",
              "      <th>0</th>\n",
              "      <td>[CLS]</td>\n",
              "      <td>&lt;s&gt;</td>\n",
              "    </tr>\n",
              "    <tr>\n",
              "      <th>1</th>\n",
              "      <td>Jack</td>\n",
              "      <td>▁Jack</td>\n",
              "    </tr>\n",
              "    <tr>\n",
              "      <th>2</th>\n",
              "      <td>Spa</td>\n",
              "      <td>▁Spar</td>\n",
              "    </tr>\n",
              "    <tr>\n",
              "      <th>3</th>\n",
              "      <td>##rrow</td>\n",
              "      <td>row</td>\n",
              "    </tr>\n",
              "    <tr>\n",
              "      <th>4</th>\n",
              "      <td>loves</td>\n",
              "      <td>▁love</td>\n",
              "    </tr>\n",
              "    <tr>\n",
              "      <th>5</th>\n",
              "      <td>New</td>\n",
              "      <td>s</td>\n",
              "    </tr>\n",
              "    <tr>\n",
              "      <th>6</th>\n",
              "      <td>Delhi</td>\n",
              "      <td>▁New</td>\n",
              "    </tr>\n",
              "    <tr>\n",
              "      <th>7</th>\n",
              "      <td>[SEP]</td>\n",
              "      <td>▁Delhi</td>\n",
              "    </tr>\n",
              "  </tbody>\n",
              "</table>\n",
              "</div>\n",
              "      <button class=\"colab-df-convert\" onclick=\"convertToInteractive('df-6c237ddc-b83a-4d56-bdaf-c85ad4ead99c')\"\n",
              "              title=\"Convert this dataframe to an interactive table.\"\n",
              "              style=\"display:none;\">\n",
              "        \n",
              "  <svg xmlns=\"http://www.w3.org/2000/svg\" height=\"24px\"viewBox=\"0 0 24 24\"\n",
              "       width=\"24px\">\n",
              "    <path d=\"M0 0h24v24H0V0z\" fill=\"none\"/>\n",
              "    <path d=\"M18.56 5.44l.94 2.06.94-2.06 2.06-.94-2.06-.94-.94-2.06-.94 2.06-2.06.94zm-11 1L8.5 8.5l.94-2.06 2.06-.94-2.06-.94L8.5 2.5l-.94 2.06-2.06.94zm10 10l.94 2.06.94-2.06 2.06-.94-2.06-.94-.94-2.06-.94 2.06-2.06.94z\"/><path d=\"M17.41 7.96l-1.37-1.37c-.4-.4-.92-.59-1.43-.59-.52 0-1.04.2-1.43.59L10.3 9.45l-7.72 7.72c-.78.78-.78 2.05 0 2.83L4 21.41c.39.39.9.59 1.41.59.51 0 1.02-.2 1.41-.59l7.78-7.78 2.81-2.81c.8-.78.8-2.07 0-2.86zM5.41 20L4 18.59l7.72-7.72 1.47 1.35L5.41 20z\"/>\n",
              "  </svg>\n",
              "      </button>\n",
              "      \n",
              "  <style>\n",
              "    .colab-df-container {\n",
              "      display:flex;\n",
              "      flex-wrap:wrap;\n",
              "      gap: 12px;\n",
              "    }\n",
              "\n",
              "    .colab-df-convert {\n",
              "      background-color: #E8F0FE;\n",
              "      border: none;\n",
              "      border-radius: 50%;\n",
              "      cursor: pointer;\n",
              "      display: none;\n",
              "      fill: #1967D2;\n",
              "      height: 32px;\n",
              "      padding: 0 0 0 0;\n",
              "      width: 32px;\n",
              "    }\n",
              "\n",
              "    .colab-df-convert:hover {\n",
              "      background-color: #E2EBFA;\n",
              "      box-shadow: 0px 1px 2px rgba(60, 64, 67, 0.3), 0px 1px 3px 1px rgba(60, 64, 67, 0.15);\n",
              "      fill: #174EA6;\n",
              "    }\n",
              "\n",
              "    [theme=dark] .colab-df-convert {\n",
              "      background-color: #3B4455;\n",
              "      fill: #D2E3FC;\n",
              "    }\n",
              "\n",
              "    [theme=dark] .colab-df-convert:hover {\n",
              "      background-color: #434B5C;\n",
              "      box-shadow: 0px 1px 3px 1px rgba(0, 0, 0, 0.15);\n",
              "      filter: drop-shadow(0px 1px 2px rgba(0, 0, 0, 0.3));\n",
              "      fill: #FFFFFF;\n",
              "    }\n",
              "  </style>\n",
              "\n",
              "      <script>\n",
              "        const buttonEl =\n",
              "          document.querySelector('#df-6c237ddc-b83a-4d56-bdaf-c85ad4ead99c button.colab-df-convert');\n",
              "        buttonEl.style.display =\n",
              "          google.colab.kernel.accessAllowed ? 'block' : 'none';\n",
              "\n",
              "        async function convertToInteractive(key) {\n",
              "          const element = document.querySelector('#df-6c237ddc-b83a-4d56-bdaf-c85ad4ead99c');\n",
              "          const dataTable =\n",
              "            await google.colab.kernel.invokeFunction('convertToInteractive',\n",
              "                                                     [key], {});\n",
              "          if (!dataTable) return;\n",
              "\n",
              "          const docLinkHtml = 'Like what you see? Visit the ' +\n",
              "            '<a target=\"_blank\" href=https://colab.research.google.com/notebooks/data_table.ipynb>data table notebook</a>'\n",
              "            + ' to learn more about interactive tables.';\n",
              "          element.innerHTML = '';\n",
              "          dataTable['output_type'] = 'display_data';\n",
              "          await google.colab.output.renderOutput(dataTable, element);\n",
              "          const docLink = document.createElement('div');\n",
              "          docLink.innerHTML = docLinkHtml;\n",
              "          element.appendChild(docLink);\n",
              "        }\n",
              "      </script>\n",
              "    </div>\n",
              "  </div>\n",
              "  "
            ]
          },
          "metadata": {},
          "execution_count": 53
        }
      ]
    },
    {
      "cell_type": "markdown",
      "source": [
        "### Tokenizer Pipeline\n",
        "\n",
        "![image.png](data:image/png;base64,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)\n"
      ],
      "metadata": {
        "id": "OGd-ii8v0twN"
      }
    },
    {
      "cell_type": "markdown",
      "source": [
        "1. Normalization: Stripping whitespace, removing accents etc\n",
        "\n",
        "2. Pretokenization: Splitting sentences into words.\n",
        "\n",
        "3. Tokenizer Model: Actual model which does subword tokenozation.\n",
        "\n",
        "4. Postprocessing: Add special tokens like [CLS] and [SEP]"
      ],
      "metadata": {
        "id": "AYt5_-CK070F"
      }
    },
    {
      "cell_type": "markdown",
      "source": [
        "# Sentence Piece vs Word Piece:\n",
        "\n",
        "1. Uses unicode characters to perform encoding, so it makes the tokenizer language agnostic.\n",
        "\n",
        "2. Whitespace assigned special Unicode character : U+2581 or the _ character "
      ],
      "metadata": {
        "id": "qKWG6kOA1mUG"
      }
    },
    {
      "cell_type": "code",
      "source": [
        "\"\".join(xlmr_tokens)  ## Observe white space has _ character instead of whitespace"
      ],
      "metadata": {
        "colab": {
          "base_uri": "https://localhost:8080/",
          "height": 35
        },
        "id": "7jhW-Un8_70u",
        "outputId": "07cd1064-4e06-494f-8a19-833c63c0f331"
      },
      "execution_count": 54,
      "outputs": [
        {
          "output_type": "execute_result",
          "data": {
            "text/plain": [
              "'<s>▁Jack▁Sparrow▁loves▁New▁Delhi</s>'"
            ],
            "application/vnd.google.colaboratory.intrinsic+json": {
              "type": "string"
            }
          },
          "metadata": {},
          "execution_count": 54
        }
      ]
    },
    {
      "cell_type": "code",
      "source": [
        "\"\".join(xlmr_tokens).replace(u\"\\u2581\",\" \")"
      ],
      "metadata": {
        "colab": {
          "base_uri": "https://localhost:8080/",
          "height": 35
        },
        "id": "Te0WuXl22aVt",
        "outputId": "de92cefd-b226-4fff-dbf0-c8580171006f"
      },
      "execution_count": 55,
      "outputs": [
        {
          "output_type": "execute_result",
          "data": {
            "text/plain": [
              "'<s> Jack Sparrow loves New Delhi</s>'"
            ],
            "application/vnd.google.colaboratory.intrinsic+json": {
              "type": "string"
            }
          },
          "metadata": {},
          "execution_count": 55
        }
      ]
    },
    {
      "cell_type": "markdown",
      "source": [
        "# How NER works\n",
        "\n",
        "Unlike Text classification, where we use the special [CLS] token to perform classification, in NER we use all the tokens and perform classification on each token according to IOB2 strategy. For subwords, ex: Rachinder, if this gets broken to \"Rachin\" and \"##der\" , only one of these can be classifier as B-PER. So which one should be selected?? IN BERT paper, the first token was used.\n"
      ],
      "metadata": {
        "id": "_-GR681c53UA"
      }
    },
    {
      "cell_type": "markdown",
      "source": [
        "# Anatomy of Transformers"
      ],
      "metadata": {
        "id": "zDxqrzP-AH5_"
      }
    },
    {
      "cell_type": "markdown",
      "source": [
        "![image.png](data:image/png;base64,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)"
      ],
      "metadata": {
        "id": "BuBNa4kYDK9k"
      }
    },
    {
      "cell_type": "markdown",
      "source": [
        "Body is task agnostic whereas head is task specific"
      ],
      "metadata": {
        "id": "zDXG9D2qDLzx"
      }
    },
    {
      "cell_type": "markdown",
      "source": [
        "# Custom Model for Token Classification"
      ],
      "metadata": {
        "id": "JYyquUsLFmLV"
      }
    },
    {
      "cell_type": "code",
      "source": [
        "import torch.nn as nn\n",
        "from transformers import XLMRobertaConfig\n",
        "from transformers.modeling_outputs import TokenClassifierOutput\n",
        "from transformers.models.roberta.modeling_roberta import RobertaModel\n",
        "from transformers.models.roberta.modeling_roberta import RobertaPreTrainedModel"
      ],
      "metadata": {
        "id": "_0irGLVC2ifG"
      },
      "execution_count": 56,
      "outputs": []
    },
    {
      "cell_type": "code",
      "source": [
        "# The bare RoBERTa Model transformer outputting raw hidden-states without any specific head on top.\n",
        "RobertaModel?"
      ],
      "metadata": {
        "id": "xeV7fffgIDQ4"
      },
      "execution_count": 57,
      "outputs": []
    },
    {
      "cell_type": "code",
      "source": [],
      "metadata": {
        "id": "4X-SxntfIDMI"
      },
      "execution_count": 57,
      "outputs": []
    },
    {
      "cell_type": "code",
      "source": [
        "class XLMRobertaForTokenClassification(RobertaPreTrainedModel):\n",
        "  config_class = XLMRobertaConfig\n",
        "\n",
        "  def __init__(self, config):\n",
        "    super().__init__(config)  ## For custom configuration, can overwrite this\n",
        "    self.num_labels = config.num_labels\n",
        "    self.roberta = RobertaModel(config, add_pooling_layer=False) ### return all hidden states, \n",
        "    self.dropout = nn.Dropout(config.hidden_dropout_prob)\n",
        "    self.classifier = nn.Linear(config.hidden_size, config.num_labels)\n",
        "    self.init_weights()\n",
        "\n",
        "  def forward(self, input_ids = None, attention_mask = None, token_type_ids = None, labels = None, **kwargs):\n",
        "    outputs = self.roberta(input_ids, attention_mask=attention_mask,\n",
        "                               token_type_ids=token_type_ids, **kwargs)\n",
        "    # Apply classifier to encoder representation\n",
        "    sequence_output = self.dropout(outputs[0])\n",
        "    logits = self.classifier(sequence_output)\n",
        "    # Calculate losses\n",
        "    loss = None\n",
        "    if labels is not None:\n",
        "        loss_fct = nn.CrossEntropyLoss()\n",
        "        loss = loss_fct(logits.view(-1, self.num_labels), labels.view(-1))\n",
        "    # Return model output object\n",
        "    return TokenClassifierOutput(loss=loss, logits=logits, \n",
        "                                  hidden_states=outputs.hidden_states, \n",
        "                                  attentions=outputs.attentions)  ### Token classifier output: specially for ner, Allows elements to be accessed as named tuple"
      ],
      "metadata": {
        "id": "Owh9JkNTHjDG"
      },
      "execution_count": 58,
      "outputs": []
    },
    {
      "cell_type": "code",
      "source": [],
      "metadata": {
        "id": "7ysDTZFKoxfo"
      },
      "execution_count": 58,
      "outputs": []
    },
    {
      "cell_type": "code",
      "source": [
        "TokenClassifierOutput?"
      ],
      "metadata": {
        "id": "b5JVCaWeMlhh"
      },
      "execution_count": 59,
      "outputs": []
    },
    {
      "cell_type": "markdown",
      "source": [
        "# Loading custom model"
      ],
      "metadata": {
        "id": "rc5p-QkcUbn6"
      }
    },
    {
      "cell_type": "code",
      "source": [
        "tags"
      ],
      "metadata": {
        "colab": {
          "base_uri": "https://localhost:8080/"
        },
        "id": "JgoGTUZaTv-f",
        "outputId": "14e88524-12f3-42ef-de7f-2b5c21a0276a"
      },
      "execution_count": 60,
      "outputs": [
        {
          "output_type": "execute_result",
          "data": {
            "text/plain": [
              "ClassLabel(num_classes=7, names=['O', 'B-PER', 'I-PER', 'B-ORG', 'I-ORG', 'B-LOC', 'I-LOC'], names_file=None, id=None)"
            ]
          },
          "metadata": {},
          "execution_count": 60
        }
      ]
    },
    {
      "cell_type": "code",
      "source": [
        "tags.names"
      ],
      "metadata": {
        "colab": {
          "base_uri": "https://localhost:8080/"
        },
        "id": "2SakHNVwjerO",
        "outputId": "3ce345b6-33ab-4532-814f-d2db884e60de"
      },
      "execution_count": 61,
      "outputs": [
        {
          "output_type": "execute_result",
          "data": {
            "text/plain": [
              "['O', 'B-PER', 'I-PER', 'B-ORG', 'I-ORG', 'B-LOC', 'I-LOC']"
            ]
          },
          "metadata": {},
          "execution_count": 61
        }
      ]
    },
    {
      "cell_type": "code",
      "source": [
        "index2tag = {idx:tag for idx,tag in enumerate(tags.names)} # will be passed while loading the model"
      ],
      "metadata": {
        "id": "_Y_-dXHPjhQm"
      },
      "execution_count": 62,
      "outputs": []
    },
    {
      "cell_type": "code",
      "source": [
        "tag2index = {tag:idx for idx,tag in enumerate(tags.names)} # will be passed while loading the model"
      ],
      "metadata": {
        "id": "QrX8BDf-jjFj"
      },
      "execution_count": 63,
      "outputs": []
    },
    {
      "cell_type": "code",
      "source": [
        "tag2index"
      ],
      "metadata": {
        "colab": {
          "base_uri": "https://localhost:8080/"
        },
        "id": "Zgj7CLUYjtW-",
        "outputId": "0f4cafee-761c-408d-c615-4dda0b0c6caf"
      },
      "execution_count": 64,
      "outputs": [
        {
          "output_type": "execute_result",
          "data": {
            "text/plain": [
              "{'O': 0,\n",
              " 'B-PER': 1,\n",
              " 'I-PER': 2,\n",
              " 'B-ORG': 3,\n",
              " 'I-ORG': 4,\n",
              " 'B-LOC': 5,\n",
              " 'I-LOC': 6}"
            ]
          },
          "metadata": {},
          "execution_count": 64
        }
      ]
    },
    {
      "cell_type": "code",
      "source": [
        "index2tag"
      ],
      "metadata": {
        "colab": {
          "base_uri": "https://localhost:8080/"
        },
        "id": "wk4pAEuZjwFm",
        "outputId": "6fde286a-56e8-45e4-c09b-2366425335da"
      },
      "execution_count": 65,
      "outputs": [
        {
          "output_type": "execute_result",
          "data": {
            "text/plain": [
              "{0: 'O',\n",
              " 1: 'B-PER',\n",
              " 2: 'I-PER',\n",
              " 3: 'B-ORG',\n",
              " 4: 'I-ORG',\n",
              " 5: 'B-LOC',\n",
              " 6: 'I-LOC'}"
            ]
          },
          "metadata": {},
          "execution_count": 65
        }
      ]
    },
    {
      "cell_type": "code",
      "source": [
        "from transformers import AutoConfig"
      ],
      "metadata": {
        "id": "ZMzNYAJmjzOX"
      },
      "execution_count": 66,
      "outputs": []
    },
    {
      "cell_type": "code",
      "source": [
        "xlmr_config = AutoConfig.from_pretrained(xlmr_model_name, num_labels = tags.num_classes, id2label = index2tag, label2id = tag2index)"
      ],
      "metadata": {
        "id": "TNlZ9CiKkBII"
      },
      "execution_count": 67,
      "outputs": []
    },
    {
      "cell_type": "code",
      "source": [
        "xlmr_config"
      ],
      "metadata": {
        "colab": {
          "base_uri": "https://localhost:8080/"
        },
        "id": "CIxnavj1kaxu",
        "outputId": "4df55528-56a0-4d69-f71f-0469c88bfd4d"
      },
      "execution_count": 68,
      "outputs": [
        {
          "output_type": "execute_result",
          "data": {
            "text/plain": [
              "XLMRobertaConfig {\n",
              "  \"architectures\": [\n",
              "    \"XLMRobertaForMaskedLM\"\n",
              "  ],\n",
              "  \"attention_probs_dropout_prob\": 0.1,\n",
              "  \"bos_token_id\": 0,\n",
              "  \"classifier_dropout\": null,\n",
              "  \"eos_token_id\": 2,\n",
              "  \"hidden_act\": \"gelu\",\n",
              "  \"hidden_dropout_prob\": 0.1,\n",
              "  \"hidden_size\": 768,\n",
              "  \"id2label\": {\n",
              "    \"0\": \"O\",\n",
              "    \"1\": \"B-PER\",\n",
              "    \"2\": \"I-PER\",\n",
              "    \"3\": \"B-ORG\",\n",
              "    \"4\": \"I-ORG\",\n",
              "    \"5\": \"B-LOC\",\n",
              "    \"6\": \"I-LOC\"\n",
              "  },\n",
              "  \"initializer_range\": 0.02,\n",
              "  \"intermediate_size\": 3072,\n",
              "  \"label2id\": {\n",
              "    \"B-LOC\": 5,\n",
              "    \"B-ORG\": 3,\n",
              "    \"B-PER\": 1,\n",
              "    \"I-LOC\": 6,\n",
              "    \"I-ORG\": 4,\n",
              "    \"I-PER\": 2,\n",
              "    \"O\": 0\n",
              "  },\n",
              "  \"layer_norm_eps\": 1e-05,\n",
              "  \"max_position_embeddings\": 514,\n",
              "  \"model_type\": \"xlm-roberta\",\n",
              "  \"num_attention_heads\": 12,\n",
              "  \"num_hidden_layers\": 12,\n",
              "  \"output_past\": true,\n",
              "  \"pad_token_id\": 1,\n",
              "  \"position_embedding_type\": \"absolute\",\n",
              "  \"transformers_version\": \"4.11.3\",\n",
              "  \"type_vocab_size\": 1,\n",
              "  \"use_cache\": true,\n",
              "  \"vocab_size\": 250002\n",
              "}"
            ]
          },
          "metadata": {},
          "execution_count": 68
        }
      ]
    },
    {
      "cell_type": "markdown",
      "source": [
        "# Loading weights"
      ],
      "metadata": {
        "id": "g2tv95CtlH4k"
      }
    },
    {
      "cell_type": "code",
      "source": [
        "import torch"
      ],
      "metadata": {
        "id": "5KAlTvfvkcjX"
      },
      "execution_count": 69,
      "outputs": []
    },
    {
      "cell_type": "code",
      "source": [
        "device = torch.device(\"cuda\" if torch.cuda.is_available() else \"cpu\")"
      ],
      "metadata": {
        "id": "G_ClPgAflfsU"
      },
      "execution_count": 70,
      "outputs": []
    },
    {
      "cell_type": "code",
      "source": [],
      "metadata": {
        "id": "F7qntmMVpuy9"
      },
      "execution_count": 70,
      "outputs": []
    },
    {
      "cell_type": "code",
      "source": [
        "xlmr_model = (XLMRobertaForTokenClassification\n",
        "              .from_pretrained(xlmr_model_name, config=xlmr_config)\n",
        "              .to(device))\n"
      ],
      "metadata": {
        "id": "3YHuae5Ylk4x"
      },
      "execution_count": 71,
      "outputs": []
    },
    {
      "cell_type": "code",
      "source": [],
      "metadata": {
        "id": "H7EPFpAkpzf8"
      },
      "execution_count": 71,
      "outputs": []
    },
    {
      "cell_type": "markdown",
      "source": [
        "# Quick Check  ----- Inference on new data points"
      ],
      "metadata": {
        "id": "3DN-w_tdnC93"
      }
    },
    {
      "cell_type": "code",
      "source": [
        "xlmr_tokenizer.encode(text, return_tensors=\"pt\")"
      ],
      "metadata": {
        "colab": {
          "base_uri": "https://localhost:8080/"
        },
        "id": "G7RieNMNme_s",
        "outputId": "9386136d-3206-4a4f-aefe-6fd8a0473c5e"
      },
      "execution_count": 72,
      "outputs": [
        {
          "output_type": "execute_result",
          "data": {
            "text/plain": [
              "tensor([[    0, 21763, 37456, 15555,  5161,     7,  2356, 55892,     2]])"
            ]
          },
          "metadata": {},
          "execution_count": 72
        }
      ]
    },
    {
      "cell_type": "code",
      "source": [
        "xlmr_tokenizer.encode(text)"
      ],
      "metadata": {
        "colab": {
          "base_uri": "https://localhost:8080/"
        },
        "id": "MKzJp9Obm2Ec",
        "outputId": "71f2401f-f11d-404b-b9d0-d2ee471f8091"
      },
      "execution_count": 73,
      "outputs": [
        {
          "output_type": "execute_result",
          "data": {
            "text/plain": [
              "[0, 21763, 37456, 15555, 5161, 7, 2356, 55892, 2]"
            ]
          },
          "metadata": {},
          "execution_count": 73
        }
      ]
    },
    {
      "cell_type": "code",
      "source": [
        "input_ids = xlmr_tokenizer.encode(text, return_tensors=\"pt\")"
      ],
      "metadata": {
        "id": "yZJCkyuOm_vB"
      },
      "execution_count": 74,
      "outputs": []
    },
    {
      "cell_type": "code",
      "source": [
        "pd.DataFrame([xlmr_tokens, input_ids.numpy()[0]], index=[\"Tokens\", \"Input IDs\"])"
      ],
      "metadata": {
        "colab": {
          "base_uri": "https://localhost:8080/",
          "height": 112
        },
        "id": "iskzRci2nGHe",
        "outputId": "39bd14ed-b458-4a95-f163-b324b38b7520"
      },
      "execution_count": 75,
      "outputs": [
        {
          "output_type": "execute_result",
          "data": {
            "text/plain": [
              "             0      1      2      3      4  5     6       7     8\n",
              "Tokens     <s>  ▁Jack  ▁Spar    row  ▁love  s  ▁New  ▁Delhi  </s>\n",
              "Input IDs    0  21763  37456  15555   5161  7  2356   55892     2"
            ],
            "text/html": [
              "\n",
              "  <div id=\"df-05860bd9-4ae7-4062-9a5d-652bf6900671\">\n",
              "    <div class=\"colab-df-container\">\n",
              "      <div>\n",
              "<style scoped>\n",
              "    .dataframe tbody tr th:only-of-type {\n",
              "        vertical-align: middle;\n",
              "    }\n",
              "\n",
              "    .dataframe tbody tr th {\n",
              "        vertical-align: top;\n",
              "    }\n",
              "\n",
              "    .dataframe thead th {\n",
              "        text-align: right;\n",
              "    }\n",
              "</style>\n",
              "<table border=\"1\" class=\"dataframe\">\n",
              "  <thead>\n",
              "    <tr style=\"text-align: right;\">\n",
              "      <th></th>\n",
              "      <th>0</th>\n",
              "      <th>1</th>\n",
              "      <th>2</th>\n",
              "      <th>3</th>\n",
              "      <th>4</th>\n",
              "      <th>5</th>\n",
              "      <th>6</th>\n",
              "      <th>7</th>\n",
              "      <th>8</th>\n",
              "    </tr>\n",
              "  </thead>\n",
              "  <tbody>\n",
              "    <tr>\n",
              "      <th>Tokens</th>\n",
              "      <td>&lt;s&gt;</td>\n",
              "      <td>▁Jack</td>\n",
              "      <td>▁Spar</td>\n",
              "      <td>row</td>\n",
              "      <td>▁love</td>\n",
              "      <td>s</td>\n",
              "      <td>▁New</td>\n",
              "      <td>▁Delhi</td>\n",
              "      <td>&lt;/s&gt;</td>\n",
              "    </tr>\n",
              "    <tr>\n",
              "      <th>Input IDs</th>\n",
              "      <td>0</td>\n",
              "      <td>21763</td>\n",
              "      <td>37456</td>\n",
              "      <td>15555</td>\n",
              "      <td>5161</td>\n",
              "      <td>7</td>\n",
              "      <td>2356</td>\n",
              "      <td>55892</td>\n",
              "      <td>2</td>\n",
              "    </tr>\n",
              "  </tbody>\n",
              "</table>\n",
              "</div>\n",
              "      <button class=\"colab-df-convert\" onclick=\"convertToInteractive('df-05860bd9-4ae7-4062-9a5d-652bf6900671')\"\n",
              "              title=\"Convert this dataframe to an interactive table.\"\n",
              "              style=\"display:none;\">\n",
              "        \n",
              "  <svg xmlns=\"http://www.w3.org/2000/svg\" height=\"24px\"viewBox=\"0 0 24 24\"\n",
              "       width=\"24px\">\n",
              "    <path d=\"M0 0h24v24H0V0z\" fill=\"none\"/>\n",
              "    <path d=\"M18.56 5.44l.94 2.06.94-2.06 2.06-.94-2.06-.94-.94-2.06-.94 2.06-2.06.94zm-11 1L8.5 8.5l.94-2.06 2.06-.94-2.06-.94L8.5 2.5l-.94 2.06-2.06.94zm10 10l.94 2.06.94-2.06 2.06-.94-2.06-.94-.94-2.06-.94 2.06-2.06.94z\"/><path d=\"M17.41 7.96l-1.37-1.37c-.4-.4-.92-.59-1.43-.59-.52 0-1.04.2-1.43.59L10.3 9.45l-7.72 7.72c-.78.78-.78 2.05 0 2.83L4 21.41c.39.39.9.59 1.41.59.51 0 1.02-.2 1.41-.59l7.78-7.78 2.81-2.81c.8-.78.8-2.07 0-2.86zM5.41 20L4 18.59l7.72-7.72 1.47 1.35L5.41 20z\"/>\n",
              "  </svg>\n",
              "      </button>\n",
              "      \n",
              "  <style>\n",
              "    .colab-df-container {\n",
              "      display:flex;\n",
              "      flex-wrap:wrap;\n",
              "      gap: 12px;\n",
              "    }\n",
              "\n",
              "    .colab-df-convert {\n",
              "      background-color: #E8F0FE;\n",
              "      border: none;\n",
              "      border-radius: 50%;\n",
              "      cursor: pointer;\n",
              "      display: none;\n",
              "      fill: #1967D2;\n",
              "      height: 32px;\n",
              "      padding: 0 0 0 0;\n",
              "      width: 32px;\n",
              "    }\n",
              "\n",
              "    .colab-df-convert:hover {\n",
              "      background-color: #E2EBFA;\n",
              "      box-shadow: 0px 1px 2px rgba(60, 64, 67, 0.3), 0px 1px 3px 1px rgba(60, 64, 67, 0.15);\n",
              "      fill: #174EA6;\n",
              "    }\n",
              "\n",
              "    [theme=dark] .colab-df-convert {\n",
              "      background-color: #3B4455;\n",
              "      fill: #D2E3FC;\n",
              "    }\n",
              "\n",
              "    [theme=dark] .colab-df-convert:hover {\n",
              "      background-color: #434B5C;\n",
              "      box-shadow: 0px 1px 3px 1px rgba(0, 0, 0, 0.15);\n",
              "      filter: drop-shadow(0px 1px 2px rgba(0, 0, 0, 0.3));\n",
              "      fill: #FFFFFF;\n",
              "    }\n",
              "  </style>\n",
              "\n",
              "      <script>\n",
              "        const buttonEl =\n",
              "          document.querySelector('#df-05860bd9-4ae7-4062-9a5d-652bf6900671 button.colab-df-convert');\n",
              "        buttonEl.style.display =\n",
              "          google.colab.kernel.accessAllowed ? 'block' : 'none';\n",
              "\n",
              "        async function convertToInteractive(key) {\n",
              "          const element = document.querySelector('#df-05860bd9-4ae7-4062-9a5d-652bf6900671');\n",
              "          const dataTable =\n",
              "            await google.colab.kernel.invokeFunction('convertToInteractive',\n",
              "                                                     [key], {});\n",
              "          if (!dataTable) return;\n",
              "\n",
              "          const docLinkHtml = 'Like what you see? Visit the ' +\n",
              "            '<a target=\"_blank\" href=https://colab.research.google.com/notebooks/data_table.ipynb>data table notebook</a>'\n",
              "            + ' to learn more about interactive tables.';\n",
              "          element.innerHTML = '';\n",
              "          dataTable['output_type'] = 'display_data';\n",
              "          await google.colab.output.renderOutput(dataTable, element);\n",
              "          const docLink = document.createElement('div');\n",
              "          docLink.innerHTML = docLinkHtml;\n",
              "          element.appendChild(docLink);\n",
              "        }\n",
              "      </script>\n",
              "    </div>\n",
              "  </div>\n",
              "  "
            ]
          },
          "metadata": {},
          "execution_count": 75
        }
      ]
    },
    {
      "cell_type": "code",
      "source": [],
      "metadata": {
        "id": "N2HSn9AInJbm"
      },
      "execution_count": 75,
      "outputs": []
    },
    {
      "cell_type": "code",
      "source": [
        "#### Predictions from the model"
      ],
      "metadata": {
        "id": "9YWbceMnnNN5"
      },
      "execution_count": 76,
      "outputs": []
    },
    {
      "cell_type": "code",
      "source": [
        "input_ids"
      ],
      "metadata": {
        "colab": {
          "base_uri": "https://localhost:8080/"
        },
        "id": "mSuq_IOZnc7X",
        "outputId": "5af43cb7-6aac-4f94-c153-5a46c6b66b78"
      },
      "execution_count": 77,
      "outputs": [
        {
          "output_type": "execute_result",
          "data": {
            "text/plain": [
              "tensor([[    0, 21763, 37456, 15555,  5161,     7,  2356, 55892,     2]])"
            ]
          },
          "metadata": {},
          "execution_count": 77
        }
      ]
    },
    {
      "cell_type": "code",
      "source": [],
      "metadata": {
        "id": "eGgeOhb4oVH2"
      },
      "execution_count": 77,
      "outputs": []
    },
    {
      "cell_type": "code",
      "source": [
        "xlmr_model?"
      ],
      "metadata": {
        "id": "RDs_sopUnqWw"
      },
      "execution_count": 78,
      "outputs": []
    },
    {
      "cell_type": "code",
      "source": [
        "xlmr_model(input_ids.to(device))"
      ],
      "metadata": {
        "colab": {
          "base_uri": "https://localhost:8080/"
        },
        "id": "8Hx9nrpWoDHU",
        "outputId": "d3352348-c4f3-442c-97b4-20b0892eb89a"
      },
      "execution_count": 79,
      "outputs": [
        {
          "output_type": "execute_result",
          "data": {
            "text/plain": [
              "TokenClassifierOutput(loss=None, logits=tensor([[[-0.2171,  0.1914, -0.0741, -0.4676,  0.1013,  0.5010, -0.3431],\n",
              "         [-0.3869,  0.5288,  0.1054, -0.3319, -0.1621,  0.2599, -0.3340],\n",
              "         [-0.3139,  0.5189,  0.1425, -0.3502, -0.0755,  0.2925, -0.3506],\n",
              "         [-0.3127,  0.6045,  0.1699, -0.3524, -0.2174,  0.1699, -0.3498],\n",
              "         [-0.3366,  0.4821,  0.1008, -0.3481, -0.1980,  0.2895, -0.2167],\n",
              "         [-0.3678,  0.4225,  0.0679, -0.3727, -0.1394,  0.2440, -0.3486],\n",
              "         [-0.3945,  0.4939,  0.1483, -0.4676, -0.1559,  0.0935, -0.2383],\n",
              "         [-0.3212,  0.5625,  0.2831, -0.2581, -0.2676,  0.1431, -0.2222],\n",
              "         [-0.2501,  0.2057, -0.0298, -0.4775,  0.0936,  0.4892, -0.3033]]],\n",
              "       grad_fn=<ViewBackward0>), hidden_states=None, attentions=None)"
            ]
          },
          "metadata": {},
          "execution_count": 79
        }
      ]
    },
    {
      "cell_type": "code",
      "source": [
        "\n",
        "outputs = xlmr_model(input_ids.to(device)).logits"
      ],
      "metadata": {
        "id": "7Tjvd5GdpPTW"
      },
      "execution_count": 80,
      "outputs": []
    },
    {
      "cell_type": "code",
      "source": [
        "predictions = torch.argmax(outputs, dim=-1)"
      ],
      "metadata": {
        "id": "qDXdbZ5MrY3b"
      },
      "execution_count": 81,
      "outputs": []
    },
    {
      "cell_type": "code",
      "source": [
        "outputs.shape"
      ],
      "metadata": {
        "colab": {
          "base_uri": "https://localhost:8080/"
        },
        "id": "75blEDDSra3p",
        "outputId": "2fe837b3-709e-4186-c5a7-b633783f1307"
      },
      "execution_count": 82,
      "outputs": [
        {
          "output_type": "execute_result",
          "data": {
            "text/plain": [
              "torch.Size([1, 9, 7])"
            ]
          },
          "metadata": {},
          "execution_count": 82
        }
      ]
    },
    {
      "cell_type": "code",
      "source": [
        "[tags.names[p] for p in predictions[0]]"
      ],
      "metadata": {
        "colab": {
          "base_uri": "https://localhost:8080/"
        },
        "id": "PUBQIP6arvbB",
        "outputId": "bb188be2-af71-41cc-f09e-f316bf623253"
      },
      "execution_count": 83,
      "outputs": [
        {
          "output_type": "execute_result",
          "data": {
            "text/plain": [
              "['B-LOC',\n",
              " 'B-PER',\n",
              " 'B-PER',\n",
              " 'B-PER',\n",
              " 'B-PER',\n",
              " 'B-PER',\n",
              " 'B-PER',\n",
              " 'B-PER',\n",
              " 'B-LOC']"
            ]
          },
          "metadata": {},
          "execution_count": 83
        }
      ]
    },
    {
      "cell_type": "code",
      "source": [
        "preds = [tags.names[p] for p in predictions[0].cpu().numpy()]\n",
        "pd.DataFrame([xlmr_tokens, preds], index=[\"Tokens\", \"Tags\"])"
      ],
      "metadata": {
        "colab": {
          "base_uri": "https://localhost:8080/",
          "height": 112
        },
        "id": "JzQ-ACKmrztf",
        "outputId": "e8e44803-f07e-43a4-9b34-55aed92e04b2"
      },
      "execution_count": 84,
      "outputs": [
        {
          "output_type": "execute_result",
          "data": {
            "text/plain": [
              "            0      1      2      3      4      5      6       7      8\n",
              "Tokens    <s>  ▁Jack  ▁Spar    row  ▁love      s   ▁New  ▁Delhi   </s>\n",
              "Tags    B-LOC  B-PER  B-PER  B-PER  B-PER  B-PER  B-PER   B-PER  B-LOC"
            ],
            "text/html": [
              "\n",
              "  <div id=\"df-a0c7c416-972e-49ba-ad23-13acb15242d1\">\n",
              "    <div class=\"colab-df-container\">\n",
              "      <div>\n",
              "<style scoped>\n",
              "    .dataframe tbody tr th:only-of-type {\n",
              "        vertical-align: middle;\n",
              "    }\n",
              "\n",
              "    .dataframe tbody tr th {\n",
              "        vertical-align: top;\n",
              "    }\n",
              "\n",
              "    .dataframe thead th {\n",
              "        text-align: right;\n",
              "    }\n",
              "</style>\n",
              "<table border=\"1\" class=\"dataframe\">\n",
              "  <thead>\n",
              "    <tr style=\"text-align: right;\">\n",
              "      <th></th>\n",
              "      <th>0</th>\n",
              "      <th>1</th>\n",
              "      <th>2</th>\n",
              "      <th>3</th>\n",
              "      <th>4</th>\n",
              "      <th>5</th>\n",
              "      <th>6</th>\n",
              "      <th>7</th>\n",
              "      <th>8</th>\n",
              "    </tr>\n",
              "  </thead>\n",
              "  <tbody>\n",
              "    <tr>\n",
              "      <th>Tokens</th>\n",
              "      <td>&lt;s&gt;</td>\n",
              "      <td>▁Jack</td>\n",
              "      <td>▁Spar</td>\n",
              "      <td>row</td>\n",
              "      <td>▁love</td>\n",
              "      <td>s</td>\n",
              "      <td>▁New</td>\n",
              "      <td>▁Delhi</td>\n",
              "      <td>&lt;/s&gt;</td>\n",
              "    </tr>\n",
              "    <tr>\n",
              "      <th>Tags</th>\n",
              "      <td>B-LOC</td>\n",
              "      <td>B-PER</td>\n",
              "      <td>B-PER</td>\n",
              "      <td>B-PER</td>\n",
              "      <td>B-PER</td>\n",
              "      <td>B-PER</td>\n",
              "      <td>B-PER</td>\n",
              "      <td>B-PER</td>\n",
              "      <td>B-LOC</td>\n",
              "    </tr>\n",
              "  </tbody>\n",
              "</table>\n",
              "</div>\n",
              "      <button class=\"colab-df-convert\" onclick=\"convertToInteractive('df-a0c7c416-972e-49ba-ad23-13acb15242d1')\"\n",
              "              title=\"Convert this dataframe to an interactive table.\"\n",
              "              style=\"display:none;\">\n",
              "        \n",
              "  <svg xmlns=\"http://www.w3.org/2000/svg\" height=\"24px\"viewBox=\"0 0 24 24\"\n",
              "       width=\"24px\">\n",
              "    <path d=\"M0 0h24v24H0V0z\" fill=\"none\"/>\n",
              "    <path d=\"M18.56 5.44l.94 2.06.94-2.06 2.06-.94-2.06-.94-.94-2.06-.94 2.06-2.06.94zm-11 1L8.5 8.5l.94-2.06 2.06-.94-2.06-.94L8.5 2.5l-.94 2.06-2.06.94zm10 10l.94 2.06.94-2.06 2.06-.94-2.06-.94-.94-2.06-.94 2.06-2.06.94z\"/><path d=\"M17.41 7.96l-1.37-1.37c-.4-.4-.92-.59-1.43-.59-.52 0-1.04.2-1.43.59L10.3 9.45l-7.72 7.72c-.78.78-.78 2.05 0 2.83L4 21.41c.39.39.9.59 1.41.59.51 0 1.02-.2 1.41-.59l7.78-7.78 2.81-2.81c.8-.78.8-2.07 0-2.86zM5.41 20L4 18.59l7.72-7.72 1.47 1.35L5.41 20z\"/>\n",
              "  </svg>\n",
              "      </button>\n",
              "      \n",
              "  <style>\n",
              "    .colab-df-container {\n",
              "      display:flex;\n",
              "      flex-wrap:wrap;\n",
              "      gap: 12px;\n",
              "    }\n",
              "\n",
              "    .colab-df-convert {\n",
              "      background-color: #E8F0FE;\n",
              "      border: none;\n",
              "      border-radius: 50%;\n",
              "      cursor: pointer;\n",
              "      display: none;\n",
              "      fill: #1967D2;\n",
              "      height: 32px;\n",
              "      padding: 0 0 0 0;\n",
              "      width: 32px;\n",
              "    }\n",
              "\n",
              "    .colab-df-convert:hover {\n",
              "      background-color: #E2EBFA;\n",
              "      box-shadow: 0px 1px 2px rgba(60, 64, 67, 0.3), 0px 1px 3px 1px rgba(60, 64, 67, 0.15);\n",
              "      fill: #174EA6;\n",
              "    }\n",
              "\n",
              "    [theme=dark] .colab-df-convert {\n",
              "      background-color: #3B4455;\n",
              "      fill: #D2E3FC;\n",
              "    }\n",
              "\n",
              "    [theme=dark] .colab-df-convert:hover {\n",
              "      background-color: #434B5C;\n",
              "      box-shadow: 0px 1px 3px 1px rgba(0, 0, 0, 0.15);\n",
              "      filter: drop-shadow(0px 1px 2px rgba(0, 0, 0, 0.3));\n",
              "      fill: #FFFFFF;\n",
              "    }\n",
              "  </style>\n",
              "\n",
              "      <script>\n",
              "        const buttonEl =\n",
              "          document.querySelector('#df-a0c7c416-972e-49ba-ad23-13acb15242d1 button.colab-df-convert');\n",
              "        buttonEl.style.display =\n",
              "          google.colab.kernel.accessAllowed ? 'block' : 'none';\n",
              "\n",
              "        async function convertToInteractive(key) {\n",
              "          const element = document.querySelector('#df-a0c7c416-972e-49ba-ad23-13acb15242d1');\n",
              "          const dataTable =\n",
              "            await google.colab.kernel.invokeFunction('convertToInteractive',\n",
              "                                                     [key], {});\n",
              "          if (!dataTable) return;\n",
              "\n",
              "          const docLinkHtml = 'Like what you see? Visit the ' +\n",
              "            '<a target=\"_blank\" href=https://colab.research.google.com/notebooks/data_table.ipynb>data table notebook</a>'\n",
              "            + ' to learn more about interactive tables.';\n",
              "          element.innerHTML = '';\n",
              "          dataTable['output_type'] = 'display_data';\n",
              "          await google.colab.output.renderOutput(dataTable, element);\n",
              "          const docLink = document.createElement('div');\n",
              "          docLink.innerHTML = docLinkHtml;\n",
              "          element.appendChild(docLink);\n",
              "        }\n",
              "      </script>\n",
              "    </div>\n",
              "  </div>\n",
              "  "
            ]
          },
          "metadata": {},
          "execution_count": 84
        }
      ]
    },
    {
      "cell_type": "code",
      "source": [
        "#### Inference function\n",
        "\n",
        "def tag_text(text, tags, model, tokenizer):\n",
        "    # Get tokens with special characters\n",
        "    tokens = tokenizer(text).tokens()\n",
        "    # Encode the sequence into IDs\n",
        "    input_ids = xlmr_tokenizer(text, return_tensors=\"pt\").input_ids.to(device)\n",
        "    # Get predictions as distribution over 7 possible classes\n",
        "    outputs = model(input_ids)[0]\n",
        "    # Take argmax to get most likely class per token\n",
        "    predictions = torch.argmax(outputs, dim=2)\n",
        "    # Convert to DataFrame\n",
        "    preds = [tags.names[p] for p in predictions[0].cpu().numpy()]\n",
        "    return pd.DataFrame([tokens, preds], index=[\"Tokens\", \"Tags\"])"
      ],
      "metadata": {
        "id": "T4xdyhOCr5qA"
      },
      "execution_count": 85,
      "outputs": []
    },
    {
      "cell_type": "markdown",
      "source": [
        "# Tokenize Texts for NER"
      ],
      "metadata": {
        "id": "CauRrTN6vFFH"
      }
    },
    {
      "cell_type": "code",
      "source": [
        "de_example"
      ],
      "metadata": {
        "colab": {
          "base_uri": "https://localhost:8080/"
        },
        "id": "pPy0GAxastOM",
        "outputId": "faa712f7-7b12-4bd4-c2e3-6b5f0a627bb1"
      },
      "execution_count": 86,
      "outputs": [
        {
          "output_type": "execute_result",
          "data": {
            "text/plain": [
              "{'tokens': ['2.000',\n",
              "  'Einwohnern',\n",
              "  'an',\n",
              "  'der',\n",
              "  'Danziger',\n",
              "  'Bucht',\n",
              "  'in',\n",
              "  'der',\n",
              "  'polnischen',\n",
              "  'Woiwodschaft',\n",
              "  'Pommern',\n",
              "  '.'],\n",
              " 'ner_tags': [0, 0, 0, 0, 5, 6, 0, 0, 5, 5, 6, 0],\n",
              " 'langs': ['de',\n",
              "  'de',\n",
              "  'de',\n",
              "  'de',\n",
              "  'de',\n",
              "  'de',\n",
              "  'de',\n",
              "  'de',\n",
              "  'de',\n",
              "  'de',\n",
              "  'de',\n",
              "  'de'],\n",
              " 'ner_tags_str': ['O',\n",
              "  'O',\n",
              "  'O',\n",
              "  'O',\n",
              "  'B-LOC',\n",
              "  'I-LOC',\n",
              "  'O',\n",
              "  'O',\n",
              "  'B-LOC',\n",
              "  'B-LOC',\n",
              "  'I-LOC',\n",
              "  'O']}"
            ]
          },
          "metadata": {},
          "execution_count": 86
        }
      ]
    },
    {
      "cell_type": "code",
      "source": [
        "words, labels = de_example[\"tokens\"], de_example[\"ner_tags\"]\n"
      ],
      "metadata": {
        "id": "dT16R7F7vEbw"
      },
      "execution_count": 87,
      "outputs": []
    },
    {
      "cell_type": "code",
      "source": [
        "de_example[\"tokens\"]"
      ],
      "metadata": {
        "colab": {
          "base_uri": "https://localhost:8080/"
        },
        "id": "PljecA76vR8V",
        "outputId": "f5b5fc4b-5d68-4600-84ec-1bab9b2aa738"
      },
      "execution_count": 88,
      "outputs": [
        {
          "output_type": "execute_result",
          "data": {
            "text/plain": [
              "['2.000',\n",
              " 'Einwohnern',\n",
              " 'an',\n",
              " 'der',\n",
              " 'Danziger',\n",
              " 'Bucht',\n",
              " 'in',\n",
              " 'der',\n",
              " 'polnischen',\n",
              " 'Woiwodschaft',\n",
              " 'Pommern',\n",
              " '.']"
            ]
          },
          "metadata": {},
          "execution_count": 88
        }
      ]
    },
    {
      "cell_type": "code",
      "source": [
        "\n",
        "tokenized_input = xlmr_tokenizer(de_example[\"tokens\"], is_split_into_words=True) # is_split_into_words reflects words have already been  split into words"
      ],
      "metadata": {
        "id": "ThNepnUyvMEE"
      },
      "execution_count": 89,
      "outputs": []
    },
    {
      "cell_type": "code",
      "source": [
        "tokenized_input"
      ],
      "metadata": {
        "colab": {
          "base_uri": "https://localhost:8080/"
        },
        "id": "U3qo_itcvP7g",
        "outputId": "689fb090-7c98-44bd-d864-5a20a8fe2181"
      },
      "execution_count": 90,
      "outputs": [
        {
          "output_type": "execute_result",
          "data": {
            "text/plain": [
              "{'input_ids': [0, 70101, 176581, 19, 142, 122, 2290, 708, 1505, 18363, 18, 23, 122, 127474, 15439, 13787, 14, 15263, 18917, 663, 6947, 19, 6, 5, 2], 'attention_mask': [1, 1, 1, 1, 1, 1, 1, 1, 1, 1, 1, 1, 1, 1, 1, 1, 1, 1, 1, 1, 1, 1, 1, 1, 1]}"
            ]
          },
          "metadata": {},
          "execution_count": 90
        }
      ]
    },
    {
      "cell_type": "code",
      "source": [
        "xlmr_tokenizer.convert_ids_to_tokens(tokenized_input[\"input_ids\"])"
      ],
      "metadata": {
        "colab": {
          "base_uri": "https://localhost:8080/"
        },
        "id": "to4I28QyNvnm",
        "outputId": "83ec01fe-fe21-4c61-d132-d9faaf389c0e"
      },
      "execution_count": 91,
      "outputs": [
        {
          "output_type": "execute_result",
          "data": {
            "text/plain": [
              "['<s>',\n",
              " '▁2.000',\n",
              " '▁Einwohner',\n",
              " 'n',\n",
              " '▁an',\n",
              " '▁der',\n",
              " '▁Dan',\n",
              " 'zi',\n",
              " 'ger',\n",
              " '▁Buch',\n",
              " 't',\n",
              " '▁in',\n",
              " '▁der',\n",
              " '▁polni',\n",
              " 'schen',\n",
              " '▁Wo',\n",
              " 'i',\n",
              " 'wod',\n",
              " 'schaft',\n",
              " '▁Po',\n",
              " 'mmer',\n",
              " 'n',\n",
              " '▁',\n",
              " '.',\n",
              " '</s>']"
            ]
          },
          "metadata": {},
          "execution_count": 91
        }
      ]
    },
    {
      "cell_type": "code",
      "source": [
        "tokens = xlmr_tokenizer.convert_ids_to_tokens(tokenized_input[\"input_ids\"])"
      ],
      "metadata": {
        "id": "WFKOEmdWUG0-"
      },
      "execution_count": 92,
      "outputs": []
    },
    {
      "cell_type": "code",
      "source": [
        "word_ids = tokenized_input.word_ids()"
      ],
      "metadata": {
        "id": "cDGgg0vPOJbN"
      },
      "execution_count": 93,
      "outputs": []
    },
    {
      "cell_type": "code",
      "source": [
        "### need to ensure that if a word gets split into subwords, the second subword should not be considered\n",
        "#### So, we set the token to -100, this is because pytorch cross entropy loss ignores -100 "
      ],
      "metadata": {
        "id": "hiP4h56qPUbd"
      },
      "execution_count": 94,
      "outputs": []
    },
    {
      "cell_type": "code",
      "source": [
        "previous_word_idx = None\n",
        "label_ids = []"
      ],
      "metadata": {
        "id": "QDmInhoDPUZS"
      },
      "execution_count": 95,
      "outputs": []
    },
    {
      "cell_type": "code",
      "source": [
        "for word_idx in word_ids:\n",
        "  if word_idx is None or word_idx == previous_word_idx:\n",
        "    label_ids.append(-100)\n",
        "\n",
        "  elif word_idx != previous_word_idx:\n",
        "    label_ids.append(labels[word_idx])\n",
        "  previous_word_idx = word_idx"
      ],
      "metadata": {
        "id": "Np4KpJA_PY_V"
      },
      "execution_count": 96,
      "outputs": []
    },
    {
      "cell_type": "code",
      "source": [
        "labels = [index2tag[l] if l != -100 else \"IGN\" for l in label_ids]\n",
        "index = [\"Tokens\", \"Word IDs\", \"Label IDs\", \"Labels\"]\n",
        "\n",
        "pd.DataFrame([tokens, word_ids, label_ids, labels], index=index)"
      ],
      "metadata": {
        "colab": {
          "base_uri": "https://localhost:8080/",
          "height": 320
        },
        "id": "V4eU4B2LP2FG",
        "outputId": "b549a6ad-c152-4825-e5dc-272b3377a394"
      },
      "execution_count": 97,
      "outputs": [
        {
          "output_type": "execute_result",
          "data": {
            "text/plain": [
              "             0       1           2     3    4     5      6     7     8   \\\n",
              "Tokens      <s>  ▁2.000  ▁Einwohner     n  ▁an  ▁der   ▁Dan    zi   ger   \n",
              "Word IDs   None       0           1     1    2     3      4     4     4   \n",
              "Label IDs  -100       0           0  -100    0     0      5  -100  -100   \n",
              "Labels      IGN       O           O   IGN    O     O  B-LOC   IGN   IGN   \n",
              "\n",
              "              9   ...     15    16    17      18     19    20    21  22    23  \\\n",
              "Tokens     ▁Buch  ...    ▁Wo     i   wod  schaft    ▁Po  mmer     n   ▁     .   \n",
              "Word IDs       5  ...      9     9     9       9     10    10    10  11    11   \n",
              "Label IDs      6  ...      5  -100  -100    -100      6  -100  -100   0  -100   \n",
              "Labels     I-LOC  ...  B-LOC   IGN   IGN     IGN  I-LOC   IGN   IGN   O   IGN   \n",
              "\n",
              "             24  \n",
              "Tokens     </s>  \n",
              "Word IDs   None  \n",
              "Label IDs  -100  \n",
              "Labels      IGN  \n",
              "\n",
              "[4 rows x 25 columns]"
            ],
            "text/html": [
              "\n",
              "  <div id=\"df-2f6b1766-c2cd-48f0-ba60-adfc321accd3\">\n",
              "    <div class=\"colab-df-container\">\n",
              "      <div>\n",
              "<style scoped>\n",
              "    .dataframe tbody tr th:only-of-type {\n",
              "        vertical-align: middle;\n",
              "    }\n",
              "\n",
              "    .dataframe tbody tr th {\n",
              "        vertical-align: top;\n",
              "    }\n",
              "\n",
              "    .dataframe thead th {\n",
              "        text-align: right;\n",
              "    }\n",
              "</style>\n",
              "<table border=\"1\" class=\"dataframe\">\n",
              "  <thead>\n",
              "    <tr style=\"text-align: right;\">\n",
              "      <th></th>\n",
              "      <th>0</th>\n",
              "      <th>1</th>\n",
              "      <th>2</th>\n",
              "      <th>3</th>\n",
              "      <th>4</th>\n",
              "      <th>5</th>\n",
              "      <th>6</th>\n",
              "      <th>7</th>\n",
              "      <th>8</th>\n",
              "      <th>9</th>\n",
              "      <th>...</th>\n",
              "      <th>15</th>\n",
              "      <th>16</th>\n",
              "      <th>17</th>\n",
              "      <th>18</th>\n",
              "      <th>19</th>\n",
              "      <th>20</th>\n",
              "      <th>21</th>\n",
              "      <th>22</th>\n",
              "      <th>23</th>\n",
              "      <th>24</th>\n",
              "    </tr>\n",
              "  </thead>\n",
              "  <tbody>\n",
              "    <tr>\n",
              "      <th>Tokens</th>\n",
              "      <td>&lt;s&gt;</td>\n",
              "      <td>▁2.000</td>\n",
              "      <td>▁Einwohner</td>\n",
              "      <td>n</td>\n",
              "      <td>▁an</td>\n",
              "      <td>▁der</td>\n",
              "      <td>▁Dan</td>\n",
              "      <td>zi</td>\n",
              "      <td>ger</td>\n",
              "      <td>▁Buch</td>\n",
              "      <td>...</td>\n",
              "      <td>▁Wo</td>\n",
              "      <td>i</td>\n",
              "      <td>wod</td>\n",
              "      <td>schaft</td>\n",
              "      <td>▁Po</td>\n",
              "      <td>mmer</td>\n",
              "      <td>n</td>\n",
              "      <td>▁</td>\n",
              "      <td>.</td>\n",
              "      <td>&lt;/s&gt;</td>\n",
              "    </tr>\n",
              "    <tr>\n",
              "      <th>Word IDs</th>\n",
              "      <td>None</td>\n",
              "      <td>0</td>\n",
              "      <td>1</td>\n",
              "      <td>1</td>\n",
              "      <td>2</td>\n",
              "      <td>3</td>\n",
              "      <td>4</td>\n",
              "      <td>4</td>\n",
              "      <td>4</td>\n",
              "      <td>5</td>\n",
              "      <td>...</td>\n",
              "      <td>9</td>\n",
              "      <td>9</td>\n",
              "      <td>9</td>\n",
              "      <td>9</td>\n",
              "      <td>10</td>\n",
              "      <td>10</td>\n",
              "      <td>10</td>\n",
              "      <td>11</td>\n",
              "      <td>11</td>\n",
              "      <td>None</td>\n",
              "    </tr>\n",
              "    <tr>\n",
              "      <th>Label IDs</th>\n",
              "      <td>-100</td>\n",
              "      <td>0</td>\n",
              "      <td>0</td>\n",
              "      <td>-100</td>\n",
              "      <td>0</td>\n",
              "      <td>0</td>\n",
              "      <td>5</td>\n",
              "      <td>-100</td>\n",
              "      <td>-100</td>\n",
              "      <td>6</td>\n",
              "      <td>...</td>\n",
              "      <td>5</td>\n",
              "      <td>-100</td>\n",
              "      <td>-100</td>\n",
              "      <td>-100</td>\n",
              "      <td>6</td>\n",
              "      <td>-100</td>\n",
              "      <td>-100</td>\n",
              "      <td>0</td>\n",
              "      <td>-100</td>\n",
              "      <td>-100</td>\n",
              "    </tr>\n",
              "    <tr>\n",
              "      <th>Labels</th>\n",
              "      <td>IGN</td>\n",
              "      <td>O</td>\n",
              "      <td>O</td>\n",
              "      <td>IGN</td>\n",
              "      <td>O</td>\n",
              "      <td>O</td>\n",
              "      <td>B-LOC</td>\n",
              "      <td>IGN</td>\n",
              "      <td>IGN</td>\n",
              "      <td>I-LOC</td>\n",
              "      <td>...</td>\n",
              "      <td>B-LOC</td>\n",
              "      <td>IGN</td>\n",
              "      <td>IGN</td>\n",
              "      <td>IGN</td>\n",
              "      <td>I-LOC</td>\n",
              "      <td>IGN</td>\n",
              "      <td>IGN</td>\n",
              "      <td>O</td>\n",
              "      <td>IGN</td>\n",
              "      <td>IGN</td>\n",
              "    </tr>\n",
              "  </tbody>\n",
              "</table>\n",
              "<p>4 rows × 25 columns</p>\n",
              "</div>\n",
              "      <button class=\"colab-df-convert\" onclick=\"convertToInteractive('df-2f6b1766-c2cd-48f0-ba60-adfc321accd3')\"\n",
              "              title=\"Convert this dataframe to an interactive table.\"\n",
              "              style=\"display:none;\">\n",
              "        \n",
              "  <svg xmlns=\"http://www.w3.org/2000/svg\" height=\"24px\"viewBox=\"0 0 24 24\"\n",
              "       width=\"24px\">\n",
              "    <path d=\"M0 0h24v24H0V0z\" fill=\"none\"/>\n",
              "    <path d=\"M18.56 5.44l.94 2.06.94-2.06 2.06-.94-2.06-.94-.94-2.06-.94 2.06-2.06.94zm-11 1L8.5 8.5l.94-2.06 2.06-.94-2.06-.94L8.5 2.5l-.94 2.06-2.06.94zm10 10l.94 2.06.94-2.06 2.06-.94-2.06-.94-.94-2.06-.94 2.06-2.06.94z\"/><path d=\"M17.41 7.96l-1.37-1.37c-.4-.4-.92-.59-1.43-.59-.52 0-1.04.2-1.43.59L10.3 9.45l-7.72 7.72c-.78.78-.78 2.05 0 2.83L4 21.41c.39.39.9.59 1.41.59.51 0 1.02-.2 1.41-.59l7.78-7.78 2.81-2.81c.8-.78.8-2.07 0-2.86zM5.41 20L4 18.59l7.72-7.72 1.47 1.35L5.41 20z\"/>\n",
              "  </svg>\n",
              "      </button>\n",
              "      \n",
              "  <style>\n",
              "    .colab-df-container {\n",
              "      display:flex;\n",
              "      flex-wrap:wrap;\n",
              "      gap: 12px;\n",
              "    }\n",
              "\n",
              "    .colab-df-convert {\n",
              "      background-color: #E8F0FE;\n",
              "      border: none;\n",
              "      border-radius: 50%;\n",
              "      cursor: pointer;\n",
              "      display: none;\n",
              "      fill: #1967D2;\n",
              "      height: 32px;\n",
              "      padding: 0 0 0 0;\n",
              "      width: 32px;\n",
              "    }\n",
              "\n",
              "    .colab-df-convert:hover {\n",
              "      background-color: #E2EBFA;\n",
              "      box-shadow: 0px 1px 2px rgba(60, 64, 67, 0.3), 0px 1px 3px 1px rgba(60, 64, 67, 0.15);\n",
              "      fill: #174EA6;\n",
              "    }\n",
              "\n",
              "    [theme=dark] .colab-df-convert {\n",
              "      background-color: #3B4455;\n",
              "      fill: #D2E3FC;\n",
              "    }\n",
              "\n",
              "    [theme=dark] .colab-df-convert:hover {\n",
              "      background-color: #434B5C;\n",
              "      box-shadow: 0px 1px 3px 1px rgba(0, 0, 0, 0.15);\n",
              "      filter: drop-shadow(0px 1px 2px rgba(0, 0, 0, 0.3));\n",
              "      fill: #FFFFFF;\n",
              "    }\n",
              "  </style>\n",
              "\n",
              "      <script>\n",
              "        const buttonEl =\n",
              "          document.querySelector('#df-2f6b1766-c2cd-48f0-ba60-adfc321accd3 button.colab-df-convert');\n",
              "        buttonEl.style.display =\n",
              "          google.colab.kernel.accessAllowed ? 'block' : 'none';\n",
              "\n",
              "        async function convertToInteractive(key) {\n",
              "          const element = document.querySelector('#df-2f6b1766-c2cd-48f0-ba60-adfc321accd3');\n",
              "          const dataTable =\n",
              "            await google.colab.kernel.invokeFunction('convertToInteractive',\n",
              "                                                     [key], {});\n",
              "          if (!dataTable) return;\n",
              "\n",
              "          const docLinkHtml = 'Like what you see? Visit the ' +\n",
              "            '<a target=\"_blank\" href=https://colab.research.google.com/notebooks/data_table.ipynb>data table notebook</a>'\n",
              "            + ' to learn more about interactive tables.';\n",
              "          element.innerHTML = '';\n",
              "          dataTable['output_type'] = 'display_data';\n",
              "          await google.colab.output.renderOutput(dataTable, element);\n",
              "          const docLink = document.createElement('div');\n",
              "          docLink.innerHTML = docLinkHtml;\n",
              "          element.appendChild(docLink);\n",
              "        }\n",
              "      </script>\n",
              "    </div>\n",
              "  </div>\n",
              "  "
            ]
          },
          "metadata": {},
          "execution_count": 97
        }
      ]
    },
    {
      "cell_type": "code",
      "source": [
        "def tokenize_and_align_labels(examples):\n",
        "    tokenized_inputs = xlmr_tokenizer(examples[\"tokens\"], truncation=True, \n",
        "                                      is_split_into_words=True)\n",
        "    labels = []\n",
        "    for idx, label in enumerate(examples[\"ner_tags\"]):\n",
        "        word_ids = tokenized_inputs.word_ids(batch_index=idx)\n",
        "        previous_word_idx = None\n",
        "        label_ids = []\n",
        "        for word_idx in word_ids:\n",
        "            if word_idx is None or word_idx == previous_word_idx:\n",
        "                label_ids.append(-100)\n",
        "            else:\n",
        "                label_ids.append(label[word_idx])\n",
        "            previous_word_idx = word_idx\n",
        "        labels.append(label_ids)\n",
        "    tokenized_inputs[\"labels\"] = labels\n",
        "    return tokenized_inputs"
      ],
      "metadata": {
        "id": "NVRMnbX3QH2-"
      },
      "execution_count": 98,
      "outputs": []
    },
    {
      "cell_type": "code",
      "source": [
        "def encode_panx_dataset(corpus):\n",
        "  return corpus.map(tokenize_and_align_labels, batched = True, remove_columns = ['langs', 'ner_tags','tokens'])"
      ],
      "metadata": {
        "id": "o706kY6LYQBw"
      },
      "execution_count": 99,
      "outputs": []
    },
    {
      "cell_type": "code",
      "source": [
        "panx_de_encoded = encode_panx_dataset(panx_ch[\"de\"])"
      ],
      "metadata": {
        "colab": {
          "base_uri": "https://localhost:8080/",
          "height": 113,
          "referenced_widgets": [
            "7b363c1bdd7a4d2cbe21c1aaf348da8b",
            "5b69b4f0811b4b90828d72d9e9e0b872",
            "7b76895d8aa24876a20801018edbfeef",
            "3c7b1369d36343a297c6a52c2bc6cec5",
            "32ac2d5cee9c4dfd9f7ffbae45be0f3d",
            "e35d2b569ae34401a4bec604e575f6c3",
            "aa9c7295d2fb432e9b57a651289385b3",
            "e18e3b12f06b4bb09e5153f267224bc1",
            "2ac7f4e9a457403e98a949707da304f9",
            "f0cb3389f79348f783e3635d0b7e74d7",
            "54f0f3a4f9704c0a86e389ce85544e2f",
            "fb0d89b8c96645ab8110144816d3a69c",
            "84914146a59641d5b7aef65a24e10ad6",
            "3eb5b04d001a49e4bc29bd6c1112f0cf",
            "47275b1759324527887e56e34957ddb1",
            "1d8083889aac42b6906ca006eb0f7509",
            "b5cc0fa4e92f440aa191131fd9447e92",
            "792e3c6421514df78b894efc8d998f3a",
            "17abac35c9ca4e9f8e4f69c0fdf179c8",
            "5a81e8d813f74458b77c1d0ee9c446db",
            "cedb003e77c0463f9e48c14bac1068b6",
            "b676aaae4e934034a6f652076306fa27",
            "84f142fd62014c0887767d2abf21bda2",
            "1936153238c544b0801433ae188d2a57",
            "99f3bf249f49414abb4ccf8d28c106cb",
            "430afdc0a73842dab769b2c899eedab8",
            "aeac56fa9b664f948f7b4b6f98eab583",
            "f0a57f6bf1914c428914b782cac1d49e",
            "e1bee594f1c94a09a502c74dccc12a9a",
            "f2059637922f4e52a4d99d0504ee3090",
            "ce842fe7f2bd478c9dd580687842a578",
            "d849ad99416d493db5d48940372182e5",
            "d8be1b721f194e32a59441d41cd65d43"
          ]
        },
        "id": "SQhX5mliZUqw",
        "outputId": "7fc1f1b2-4c89-4b5e-c15e-aa51ecec2ca3"
      },
      "execution_count": 100,
      "outputs": [
        {
          "output_type": "display_data",
          "data": {
            "text/plain": [
              "  0%|          | 0/7 [00:00<?, ?ba/s]"
            ],
            "application/vnd.jupyter.widget-view+json": {
              "version_major": 2,
              "version_minor": 0,
              "model_id": "7b363c1bdd7a4d2cbe21c1aaf348da8b"
            }
          },
          "metadata": {}
        },
        {
          "output_type": "display_data",
          "data": {
            "text/plain": [
              "  0%|          | 0/7 [00:00<?, ?ba/s]"
            ],
            "application/vnd.jupyter.widget-view+json": {
              "version_major": 2,
              "version_minor": 0,
              "model_id": "fb0d89b8c96645ab8110144816d3a69c"
            }
          },
          "metadata": {}
        },
        {
          "output_type": "display_data",
          "data": {
            "text/plain": [
              "  0%|          | 0/13 [00:00<?, ?ba/s]"
            ],
            "application/vnd.jupyter.widget-view+json": {
              "version_major": 2,
              "version_minor": 0,
              "model_id": "84f142fd62014c0887767d2abf21bda2"
            }
          },
          "metadata": {}
        }
      ]
    },
    {
      "cell_type": "code",
      "source": [
        "panx_de_encoded"
      ],
      "metadata": {
        "colab": {
          "base_uri": "https://localhost:8080/"
        },
        "id": "XrtciRyNZaPJ",
        "outputId": "c68767b8-5088-4771-fa4e-040dc1d02d38"
      },
      "execution_count": 101,
      "outputs": [
        {
          "output_type": "execute_result",
          "data": {
            "text/plain": [
              "DatasetDict({\n",
              "    validation: Dataset({\n",
              "        features: ['attention_mask', 'input_ids', 'labels'],\n",
              "        num_rows: 6290\n",
              "    })\n",
              "    test: Dataset({\n",
              "        features: ['attention_mask', 'input_ids', 'labels'],\n",
              "        num_rows: 6290\n",
              "    })\n",
              "    train: Dataset({\n",
              "        features: ['attention_mask', 'input_ids', 'labels'],\n",
              "        num_rows: 12580\n",
              "    })\n",
              "})"
            ]
          },
          "metadata": {},
          "execution_count": 101
        }
      ]
    },
    {
      "cell_type": "markdown",
      "source": [
        "# Performance metrics"
      ],
      "metadata": {
        "id": "5Lpavb1hahnN"
      }
    },
    {
      "cell_type": "code",
      "source": [
        "#### seq val is a great library to generate scores for sequence evaluations"
      ],
      "metadata": {
        "id": "OYx1RoFvZegW"
      },
      "execution_count": 102,
      "outputs": []
    },
    {
      "cell_type": "code",
      "source": [
        "from seqeval.metrics import classification_report"
      ],
      "metadata": {
        "id": "eFwJIWQ1avvS"
      },
      "execution_count": 103,
      "outputs": []
    },
    {
      "cell_type": "code",
      "source": [
        "y_true = [[\"O\", \"O\", \"O\", \"B-MISC\", \"I-MISC\", \"I-MISC\", \"O\"],\n",
        "          [\"B-PER\", \"I-PER\", \"O\"]]\n",
        "y_pred = [[\"O\", \"O\", \"B-MISC\", \"I-MISC\", \"I-MISC\", \"I-MISC\", \"O\"],\n",
        "          [\"B-PER\", \"I-PER\", \"O\"]]"
      ],
      "metadata": {
        "id": "tV7mjqqua1Z2"
      },
      "execution_count": 104,
      "outputs": []
    },
    {
      "cell_type": "code",
      "source": [
        "print(classification_report(y_true, y_pred))"
      ],
      "metadata": {
        "colab": {
          "base_uri": "https://localhost:8080/"
        },
        "id": "WpX1R1m1a3EE",
        "outputId": "f68b78c1-cf85-4c6c-fe0f-7af35f9977a0"
      },
      "execution_count": 105,
      "outputs": [
        {
          "output_type": "stream",
          "name": "stdout",
          "text": [
            "              precision    recall  f1-score   support\n",
            "\n",
            "        MISC       0.00      0.00      0.00         1\n",
            "         PER       1.00      1.00      1.00         1\n",
            "\n",
            "   micro avg       0.50      0.50      0.50         2\n",
            "   macro avg       0.50      0.50      0.50         2\n",
            "weighted avg       0.50      0.50      0.50         2\n",
            "\n"
          ]
        }
      ]
    },
    {
      "cell_type": "code",
      "source": [
        "## seqeval expects the inputs to be list of lists"
      ],
      "metadata": {
        "id": "0iEAWzLEa4Cm"
      },
      "execution_count": 106,
      "outputs": []
    },
    {
      "cell_type": "code",
      "source": [
        "import numpy as np"
      ],
      "metadata": {
        "id": "adZjDrhib6Pc"
      },
      "execution_count": 107,
      "outputs": []
    },
    {
      "cell_type": "code",
      "source": [
        "def allign_predictions(predictions, label_ids):\n",
        "  preds = np.argmax(predictions, axis = 2)\n",
        "  batch_size, seq_len = preds.shape\n",
        "  labels_list , preds_list = [],[]\n",
        "\n",
        "  for batch_idx in range(batch_size):\n",
        "    example_labels, example_preds = [],[]\n",
        "\n",
        "    for seq_idx in range(seq_len):\n",
        "      if label_ids[batch_idx, seq_idx] != -100:\n",
        "        example_labels.append(index2tag[label_ids[batch_idx][seq_idx]])\n",
        "        example_preds.append(index2tag[preds[batch_idx][seq_idx]])\n",
        "\n",
        "      labels_list.append(example_labels)\n",
        "      preds_list.append(example_preds)\n",
        "\n",
        "  return preds_list, labels_list    \n",
        "\n"
      ],
      "metadata": {
        "id": "30h7EmiAgHZe"
      },
      "execution_count": 108,
      "outputs": []
    },
    {
      "cell_type": "markdown",
      "source": [
        "# Fine Tuning XLM-Roberta"
      ],
      "metadata": {
        "id": "RdRpUYP9eZVr"
      }
    },
    {
      "cell_type": "code",
      "source": [
        "from transformers import TrainingArguments"
      ],
      "metadata": {
        "id": "MMX7lUDLg6Ay"
      },
      "execution_count": 109,
      "outputs": []
    },
    {
      "cell_type": "code",
      "source": [
        "num_epochs = 1\n",
        "batch_size = 24\n",
        "logging_steps = len(panx_de_encoded[\"train\"])// batch_size"
      ],
      "metadata": {
        "id": "l0pEgxCOdWcy"
      },
      "execution_count": 110,
      "outputs": []
    },
    {
      "cell_type": "code",
      "source": [
        "model_name = f\"{xlmr_model_name}-finetuned-panx-de\""
      ],
      "metadata": {
        "id": "WgiaM7JVdWZW"
      },
      "execution_count": 111,
      "outputs": []
    },
    {
      "cell_type": "code",
      "source": [
        "training_args = TrainingArguments(\n",
        "    output_dir = model_name, log_level = \"error\", num_train_epochs = num_epochs,\n",
        "    per_device_train_batch_size=batch_size, per_device_eval_batch_size=batch_size,\n",
        "    evaluation_strategy=\"epoch\", save_steps=1e6, weight_decay=0.01, disable_tqdm = False,\n",
        "    logging_steps = logging_steps)\n"
      ],
      "metadata": {
        "colab": {
          "base_uri": "https://localhost:8080/"
        },
        "id": "BvjePnI4dWWy",
        "outputId": "c372bcb6-3e52-4c5e-f418-4b84b07b5edf"
      },
      "execution_count": 112,
      "outputs": [
        {
          "output_type": "stream",
          "name": "stderr",
          "text": [
            "/usr/local/lib/python3.9/dist-packages/torch/cuda/__init__.py:497: UserWarning: Can't initialize NVML\n",
            "  warnings.warn(\"Can't initialize NVML\")\n"
          ]
        }
      ]
    },
    {
      "cell_type": "code",
      "source": [
        "from seqeval.metrics import f1_score"
      ],
      "metadata": {
        "id": "qPooFpE_dWUr"
      },
      "execution_count": 113,
      "outputs": []
    },
    {
      "cell_type": "code",
      "source": [
        "def compute_metrics(eval_predictions):\n",
        "  y_pred, y_true = allign_predictions(eval_predictions.predictions, eval_predictions.label_ids)\n",
        "  return {\"f1\":f1_score(y_true, y_pred)}"
      ],
      "metadata": {
        "id": "XCIbNeR_dWST"
      },
      "execution_count": 121,
      "outputs": []
    },
    {
      "cell_type": "code",
      "source": [
        "from transformers import DataCollatorForTokenClassification ## pad the sequences"
      ],
      "metadata": {
        "id": "zMWRWus-dWQV"
      },
      "execution_count": 115,
      "outputs": []
    },
    {
      "cell_type": "code",
      "source": [
        "## padding the sequeences\n",
        "data_collator = DataCollatorForTokenClassification(xlmr_tokenizer)"
      ],
      "metadata": {
        "id": "lyYyXQMEjvHA"
      },
      "execution_count": 116,
      "outputs": []
    },
    {
      "cell_type": "code",
      "source": [],
      "metadata": {
        "id": "EhDeF1sjjvDd"
      },
      "execution_count": 116,
      "outputs": []
    },
    {
      "cell_type": "code",
      "source": [
        "def model_init():\n",
        "  return (XLMRobertaForTokenClassification.from_pretrained(xlmr_model_name, config = xlmr_config).to(device))"
      ],
      "metadata": {
        "id": "jTYwGHKnjvA7"
      },
      "execution_count": 117,
      "outputs": []
    },
    {
      "cell_type": "code",
      "source": [
        "from transformers import Trainer"
      ],
      "metadata": {
        "id": "084ZWk1_ju-a"
      },
      "execution_count": 118,
      "outputs": []
    },
    {
      "cell_type": "code",
      "source": [
        "trainer = Trainer(model_init = model_init, args = training_args,\n",
        "                  data_collator = data_collator, compute_metrics = compute_metrics, train_dataset = panx_de_encoded[\"train\"],\n",
        "                  eval_dataset = panx_de_encoded[\"validation\"], tokenizer = xlmr_tokenizer)"
      ],
      "metadata": {
        "id": "BKl4M3REju8G"
      },
      "execution_count": 119,
      "outputs": []
    },
    {
      "cell_type": "code",
      "source": [
        "# trainer.train()"
      ],
      "metadata": {
        "colab": {
          "base_uri": "https://localhost:8080/",
          "height": 355
        },
        "id": "h6kyOsN5ju5R",
        "outputId": "9b50fbe8-25c7-4bc9-baa9-64dc54beef6a"
      },
      "execution_count": 120,
      "outputs": [
        {
          "output_type": "display_data",
          "data": {
            "text/plain": [
              "<IPython.core.display.HTML object>"
            ],
            "text/html": [
              "\n",
              "    <div>\n",
              "      \n",
              "      <progress value='526' max='525' style='width:300px; height:20px; vertical-align: middle;'></progress>\n",
              "      [525/525 2:12:36, Epoch 1/1]\n",
              "    </div>\n",
              "    <table border=\"1\" class=\"dataframe\">\n",
              "  <thead>\n",
              "    <tr style=\"text-align: left;\">\n",
              "      <th>Epoch</th>\n",
              "      <th>Training Loss</th>\n",
              "      <th>Validation Loss</th>\n",
              "    </tr>\n",
              "  </thead>\n",
              "  <tbody>\n",
              "  </tbody>\n",
              "</table><p>\n",
              "    <div>\n",
              "      \n",
              "      <progress value='263' max='263' style='width:300px; height:20px; vertical-align: middle;'></progress>\n",
              "      [263/263 17:09]\n",
              "    </div>\n",
              "    "
            ]
          },
          "metadata": {}
        },
        {
          "output_type": "error",
          "ename": "NameError",
          "evalue": "ignored",
          "traceback": [
            "\u001b[0;31m---------------------------------------------------------------------------\u001b[0m",
            "\u001b[0;31mNameError\u001b[0m                                 Traceback (most recent call last)",
            "\u001b[0;32m<ipython-input-120-3435b262f1ae>\u001b[0m in \u001b[0;36m<cell line: 1>\u001b[0;34m()\u001b[0m\n\u001b[0;32m----> 1\u001b[0;31m \u001b[0mtrainer\u001b[0m\u001b[0;34m.\u001b[0m\u001b[0mtrain\u001b[0m\u001b[0;34m(\u001b[0m\u001b[0;34m)\u001b[0m\u001b[0;34m\u001b[0m\u001b[0;34m\u001b[0m\u001b[0m\n\u001b[0m",
            "\u001b[0;32m/usr/local/lib/python3.9/dist-packages/transformers/trainer.py\u001b[0m in \u001b[0;36mtrain\u001b[0;34m(self, resume_from_checkpoint, trial, ignore_keys_for_eval, **kwargs)\u001b[0m\n\u001b[1;32m   1389\u001b[0m \u001b[0;34m\u001b[0m\u001b[0m\n\u001b[1;32m   1390\u001b[0m             \u001b[0mself\u001b[0m\u001b[0;34m.\u001b[0m\u001b[0mcontrol\u001b[0m \u001b[0;34m=\u001b[0m \u001b[0mself\u001b[0m\u001b[0;34m.\u001b[0m\u001b[0mcallback_handler\u001b[0m\u001b[0;34m.\u001b[0m\u001b[0mon_epoch_end\u001b[0m\u001b[0;34m(\u001b[0m\u001b[0margs\u001b[0m\u001b[0;34m,\u001b[0m \u001b[0mself\u001b[0m\u001b[0;34m.\u001b[0m\u001b[0mstate\u001b[0m\u001b[0;34m,\u001b[0m \u001b[0mself\u001b[0m\u001b[0;34m.\u001b[0m\u001b[0mcontrol\u001b[0m\u001b[0;34m)\u001b[0m\u001b[0;34m\u001b[0m\u001b[0;34m\u001b[0m\u001b[0m\n\u001b[0;32m-> 1391\u001b[0;31m             \u001b[0mself\u001b[0m\u001b[0;34m.\u001b[0m\u001b[0m_maybe_log_save_evaluate\u001b[0m\u001b[0;34m(\u001b[0m\u001b[0mtr_loss\u001b[0m\u001b[0;34m,\u001b[0m \u001b[0mmodel\u001b[0m\u001b[0;34m,\u001b[0m \u001b[0mtrial\u001b[0m\u001b[0;34m,\u001b[0m \u001b[0mepoch\u001b[0m\u001b[0;34m,\u001b[0m \u001b[0mignore_keys_for_eval\u001b[0m\u001b[0;34m)\u001b[0m\u001b[0;34m\u001b[0m\u001b[0;34m\u001b[0m\u001b[0m\n\u001b[0m\u001b[1;32m   1392\u001b[0m \u001b[0;34m\u001b[0m\u001b[0m\n\u001b[1;32m   1393\u001b[0m             \u001b[0;32mif\u001b[0m \u001b[0mDebugOption\u001b[0m\u001b[0;34m.\u001b[0m\u001b[0mTPU_METRICS_DEBUG\u001b[0m \u001b[0;32min\u001b[0m \u001b[0mself\u001b[0m\u001b[0;34m.\u001b[0m\u001b[0margs\u001b[0m\u001b[0;34m.\u001b[0m\u001b[0mdebug\u001b[0m\u001b[0;34m:\u001b[0m\u001b[0;34m\u001b[0m\u001b[0;34m\u001b[0m\u001b[0m\n",
            "\u001b[0;32m/usr/local/lib/python3.9/dist-packages/transformers/trainer.py\u001b[0m in \u001b[0;36m_maybe_log_save_evaluate\u001b[0;34m(self, tr_loss, model, trial, epoch, ignore_keys_for_eval)\u001b[0m\n\u001b[1;32m   1489\u001b[0m         \u001b[0mmetrics\u001b[0m \u001b[0;34m=\u001b[0m \u001b[0;32mNone\u001b[0m\u001b[0;34m\u001b[0m\u001b[0;34m\u001b[0m\u001b[0m\n\u001b[1;32m   1490\u001b[0m         \u001b[0;32mif\u001b[0m \u001b[0mself\u001b[0m\u001b[0;34m.\u001b[0m\u001b[0mcontrol\u001b[0m\u001b[0;34m.\u001b[0m\u001b[0mshould_evaluate\u001b[0m\u001b[0;34m:\u001b[0m\u001b[0;34m\u001b[0m\u001b[0;34m\u001b[0m\u001b[0m\n\u001b[0;32m-> 1491\u001b[0;31m             \u001b[0mmetrics\u001b[0m \u001b[0;34m=\u001b[0m \u001b[0mself\u001b[0m\u001b[0;34m.\u001b[0m\u001b[0mevaluate\u001b[0m\u001b[0;34m(\u001b[0m\u001b[0mignore_keys\u001b[0m\u001b[0;34m=\u001b[0m\u001b[0mignore_keys_for_eval\u001b[0m\u001b[0;34m)\u001b[0m\u001b[0;34m\u001b[0m\u001b[0;34m\u001b[0m\u001b[0m\n\u001b[0m\u001b[1;32m   1492\u001b[0m             \u001b[0mself\u001b[0m\u001b[0;34m.\u001b[0m\u001b[0m_report_to_hp_search\u001b[0m\u001b[0;34m(\u001b[0m\u001b[0mtrial\u001b[0m\u001b[0;34m,\u001b[0m \u001b[0mepoch\u001b[0m\u001b[0;34m,\u001b[0m \u001b[0mmetrics\u001b[0m\u001b[0;34m)\u001b[0m\u001b[0;34m\u001b[0m\u001b[0;34m\u001b[0m\u001b[0m\n\u001b[1;32m   1493\u001b[0m \u001b[0;34m\u001b[0m\u001b[0m\n",
            "\u001b[0;32m/usr/local/lib/python3.9/dist-packages/transformers/trainer.py\u001b[0m in \u001b[0;36mevaluate\u001b[0;34m(self, eval_dataset, ignore_keys, metric_key_prefix)\u001b[0m\n\u001b[1;32m   2111\u001b[0m \u001b[0;34m\u001b[0m\u001b[0m\n\u001b[1;32m   2112\u001b[0m         \u001b[0meval_loop\u001b[0m \u001b[0;34m=\u001b[0m \u001b[0mself\u001b[0m\u001b[0;34m.\u001b[0m\u001b[0mprediction_loop\u001b[0m \u001b[0;32mif\u001b[0m \u001b[0mself\u001b[0m\u001b[0;34m.\u001b[0m\u001b[0margs\u001b[0m\u001b[0;34m.\u001b[0m\u001b[0muse_legacy_prediction_loop\u001b[0m \u001b[0;32melse\u001b[0m \u001b[0mself\u001b[0m\u001b[0;34m.\u001b[0m\u001b[0mevaluation_loop\u001b[0m\u001b[0;34m\u001b[0m\u001b[0;34m\u001b[0m\u001b[0m\n\u001b[0;32m-> 2113\u001b[0;31m         output = eval_loop(\n\u001b[0m\u001b[1;32m   2114\u001b[0m             \u001b[0meval_dataloader\u001b[0m\u001b[0;34m,\u001b[0m\u001b[0;34m\u001b[0m\u001b[0;34m\u001b[0m\u001b[0m\n\u001b[1;32m   2115\u001b[0m             \u001b[0mdescription\u001b[0m\u001b[0;34m=\u001b[0m\u001b[0;34m\"Evaluation\"\u001b[0m\u001b[0;34m,\u001b[0m\u001b[0;34m\u001b[0m\u001b[0;34m\u001b[0m\u001b[0m\n",
            "\u001b[0;32m/usr/local/lib/python3.9/dist-packages/transformers/trainer.py\u001b[0m in \u001b[0;36mevaluation_loop\u001b[0;34m(self, dataloader, description, prediction_loss_only, ignore_keys, metric_key_prefix)\u001b[0m\n\u001b[1;32m   2352\u001b[0m         \u001b[0;31m# Metrics!\u001b[0m\u001b[0;34m\u001b[0m\u001b[0;34m\u001b[0m\u001b[0m\n\u001b[1;32m   2353\u001b[0m         \u001b[0;32mif\u001b[0m \u001b[0mself\u001b[0m\u001b[0;34m.\u001b[0m\u001b[0mcompute_metrics\u001b[0m \u001b[0;32mis\u001b[0m \u001b[0;32mnot\u001b[0m \u001b[0;32mNone\u001b[0m \u001b[0;32mand\u001b[0m \u001b[0mall_preds\u001b[0m \u001b[0;32mis\u001b[0m \u001b[0;32mnot\u001b[0m \u001b[0;32mNone\u001b[0m \u001b[0;32mand\u001b[0m \u001b[0mall_labels\u001b[0m \u001b[0;32mis\u001b[0m \u001b[0;32mnot\u001b[0m \u001b[0;32mNone\u001b[0m\u001b[0;34m:\u001b[0m\u001b[0;34m\u001b[0m\u001b[0;34m\u001b[0m\u001b[0m\n\u001b[0;32m-> 2354\u001b[0;31m             \u001b[0mmetrics\u001b[0m \u001b[0;34m=\u001b[0m \u001b[0mself\u001b[0m\u001b[0;34m.\u001b[0m\u001b[0mcompute_metrics\u001b[0m\u001b[0;34m(\u001b[0m\u001b[0mEvalPrediction\u001b[0m\u001b[0;34m(\u001b[0m\u001b[0mpredictions\u001b[0m\u001b[0;34m=\u001b[0m\u001b[0mall_preds\u001b[0m\u001b[0;34m,\u001b[0m \u001b[0mlabel_ids\u001b[0m\u001b[0;34m=\u001b[0m\u001b[0mall_labels\u001b[0m\u001b[0;34m)\u001b[0m\u001b[0;34m)\u001b[0m\u001b[0;34m\u001b[0m\u001b[0;34m\u001b[0m\u001b[0m\n\u001b[0m\u001b[1;32m   2355\u001b[0m         \u001b[0;32melse\u001b[0m\u001b[0;34m:\u001b[0m\u001b[0;34m\u001b[0m\u001b[0;34m\u001b[0m\u001b[0m\n\u001b[1;32m   2356\u001b[0m             \u001b[0mmetrics\u001b[0m \u001b[0;34m=\u001b[0m \u001b[0;34m{\u001b[0m\u001b[0;34m}\u001b[0m\u001b[0;34m\u001b[0m\u001b[0;34m\u001b[0m\u001b[0m\n",
            "\u001b[0;32m<ipython-input-114-de6afe62c7e8>\u001b[0m in \u001b[0;36mcompute_metrics\u001b[0;34m(eval_predictions)\u001b[0m\n\u001b[1;32m      1\u001b[0m \u001b[0;32mdef\u001b[0m \u001b[0mcompute_metrics\u001b[0m\u001b[0;34m(\u001b[0m\u001b[0meval_predictions\u001b[0m\u001b[0;34m)\u001b[0m\u001b[0;34m:\u001b[0m\u001b[0;34m\u001b[0m\u001b[0;34m\u001b[0m\u001b[0m\n\u001b[0;32m----> 2\u001b[0;31m   \u001b[0my_pred\u001b[0m\u001b[0;34m,\u001b[0m \u001b[0my_true\u001b[0m \u001b[0;34m=\u001b[0m \u001b[0mallign_predictions\u001b[0m\u001b[0;34m(\u001b[0m\u001b[0meval_pred\u001b[0m\u001b[0;34m.\u001b[0m\u001b[0mpredictions\u001b[0m\u001b[0;34m,\u001b[0m \u001b[0meval_pred\u001b[0m\u001b[0;34m.\u001b[0m\u001b[0mlabel_ids\u001b[0m\u001b[0;34m)\u001b[0m\u001b[0;34m\u001b[0m\u001b[0;34m\u001b[0m\u001b[0m\n\u001b[0m\u001b[1;32m      3\u001b[0m   \u001b[0;32mreturn\u001b[0m \u001b[0;34m{\u001b[0m\u001b[0;34m\"f1\"\u001b[0m\u001b[0;34m:\u001b[0m\u001b[0mf1_score\u001b[0m\u001b[0;34m(\u001b[0m\u001b[0my_true\u001b[0m\u001b[0;34m,\u001b[0m \u001b[0my_pred\u001b[0m\u001b[0;34m)\u001b[0m\u001b[0;34m}\u001b[0m\u001b[0;34m\u001b[0m\u001b[0;34m\u001b[0m\u001b[0m\n",
            "\u001b[0;31mNameError\u001b[0m: name 'eval_pred' is not defined"
          ]
        }
      ]
    },
    {
      "cell_type": "code",
      "source": [
        "\n",
        "# hide_output\n",
        "text_de = \"Jeff Dean ist ein Informatiker bei Google in Kalifornien\"\n",
        "tag_text(text_de, tags, trainer.model, xlmr_tokenizer)"
      ],
      "metadata": {
        "colab": {
          "base_uri": "https://localhost:8080/",
          "height": 112
        },
        "id": "h2IXMRuiju3B",
        "outputId": "4ac7e3ea-a4cb-4472-b736-e7ef7316a020"
      },
      "execution_count": 137,
      "outputs": [
        {
          "output_type": "execute_result",
          "data": {
            "text/plain": [
              "         0      1      2      3     4     5           6    7     8        9   \\\n",
              "Tokens  <s>  ▁Jeff    ▁De     an  ▁ist  ▁ein  ▁Informati  ker  ▁bei  ▁Google   \n",
              "Tags      O  B-PER  I-PER  I-PER     O     O           O    O     O    B-ORG   \n",
              "\n",
              "         10          11     12    13  \n",
              "Tokens  ▁in  ▁Kaliforni     en  </s>  \n",
              "Tags      O       B-LOC  I-LOC     O  "
            ],
            "text/html": [
              "\n",
              "  <div id=\"df-765a287d-981c-4255-8962-4f9c049603f5\">\n",
              "    <div class=\"colab-df-container\">\n",
              "      <div>\n",
              "<style scoped>\n",
              "    .dataframe tbody tr th:only-of-type {\n",
              "        vertical-align: middle;\n",
              "    }\n",
              "\n",
              "    .dataframe tbody tr th {\n",
              "        vertical-align: top;\n",
              "    }\n",
              "\n",
              "    .dataframe thead th {\n",
              "        text-align: right;\n",
              "    }\n",
              "</style>\n",
              "<table border=\"1\" class=\"dataframe\">\n",
              "  <thead>\n",
              "    <tr style=\"text-align: right;\">\n",
              "      <th></th>\n",
              "      <th>0</th>\n",
              "      <th>1</th>\n",
              "      <th>2</th>\n",
              "      <th>3</th>\n",
              "      <th>4</th>\n",
              "      <th>5</th>\n",
              "      <th>6</th>\n",
              "      <th>7</th>\n",
              "      <th>8</th>\n",
              "      <th>9</th>\n",
              "      <th>10</th>\n",
              "      <th>11</th>\n",
              "      <th>12</th>\n",
              "      <th>13</th>\n",
              "    </tr>\n",
              "  </thead>\n",
              "  <tbody>\n",
              "    <tr>\n",
              "      <th>Tokens</th>\n",
              "      <td>&lt;s&gt;</td>\n",
              "      <td>▁Jeff</td>\n",
              "      <td>▁De</td>\n",
              "      <td>an</td>\n",
              "      <td>▁ist</td>\n",
              "      <td>▁ein</td>\n",
              "      <td>▁Informati</td>\n",
              "      <td>ker</td>\n",
              "      <td>▁bei</td>\n",
              "      <td>▁Google</td>\n",
              "      <td>▁in</td>\n",
              "      <td>▁Kaliforni</td>\n",
              "      <td>en</td>\n",
              "      <td>&lt;/s&gt;</td>\n",
              "    </tr>\n",
              "    <tr>\n",
              "      <th>Tags</th>\n",
              "      <td>O</td>\n",
              "      <td>B-PER</td>\n",
              "      <td>I-PER</td>\n",
              "      <td>I-PER</td>\n",
              "      <td>O</td>\n",
              "      <td>O</td>\n",
              "      <td>O</td>\n",
              "      <td>O</td>\n",
              "      <td>O</td>\n",
              "      <td>B-ORG</td>\n",
              "      <td>O</td>\n",
              "      <td>B-LOC</td>\n",
              "      <td>I-LOC</td>\n",
              "      <td>O</td>\n",
              "    </tr>\n",
              "  </tbody>\n",
              "</table>\n",
              "</div>\n",
              "      <button class=\"colab-df-convert\" onclick=\"convertToInteractive('df-765a287d-981c-4255-8962-4f9c049603f5')\"\n",
              "              title=\"Convert this dataframe to an interactive table.\"\n",
              "              style=\"display:none;\">\n",
              "        \n",
              "  <svg xmlns=\"http://www.w3.org/2000/svg\" height=\"24px\"viewBox=\"0 0 24 24\"\n",
              "       width=\"24px\">\n",
              "    <path d=\"M0 0h24v24H0V0z\" fill=\"none\"/>\n",
              "    <path d=\"M18.56 5.44l.94 2.06.94-2.06 2.06-.94-2.06-.94-.94-2.06-.94 2.06-2.06.94zm-11 1L8.5 8.5l.94-2.06 2.06-.94-2.06-.94L8.5 2.5l-.94 2.06-2.06.94zm10 10l.94 2.06.94-2.06 2.06-.94-2.06-.94-.94-2.06-.94 2.06-2.06.94z\"/><path d=\"M17.41 7.96l-1.37-1.37c-.4-.4-.92-.59-1.43-.59-.52 0-1.04.2-1.43.59L10.3 9.45l-7.72 7.72c-.78.78-.78 2.05 0 2.83L4 21.41c.39.39.9.59 1.41.59.51 0 1.02-.2 1.41-.59l7.78-7.78 2.81-2.81c.8-.78.8-2.07 0-2.86zM5.41 20L4 18.59l7.72-7.72 1.47 1.35L5.41 20z\"/>\n",
              "  </svg>\n",
              "      </button>\n",
              "      \n",
              "  <style>\n",
              "    .colab-df-container {\n",
              "      display:flex;\n",
              "      flex-wrap:wrap;\n",
              "      gap: 12px;\n",
              "    }\n",
              "\n",
              "    .colab-df-convert {\n",
              "      background-color: #E8F0FE;\n",
              "      border: none;\n",
              "      border-radius: 50%;\n",
              "      cursor: pointer;\n",
              "      display: none;\n",
              "      fill: #1967D2;\n",
              "      height: 32px;\n",
              "      padding: 0 0 0 0;\n",
              "      width: 32px;\n",
              "    }\n",
              "\n",
              "    .colab-df-convert:hover {\n",
              "      background-color: #E2EBFA;\n",
              "      box-shadow: 0px 1px 2px rgba(60, 64, 67, 0.3), 0px 1px 3px 1px rgba(60, 64, 67, 0.15);\n",
              "      fill: #174EA6;\n",
              "    }\n",
              "\n",
              "    [theme=dark] .colab-df-convert {\n",
              "      background-color: #3B4455;\n",
              "      fill: #D2E3FC;\n",
              "    }\n",
              "\n",
              "    [theme=dark] .colab-df-convert:hover {\n",
              "      background-color: #434B5C;\n",
              "      box-shadow: 0px 1px 3px 1px rgba(0, 0, 0, 0.15);\n",
              "      filter: drop-shadow(0px 1px 2px rgba(0, 0, 0, 0.3));\n",
              "      fill: #FFFFFF;\n",
              "    }\n",
              "  </style>\n",
              "\n",
              "      <script>\n",
              "        const buttonEl =\n",
              "          document.querySelector('#df-765a287d-981c-4255-8962-4f9c049603f5 button.colab-df-convert');\n",
              "        buttonEl.style.display =\n",
              "          google.colab.kernel.accessAllowed ? 'block' : 'none';\n",
              "\n",
              "        async function convertToInteractive(key) {\n",
              "          const element = document.querySelector('#df-765a287d-981c-4255-8962-4f9c049603f5');\n",
              "          const dataTable =\n",
              "            await google.colab.kernel.invokeFunction('convertToInteractive',\n",
              "                                                     [key], {});\n",
              "          if (!dataTable) return;\n",
              "\n",
              "          const docLinkHtml = 'Like what you see? Visit the ' +\n",
              "            '<a target=\"_blank\" href=https://colab.research.google.com/notebooks/data_table.ipynb>data table notebook</a>'\n",
              "            + ' to learn more about interactive tables.';\n",
              "          element.innerHTML = '';\n",
              "          dataTable['output_type'] = 'display_data';\n",
              "          await google.colab.output.renderOutput(dataTable, element);\n",
              "          const docLink = document.createElement('div');\n",
              "          docLink.innerHTML = docLinkHtml;\n",
              "          element.appendChild(docLink);\n",
              "        }\n",
              "      </script>\n",
              "    </div>\n",
              "  </div>\n",
              "  "
            ]
          },
          "metadata": {},
          "execution_count": 137
        }
      ]
    },
    {
      "cell_type": "code",
      "source": [],
      "metadata": {
        "id": "fMNgd2ODju0v"
      },
      "execution_count": 121,
      "outputs": []
    },
    {
      "cell_type": "code",
      "source": [
        "from transformers import pipeline"
      ],
      "metadata": {
        "id": "g6EqTM4Rjuyd"
      },
      "execution_count": 141,
      "outputs": []
    },
    {
      "cell_type": "code",
      "source": [
        "transformers_book_model = pipeline(\"token-classification\",model = \"transformersbook/xlm-roberta-base-finetuned-panx-de\")"
      ],
      "metadata": {
        "colab": {
          "base_uri": "https://localhost:8080/",
          "height": 81,
          "referenced_widgets": [
            "858b4ca2f92c48da9c97245958be0bb1",
            "7edac90bd1b044f2ac5bc57cebf45898",
            "4b14549683994748bb89bafc88e330a4",
            "96d699c47467444ca1573af70255c178",
            "1c37cd8969ca4c31a08935bedb18648c",
            "138a738f50af4ddf8cab2fddcbf451f5",
            "147457f6782e48eb97ed26de8c106265",
            "4dd953330d77480d8205ea23fbfc10e3",
            "79c5837d56b64be5a2c7127e06ff3d73",
            "a8ae0028e30c42b5b60a68106a9f6b28",
            "9202b6c9857b4514836253aab6a64f64",
            "d5642c9505f54015bc0b3e961ba388ea",
            "70fa4b446a2b43138618913accd414da",
            "acb313111c1649948ba43f44ef84e13b",
            "cca1989e71484990bac8719ac77cc9cf",
            "08f5f055b96d4235b144fe41f27aa9b2",
            "f6de2fe9aab14b36852457c8b2edf45d",
            "91f6cf0cdb75408f8cedb28a0201572c",
            "23ba93f27f1e473494e462d0b2e92503",
            "aa69ee6492944d76bdc6fb7371364469",
            "312dc8a7a2724a1a9d75bfeb6ef08142",
            "003994844ea9478cb03b28966362972d"
          ]
        },
        "id": "8CVfKCK5juv-",
        "outputId": "1f2f4260-9fcc-42cf-a14d-d1098b8e6dcf"
      },
      "execution_count": null,
      "outputs": [
        {
          "output_type": "display_data",
          "data": {
            "text/plain": [
              "Downloading:   0%|          | 0.00/993 [00:00<?, ?B/s]"
            ],
            "application/vnd.jupyter.widget-view+json": {
              "version_major": 2,
              "version_minor": 0,
              "model_id": "858b4ca2f92c48da9c97245958be0bb1"
            }
          },
          "metadata": {}
        },
        {
          "output_type": "display_data",
          "data": {
            "text/plain": [
              "Downloading:   0%|          | 0.00/1.03G [00:00<?, ?B/s]"
            ],
            "application/vnd.jupyter.widget-view+json": {
              "version_major": 2,
              "version_minor": 0,
              "model_id": "d5642c9505f54015bc0b3e961ba388ea"
            }
          },
          "metadata": {}
        }
      ]
    },
    {
      "cell_type": "code",
      "source": [],
      "metadata": {
        "id": "IWSgDoacjuto"
      },
      "execution_count": 121,
      "outputs": []
    },
    {
      "cell_type": "code",
      "source": [],
      "metadata": {
        "id": "t103wUSGjurA"
      },
      "execution_count": 121,
      "outputs": []
    },
    {
      "cell_type": "code",
      "source": [],
      "metadata": {
        "id": "LjxvaVBAjuom"
      },
      "execution_count": 121,
      "outputs": []
    },
    {
      "cell_type": "code",
      "source": [],
      "metadata": {
        "id": "DFMOLreqdWNv"
      },
      "execution_count": 121,
      "outputs": []
    },
    {
      "cell_type": "code",
      "source": [],
      "metadata": {
        "id": "genkimhRnUSn"
      },
      "execution_count": null,
      "outputs": []
    },
    {
      "cell_type": "code",
      "source": [],
      "metadata": {
        "id": "CCQn1KQKnUPI"
      },
      "execution_count": null,
      "outputs": []
    },
    {
      "cell_type": "code",
      "source": [],
      "metadata": {
        "id": "M5iZaff5nUMd"
      },
      "execution_count": null,
      "outputs": []
    },
    {
      "cell_type": "code",
      "source": [],
      "metadata": {
        "id": "FJvZarzVnUE2"
      },
      "execution_count": null,
      "outputs": []
    },
    {
      "cell_type": "code",
      "source": [],
      "metadata": {
        "id": "q81gQgCHnUBF"
      },
      "execution_count": null,
      "outputs": []
    },
    {
      "cell_type": "markdown",
      "source": [
        "# Custom Project fiddling"
      ],
      "metadata": {
        "id": "kN5S5ly8RG-f"
      }
    },
    {
      "cell_type": "markdown",
      "source": [
        "Name\n",
        "College Name\n",
        "Degree\n",
        "Graduation Year\n",
        "Years of Experience\n",
        "Companies worked at\n",
        "Designation\n",
        "Skills\n",
        "Location\n",
        "Email Address"
      ],
      "metadata": {
        "id": "7S_oFlpURFO5"
      }
    },
    {
      "cell_type": "code",
      "source": [
        "from datasets import load_dataset"
      ],
      "metadata": {
        "id": "8Ey5sdb1BdDf"
      },
      "execution_count": 122,
      "outputs": []
    },
    {
      "cell_type": "code",
      "source": [
        "\n",
        "custom_data_path = \"/content/Entity Recognition in Resumes.json\""
      ],
      "metadata": {
        "id": "rMNDt3hkBdBR"
      },
      "execution_count": 123,
      "outputs": []
    },
    {
      "cell_type": "code",
      "source": [
        "\n",
        "custom_data = load_dataset(\"json\", data_files = custom_data_path)"
      ],
      "metadata": {
        "colab": {
          "base_uri": "https://localhost:8080/",
          "height": 49,
          "referenced_widgets": [
            "12725b898048421ca308d43474c012b7",
            "a31af717dc044fc5a37d0b7d68203042",
            "a4342e96c3d344f5b33b9cb8ca1a4cfd",
            "f1ae3189f4344c7e95a36e3edd55679b",
            "1b8ee98cdd1c47398ee7554d1556a541",
            "9b8b23285acd4bc8a22c9fd7488e664a",
            "f4f1a881efc547aebcf1a799297e574a",
            "e11a18b65a8d4e0a9339e32dff16196e",
            "0c647d27add447bca632cb88606516b4",
            "ba043ccbaafc49d4bdba4f387ec5bcdf",
            "523ccded858a4b089bae9bb20965be99"
          ]
        },
        "id": "33Z12Qb7B3um",
        "outputId": "74e9141e-52a2-485e-d98b-a56bf35a8b1d"
      },
      "execution_count": 124,
      "outputs": [
        {
          "output_type": "display_data",
          "data": {
            "text/plain": [
              "  0%|          | 0/1 [00:00<?, ?it/s]"
            ],
            "application/vnd.jupyter.widget-view+json": {
              "version_major": 2,
              "version_minor": 0,
              "model_id": "12725b898048421ca308d43474c012b7"
            }
          },
          "metadata": {}
        }
      ]
    },
    {
      "cell_type": "code",
      "source": [
        "custom_data"
      ],
      "metadata": {
        "colab": {
          "base_uri": "https://localhost:8080/"
        },
        "id": "pIVKj9nRB5fp",
        "outputId": "611492a7-61a9-4c9c-a46a-426a16078aa3"
      },
      "execution_count": 125,
      "outputs": [
        {
          "output_type": "execute_result",
          "data": {
            "text/plain": [
              "DatasetDict({\n",
              "    train: Dataset({\n",
              "        features: ['content', 'annotation', 'extras'],\n",
              "        num_rows: 220\n",
              "    })\n",
              "})"
            ]
          },
          "metadata": {},
          "execution_count": 125
        }
      ]
    },
    {
      "cell_type": "code",
      "source": [
        "data_point = custom_data[\"train\"][5]"
      ],
      "metadata": {
        "id": "SLckErnXB7JC"
      },
      "execution_count": 126,
      "outputs": []
    },
    {
      "cell_type": "code",
      "source": [
        "data_point.keys()"
      ],
      "metadata": {
        "colab": {
          "base_uri": "https://localhost:8080/"
        },
        "id": "gu3Fz7gZCN2K",
        "outputId": "8b8b6e29-d52f-4891-eea2-f6d48775469a"
      },
      "execution_count": 127,
      "outputs": [
        {
          "output_type": "execute_result",
          "data": {
            "text/plain": [
              "dict_keys(['content', 'annotation', 'extras'])"
            ]
          },
          "metadata": {},
          "execution_count": 127
        }
      ]
    },
    {
      "cell_type": "code",
      "source": [
        "data_point"
      ],
      "metadata": {
        "colab": {
          "base_uri": "https://localhost:8080/"
        },
        "id": "q9I62sGlEocg",
        "outputId": "6bf7b379-37e0-4580-b62d-e768cce72278"
      },
      "execution_count": 128,
      "outputs": [
        {
          "output_type": "execute_result",
          "data": {
            "text/plain": [
              "{'content': \"Anvitha Rao\\nAutomation developer\\n\\n- Email me on Indeed: indeed.com/r/Anvitha-Rao/9d6acc68cc30c71c\\n\\nSeeking a software development internship position for Summer 2018 that utilizes my technical\\nskills, education and passion for\\nsolving interesting problems as a software professional.\\n\\nWilling to relocate: Anywhere\\n\\nWORK EXPERIENCE\\n\\nAutomation developer\\n\\nSAP Labs -  Bengaluru, Karnataka -\\n\\nAugust 2016 to August 2017\\n\\nWorked as an automation developer in the development of cloud based Human capital\\nmanagement System and\\nIntegration frameworks Dell Boomi and SAP HANA Cloud Platform Integration.\\n● Development of automation framework using Java Selenium and RestFul API's for payroll\\nprojects.\\n● Collaborating with customers on migrating Payroll projects to SAP HANA Cloud Platform\\nIntegration.\\n● Involved in regression, unity, functionality, performance, sanity and acceptance test driven\\ndevelopment process.\\n\\nIntern\\n\\nSAP Labs -  Bengaluru, Karnataka -\\n\\nFebruary 2016 to July 2016\\n\\nWorked on migrating Business intelligence tool, Universe Design Tool in Visual Studio using C++.\\n● Automation of test cases for identifying operations supported by databases using Java.\\n● Tools: Universe Design Tool, Information Design Tool, Webi and Perforce.\\n\\nProjects:\\nGeoSpark Integrated with Apache Hadoop\\n● Identifies top 50 pick up points in New York city based on distributed New York taxi data using\\nApache Spark and Scala.\\nIaas Implementation: Cloud application for Image Recognition\\n● This project uses Amazon S3, SQS and EC2 instances to provide Image recognition service to\\nusers by implementing load\\nbalancing and web services.\\nSpam Detection\\n● Identifying spam messages using Natural Language processing techniques in python.\\nAnalysis of Financial Data\\n\\nhttps://www.indeed.com/r/Anvitha-Rao/9d6acc68cc30c71c?isid=rex-download&ikw=download-top&co=IN\\n\\n\\n● Exploratory data analysis of stock prices using various data visualization techniques in pandas\\nand d3.js\\nEffective prediction and prevention of air pollution caused due to automobiles using IoT and data\\nanalytics techniques\\n● Analyzes pollutants at different geographical locations and suggests a least polluted route on\\nan android application.\\n● Co-authored a paper --Ref link: http://www.ijrcct.org/index.php/ojs/article/view/1416\\n\\nEDUCATION\\n\\nMasters in Computer Science\\n\\nArizona State University -  Tempe, AZ\\n\\nSeptember 2019\\n\\nBachelor of Engineering in Computer Science\\n\\nM S Ramaiah Institute of Technology -  Bengaluru, Karnataka\\n\\nSeptember 2012 to June 2016\\n\\nSKILLS\\n\\nJAVA (1 year), C++ (Less than 1 year), Hadoop (Less than 1 year), HADOOP (Less than 1 year),\\nCSS (Less than 1 year)\\n\\nLINKS\\n\\nhttps://www.linkedin.com/in/anvitha-d-rao-65a068a7\\n\\nADDITIONAL INFORMATION\\n\\nTechnical Skills:\\nProgramming Languages: C, C++, HTML/CSS, Java, Python, Javascript\\n\\nTechnologies: IoT, MySQL, PostgreSQL, D3js, Hadoop and Spark, Gephi\\n\\nhttps://www.linkedin.com/in/anvitha-d-rao-65a068a7\",\n",
              " 'annotation': [{'label': ['Skills'],\n",
              "   'points': [{'start': 2826,\n",
              "     'end': 2878,\n",
              "     'text': 'IoT, MySQL, PostgreSQL, D3js, Hadoop and Spark, Gephi'}]},\n",
              "  {'label': ['Skills'],\n",
              "   'points': [{'start': 2768,\n",
              "     'end': 2809,\n",
              "     'text': 'C, C++, HTML/CSS, Java, Python, Javascript'}]},\n",
              "  {'label': ['Graduation Year'],\n",
              "   'points': [{'start': 2513, 'end': 2516, 'text': '2016'}]},\n",
              "  {'label': ['Location'],\n",
              "   'points': [{'start': 2468, 'end': 2476, 'text': 'Bengaluru'}]},\n",
              "  {'label': ['College Name'],\n",
              "   'points': [{'start': 2429,\n",
              "     'end': 2463,\n",
              "     'text': 'M S Ramaiah Institute of Technology'}]},\n",
              "  {'label': ['Degree'],\n",
              "   'points': [{'start': 2384,\n",
              "     'end': 2427,\n",
              "     'text': 'Bachelor of Engineering in Computer Science\\n'}]},\n",
              "  {'label': ['Graduation Year'],\n",
              "   'points': [{'start': 2378, 'end': 2381, 'text': '2019'}]},\n",
              "  {'label': ['College Name'],\n",
              "   'points': [{'start': 2329,\n",
              "     'end': 2352,\n",
              "     'text': 'Arizona State University'}]},\n",
              "  {'label': ['Degree'],\n",
              "   'points': [{'start': 2300,\n",
              "     'end': 2327,\n",
              "     'text': 'Masters in Computer Science\\n'}]},\n",
              "  {'label': ['Email Address'],\n",
              "   'points': [{'start': 1767,\n",
              "     'end': 1807,\n",
              "     'text': 'indeed.com/r/Anvitha-Rao/9d6acc68cc30c71c'}]},\n",
              "  {'label': ['Graduation Year'],\n",
              "   'points': [{'start': 980, 'end': 983, 'text': '2016'}]},\n",
              "  {'label': ['Graduation Year'],\n",
              "   'points': [{'start': 967, 'end': 970, 'text': '2016'}]},\n",
              "  {'label': ['Location'],\n",
              "   'points': [{'start': 934, 'end': 942, 'text': 'Bengaluru'}]},\n",
              "  {'label': ['Companies worked at'],\n",
              "   'points': [{'start': 922, 'end': 929, 'text': 'SAP Labs'}]},\n",
              "  {'label': ['Graduation Year'],\n",
              "   'points': [{'start': 398, 'end': 401, 'text': '2016'}]},\n",
              "  {'label': ['Location'],\n",
              "   'points': [{'start': 367, 'end': 375, 'text': 'Bengaluru'}]},\n",
              "  {'label': ['Companies worked at'],\n",
              "   'points': [{'start': 355, 'end': 362, 'text': 'SAP Labs'}]},\n",
              "  {'label': ['Designation'],\n",
              "   'points': [{'start': 333, 'end': 352, 'text': 'Automation developer'}]},\n",
              "  {'label': ['Email Address'],\n",
              "   'points': [{'start': 56,\n",
              "     'end': 96,\n",
              "     'text': 'indeed.com/r/Anvitha-Rao/9d6acc68cc30c71c'}]},\n",
              "  {'label': ['Designation'],\n",
              "   'points': [{'start': 12, 'end': 31, 'text': 'Automation developer'}]},\n",
              "  {'label': ['Name'],\n",
              "   'points': [{'start': 0, 'end': 10, 'text': 'Anvitha Rao'}]}],\n",
              " 'extras': None}"
            ]
          },
          "metadata": {},
          "execution_count": 128
        }
      ]
    },
    {
      "cell_type": "code",
      "source": [],
      "metadata": {
        "id": "Z--rW7kVExb9"
      },
      "execution_count": 128,
      "outputs": []
    },
    {
      "cell_type": "code",
      "source": [
        "custom_inputs = data_point[\"content\"]"
      ],
      "metadata": {
        "id": "QfMNEW5-Gm3P"
      },
      "execution_count": 129,
      "outputs": []
    },
    {
      "cell_type": "code",
      "source": [
        "t_input = xlmr_tokenizer(custom_inputs)"
      ],
      "metadata": {
        "id": "RuGvOSxmFIF4"
      },
      "execution_count": 130,
      "outputs": []
    },
    {
      "cell_type": "code",
      "source": [],
      "metadata": {
        "id": "tLwZDsUYRpVc"
      },
      "execution_count": 130,
      "outputs": []
    },
    {
      "cell_type": "code",
      "source": [
        "xlmr_tokenizer.convert_ids_to_tokens(t_input['input_ids'])"
      ],
      "metadata": {
        "colab": {
          "base_uri": "https://localhost:8080/"
        },
        "id": "ZuGAOrf6F-xB",
        "outputId": "b5a0485c-4cdb-4867-aaaa-63451083e908"
      },
      "execution_count": 131,
      "outputs": [
        {
          "output_type": "execute_result",
          "data": {
            "text/plain": [
              "['<s>',\n",
              " '▁An',\n",
              " 'vit',\n",
              " 'ha',\n",
              " '▁Rao',\n",
              " '▁Automat',\n",
              " 'ion',\n",
              " '▁developer',\n",
              " '▁-',\n",
              " '▁Email',\n",
              " '▁me',\n",
              " '▁on',\n",
              " '▁Inde',\n",
              " 'ed',\n",
              " ':',\n",
              " '▁indeed',\n",
              " '.',\n",
              " 'com',\n",
              " '/',\n",
              " 'r',\n",
              " '/',\n",
              " 'An',\n",
              " 'vit',\n",
              " 'ha',\n",
              " '-',\n",
              " 'Ra',\n",
              " 'o',\n",
              " '/9',\n",
              " 'd',\n",
              " '6',\n",
              " 'a',\n",
              " 'cc',\n",
              " '68',\n",
              " 'cc',\n",
              " '30',\n",
              " 'c',\n",
              " '71',\n",
              " 'c',\n",
              " '▁See',\n",
              " 'king',\n",
              " '▁a',\n",
              " '▁software',\n",
              " '▁development',\n",
              " '▁intern',\n",
              " 'ship',\n",
              " '▁position',\n",
              " '▁for',\n",
              " '▁Summer',\n",
              " '▁2018',\n",
              " '▁that',\n",
              " '▁utilize',\n",
              " 's',\n",
              " '▁my',\n",
              " '▁technical',\n",
              " '▁skills',\n",
              " ',',\n",
              " '▁education',\n",
              " '▁and',\n",
              " '▁passion',\n",
              " '▁for',\n",
              " '▁sol',\n",
              " 'ving',\n",
              " '▁interesting',\n",
              " '▁problems',\n",
              " '▁as',\n",
              " '▁a',\n",
              " '▁software',\n",
              " '▁professional',\n",
              " '.',\n",
              " '▁Will',\n",
              " 'ing',\n",
              " '▁to',\n",
              " '▁re',\n",
              " 'locat',\n",
              " 'e',\n",
              " ':',\n",
              " '▁Any',\n",
              " 'where',\n",
              " '▁WORK',\n",
              " '▁EXP',\n",
              " 'ERI',\n",
              " 'ENCE',\n",
              " '▁Automat',\n",
              " 'ion',\n",
              " '▁developer',\n",
              " '▁SAP',\n",
              " '▁Lab',\n",
              " 's',\n",
              " '▁-',\n",
              " '▁Bengal',\n",
              " 'uru',\n",
              " ',',\n",
              " '▁Karnataka',\n",
              " '▁-',\n",
              " '▁August',\n",
              " '▁2016',\n",
              " '▁to',\n",
              " '▁August',\n",
              " '▁2017',\n",
              " '▁Work',\n",
              " 'ed',\n",
              " '▁as',\n",
              " '▁an',\n",
              " '▁automat',\n",
              " 'ion',\n",
              " '▁developer',\n",
              " '▁in',\n",
              " '▁the',\n",
              " '▁development',\n",
              " '▁of',\n",
              " '▁cloud',\n",
              " '▁based',\n",
              " '▁Human',\n",
              " '▁capital',\n",
              " '▁management',\n",
              " '▁System',\n",
              " '▁and',\n",
              " '▁Integration',\n",
              " '▁framework',\n",
              " 's',\n",
              " '▁Dell',\n",
              " '▁Boom',\n",
              " 'i',\n",
              " '▁and',\n",
              " '▁SAP',\n",
              " '▁',\n",
              " 'HANA',\n",
              " '▁Cloud',\n",
              " '▁Platform',\n",
              " '▁Integration',\n",
              " '.',\n",
              " '▁●',\n",
              " '▁Development',\n",
              " '▁of',\n",
              " '▁automat',\n",
              " 'ion',\n",
              " '▁framework',\n",
              " '▁using',\n",
              " '▁Java',\n",
              " '▁Sele',\n",
              " 'nium',\n",
              " '▁and',\n",
              " '▁Rest',\n",
              " 'F',\n",
              " 'ul',\n",
              " '▁API',\n",
              " \"'\",\n",
              " 's',\n",
              " '▁for',\n",
              " '▁pay',\n",
              " 'roll',\n",
              " '▁projects',\n",
              " '.',\n",
              " '▁●',\n",
              " '▁Col',\n",
              " 'labora',\n",
              " 'ting',\n",
              " '▁with',\n",
              " '▁customers',\n",
              " '▁on',\n",
              " '▁migra',\n",
              " 'ting',\n",
              " '▁Pay',\n",
              " 'roll',\n",
              " '▁projects',\n",
              " '▁to',\n",
              " '▁SAP',\n",
              " '▁',\n",
              " 'HANA',\n",
              " '▁Cloud',\n",
              " '▁Platform',\n",
              " '▁Integration',\n",
              " '.',\n",
              " '▁●',\n",
              " '▁In',\n",
              " 'vol',\n",
              " 'ved',\n",
              " '▁in',\n",
              " '▁re',\n",
              " 'gression',\n",
              " ',',\n",
              " '▁un',\n",
              " 'ity',\n",
              " ',',\n",
              " '▁functional',\n",
              " 'ity',\n",
              " ',',\n",
              " '▁performance',\n",
              " ',',\n",
              " '▁sanit',\n",
              " 'y',\n",
              " '▁and',\n",
              " '▁accept',\n",
              " 'ance',\n",
              " '▁test',\n",
              " '▁drive',\n",
              " 'n',\n",
              " '▁development',\n",
              " '▁process',\n",
              " '.',\n",
              " '▁Inter',\n",
              " 'n',\n",
              " '▁SAP',\n",
              " '▁Lab',\n",
              " 's',\n",
              " '▁-',\n",
              " '▁Bengal',\n",
              " 'uru',\n",
              " ',',\n",
              " '▁Karnataka',\n",
              " '▁-',\n",
              " '▁February',\n",
              " '▁2016',\n",
              " '▁to',\n",
              " '▁July',\n",
              " '▁2016',\n",
              " '▁Work',\n",
              " 'ed',\n",
              " '▁on',\n",
              " '▁migra',\n",
              " 'ting',\n",
              " '▁Business',\n",
              " '▁',\n",
              " 'intelligence',\n",
              " '▁tool',\n",
              " ',',\n",
              " '▁Universe',\n",
              " '▁Design',\n",
              " '▁Tool',\n",
              " '▁in',\n",
              " '▁Visual',\n",
              " '▁Studio',\n",
              " '▁using',\n",
              " '▁C',\n",
              " '++',\n",
              " '.',\n",
              " '▁●',\n",
              " '▁Automat',\n",
              " 'ion',\n",
              " '▁of',\n",
              " '▁test',\n",
              " '▁cases',\n",
              " '▁for',\n",
              " '▁identify',\n",
              " 'ing',\n",
              " '▁operation',\n",
              " 's',\n",
              " '▁support',\n",
              " 'ed',\n",
              " '▁by',\n",
              " '▁database',\n",
              " 's',\n",
              " '▁using',\n",
              " '▁Java',\n",
              " '.',\n",
              " '▁●',\n",
              " '▁Tools',\n",
              " ':',\n",
              " '▁Universe',\n",
              " '▁Design',\n",
              " '▁Tool',\n",
              " ',',\n",
              " '▁Information',\n",
              " '▁Design',\n",
              " '▁Tool',\n",
              " ',',\n",
              " '▁Web',\n",
              " 'i',\n",
              " '▁and',\n",
              " '▁Per',\n",
              " 'force',\n",
              " '.',\n",
              " '▁Project',\n",
              " 's',\n",
              " ':',\n",
              " '▁Geo',\n",
              " 'S',\n",
              " 'park',\n",
              " '▁Integra',\n",
              " 'ted',\n",
              " '▁with',\n",
              " '▁Apa',\n",
              " 'che',\n",
              " '▁Ha',\n",
              " 'do',\n",
              " 'op',\n",
              " '▁●',\n",
              " '▁Identifi',\n",
              " 'es',\n",
              " '▁top',\n",
              " '▁50',\n",
              " '▁pick',\n",
              " '▁up',\n",
              " '▁points',\n",
              " '▁in',\n",
              " '▁New',\n",
              " '▁York',\n",
              " '▁city',\n",
              " '▁based',\n",
              " '▁on',\n",
              " '▁distribu',\n",
              " 'ted',\n",
              " '▁New',\n",
              " '▁York',\n",
              " '▁taxi',\n",
              " '▁data',\n",
              " '▁using',\n",
              " '▁Apa',\n",
              " 'che',\n",
              " '▁Spark',\n",
              " '▁and',\n",
              " '▁Scal',\n",
              " 'a',\n",
              " '.',\n",
              " '▁Ia',\n",
              " 'as',\n",
              " '▁Implement',\n",
              " 'ation',\n",
              " ':',\n",
              " '▁Cloud',\n",
              " '▁application',\n",
              " '▁for',\n",
              " '▁Image',\n",
              " '▁Re',\n",
              " 'cogni',\n",
              " 'tion',\n",
              " '▁●',\n",
              " '▁This',\n",
              " '▁project',\n",
              " '▁use',\n",
              " 's',\n",
              " '▁Amazon',\n",
              " '▁S',\n",
              " '3',\n",
              " ',',\n",
              " '▁S',\n",
              " 'QS',\n",
              " '▁and',\n",
              " '▁EC',\n",
              " '2',\n",
              " '▁instance',\n",
              " 's',\n",
              " '▁to',\n",
              " '▁provide',\n",
              " '▁Image',\n",
              " '▁recognition',\n",
              " '▁service',\n",
              " '▁to',\n",
              " '▁users',\n",
              " '▁by',\n",
              " '▁implement',\n",
              " 'ing',\n",
              " '▁load',\n",
              " '▁bala',\n",
              " 'ncing',\n",
              " '▁and',\n",
              " '▁web',\n",
              " '▁services',\n",
              " '.',\n",
              " '▁Spa',\n",
              " 'm',\n",
              " '▁Det',\n",
              " 'ection',\n",
              " '▁●',\n",
              " '▁Ident',\n",
              " 'ifying',\n",
              " '▁spam',\n",
              " '▁messages',\n",
              " '▁using',\n",
              " '▁Natural',\n",
              " '▁Language',\n",
              " '▁process',\n",
              " 'ing',\n",
              " '▁techniques',\n",
              " '▁in',\n",
              " '▁py',\n",
              " 'thon',\n",
              " '.',\n",
              " '▁Analys',\n",
              " 'is',\n",
              " '▁of',\n",
              " '▁Financial',\n",
              " '▁Data',\n",
              " '▁https',\n",
              " '://',\n",
              " 'www',\n",
              " '.',\n",
              " 'inde',\n",
              " 'ed',\n",
              " '.',\n",
              " 'com',\n",
              " '/',\n",
              " 'r',\n",
              " '/',\n",
              " 'An',\n",
              " 'vit',\n",
              " 'ha',\n",
              " '-',\n",
              " 'Ra',\n",
              " 'o',\n",
              " '/9',\n",
              " 'd',\n",
              " '6',\n",
              " 'a',\n",
              " 'cc',\n",
              " '68',\n",
              " 'cc',\n",
              " '30',\n",
              " 'c',\n",
              " '71',\n",
              " 'c',\n",
              " '?',\n",
              " 'i',\n",
              " 'sid',\n",
              " '=',\n",
              " 're',\n",
              " 'x',\n",
              " '-',\n",
              " 'download',\n",
              " '&',\n",
              " 'ik',\n",
              " 'w',\n",
              " '=',\n",
              " 'download',\n",
              " '-',\n",
              " 'top',\n",
              " '&',\n",
              " 'co',\n",
              " '=',\n",
              " 'IN',\n",
              " '▁●',\n",
              " '▁Explo',\n",
              " 'ra',\n",
              " 'tory',\n",
              " '▁data',\n",
              " '▁analysis',\n",
              " '▁of',\n",
              " '▁stock',\n",
              " '▁prices',\n",
              " '▁using',\n",
              " '▁various',\n",
              " '▁data',\n",
              " '▁visual',\n",
              " 'ization',\n",
              " '▁techniques',\n",
              " '▁in',\n",
              " '▁pan',\n",
              " 'das',\n",
              " '▁and',\n",
              " '▁d',\n",
              " '3',\n",
              " '.',\n",
              " 'js',\n",
              " '▁Effective',\n",
              " '▁predict',\n",
              " 'ion',\n",
              " '▁and',\n",
              " '▁pre',\n",
              " 'vention',\n",
              " '▁of',\n",
              " '▁air',\n",
              " '▁pollution',\n",
              " '▁caused',\n",
              " '▁due',\n",
              " '▁to',\n",
              " '▁automobile',\n",
              " 's',\n",
              " '▁using',\n",
              " '▁',\n",
              " 'IoT',\n",
              " '▁and',\n",
              " '▁data',\n",
              " '▁',\n",
              " 'analytic',\n",
              " 's',\n",
              " '▁techniques',\n",
              " '▁●',\n",
              " '▁Anal',\n",
              " 'y',\n",
              " 'zes',\n",
              " '▁pol',\n",
              " 'lut',\n",
              " 'ants',\n",
              " '▁at',\n",
              " '▁different',\n",
              " '▁geo',\n",
              " 'graphic',\n",
              " 'al',\n",
              " '▁location',\n",
              " 's',\n",
              " '▁and',\n",
              " '▁suggest',\n",
              " 's',\n",
              " '▁a',\n",
              " '▁least',\n",
              " '▁po',\n",
              " 'llu',\n",
              " 'ted',\n",
              " '▁route',\n",
              " '▁on',\n",
              " '▁an',\n",
              " '▁android',\n",
              " '▁application',\n",
              " '.',\n",
              " '▁●',\n",
              " '▁Co',\n",
              " '-',\n",
              " 'au',\n",
              " 'tho',\n",
              " 'red',\n",
              " '▁a',\n",
              " '▁paper',\n",
              " '▁--',\n",
              " 'Ref',\n",
              " '▁link',\n",
              " ':',\n",
              " '▁http',\n",
              " '://',\n",
              " 'www',\n",
              " '.',\n",
              " 'ij',\n",
              " 'rc',\n",
              " 'ct',\n",
              " '.',\n",
              " 'org',\n",
              " '/',\n",
              " 'index',\n",
              " '.',\n",
              " 'php',\n",
              " '/',\n",
              " 'oj',\n",
              " 's',\n",
              " '/',\n",
              " 'article',\n",
              " '/',\n",
              " 'view',\n",
              " '/14',\n",
              " '16',\n",
              " '▁EDUCA',\n",
              " 'TION',\n",
              " '▁Master',\n",
              " 's',\n",
              " '▁in',\n",
              " '▁Computer',\n",
              " '▁Science',\n",
              " '▁Arizona',\n",
              " '▁State',\n",
              " '▁University',\n",
              " '▁-',\n",
              " '▁Temp',\n",
              " 'e',\n",
              " ',',\n",
              " '▁AZ',\n",
              " '▁September',\n",
              " '▁2019',\n",
              " '▁Bachelor',\n",
              " '▁of',\n",
              " '▁Engineering',\n",
              " '▁in',\n",
              " '▁Computer',\n",
              " '▁Science',\n",
              " '▁M',\n",
              " '▁S',\n",
              " '▁Ramai',\n",
              " 'ah',\n",
              " '▁Institute',\n",
              " '▁of',\n",
              " '▁Technology',\n",
              " '▁-',\n",
              " '▁Bengal',\n",
              " 'uru',\n",
              " ',',\n",
              " '▁Karnataka',\n",
              " '▁September',\n",
              " '▁2012',\n",
              " '▁to',\n",
              " '▁June',\n",
              " '▁2016',\n",
              " '▁SK',\n",
              " 'ILL',\n",
              " 'S',\n",
              " '▁',\n",
              " 'JAVA',\n",
              " '▁(1',\n",
              " '▁year',\n",
              " '),',\n",
              " '▁C',\n",
              " '++',\n",
              " '▁(',\n",
              " 'Les',\n",
              " 's',\n",
              " '▁than',\n",
              " '▁1',\n",
              " '▁year',\n",
              " '),',\n",
              " '▁Ha',\n",
              " 'do',\n",
              " 'op',\n",
              " '▁(',\n",
              " 'Les',\n",
              " 's',\n",
              " '▁than',\n",
              " '▁1',\n",
              " '▁year',\n",
              " '),',\n",
              " '▁H',\n",
              " 'ADO',\n",
              " 'OP',\n",
              " '▁(',\n",
              " 'Les',\n",
              " 's',\n",
              " '▁than',\n",
              " '▁1',\n",
              " '▁year',\n",
              " '),',\n",
              " '▁CSS',\n",
              " '▁(',\n",
              " 'Les',\n",
              " 's',\n",
              " '▁than',\n",
              " '▁1',\n",
              " '▁year',\n",
              " ')',\n",
              " '▁',\n",
              " 'LINK',\n",
              " 'S',\n",
              " '▁https',\n",
              " '://',\n",
              " 'www',\n",
              " '.',\n",
              " 'link',\n",
              " 'ed',\n",
              " 'in',\n",
              " '.',\n",
              " 'com',\n",
              " '/',\n",
              " 'in',\n",
              " '/',\n",
              " 'an',\n",
              " 'vit',\n",
              " 'ha',\n",
              " '-',\n",
              " 'd',\n",
              " '-',\n",
              " 'rao',\n",
              " '-',\n",
              " '65',\n",
              " 'a',\n",
              " '06',\n",
              " '8',\n",
              " 'a',\n",
              " '7',\n",
              " '▁A',\n",
              " 'DD',\n",
              " 'ITI',\n",
              " 'ONAL',\n",
              " '▁INFORMA',\n",
              " 'TION',\n",
              " '▁Technic',\n",
              " 'al',\n",
              " '▁Skill',\n",
              " 's',\n",
              " ':',\n",
              " '▁Programm',\n",
              " 'ing',\n",
              " '▁Language',\n",
              " 's',\n",
              " ':',\n",
              " '▁C',\n",
              " ',',\n",
              " '▁C',\n",
              " '++',\n",
              " ',',\n",
              " '▁HTML',\n",
              " '/',\n",
              " 'CSS',\n",
              " ',',\n",
              " '▁Java',\n",
              " ',',\n",
              " '▁Python',\n",
              " ',',\n",
              " '▁Javascript',\n",
              " '▁Technologie',\n",
              " 's',\n",
              " ':',\n",
              " '▁',\n",
              " 'IoT',\n",
              " ',',\n",
              " '▁MySQL',\n",
              " ',',\n",
              " '▁Post',\n",
              " 'gre',\n",
              " 'SQL',\n",
              " ',',\n",
              " '▁D',\n",
              " '3',\n",
              " 'js',\n",
              " ',',\n",
              " '▁Ha',\n",
              " 'do',\n",
              " 'op',\n",
              " '▁and',\n",
              " '▁Spark',\n",
              " ',',\n",
              " '▁Ge',\n",
              " 'phi',\n",
              " '▁https',\n",
              " '://',\n",
              " 'www',\n",
              " '.',\n",
              " 'link',\n",
              " 'ed',\n",
              " 'in',\n",
              " '.',\n",
              " 'com',\n",
              " '/',\n",
              " 'in',\n",
              " '/',\n",
              " 'an',\n",
              " 'vit',\n",
              " 'ha',\n",
              " '-',\n",
              " 'd',\n",
              " '-',\n",
              " 'rao',\n",
              " '-',\n",
              " '65',\n",
              " 'a',\n",
              " '06',\n",
              " '8',\n",
              " 'a',\n",
              " '7',\n",
              " '</s>']"
            ]
          },
          "metadata": {},
          "execution_count": 131
        }
      ]
    },
    {
      "cell_type": "code",
      "source": [],
      "metadata": {
        "id": "-fqxLz0tQh6v"
      },
      "execution_count": 131,
      "outputs": []
    },
    {
      "cell_type": "code",
      "source": [
        "list(zip(t_input.word_ids(), xlmr_tokenizer.convert_ids_to_tokens(t_input['input_ids'])))"
      ],
      "metadata": {
        "colab": {
          "base_uri": "https://localhost:8080/"
        },
        "id": "6MIaekP5GBcd",
        "outputId": "5625d1c2-2b66-4344-9d59-92ea801b5cea"
      },
      "execution_count": 132,
      "outputs": [
        {
          "output_type": "execute_result",
          "data": {
            "text/plain": [
              "[(None, '<s>'),\n",
              " (0, '▁An'),\n",
              " (0, 'vit'),\n",
              " (0, 'ha'),\n",
              " (1, '▁Rao'),\n",
              " (2, '▁Automat'),\n",
              " (2, 'ion'),\n",
              " (3, '▁developer'),\n",
              " (4, '▁-'),\n",
              " (5, '▁Email'),\n",
              " (6, '▁me'),\n",
              " (7, '▁on'),\n",
              " (8, '▁Inde'),\n",
              " (8, 'ed'),\n",
              " (8, ':'),\n",
              " (9, '▁indeed'),\n",
              " (9, '.'),\n",
              " (9, 'com'),\n",
              " (9, '/'),\n",
              " (9, 'r'),\n",
              " (9, '/'),\n",
              " (9, 'An'),\n",
              " (9, 'vit'),\n",
              " (9, 'ha'),\n",
              " (9, '-'),\n",
              " (9, 'Ra'),\n",
              " (9, 'o'),\n",
              " (9, '/9'),\n",
              " (9, 'd'),\n",
              " (9, '6'),\n",
              " (9, 'a'),\n",
              " (9, 'cc'),\n",
              " (9, '68'),\n",
              " (9, 'cc'),\n",
              " (9, '30'),\n",
              " (9, 'c'),\n",
              " (9, '71'),\n",
              " (9, 'c'),\n",
              " (10, '▁See'),\n",
              " (10, 'king'),\n",
              " (11, '▁a'),\n",
              " (12, '▁software'),\n",
              " (13, '▁development'),\n",
              " (14, '▁intern'),\n",
              " (14, 'ship'),\n",
              " (15, '▁position'),\n",
              " (16, '▁for'),\n",
              " (17, '▁Summer'),\n",
              " (18, '▁2018'),\n",
              " (19, '▁that'),\n",
              " (20, '▁utilize'),\n",
              " (20, 's'),\n",
              " (21, '▁my'),\n",
              " (22, '▁technical'),\n",
              " (23, '▁skills'),\n",
              " (23, ','),\n",
              " (24, '▁education'),\n",
              " (25, '▁and'),\n",
              " (26, '▁passion'),\n",
              " (27, '▁for'),\n",
              " (28, '▁sol'),\n",
              " (28, 'ving'),\n",
              " (29, '▁interesting'),\n",
              " (30, '▁problems'),\n",
              " (31, '▁as'),\n",
              " (32, '▁a'),\n",
              " (33, '▁software'),\n",
              " (34, '▁professional'),\n",
              " (34, '.'),\n",
              " (35, '▁Will'),\n",
              " (35, 'ing'),\n",
              " (36, '▁to'),\n",
              " (37, '▁re'),\n",
              " (37, 'locat'),\n",
              " (37, 'e'),\n",
              " (37, ':'),\n",
              " (38, '▁Any'),\n",
              " (38, 'where'),\n",
              " (39, '▁WORK'),\n",
              " (40, '▁EXP'),\n",
              " (40, 'ERI'),\n",
              " (40, 'ENCE'),\n",
              " (41, '▁Automat'),\n",
              " (41, 'ion'),\n",
              " (42, '▁developer'),\n",
              " (43, '▁SAP'),\n",
              " (44, '▁Lab'),\n",
              " (44, 's'),\n",
              " (45, '▁-'),\n",
              " (46, '▁Bengal'),\n",
              " (46, 'uru'),\n",
              " (46, ','),\n",
              " (47, '▁Karnataka'),\n",
              " (48, '▁-'),\n",
              " (49, '▁August'),\n",
              " (50, '▁2016'),\n",
              " (51, '▁to'),\n",
              " (52, '▁August'),\n",
              " (53, '▁2017'),\n",
              " (54, '▁Work'),\n",
              " (54, 'ed'),\n",
              " (55, '▁as'),\n",
              " (56, '▁an'),\n",
              " (57, '▁automat'),\n",
              " (57, 'ion'),\n",
              " (58, '▁developer'),\n",
              " (59, '▁in'),\n",
              " (60, '▁the'),\n",
              " (61, '▁development'),\n",
              " (62, '▁of'),\n",
              " (63, '▁cloud'),\n",
              " (64, '▁based'),\n",
              " (65, '▁Human'),\n",
              " (66, '▁capital'),\n",
              " (67, '▁management'),\n",
              " (68, '▁System'),\n",
              " (69, '▁and'),\n",
              " (70, '▁Integration'),\n",
              " (71, '▁framework'),\n",
              " (71, 's'),\n",
              " (72, '▁Dell'),\n",
              " (73, '▁Boom'),\n",
              " (73, 'i'),\n",
              " (74, '▁and'),\n",
              " (75, '▁SAP'),\n",
              " (76, '▁'),\n",
              " (76, 'HANA'),\n",
              " (77, '▁Cloud'),\n",
              " (78, '▁Platform'),\n",
              " (79, '▁Integration'),\n",
              " (79, '.'),\n",
              " (80, '▁●'),\n",
              " (81, '▁Development'),\n",
              " (82, '▁of'),\n",
              " (83, '▁automat'),\n",
              " (83, 'ion'),\n",
              " (84, '▁framework'),\n",
              " (85, '▁using'),\n",
              " (86, '▁Java'),\n",
              " (87, '▁Sele'),\n",
              " (87, 'nium'),\n",
              " (88, '▁and'),\n",
              " (89, '▁Rest'),\n",
              " (89, 'F'),\n",
              " (89, 'ul'),\n",
              " (90, '▁API'),\n",
              " (90, \"'\"),\n",
              " (90, 's'),\n",
              " (91, '▁for'),\n",
              " (92, '▁pay'),\n",
              " (92, 'roll'),\n",
              " (93, '▁projects'),\n",
              " (93, '.'),\n",
              " (94, '▁●'),\n",
              " (95, '▁Col'),\n",
              " (95, 'labora'),\n",
              " (95, 'ting'),\n",
              " (96, '▁with'),\n",
              " (97, '▁customers'),\n",
              " (98, '▁on'),\n",
              " (99, '▁migra'),\n",
              " (99, 'ting'),\n",
              " (100, '▁Pay'),\n",
              " (100, 'roll'),\n",
              " (101, '▁projects'),\n",
              " (102, '▁to'),\n",
              " (103, '▁SAP'),\n",
              " (104, '▁'),\n",
              " (104, 'HANA'),\n",
              " (105, '▁Cloud'),\n",
              " (106, '▁Platform'),\n",
              " (107, '▁Integration'),\n",
              " (107, '.'),\n",
              " (108, '▁●'),\n",
              " (109, '▁In'),\n",
              " (109, 'vol'),\n",
              " (109, 'ved'),\n",
              " (110, '▁in'),\n",
              " (111, '▁re'),\n",
              " (111, 'gression'),\n",
              " (111, ','),\n",
              " (112, '▁un'),\n",
              " (112, 'ity'),\n",
              " (112, ','),\n",
              " (113, '▁functional'),\n",
              " (113, 'ity'),\n",
              " (113, ','),\n",
              " (114, '▁performance'),\n",
              " (114, ','),\n",
              " (115, '▁sanit'),\n",
              " (115, 'y'),\n",
              " (116, '▁and'),\n",
              " (117, '▁accept'),\n",
              " (117, 'ance'),\n",
              " (118, '▁test'),\n",
              " (119, '▁drive'),\n",
              " (119, 'n'),\n",
              " (120, '▁development'),\n",
              " (121, '▁process'),\n",
              " (121, '.'),\n",
              " (122, '▁Inter'),\n",
              " (122, 'n'),\n",
              " (123, '▁SAP'),\n",
              " (124, '▁Lab'),\n",
              " (124, 's'),\n",
              " (125, '▁-'),\n",
              " (126, '▁Bengal'),\n",
              " (126, 'uru'),\n",
              " (126, ','),\n",
              " (127, '▁Karnataka'),\n",
              " (128, '▁-'),\n",
              " (129, '▁February'),\n",
              " (130, '▁2016'),\n",
              " (131, '▁to'),\n",
              " (132, '▁July'),\n",
              " (133, '▁2016'),\n",
              " (134, '▁Work'),\n",
              " (134, 'ed'),\n",
              " (135, '▁on'),\n",
              " (136, '▁migra'),\n",
              " (136, 'ting'),\n",
              " (137, '▁Business'),\n",
              " (138, '▁'),\n",
              " (138, 'intelligence'),\n",
              " (139, '▁tool'),\n",
              " (139, ','),\n",
              " (140, '▁Universe'),\n",
              " (141, '▁Design'),\n",
              " (142, '▁Tool'),\n",
              " (143, '▁in'),\n",
              " (144, '▁Visual'),\n",
              " (145, '▁Studio'),\n",
              " (146, '▁using'),\n",
              " (147, '▁C'),\n",
              " (147, '++'),\n",
              " (147, '.'),\n",
              " (148, '▁●'),\n",
              " (149, '▁Automat'),\n",
              " (149, 'ion'),\n",
              " (150, '▁of'),\n",
              " (151, '▁test'),\n",
              " (152, '▁cases'),\n",
              " (153, '▁for'),\n",
              " (154, '▁identify'),\n",
              " (154, 'ing'),\n",
              " (155, '▁operation'),\n",
              " (155, 's'),\n",
              " (156, '▁support'),\n",
              " (156, 'ed'),\n",
              " (157, '▁by'),\n",
              " (158, '▁database'),\n",
              " (158, 's'),\n",
              " (159, '▁using'),\n",
              " (160, '▁Java'),\n",
              " (160, '.'),\n",
              " (161, '▁●'),\n",
              " (162, '▁Tools'),\n",
              " (162, ':'),\n",
              " (163, '▁Universe'),\n",
              " (164, '▁Design'),\n",
              " (165, '▁Tool'),\n",
              " (165, ','),\n",
              " (166, '▁Information'),\n",
              " (167, '▁Design'),\n",
              " (168, '▁Tool'),\n",
              " (168, ','),\n",
              " (169, '▁Web'),\n",
              " (169, 'i'),\n",
              " (170, '▁and'),\n",
              " (171, '▁Per'),\n",
              " (171, 'force'),\n",
              " (171, '.'),\n",
              " (172, '▁Project'),\n",
              " (172, 's'),\n",
              " (172, ':'),\n",
              " (173, '▁Geo'),\n",
              " (173, 'S'),\n",
              " (173, 'park'),\n",
              " (174, '▁Integra'),\n",
              " (174, 'ted'),\n",
              " (175, '▁with'),\n",
              " (176, '▁Apa'),\n",
              " (176, 'che'),\n",
              " (177, '▁Ha'),\n",
              " (177, 'do'),\n",
              " (177, 'op'),\n",
              " (178, '▁●'),\n",
              " (179, '▁Identifi'),\n",
              " (179, 'es'),\n",
              " (180, '▁top'),\n",
              " (181, '▁50'),\n",
              " (182, '▁pick'),\n",
              " (183, '▁up'),\n",
              " (184, '▁points'),\n",
              " (185, '▁in'),\n",
              " (186, '▁New'),\n",
              " (187, '▁York'),\n",
              " (188, '▁city'),\n",
              " (189, '▁based'),\n",
              " (190, '▁on'),\n",
              " (191, '▁distribu'),\n",
              " (191, 'ted'),\n",
              " (192, '▁New'),\n",
              " (193, '▁York'),\n",
              " (194, '▁taxi'),\n",
              " (195, '▁data'),\n",
              " (196, '▁using'),\n",
              " (197, '▁Apa'),\n",
              " (197, 'che'),\n",
              " (198, '▁Spark'),\n",
              " (199, '▁and'),\n",
              " (200, '▁Scal'),\n",
              " (200, 'a'),\n",
              " (200, '.'),\n",
              " (201, '▁Ia'),\n",
              " (201, 'as'),\n",
              " (202, '▁Implement'),\n",
              " (202, 'ation'),\n",
              " (202, ':'),\n",
              " (203, '▁Cloud'),\n",
              " (204, '▁application'),\n",
              " (205, '▁for'),\n",
              " (206, '▁Image'),\n",
              " (207, '▁Re'),\n",
              " (207, 'cogni'),\n",
              " (207, 'tion'),\n",
              " (208, '▁●'),\n",
              " (209, '▁This'),\n",
              " (210, '▁project'),\n",
              " (211, '▁use'),\n",
              " (211, 's'),\n",
              " (212, '▁Amazon'),\n",
              " (213, '▁S'),\n",
              " (213, '3'),\n",
              " (213, ','),\n",
              " (214, '▁S'),\n",
              " (214, 'QS'),\n",
              " (215, '▁and'),\n",
              " (216, '▁EC'),\n",
              " (216, '2'),\n",
              " (217, '▁instance'),\n",
              " (217, 's'),\n",
              " (218, '▁to'),\n",
              " (219, '▁provide'),\n",
              " (220, '▁Image'),\n",
              " (221, '▁recognition'),\n",
              " (222, '▁service'),\n",
              " (223, '▁to'),\n",
              " (224, '▁users'),\n",
              " (225, '▁by'),\n",
              " (226, '▁implement'),\n",
              " (226, 'ing'),\n",
              " (227, '▁load'),\n",
              " (228, '▁bala'),\n",
              " (228, 'ncing'),\n",
              " (229, '▁and'),\n",
              " (230, '▁web'),\n",
              " (231, '▁services'),\n",
              " (231, '.'),\n",
              " (232, '▁Spa'),\n",
              " (232, 'm'),\n",
              " (233, '▁Det'),\n",
              " (233, 'ection'),\n",
              " (234, '▁●'),\n",
              " (235, '▁Ident'),\n",
              " (235, 'ifying'),\n",
              " (236, '▁spam'),\n",
              " (237, '▁messages'),\n",
              " (238, '▁using'),\n",
              " (239, '▁Natural'),\n",
              " (240, '▁Language'),\n",
              " (241, '▁process'),\n",
              " (241, 'ing'),\n",
              " (242, '▁techniques'),\n",
              " (243, '▁in'),\n",
              " (244, '▁py'),\n",
              " (244, 'thon'),\n",
              " (244, '.'),\n",
              " (245, '▁Analys'),\n",
              " (245, 'is'),\n",
              " (246, '▁of'),\n",
              " (247, '▁Financial'),\n",
              " (248, '▁Data'),\n",
              " (249, '▁https'),\n",
              " (249, '://'),\n",
              " (249, 'www'),\n",
              " (249, '.'),\n",
              " (249, 'inde'),\n",
              " (249, 'ed'),\n",
              " (249, '.'),\n",
              " (249, 'com'),\n",
              " (249, '/'),\n",
              " (249, 'r'),\n",
              " (249, '/'),\n",
              " (249, 'An'),\n",
              " (249, 'vit'),\n",
              " (249, 'ha'),\n",
              " (249, '-'),\n",
              " (249, 'Ra'),\n",
              " (249, 'o'),\n",
              " (249, '/9'),\n",
              " (249, 'd'),\n",
              " (249, '6'),\n",
              " (249, 'a'),\n",
              " (249, 'cc'),\n",
              " (249, '68'),\n",
              " (249, 'cc'),\n",
              " (249, '30'),\n",
              " (249, 'c'),\n",
              " (249, '71'),\n",
              " (249, 'c'),\n",
              " (249, '?'),\n",
              " (249, 'i'),\n",
              " (249, 'sid'),\n",
              " (249, '='),\n",
              " (249, 're'),\n",
              " (249, 'x'),\n",
              " (249, '-'),\n",
              " (249, 'download'),\n",
              " (249, '&'),\n",
              " (249, 'ik'),\n",
              " (249, 'w'),\n",
              " (249, '='),\n",
              " (249, 'download'),\n",
              " (249, '-'),\n",
              " (249, 'top'),\n",
              " (249, '&'),\n",
              " (249, 'co'),\n",
              " (249, '='),\n",
              " (249, 'IN'),\n",
              " (250, '▁●'),\n",
              " (251, '▁Explo'),\n",
              " (251, 'ra'),\n",
              " (251, 'tory'),\n",
              " (252, '▁data'),\n",
              " (253, '▁analysis'),\n",
              " (254, '▁of'),\n",
              " (255, '▁stock'),\n",
              " (256, '▁prices'),\n",
              " (257, '▁using'),\n",
              " (258, '▁various'),\n",
              " (259, '▁data'),\n",
              " (260, '▁visual'),\n",
              " (260, 'ization'),\n",
              " (261, '▁techniques'),\n",
              " (262, '▁in'),\n",
              " (263, '▁pan'),\n",
              " (263, 'das'),\n",
              " (264, '▁and'),\n",
              " (265, '▁d'),\n",
              " (265, '3'),\n",
              " (265, '.'),\n",
              " (265, 'js'),\n",
              " (266, '▁Effective'),\n",
              " (267, '▁predict'),\n",
              " (267, 'ion'),\n",
              " (268, '▁and'),\n",
              " (269, '▁pre'),\n",
              " (269, 'vention'),\n",
              " (270, '▁of'),\n",
              " (271, '▁air'),\n",
              " (272, '▁pollution'),\n",
              " (273, '▁caused'),\n",
              " (274, '▁due'),\n",
              " (275, '▁to'),\n",
              " (276, '▁automobile'),\n",
              " (276, 's'),\n",
              " (277, '▁using'),\n",
              " (278, '▁'),\n",
              " (278, 'IoT'),\n",
              " (279, '▁and'),\n",
              " (280, '▁data'),\n",
              " (281, '▁'),\n",
              " (281, 'analytic'),\n",
              " (281, 's'),\n",
              " (282, '▁techniques'),\n",
              " (283, '▁●'),\n",
              " (284, '▁Anal'),\n",
              " (284, 'y'),\n",
              " (284, 'zes'),\n",
              " (285, '▁pol'),\n",
              " (285, 'lut'),\n",
              " (285, 'ants'),\n",
              " (286, '▁at'),\n",
              " (287, '▁different'),\n",
              " (288, '▁geo'),\n",
              " (288, 'graphic'),\n",
              " (288, 'al'),\n",
              " (289, '▁location'),\n",
              " (289, 's'),\n",
              " (290, '▁and'),\n",
              " (291, '▁suggest'),\n",
              " (291, 's'),\n",
              " (292, '▁a'),\n",
              " (293, '▁least'),\n",
              " (294, '▁po'),\n",
              " (294, 'llu'),\n",
              " (294, 'ted'),\n",
              " (295, '▁route'),\n",
              " (296, '▁on'),\n",
              " (297, '▁an'),\n",
              " (298, '▁android'),\n",
              " (299, '▁application'),\n",
              " (299, '.'),\n",
              " (300, '▁●'),\n",
              " (301, '▁Co'),\n",
              " (301, '-'),\n",
              " (301, 'au'),\n",
              " (301, 'tho'),\n",
              " (301, 'red'),\n",
              " (302, '▁a'),\n",
              " (303, '▁paper'),\n",
              " (304, '▁--'),\n",
              " (304, 'Ref'),\n",
              " (305, '▁link'),\n",
              " (305, ':'),\n",
              " (306, '▁http'),\n",
              " (306, '://'),\n",
              " (306, 'www'),\n",
              " (306, '.'),\n",
              " (306, 'ij'),\n",
              " (306, 'rc'),\n",
              " (306, 'ct'),\n",
              " (306, '.'),\n",
              " (306, 'org'),\n",
              " (306, '/'),\n",
              " (306, 'index'),\n",
              " (306, '.'),\n",
              " (306, 'php'),\n",
              " (306, '/'),\n",
              " (306, 'oj'),\n",
              " (306, 's'),\n",
              " (306, '/'),\n",
              " (306, 'article'),\n",
              " (306, '/'),\n",
              " (306, 'view'),\n",
              " (306, '/14'),\n",
              " (306, '16'),\n",
              " (307, '▁EDUCA'),\n",
              " (307, 'TION'),\n",
              " (308, '▁Master'),\n",
              " (308, 's'),\n",
              " (309, '▁in'),\n",
              " (310, '▁Computer'),\n",
              " (311, '▁Science'),\n",
              " (312, '▁Arizona'),\n",
              " (313, '▁State'),\n",
              " (314, '▁University'),\n",
              " (315, '▁-'),\n",
              " (316, '▁Temp'),\n",
              " (316, 'e'),\n",
              " (316, ','),\n",
              " (317, '▁AZ'),\n",
              " (318, '▁September'),\n",
              " (319, '▁2019'),\n",
              " (320, '▁Bachelor'),\n",
              " (321, '▁of'),\n",
              " (322, '▁Engineering'),\n",
              " (323, '▁in'),\n",
              " (324, '▁Computer'),\n",
              " (325, '▁Science'),\n",
              " (326, '▁M'),\n",
              " (327, '▁S'),\n",
              " (328, '▁Ramai'),\n",
              " (328, 'ah'),\n",
              " (329, '▁Institute'),\n",
              " (330, '▁of'),\n",
              " (331, '▁Technology'),\n",
              " (332, '▁-'),\n",
              " (333, '▁Bengal'),\n",
              " (333, 'uru'),\n",
              " (333, ','),\n",
              " (334, '▁Karnataka'),\n",
              " (335, '▁September'),\n",
              " (336, '▁2012'),\n",
              " (337, '▁to'),\n",
              " (338, '▁June'),\n",
              " (339, '▁2016'),\n",
              " (340, '▁SK'),\n",
              " (340, 'ILL'),\n",
              " (340, 'S'),\n",
              " (341, '▁'),\n",
              " (341, 'JAVA'),\n",
              " (342, '▁(1'),\n",
              " (343, '▁year'),\n",
              " (343, '),'),\n",
              " (344, '▁C'),\n",
              " (344, '++'),\n",
              " (345, '▁('),\n",
              " (345, 'Les'),\n",
              " (345, 's'),\n",
              " (346, '▁than'),\n",
              " (347, '▁1'),\n",
              " (348, '▁year'),\n",
              " (348, '),'),\n",
              " (349, '▁Ha'),\n",
              " (349, 'do'),\n",
              " (349, 'op'),\n",
              " (350, '▁('),\n",
              " (350, 'Les'),\n",
              " (350, 's'),\n",
              " (351, '▁than'),\n",
              " (352, '▁1'),\n",
              " (353, '▁year'),\n",
              " (353, '),'),\n",
              " (354, '▁H'),\n",
              " (354, 'ADO'),\n",
              " (354, 'OP'),\n",
              " (355, '▁('),\n",
              " (355, 'Les'),\n",
              " (355, 's'),\n",
              " (356, '▁than'),\n",
              " (357, '▁1'),\n",
              " (358, '▁year'),\n",
              " (358, '),'),\n",
              " (359, '▁CSS'),\n",
              " (360, '▁('),\n",
              " (360, 'Les'),\n",
              " (360, 's'),\n",
              " (361, '▁than'),\n",
              " (362, '▁1'),\n",
              " (363, '▁year'),\n",
              " (363, ')'),\n",
              " (364, '▁'),\n",
              " (364, 'LINK'),\n",
              " (364, 'S'),\n",
              " (365, '▁https'),\n",
              " (365, '://'),\n",
              " (365, 'www'),\n",
              " (365, '.'),\n",
              " (365, 'link'),\n",
              " (365, 'ed'),\n",
              " (365, 'in'),\n",
              " (365, '.'),\n",
              " (365, 'com'),\n",
              " (365, '/'),\n",
              " (365, 'in'),\n",
              " (365, '/'),\n",
              " (365, 'an'),\n",
              " (365, 'vit'),\n",
              " (365, 'ha'),\n",
              " (365, '-'),\n",
              " (365, 'd'),\n",
              " (365, '-'),\n",
              " (365, 'rao'),\n",
              " (365, '-'),\n",
              " (365, '65'),\n",
              " (365, 'a'),\n",
              " (365, '06'),\n",
              " (365, '8'),\n",
              " (365, 'a'),\n",
              " (365, '7'),\n",
              " (366, '▁A'),\n",
              " (366, 'DD'),\n",
              " (366, 'ITI'),\n",
              " (366, 'ONAL'),\n",
              " (367, '▁INFORMA'),\n",
              " (367, 'TION'),\n",
              " (368, '▁Technic'),\n",
              " (368, 'al'),\n",
              " (369, '▁Skill'),\n",
              " (369, 's'),\n",
              " (369, ':'),\n",
              " (370, '▁Programm'),\n",
              " (370, 'ing'),\n",
              " (371, '▁Language'),\n",
              " (371, 's'),\n",
              " (371, ':'),\n",
              " (372, '▁C'),\n",
              " (372, ','),\n",
              " (373, '▁C'),\n",
              " (373, '++'),\n",
              " (373, ','),\n",
              " (374, '▁HTML'),\n",
              " (374, '/'),\n",
              " (374, 'CSS'),\n",
              " (374, ','),\n",
              " (375, '▁Java'),\n",
              " (375, ','),\n",
              " (376, '▁Python'),\n",
              " (376, ','),\n",
              " (377, '▁Javascript'),\n",
              " (378, '▁Technologie'),\n",
              " (378, 's'),\n",
              " (378, ':'),\n",
              " (379, '▁'),\n",
              " (379, 'IoT'),\n",
              " (379, ','),\n",
              " (380, '▁MySQL'),\n",
              " (380, ','),\n",
              " (381, '▁Post'),\n",
              " (381, 'gre'),\n",
              " (381, 'SQL'),\n",
              " (381, ','),\n",
              " (382, '▁D'),\n",
              " (382, '3'),\n",
              " (382, 'js'),\n",
              " (382, ','),\n",
              " (383, '▁Ha'),\n",
              " (383, 'do'),\n",
              " (383, 'op'),\n",
              " (384, '▁and'),\n",
              " (385, '▁Spark'),\n",
              " (385, ','),\n",
              " (386, '▁Ge'),\n",
              " (386, 'phi'),\n",
              " (387, '▁https'),\n",
              " (387, '://'),\n",
              " (387, 'www'),\n",
              " (387, '.'),\n",
              " (387, 'link'),\n",
              " (387, 'ed'),\n",
              " (387, 'in'),\n",
              " (387, '.'),\n",
              " (387, 'com'),\n",
              " (387, '/'),\n",
              " (387, 'in'),\n",
              " (387, '/'),\n",
              " (387, 'an'),\n",
              " (387, 'vit'),\n",
              " (387, 'ha'),\n",
              " (387, '-'),\n",
              " (387, 'd'),\n",
              " (387, '-'),\n",
              " (387, 'rao'),\n",
              " (387, '-'),\n",
              " (387, '65'),\n",
              " (387, 'a'),\n",
              " (387, '06'),\n",
              " (387, '8'),\n",
              " (387, 'a'),\n",
              " (387, '7'),\n",
              " (None, '</s>')]"
            ]
          },
          "metadata": {},
          "execution_count": 132
        }
      ]
    },
    {
      "cell_type": "code",
      "source": [
        "# split_words = custom_inputs.replace(\"\\n\",\" \").split(\" \")\n",
        "split_words = custom_inputs.split(\" \")"
      ],
      "metadata": {
        "id": "Oh1wqKuKPBeB"
      },
      "execution_count": 133,
      "outputs": []
    },
    {
      "cell_type": "code",
      "source": [
        "split_words"
      ],
      "metadata": {
        "colab": {
          "base_uri": "https://localhost:8080/"
        },
        "id": "yggPCCMHYodh",
        "outputId": "c4a4a6b3-82df-4009-ab8b-0394dc5804f5"
      },
      "execution_count": 134,
      "outputs": [
        {
          "output_type": "execute_result",
          "data": {
            "text/plain": [
              "['Anvitha',\n",
              " 'Rao\\nAutomation',\n",
              " 'developer\\n\\n-',\n",
              " 'Email',\n",
              " 'me',\n",
              " 'on',\n",
              " 'Indeed:',\n",
              " 'indeed.com/r/Anvitha-Rao/9d6acc68cc30c71c\\n\\nSeeking',\n",
              " 'a',\n",
              " 'software',\n",
              " 'development',\n",
              " 'internship',\n",
              " 'position',\n",
              " 'for',\n",
              " 'Summer',\n",
              " '2018',\n",
              " 'that',\n",
              " 'utilizes',\n",
              " 'my',\n",
              " 'technical\\nskills,',\n",
              " 'education',\n",
              " 'and',\n",
              " 'passion',\n",
              " 'for\\nsolving',\n",
              " 'interesting',\n",
              " 'problems',\n",
              " 'as',\n",
              " 'a',\n",
              " 'software',\n",
              " 'professional.\\n\\nWilling',\n",
              " 'to',\n",
              " 'relocate:',\n",
              " 'Anywhere\\n\\nWORK',\n",
              " 'EXPERIENCE\\n\\nAutomation',\n",
              " 'developer\\n\\nSAP',\n",
              " 'Labs',\n",
              " '-',\n",
              " '',\n",
              " 'Bengaluru,',\n",
              " 'Karnataka',\n",
              " '-\\n\\nAugust',\n",
              " '2016',\n",
              " 'to',\n",
              " 'August',\n",
              " '2017\\n\\nWorked',\n",
              " 'as',\n",
              " 'an',\n",
              " 'automation',\n",
              " 'developer',\n",
              " 'in',\n",
              " 'the',\n",
              " 'development',\n",
              " 'of',\n",
              " 'cloud',\n",
              " 'based',\n",
              " 'Human',\n",
              " 'capital\\nmanagement',\n",
              " 'System',\n",
              " 'and\\nIntegration',\n",
              " 'frameworks',\n",
              " 'Dell',\n",
              " 'Boomi',\n",
              " 'and',\n",
              " 'SAP',\n",
              " 'HANA',\n",
              " 'Cloud',\n",
              " 'Platform',\n",
              " 'Integration.\\n●',\n",
              " 'Development',\n",
              " 'of',\n",
              " 'automation',\n",
              " 'framework',\n",
              " 'using',\n",
              " 'Java',\n",
              " 'Selenium',\n",
              " 'and',\n",
              " 'RestFul',\n",
              " \"API's\",\n",
              " 'for',\n",
              " 'payroll\\nprojects.\\n●',\n",
              " 'Collaborating',\n",
              " 'with',\n",
              " 'customers',\n",
              " 'on',\n",
              " 'migrating',\n",
              " 'Payroll',\n",
              " 'projects',\n",
              " 'to',\n",
              " 'SAP',\n",
              " 'HANA',\n",
              " 'Cloud',\n",
              " 'Platform\\nIntegration.\\n●',\n",
              " 'Involved',\n",
              " 'in',\n",
              " 'regression,',\n",
              " 'unity,',\n",
              " 'functionality,',\n",
              " 'performance,',\n",
              " 'sanity',\n",
              " 'and',\n",
              " 'acceptance',\n",
              " 'test',\n",
              " 'driven\\ndevelopment',\n",
              " 'process.\\n\\nIntern\\n\\nSAP',\n",
              " 'Labs',\n",
              " '-',\n",
              " '',\n",
              " 'Bengaluru,',\n",
              " 'Karnataka',\n",
              " '-\\n\\nFebruary',\n",
              " '2016',\n",
              " 'to',\n",
              " 'July',\n",
              " '2016\\n\\nWorked',\n",
              " 'on',\n",
              " 'migrating',\n",
              " 'Business',\n",
              " 'intelligence',\n",
              " 'tool,',\n",
              " 'Universe',\n",
              " 'Design',\n",
              " 'Tool',\n",
              " 'in',\n",
              " 'Visual',\n",
              " 'Studio',\n",
              " 'using',\n",
              " 'C++.\\n●',\n",
              " 'Automation',\n",
              " 'of',\n",
              " 'test',\n",
              " 'cases',\n",
              " 'for',\n",
              " 'identifying',\n",
              " 'operations',\n",
              " 'supported',\n",
              " 'by',\n",
              " 'databases',\n",
              " 'using',\n",
              " 'Java.\\n●',\n",
              " 'Tools:',\n",
              " 'Universe',\n",
              " 'Design',\n",
              " 'Tool,',\n",
              " 'Information',\n",
              " 'Design',\n",
              " 'Tool,',\n",
              " 'Webi',\n",
              " 'and',\n",
              " 'Perforce.\\n\\nProjects:\\nGeoSpark',\n",
              " 'Integrated',\n",
              " 'with',\n",
              " 'Apache',\n",
              " 'Hadoop\\n●',\n",
              " 'Identifies',\n",
              " 'top',\n",
              " '50',\n",
              " 'pick',\n",
              " 'up',\n",
              " 'points',\n",
              " 'in',\n",
              " 'New',\n",
              " 'York',\n",
              " 'city',\n",
              " 'based',\n",
              " 'on',\n",
              " 'distributed',\n",
              " 'New',\n",
              " 'York',\n",
              " 'taxi',\n",
              " 'data',\n",
              " 'using\\nApache',\n",
              " 'Spark',\n",
              " 'and',\n",
              " 'Scala.\\nIaas',\n",
              " 'Implementation:',\n",
              " 'Cloud',\n",
              " 'application',\n",
              " 'for',\n",
              " 'Image',\n",
              " 'Recognition\\n●',\n",
              " 'This',\n",
              " 'project',\n",
              " 'uses',\n",
              " 'Amazon',\n",
              " 'S3,',\n",
              " 'SQS',\n",
              " 'and',\n",
              " 'EC2',\n",
              " 'instances',\n",
              " 'to',\n",
              " 'provide',\n",
              " 'Image',\n",
              " 'recognition',\n",
              " 'service',\n",
              " 'to\\nusers',\n",
              " 'by',\n",
              " 'implementing',\n",
              " 'load\\nbalancing',\n",
              " 'and',\n",
              " 'web',\n",
              " 'services.\\nSpam',\n",
              " 'Detection\\n●',\n",
              " 'Identifying',\n",
              " 'spam',\n",
              " 'messages',\n",
              " 'using',\n",
              " 'Natural',\n",
              " 'Language',\n",
              " 'processing',\n",
              " 'techniques',\n",
              " 'in',\n",
              " 'python.\\nAnalysis',\n",
              " 'of',\n",
              " 'Financial',\n",
              " 'Data\\n\\nhttps://www.indeed.com/r/Anvitha-Rao/9d6acc68cc30c71c?isid=rex-download&ikw=download-top&co=IN\\n\\n\\n●',\n",
              " 'Exploratory',\n",
              " 'data',\n",
              " 'analysis',\n",
              " 'of',\n",
              " 'stock',\n",
              " 'prices',\n",
              " 'using',\n",
              " 'various',\n",
              " 'data',\n",
              " 'visualization',\n",
              " 'techniques',\n",
              " 'in',\n",
              " 'pandas\\nand',\n",
              " 'd3.js\\nEffective',\n",
              " 'prediction',\n",
              " 'and',\n",
              " 'prevention',\n",
              " 'of',\n",
              " 'air',\n",
              " 'pollution',\n",
              " 'caused',\n",
              " 'due',\n",
              " 'to',\n",
              " 'automobiles',\n",
              " 'using',\n",
              " 'IoT',\n",
              " 'and',\n",
              " 'data\\nanalytics',\n",
              " 'techniques\\n●',\n",
              " 'Analyzes',\n",
              " 'pollutants',\n",
              " 'at',\n",
              " 'different',\n",
              " 'geographical',\n",
              " 'locations',\n",
              " 'and',\n",
              " 'suggests',\n",
              " 'a',\n",
              " 'least',\n",
              " 'polluted',\n",
              " 'route',\n",
              " 'on\\nan',\n",
              " 'android',\n",
              " 'application.\\n●',\n",
              " 'Co-authored',\n",
              " 'a',\n",
              " 'paper',\n",
              " '--Ref',\n",
              " 'link:',\n",
              " 'http://www.ijrcct.org/index.php/ojs/article/view/1416\\n\\nEDUCATION\\n\\nMasters',\n",
              " 'in',\n",
              " 'Computer',\n",
              " 'Science\\n\\nArizona',\n",
              " 'State',\n",
              " 'University',\n",
              " '-',\n",
              " '',\n",
              " 'Tempe,',\n",
              " 'AZ\\n\\nSeptember',\n",
              " '2019\\n\\nBachelor',\n",
              " 'of',\n",
              " 'Engineering',\n",
              " 'in',\n",
              " 'Computer',\n",
              " 'Science\\n\\nM',\n",
              " 'S',\n",
              " 'Ramaiah',\n",
              " 'Institute',\n",
              " 'of',\n",
              " 'Technology',\n",
              " '-',\n",
              " '',\n",
              " 'Bengaluru,',\n",
              " 'Karnataka\\n\\nSeptember',\n",
              " '2012',\n",
              " 'to',\n",
              " 'June',\n",
              " '2016\\n\\nSKILLS\\n\\nJAVA',\n",
              " '(1',\n",
              " 'year),',\n",
              " 'C++',\n",
              " '(Less',\n",
              " 'than',\n",
              " '1',\n",
              " 'year),',\n",
              " 'Hadoop',\n",
              " '(Less',\n",
              " 'than',\n",
              " '1',\n",
              " 'year),',\n",
              " 'HADOOP',\n",
              " '(Less',\n",
              " 'than',\n",
              " '1',\n",
              " 'year),\\nCSS',\n",
              " '(Less',\n",
              " 'than',\n",
              " '1',\n",
              " 'year)\\n\\nLINKS\\n\\nhttps://www.linkedin.com/in/anvitha-d-rao-65a068a7\\n\\nADDITIONAL',\n",
              " 'INFORMATION\\n\\nTechnical',\n",
              " 'Skills:\\nProgramming',\n",
              " 'Languages:',\n",
              " 'C,',\n",
              " 'C++,',\n",
              " 'HTML/CSS,',\n",
              " 'Java,',\n",
              " 'Python,',\n",
              " 'Javascript\\n\\nTechnologies:',\n",
              " 'IoT,',\n",
              " 'MySQL,',\n",
              " 'PostgreSQL,',\n",
              " 'D3js,',\n",
              " 'Hadoop',\n",
              " 'and',\n",
              " 'Spark,',\n",
              " 'Gephi\\n\\nhttps://www.linkedin.com/in/anvitha-d-rao-65a068a7']"
            ]
          },
          "metadata": {},
          "execution_count": 134
        }
      ]
    },
    {
      "cell_type": "code",
      "source": [
        "custom_inputs[0:10+1]"
      ],
      "metadata": {
        "colab": {
          "base_uri": "https://localhost:8080/",
          "height": 35
        },
        "id": "uhT9fxRHOgDj",
        "outputId": "46dedd9d-471b-4846-9a36-e9fe67be4a91"
      },
      "execution_count": 135,
      "outputs": [
        {
          "output_type": "execute_result",
          "data": {
            "text/plain": [
              "'Anvitha Rao'"
            ],
            "application/vnd.google.colaboratory.intrinsic+json": {
              "type": "string"
            }
          },
          "metadata": {},
          "execution_count": 135
        }
      ]
    },
    {
      "cell_type": "code",
      "source": [
        "data_point[\"annotation\"]"
      ],
      "metadata": {
        "colab": {
          "base_uri": "https://localhost:8080/"
        },
        "id": "Pe4Ex_aTMdfJ",
        "outputId": "a9d29ac7-c433-449a-d31d-7975ed05e061"
      },
      "execution_count": 136,
      "outputs": [
        {
          "output_type": "execute_result",
          "data": {
            "text/plain": [
              "[{'label': ['Skills'],\n",
              "  'points': [{'start': 2826,\n",
              "    'end': 2878,\n",
              "    'text': 'IoT, MySQL, PostgreSQL, D3js, Hadoop and Spark, Gephi'}]},\n",
              " {'label': ['Skills'],\n",
              "  'points': [{'start': 2768,\n",
              "    'end': 2809,\n",
              "    'text': 'C, C++, HTML/CSS, Java, Python, Javascript'}]},\n",
              " {'label': ['Graduation Year'],\n",
              "  'points': [{'start': 2513, 'end': 2516, 'text': '2016'}]},\n",
              " {'label': ['Location'],\n",
              "  'points': [{'start': 2468, 'end': 2476, 'text': 'Bengaluru'}]},\n",
              " {'label': ['College Name'],\n",
              "  'points': [{'start': 2429,\n",
              "    'end': 2463,\n",
              "    'text': 'M S Ramaiah Institute of Technology'}]},\n",
              " {'label': ['Degree'],\n",
              "  'points': [{'start': 2384,\n",
              "    'end': 2427,\n",
              "    'text': 'Bachelor of Engineering in Computer Science\\n'}]},\n",
              " {'label': ['Graduation Year'],\n",
              "  'points': [{'start': 2378, 'end': 2381, 'text': '2019'}]},\n",
              " {'label': ['College Name'],\n",
              "  'points': [{'start': 2329,\n",
              "    'end': 2352,\n",
              "    'text': 'Arizona State University'}]},\n",
              " {'label': ['Degree'],\n",
              "  'points': [{'start': 2300,\n",
              "    'end': 2327,\n",
              "    'text': 'Masters in Computer Science\\n'}]},\n",
              " {'label': ['Email Address'],\n",
              "  'points': [{'start': 1767,\n",
              "    'end': 1807,\n",
              "    'text': 'indeed.com/r/Anvitha-Rao/9d6acc68cc30c71c'}]},\n",
              " {'label': ['Graduation Year'],\n",
              "  'points': [{'start': 980, 'end': 983, 'text': '2016'}]},\n",
              " {'label': ['Graduation Year'],\n",
              "  'points': [{'start': 967, 'end': 970, 'text': '2016'}]},\n",
              " {'label': ['Location'],\n",
              "  'points': [{'start': 934, 'end': 942, 'text': 'Bengaluru'}]},\n",
              " {'label': ['Companies worked at'],\n",
              "  'points': [{'start': 922, 'end': 929, 'text': 'SAP Labs'}]},\n",
              " {'label': ['Graduation Year'],\n",
              "  'points': [{'start': 398, 'end': 401, 'text': '2016'}]},\n",
              " {'label': ['Location'],\n",
              "  'points': [{'start': 367, 'end': 375, 'text': 'Bengaluru'}]},\n",
              " {'label': ['Companies worked at'],\n",
              "  'points': [{'start': 355, 'end': 362, 'text': 'SAP Labs'}]},\n",
              " {'label': ['Designation'],\n",
              "  'points': [{'start': 333, 'end': 352, 'text': 'Automation developer'}]},\n",
              " {'label': ['Email Address'],\n",
              "  'points': [{'start': 56,\n",
              "    'end': 96,\n",
              "    'text': 'indeed.com/r/Anvitha-Rao/9d6acc68cc30c71c'}]},\n",
              " {'label': ['Designation'],\n",
              "  'points': [{'start': 12, 'end': 31, 'text': 'Automation developer'}]},\n",
              " {'label': ['Name'],\n",
              "  'points': [{'start': 0, 'end': 10, 'text': 'Anvitha Rao'}]}]"
            ]
          },
          "metadata": {},
          "execution_count": 136
        }
      ]
    },
    {
      "cell_type": "code",
      "source": [],
      "metadata": {
        "id": "6TJwCS0yM7vn"
      },
      "execution_count": 136,
      "outputs": []
    },
    {
      "cell_type": "code",
      "source": [],
      "metadata": {
        "id": "4x0Be9DTvQj6"
      },
      "execution_count": 136,
      "outputs": []
    },
    {
      "cell_type": "code",
      "source": [
        "test_path = \"/content/test.txt\""
      ],
      "metadata": {
        "id": "1OVUqll6vQho"
      },
      "execution_count": null,
      "outputs": []
    },
    {
      "cell_type": "code",
      "source": [],
      "metadata": {
        "id": "6OrQGH3AwXoS"
      },
      "execution_count": null,
      "outputs": []
    },
    {
      "cell_type": "code",
      "source": [
        "ds = load_dataset(\"text\", data_files = test_path)"
      ],
      "metadata": {
        "id": "jHfGO1ubvQfX"
      },
      "execution_count": null,
      "outputs": []
    },
    {
      "cell_type": "code",
      "source": [
        "ds"
      ],
      "metadata": {
        "id": "XZ8r7fGIvkLk"
      },
      "execution_count": null,
      "outputs": []
    },
    {
      "cell_type": "code",
      "source": [
        "ds[\"train\"][5]"
      ],
      "metadata": {
        "id": "CbPKbLrswZqJ"
      },
      "execution_count": null,
      "outputs": []
    },
    {
      "cell_type": "code",
      "source": [],
      "metadata": {
        "id": "7XRa6YkNwcZG"
      },
      "execution_count": null,
      "outputs": []
    },
    {
      "cell_type": "code",
      "source": [
        "custom_data.set_format?"
      ],
      "metadata": {
        "id": "YQLVleOg9-Sm"
      },
      "execution_count": null,
      "outputs": []
    },
    {
      "cell_type": "code",
      "source": [
        "custom_data.set_format(\"pandas\")"
      ],
      "metadata": {
        "id": "5n9zV-SK9_qH"
      },
      "execution_count": null,
      "outputs": []
    },
    {
      "cell_type": "code",
      "source": [
        "df = custom_data[\"train\"][:]"
      ],
      "metadata": {
        "id": "W-IVw1uH-M2r"
      },
      "execution_count": null,
      "outputs": []
    },
    {
      "cell_type": "code",
      "source": [
        "df.head()"
      ],
      "metadata": {
        "id": "WKIliYql-QpB"
      },
      "execution_count": null,
      "outputs": []
    },
    {
      "cell_type": "code",
      "source": [
        "### removing new line characters\n",
        "\n",
        "df[\"content\"] = df[\"content\"].str.replace(\"\\n\", \" \")"
      ],
      "metadata": {
        "id": "zKZdloLe-3QW"
      },
      "execution_count": null,
      "outputs": []
    },
    {
      "cell_type": "code",
      "source": [
        "df.head()"
      ],
      "metadata": {
        "id": "aRkhq9S0_Mep"
      },
      "execution_count": null,
      "outputs": []
    },
    {
      "cell_type": "code",
      "source": [],
      "metadata": {
        "id": "gc75peiG_XoR"
      },
      "execution_count": null,
      "outputs": []
    }
  ]
}